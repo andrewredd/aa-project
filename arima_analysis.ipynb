{
 "cells": [
  {
   "cell_type": "code",
   "execution_count": 1,
   "metadata": {},
   "outputs": [
    {
     "name": "stdout",
     "output_type": "stream",
     "text": [
      "scipy: 1.0.0\n",
      "numpy: 1.13.3\n",
      "matplotlib: 2.1.1\n",
      "pandas: 0.22.0\n",
      "sklearn: 0.19.1\n",
      "statsmodels: 0.8.0\n"
     ]
    }
   ],
   "source": [
    "import scipy\n",
    "print('scipy: %s' % scipy.__version__)\n",
    "# numpy\n",
    "import numpy\n",
    "print('numpy: %s' % numpy.__version__)\n",
    "# matplotlib\n",
    "import matplotlib\n",
    "print('matplotlib: %s' % matplotlib.__version__)\n",
    "# pandas\n",
    "import pandas\n",
    "print('pandas: %s' % pandas.__version__)\n",
    "# scikit-learn\n",
    "import sklearn\n",
    "print('sklearn: %s' % sklearn.__version__)\n",
    "# statsmodels\n",
    "import statsmodels\n",
    "print('statsmodels: %s' % statsmodels.__version__)\n",
    "###split into data set and validations set\n",
    "%matplotlib inline"
   ]
  },
  {
   "cell_type": "code",
   "execution_count": 2,
   "metadata": {},
   "outputs": [
    {
     "name": "stdout",
     "output_type": "stream",
     "text": [
      "Dataset 93, Validation 12\n"
     ]
    },
    {
     "name": "stderr",
     "output_type": "stream",
     "text": [
      "/Users/Arobster/anaconda3/lib/python3.6/site-packages/pandas/core/series.py:2890: FutureWarning: from_csv is deprecated. Please use read_csv(...) instead. Note that some of the default arguments are different, so please refer to the documentation for from_csv when changing your function calls\n",
      "  infer_datetime_format=infer_datetime_format)\n"
     ]
    }
   ],
   "source": [
    "from pandas import Series\n",
    "series = Series.from_csv('champagne1.csv', header=0)\n",
    "split_point = len(series) - 12\n",
    "dataset, validation = series[0:split_point], series[split_point:]\n",
    "print('Dataset %d, Validation %d' % (len(dataset), len(validation)))\n",
    "dataset.to_csv('dataset.csv')\n",
    "validation.to_csv('validation.csv')"
   ]
  },
  {
   "cell_type": "code",
   "execution_count": null,
   "metadata": {
    "collapsed": true
   },
   "outputs": [],
   "source": []
  },
  {
   "cell_type": "code",
   "execution_count": 6,
   "metadata": {
    "collapsed": true
   },
   "outputs": [],
   "source": [
    "### split series into train and test set\n",
    "# prepare data\n",
    "X = series.values\n",
    "X = X.astype('float32')\n",
    "train_size = int(len(X) * 0.50)\n",
    "train, test = X[0:train_size], X[train_size:]"
   ]
  },
  {
   "cell_type": "code",
   "execution_count": 7,
   "metadata": {},
   "outputs": [
    {
     "name": "stdout",
     "output_type": "stream",
     "text": [
      ">Predicted=5428.000, Expected=8314\n",
      ">Predicted=8314.000, Expected=10651\n",
      ">Predicted=10651.000, Expected=3633\n",
      ">Predicted=3633.000, Expected=4292\n",
      ">Predicted=4292.000, Expected=4154\n",
      ">Predicted=4154.000, Expected=4121\n",
      ">Predicted=4121.000, Expected=4647\n",
      ">Predicted=4647.000, Expected=4753\n",
      ">Predicted=4753.000, Expected=3965\n",
      ">Predicted=3965.000, Expected=1723\n",
      ">Predicted=1723.000, Expected=5048\n",
      ">Predicted=5048.000, Expected=6922\n",
      ">Predicted=6922.000, Expected=9858\n",
      ">Predicted=9858.000, Expected=11331\n",
      ">Predicted=11331.000, Expected=4016\n",
      ">Predicted=4016.000, Expected=3957\n",
      ">Predicted=3957.000, Expected=4510\n",
      ">Predicted=4510.000, Expected=4276\n",
      ">Predicted=4276.000, Expected=4968\n",
      ">Predicted=4968.000, Expected=4677\n",
      ">Predicted=4677.000, Expected=3523\n",
      ">Predicted=3523.000, Expected=1821\n",
      ">Predicted=1821.000, Expected=5222\n",
      ">Predicted=5222.000, Expected=6872\n",
      ">Predicted=6872.000, Expected=10803\n",
      ">Predicted=10803.000, Expected=13916\n",
      ">Predicted=13916.000, Expected=2639\n",
      ">Predicted=2639.000, Expected=2899\n",
      ">Predicted=2899.000, Expected=3370\n",
      ">Predicted=3370.000, Expected=3740\n",
      ">Predicted=3740.000, Expected=2927\n",
      ">Predicted=2927.000, Expected=3986\n",
      ">Predicted=3986.000, Expected=4217\n",
      ">Predicted=4217.000, Expected=1738\n",
      ">Predicted=1738.000, Expected=5221\n",
      ">Predicted=5221.000, Expected=6424\n",
      ">Predicted=6424.000, Expected=9842\n",
      ">Predicted=9842.000, Expected=13076\n",
      ">Predicted=13076.000, Expected=3934\n",
      ">Predicted=3934.000, Expected=3162\n",
      ">Predicted=3162.000, Expected=4286\n",
      ">Predicted=4286.000, Expected=4676\n",
      ">Predicted=4676.000, Expected=5010\n",
      ">Predicted=5010.000, Expected=4874\n",
      ">Predicted=4874.000, Expected=4633\n",
      ">Predicted=4633.000, Expected=1659\n",
      ">Predicted=1659.000, Expected=5951\n",
      "RMSE: 3186.501\n"
     ]
    },
    {
     "name": "stderr",
     "output_type": "stream",
     "text": [
      "/home/adr/anaconda3/lib/python3.6/site-packages/pandas/core/series.py:2890: FutureWarning: from_csv is deprecated. Please use read_csv(...) instead. Note that some of the default arguments are different, so please refer to the documentation for from_csv when changing your function calls\n",
      "  infer_datetime_format=infer_datetime_format)\n"
     ]
    }
   ],
   "source": [
    "### test on last value baseline\n",
    "from pandas import Series\n",
    "from sklearn.metrics import mean_squared_error\n",
    "from math import sqrt\n",
    "# load data\n",
    "series = Series.from_csv('dataset.csv')\n",
    "# prepare data\n",
    "X = series.values\n",
    "X = X.astype('float32')\n",
    "train_size = int(len(X) * 0.50)\n",
    "train, test = X[0:train_size], X[train_size:]\n",
    "# walk-forward validation\n",
    "history = [x for x in train]\n",
    "predictions = list()\n",
    "for i in range(len(test)):\n",
    "\t# predict\n",
    "\tyhat = history[-1]\n",
    "\tpredictions.append(yhat)\n",
    "\t# observation\n",
    "\tobs = test[i]\n",
    "\thistory.append(obs)\n",
    "\tprint('>Predicted=%.3f, Expected=%3.f' % (yhat, obs))\n",
    "# report performance\n",
    "mse = mean_squared_error(test, predictions)\n",
    "rmse = sqrt(mse)\n",
    "print('RMSE: %.3f' % rmse)"
   ]
  },
  {
   "cell_type": "code",
   "execution_count": 8,
   "metadata": {},
   "outputs": [
    {
     "name": "stdout",
     "output_type": "stream",
     "text": [
      "count       93.000000\n",
      "mean      4641.118280\n",
      "std       2486.403841\n",
      "min       1573.000000\n",
      "25%       3036.000000\n",
      "50%       4016.000000\n",
      "75%       5048.000000\n",
      "max      13916.000000\n",
      "dtype: float64\n"
     ]
    },
    {
     "name": "stderr",
     "output_type": "stream",
     "text": [
      "/home/adr/anaconda3/lib/python3.6/site-packages/pandas/core/series.py:2890: FutureWarning: from_csv is deprecated. Please use read_csv(...) instead. Note that some of the default arguments are different, so please refer to the documentation for from_csv when changing your function calls\n",
      "  infer_datetime_format=infer_datetime_format)\n"
     ]
    }
   ],
   "source": [
    "### create summary statistics\n",
    "from pandas import Series\n",
    "series = Series.from_csv('dataset.csv')\n",
    "print(series.describe())\n",
    "###draw line plot"
   ]
  },
  {
   "cell_type": "code",
   "execution_count": 4,
   "metadata": {},
   "outputs": [
    {
     "name": "stderr",
     "output_type": "stream",
     "text": [
      "/Users/Arobster/anaconda3/lib/python3.6/site-packages/pandas/core/series.py:2890: FutureWarning: from_csv is deprecated. Please use read_csv(...) instead. Note that some of the default arguments are different, so please refer to the documentation for from_csv when changing your function calls\n",
      "  infer_datetime_format=infer_datetime_format)\n"
     ]
    },
    {
     "data": {
      "image/png": "[encoded data removed]",
      "text/plain": [
       "<matplotlib.figure.Figure at 0x1509e4a748>"
      ]
     },
     "metadata": {},
     "output_type": "display_data"
    }
   ],
   "source": [
    "###draw line plot\n",
    "from pandas import Series\n",
    "from matplotlib import pyplot\n",
    "series = Series.from_csv('dataset.csv')\n",
    "series.plot()\n",
    "pyplot.show()"
   ]
  },
  {
   "cell_type": "code",
   "execution_count": 5,
   "metadata": {},
   "outputs": [
    {
     "name": "stderr",
     "output_type": "stream",
     "text": [
      "/Users/Arobster/anaconda3/lib/python3.6/site-packages/pandas/core/series.py:2890: FutureWarning: from_csv is deprecated. Please use read_csv(...) instead. Note that some of the default arguments are different, so please refer to the documentation for from_csv when changing your function calls\n",
      "  infer_datetime_format=infer_datetime_format)\n",
      "/Users/Arobster/anaconda3/lib/python3.6/site-packages/ipykernel_launcher.py:7: FutureWarning: pd.TimeGrouper is deprecated and will be removed; Please use pd.Grouper(freq=...)\n",
      "  import sys\n"
     ]
    },
    {
     "data": {
      "image/png": "[encoded data removed]",
      "text/plain": [
       "<matplotlib.figure.Figure at 0x1509ef47b8>"
      ]
     },
     "metadata": {},
     "output_type": "display_data"
    }
   ],
   "source": [
    "### draw seasonal line plots to confirm seasonality is yearly\n",
    "from pandas import Series\n",
    "from pandas import DataFrame\n",
    "from pandas import TimeGrouper\n",
    "from matplotlib import pyplot\n",
    "series = Series.from_csv('dataset.csv')\n",
    "groups = series['1964':'1970'].groupby(TimeGrouper('A'))\n",
    "years = DataFrame()\n",
    "pyplot.figure()\n",
    "i = 1\n",
    "n_groups = len(groups)\n",
    "for name, group in groups:\n",
    "\tpyplot.subplot((n_groups*100) + 10 + i)\n",
    "\ti += 1\n",
    "\tpyplot.plot(group)\n",
    "pyplot.show()"
   ]
  },
  {
   "cell_type": "code",
   "execution_count": 6,
   "metadata": {},
   "outputs": [
    {
     "name": "stderr",
     "output_type": "stream",
     "text": [
      "/Users/Arobster/anaconda3/lib/python3.6/site-packages/pandas/core/series.py:2890: FutureWarning: from_csv is deprecated. Please use read_csv(...) instead. Note that some of the default arguments are different, so please refer to the documentation for from_csv when changing your function calls\n",
      "  infer_datetime_format=infer_datetime_format)\n"
     ]
    },
    {
     "data": {
      "image/png": "[encoded data removed]",
      "text/plain": [
       "<matplotlib.figure.Figure at 0x150ef54198>"
      ]
     },
     "metadata": {},
     "output_type": "display_data"
    }
   ],
   "source": [
    "### draw density plots\n",
    "from pandas import Series\n",
    "from matplotlib import pyplot\n",
    "series = Series.from_csv('dataset.csv')\n",
    "pyplot.figure(1)\n",
    "pyplot.subplot(211)\n",
    "series.hist()\n",
    "pyplot.subplot(212)\n",
    "series.plot(kind='kde')\n",
    "pyplot.show()"
   ]
  },
  {
   "cell_type": "code",
   "execution_count": 8,
   "metadata": {
    "collapsed": true
   },
   "outputs": [],
   "source": [
    "#groups = series['1964':'1970'].groupby(TimeGrouper('A'))\n",
    "#for name, group in groups:\n",
    "#    print(name, group)"
   ]
  },
  {
   "cell_type": "code",
   "execution_count": 9,
   "metadata": {},
   "outputs": [
    {
     "name": "stderr",
     "output_type": "stream",
     "text": [
      "/Users/Arobster/anaconda3/lib/python3.6/site-packages/pandas/core/series.py:2890: FutureWarning: from_csv is deprecated. Please use read_csv(...) instead. Note that some of the default arguments are different, so please refer to the documentation for from_csv when changing your function calls\n",
      "  infer_datetime_format=infer_datetime_format)\n",
      "/Users/Arobster/anaconda3/lib/python3.6/site-packages/ipykernel_launcher.py:7: FutureWarning: pd.TimeGrouper is deprecated and will be removed; Please use pd.Grouper(freq=...)\n",
      "  import sys\n"
     ]
    },
    {
     "data": {
      "image/png": "[encoded data removed]",
      "text/plain": [
       "<matplotlib.figure.Figure at 0x151239da90>"
      ]
     },
     "metadata": {},
     "output_type": "display_data"
    }
   ],
   "source": [
    "###draw boxplot\n",
    "from pandas import Series\n",
    "from pandas import DataFrame\n",
    "from pandas import TimeGrouper\n",
    "from matplotlib import pyplot\n",
    "series = Series.from_csv('dataset.csv')\n",
    "groups = series['1964':'1970'].groupby(TimeGrouper('A'))\n",
    "years = DataFrame()\n",
    "for name, group in groups:\n",
    "\tyears[name.year] = group.values\n",
    "years.boxplot()\n",
    "pyplot.show()"
   ]
  },
  {
   "cell_type": "code",
   "execution_count": 10,
   "metadata": {},
   "outputs": [
    {
     "name": "stdout",
     "output_type": "stream",
     "text": [
      "ADF Statistic: -7.134898\n",
      "p-value: 0.000000\n",
      "Critical Values:\n",
      "\t1%: -3.515\n",
      "\t5%: -2.898\n",
      "\t10%: -2.586\n"
     ]
    },
    {
     "name": "stderr",
     "output_type": "stream",
     "text": [
      "/Users/Arobster/anaconda3/lib/python3.6/site-packages/statsmodels/compat/pandas.py:56: FutureWarning: The pandas.core.datetools module is deprecated and will be removed in a future version. Please use the pandas.tseries module instead.\n",
      "  from pandas.core import datetools\n",
      "/Users/Arobster/anaconda3/lib/python3.6/site-packages/pandas/core/series.py:2890: FutureWarning: from_csv is deprecated. Please use read_csv(...) instead. Note that some of the default arguments are different, so please refer to the documentation for from_csv when changing your function calls\n",
      "  infer_datetime_format=infer_datetime_format)\n"
     ]
    },
    {
     "data": {
      "image/png": "[encoded data removed]",
      "text/plain": [
       "<matplotlib.figure.Figure at 0x1c130a5f98>"
      ]
     },
     "metadata": {},
     "output_type": "display_data"
    }
   ],
   "source": [
    "###take differences to make series stationary\n",
    "from pandas import Series\n",
    "from statsmodels.tsa.stattools import adfuller\n",
    "from matplotlib import pyplot\n",
    "\n",
    "\n",
    "# create a differenced series\n",
    "def difference(dataset, interval=1):\n",
    "\tdiff = list()\n",
    "\tfor i in range(interval, len(dataset)):\n",
    "\t\tvalue = dataset[i] - dataset[i - interval]\n",
    "\t\tdiff.append(value)\n",
    "\treturn Series(diff)\n",
    "\n",
    "series = Series.from_csv('dataset.csv')\n",
    "X = series.values\n",
    "X = X.astype('float32')\n",
    "# difference data\n",
    "months_in_year = 12\n",
    "stationary = difference(X, months_in_year)\n",
    "stationary.index = series.index[months_in_year:]\n",
    "# check if stationary\n",
    "result = adfuller(stationary)\n",
    "print('ADF Statistic: %f' % result[0])\n",
    "print('p-value: %f' % result[1])\n",
    "print('Critical Values:')\n",
    "for key, value in result[4].items():\n",
    "\tprint('\\t%s: %.3f' % (key, value))\n",
    "# save\n",
    "stationary.to_csv('stationary.csv')\n",
    "# plot\n",
    "stationary.plot()\n",
    "pyplot.show()"
   ]
  },
  {
   "cell_type": "code",
   "execution_count": 12,
   "metadata": {},
   "outputs": [
    {
     "name": "stderr",
     "output_type": "stream",
     "text": [
      "/Users/Arobster/anaconda3/lib/python3.6/site-packages/pandas/core/series.py:2890: FutureWarning: from_csv is deprecated. Please use read_csv(...) instead. Note that some of the default arguments are different, so please refer to the documentation for from_csv when changing your function calls\n",
      "  infer_datetime_format=infer_datetime_format)\n"
     ]
    }
   ],
   "source": [
    "### apply arimia to create model and test\n",
    "from pandas import Series\n",
    "from sklearn.metrics import mean_squared_error\n",
    "from statsmodels.tsa.arima_model import ARIMA\n",
    "from math import sqrt\n",
    "\n",
    "# create a differenced series\n",
    "def difference(dataset, interval=1):\n",
    "\tdiff = list()\n",
    "\tfor i in range(interval, len(dataset)):\n",
    "\t\tvalue = dataset[i] - dataset[i - interval]\n",
    "\t\tdiff.append(value)\n",
    "\treturn diff\n",
    "\n",
    "# invert differenced value\n",
    "def inverse_difference(history, yhat, interval=1):\n",
    "\treturn yhat + history[-interval]\n",
    "\n",
    "# load data\n",
    "series = Series.from_csv('dataset.csv')\n",
    "# prepare data\n",
    "X = series.values\n",
    "X = X.astype('float32')\n",
    "train_size = int(len(X) * 0.50)\n",
    "train, test = X[0:train_size], X[train_size:]"
   ]
  },
  {
   "cell_type": "code",
   "execution_count": 13,
   "metadata": {},
   "outputs": [
    {
     "name": "stdout",
     "output_type": "stream",
     "text": [
      ">Predicted=8089.849, Expected=8314\n",
      ">Predicted=9742.773, Expected=10651\n",
      ">Predicted=5986.917, Expected=3633\n",
      ">Predicted=3887.297, Expected=4292\n",
      ">Predicted=4038.078, Expected=4154\n",
      ">Predicted=4992.345, Expected=4121\n",
      ">Predicted=5156.447, Expected=4647\n",
      ">Predicted=5046.699, Expected=4753\n",
      ">Predicted=4143.835, Expected=3965\n",
      ">Predicted=2102.934, Expected=1723\n",
      ">Predicted=5228.244, Expected=5048\n",
      ">Predicted=5873.385, Expected=6922\n",
      ">Predicted=8571.223, Expected=9858\n",
      ">Predicted=11006.050, Expected=11331\n",
      ">Predicted=4087.489, Expected=4016\n",
      ">Predicted=4771.841, Expected=3957\n",
      ">Predicted=4676.134, Expected=4510\n",
      ">Predicted=4583.384, Expected=4276\n",
      ">Predicted=5117.354, Expected=4968\n",
      ">Predicted=5208.149, Expected=4677\n",
      ">Predicted=4436.439, Expected=3523\n",
      ">Predicted=2180.909, Expected=1821\n",
      ">Predicted=5471.261, Expected=5222\n",
      ">Predicted=7337.598, Expected=6872\n",
      ">Predicted=10268.335, Expected=10803\n",
      ">Predicted=11725.380, Expected=13916\n",
      ">Predicted=4519.391, Expected=2639\n",
      ">Predicted=4606.051, Expected=2899\n",
      ">Predicted=4938.964, Expected=3370\n",
      ">Predicted=4495.268, Expected=3740\n",
      ">Predicted=5109.010, Expected=2927\n",
      ">Predicted=4285.913, Expected=3986\n",
      ">Predicted=3155.259, Expected=4217\n",
      ">Predicted=1830.004, Expected=1738\n",
      ">Predicted=5135.171, Expected=5221\n",
      ">Predicted=6806.894, Expected=6424\n",
      ">Predicted=10644.038, Expected=9842\n",
      ">Predicted=13605.823, Expected=13076\n",
      ">Predicted=2265.382, Expected=3934\n",
      ">Predicted=2938.909, Expected=3162\n",
      ">Predicted=3341.705, Expected=4286\n",
      ">Predicted=3882.924, Expected=4676\n",
      ">Predicted=3157.017, Expected=5010\n",
      ">Predicted=4615.082, Expected=4874\n",
      ">Predicted=4624.996, Expected=4633\n",
      ">Predicted=2044.097, Expected=1659\n",
      ">Predicted=5404.428, Expected=5951\n",
      "RMSE: 956.950\n"
     ]
    }
   ],
   "source": [
    "# walk-forward validation\n",
    "history = [x for x in train]\n",
    "predictions = list()\n",
    "for i in range(len(test)):\n",
    "\t# difference data\n",
    "\tmonths_in_year = 12\n",
    "\tdiff = difference(history, months_in_year)\n",
    "\t# predict\n",
    "\tmodel = ARIMA(diff, order=(1,1,1))\n",
    "\tmodel_fit = model.fit(trend='nc', disp=0)\n",
    "\tyhat = model_fit.forecast()[0]\n",
    "\tyhat = inverse_difference(history, yhat, months_in_year)\n",
    "\tpredictions.append(yhat)\n",
    "\t# observation\n",
    "\tobs = test[i]\n",
    "\thistory.append(obs)\n",
    "\tprint('>Predicted=%.3f, Expected=%3.f' % (yhat, obs))\n",
    "# report performance\n",
    "mse = mean_squared_error(test, predictions)\n",
    "rmse = sqrt(mse)\n",
    "print('RMSE: %.3f' % rmse)"
   ]
  },
  {
   "cell_type": "code",
   "execution_count": 14,
   "metadata": {},
   "outputs": [
    {
     "name": "stderr",
     "output_type": "stream",
     "text": [
      "/Users/Arobster/anaconda3/lib/python3.6/site-packages/pandas/core/series.py:2890: FutureWarning: from_csv is deprecated. Please use read_csv(...) instead. Note that some of the default arguments are different, so please refer to the documentation for from_csv when changing your function calls\n",
      "  infer_datetime_format=infer_datetime_format)\n"
     ]
    },
    {
     "name": "stdout",
     "output_type": "stream",
     "text": [
      "ARIMA(0, 0, 1) RMSE=939.464\n",
      "ARIMA(0, 0, 2) RMSE=962.289\n",
      "ARIMA(0, 0, 3) RMSE=944.237\n",
      "ARIMA(0, 0, 4) RMSE=958.781\n",
      "ARIMA(0, 0, 5) RMSE=986.834\n",
      "ARIMA(0, 0, 6) RMSE=1087.029\n",
      "ARIMA(0, 1, 1) RMSE=958.289\n",
      "ARIMA(0, 2, 1) RMSE=1146.987\n",
      "ARIMA(1, 0, 0) RMSE=944.449\n",
      "ARIMA(1, 1, 0) RMSE=1070.204\n",
      "ARIMA(1, 1, 1) RMSE=956.947\n",
      "ARIMA(1, 2, 0) RMSE=1555.858\n",
      "ARIMA(2, 0, 0) RMSE=955.134\n",
      "ARIMA(2, 1, 0) RMSE=1030.467\n",
      "ARIMA(2, 1, 1) RMSE=980.953\n",
      "ARIMA(2, 2, 0) RMSE=1346.598\n",
      "ARIMA(2, 2, 1) RMSE=1039.644\n",
      "ARIMA(3, 0, 0) RMSE=959.165\n",
      "ARIMA(3, 1, 0) RMSE=1028.226\n",
      "ARIMA(3, 1, 1) RMSE=979.938\n",
      "ARIMA(3, 2, 0) RMSE=1244.846\n",
      "ARIMA(4, 0, 0) RMSE=968.411\n",
      "ARIMA(4, 1, 0) RMSE=1046.524\n",
      "ARIMA(4, 1, 1) RMSE=1006.252\n",
      "ARIMA(4, 2, 0) RMSE=1227.556\n",
      "ARIMA(4, 2, 1) RMSE=1055.488\n",
      "ARIMA(5, 0, 0) RMSE=987.690\n",
      "ARIMA(5, 1, 0) RMSE=1042.642\n",
      "ARIMA(5, 1, 1) RMSE=1023.404\n",
      "ARIMA(5, 2, 1) RMSE=1053.733\n",
      "ARIMA(6, 0, 0) RMSE=996.466\n",
      "ARIMA(6, 1, 0) RMSE=1018.211\n",
      "ARIMA(6, 1, 1) RMSE=1023.762\n",
      "ARIMA(6, 1, 2) RMSE=1033.421\n",
      "Best ARIMA(0, 0, 1) RMSE=939.464\n"
     ]
    }
   ],
   "source": [
    "###do grid search to try different combinations of ARIMA parameters p,d, and q\n",
    "import warnings\n",
    "from pandas import Series\n",
    "from statsmodels.tsa.arima_model import ARIMA\n",
    "from sklearn.metrics import mean_squared_error\n",
    "from math import sqrt\n",
    "import numpy\n",
    "\n",
    "# create a differenced series\n",
    "def difference(dataset, interval=1):\n",
    "\tdiff = list()\n",
    "\tfor i in range(interval, len(dataset)):\n",
    "\t\tvalue = dataset[i] - dataset[i - interval]\n",
    "\t\tdiff.append(value)\n",
    "\treturn numpy.array(diff)\n",
    "\n",
    "# invert differenced value\n",
    "def inverse_difference(history, yhat, interval=1):\n",
    "\treturn yhat + history[-interval]\n",
    "\n",
    "# evaluate an ARIMA model for a given order (p,d,q) and return RMSE\n",
    "def evaluate_arima_model(X, arima_order):\n",
    "\t# prepare training dataset\n",
    "\tX = X.astype('float32')\n",
    "\ttrain_size = int(len(X) * 0.50)\n",
    "\ttrain, test = X[0:train_size], X[train_size:]\n",
    "\thistory = [x for x in train]\n",
    "\t# make predictions\n",
    "\tpredictions = list()\n",
    "\tfor t in range(len(test)):\n",
    "\t\t# difference data\n",
    "\t\tmonths_in_year = 12\n",
    "\t\tdiff = difference(history, months_in_year)\n",
    "\t\tmodel = ARIMA(diff, order=arima_order)\n",
    "\t\tmodel_fit = model.fit(trend='nc', disp=0)\n",
    "\t\tyhat = model_fit.forecast()[0]\n",
    "\t\tyhat = inverse_difference(history, yhat, months_in_year)\n",
    "\t\tpredictions.append(yhat)\n",
    "\t\thistory.append(test[t])\n",
    "\t# calculate out of sample error\n",
    "\tmse = mean_squared_error(test, predictions)\n",
    "\trmse = sqrt(mse)\n",
    "\treturn rmse\n",
    "\n",
    "# evaluate combinations of p, d and q values for an ARIMA model\n",
    "def evaluate_models(dataset, p_values, d_values, q_values):\n",
    "\tdataset = dataset.astype('float32')\n",
    "\tbest_score, best_cfg = float(\"inf\"), None\n",
    "\tfor p in p_values:\n",
    "\t\tfor d in d_values:\n",
    "\t\t\tfor q in q_values:\n",
    "\t\t\t\torder = (p,d,q)\n",
    "\t\t\t\ttry:\n",
    "\t\t\t\t\tmse = evaluate_arima_model(dataset, order)\n",
    "\t\t\t\t\tif mse < best_score:\n",
    "\t\t\t\t\t\tbest_score, best_cfg = mse, order\n",
    "\t\t\t\t\tprint('ARIMA%s RMSE=%.3f' % (order,mse))\n",
    "\t\t\t\texcept:\n",
    "\t\t\t\t\tcontinue\n",
    "\tprint('Best ARIMA%s RMSE=%.3f' % (best_cfg, best_score))\n",
    "\n",
    "# load dataset\n",
    "series = Series.from_csv('dataset.csv')\n",
    "# evaluate parameters\n",
    "p_values = range(0, 7)\n",
    "d_values = range(0, 3)\n",
    "q_values = range(0, 7)\n",
    "warnings.filterwarnings(\"ignore\")\n",
    "evaluate_models(series.values, p_values, d_values, q_values)\n",
    "\n"
   ]
  },
  {
   "cell_type": "code",
   "execution_count": 15,
   "metadata": {},
   "outputs": [
    {
     "name": "stdout",
     "output_type": "stream",
     "text": [
      ">Predicted=6794.773, Expected=6981\n"
     ]
    }
   ],
   "source": [
    "### finalize model\n",
    "from pandas import Series\n",
    "from statsmodels.tsa.arima_model import ARIMA\n",
    "from scipy.stats import boxcox\n",
    "import numpy\n",
    "\n",
    "# monkey patch around bug in ARIMA class\n",
    "def __getnewargs__(self):\n",
    "\treturn ((self.endog),(self.k_lags, self.k_diff, self.k_ma))\n",
    "\n",
    "ARIMA.__getnewargs__ = __getnewargs__\n",
    "\n",
    "# create a differenced series\n",
    "def difference(dataset, interval=1):\n",
    "\tdiff = list()\n",
    "\tfor i in range(interval, len(dataset)):\n",
    "\t\tvalue = dataset[i] - dataset[i - interval]\n",
    "\t\tdiff.append(value)\n",
    "\treturn diff\n",
    "\n",
    "# load data\n",
    "series = Series.from_csv('dataset.csv')\n",
    "# prepare data\n",
    "X = series.values\n",
    "X = X.astype('float32')\n",
    "\n",
    "# difference data\n",
    "months_in_year = 12\n",
    "diff = difference(X, months_in_year)\n",
    "# fit model\n",
    "model = ARIMA(diff, order=(0,0,1))\n",
    "model_fit = model.fit(trend='nc', disp=0)\n",
    "# bias constant, could be calculated from in-sample mean residual\n",
    "bias = 165.904728\n",
    "# save model\n",
    "model_fit.save('model.pkl')\n",
    "numpy.save('model_bias.npy', [bias])\n",
    "### Validate model\n",
    "from pandas import Series\n",
    "from matplotlib import pyplot\n",
    "from statsmodels.tsa.arima_model import ARIMA\n",
    "from statsmodels.tsa.arima_model import ARIMAResults\n",
    "from sklearn.metrics import mean_squared_error\n",
    "from math import sqrt\n",
    "import numpy\n",
    "\n",
    "# create a differenced series\n",
    "def difference(dataset, interval=1):\n",
    "\tdiff = list()\n",
    "\tfor i in range(interval, len(dataset)):\n",
    "\t\tvalue = dataset[i] - dataset[i - interval]\n",
    "\t\tdiff.append(value)\n",
    "\treturn diff\n",
    "\n",
    "# invert differenced value\n",
    "def inverse_difference(history, yhat, interval=1):\n",
    "\treturn yhat + history[-interval]\n",
    "\n",
    "# load and prepare datasets\n",
    "dataset = Series.from_csv('dataset.csv')\n",
    "X = dataset.values.astype('float32')\n",
    "history = [x for x in X]\n",
    "months_in_year = 12\n",
    "validation = Series.from_csv('validation.csv')\n",
    "y = validation.values.astype('float32')\n",
    "# load model\n",
    "model_fit = ARIMAResults.load('model.pkl')\n",
    "bias = numpy.load('model_bias.npy')\n",
    "# make prediction\n",
    "predictions = list()\n",
    "yhat = float(model_fit.forecast()[0])\n",
    "yhat = bias + inverse_difference(history, yhat, months_in_year)\n",
    "predictions.append(yhat)\n",
    "history.append(y[0])\n",
    "print('>Predicted=%.3f, Expected=%3.f' % (yhat, y[0]))"
   ]
  },
  {
   "cell_type": "code",
   "execution_count": 16,
   "metadata": {},
   "outputs": [
    {
     "name": "stdout",
     "output_type": "stream",
     "text": [
      ">Predicted=10101.763, Expected=9851\n",
      ">Predicted=13219.067, Expected=12670\n",
      ">Predicted=3996.535, Expected=4348\n",
      ">Predicted=3465.934, Expected=3564\n",
      ">Predicted=4522.683, Expected=4577\n",
      ">Predicted=4901.336, Expected=4788\n",
      ">Predicted=5190.094, Expected=4618\n",
      ">Predicted=4930.190, Expected=5312\n",
      ">Predicted=4944.785, Expected=4298\n",
      ">Predicted=1699.409, Expected=1413\n",
      ">Predicted=6085.324, Expected=5877\n",
      "RMSE: 361.110\n"
     ]
    },
    {
     "data": {
      "image/png": "[encoded data removed]",
      "text/plain": [
       "<matplotlib.figure.Figure at 0x10877cd68>"
      ]
     },
     "metadata": {},
     "output_type": "display_data"
    }
   ],
   "source": [
    "# rolling forecasts\n",
    "for i in range(1, len(y)):\n",
    "\t# difference data\n",
    "\tmonths_in_year = 12\n",
    "\tdiff = difference(history, months_in_year)\n",
    "\t# predict\n",
    "\tmodel = ARIMA(diff, order=(0,0,1))\n",
    "\tmodel_fit = model.fit(trend='nc', disp=0)\n",
    "\tyhat = model_fit.forecast()[0]\n",
    "\tyhat = bias + inverse_difference(history, yhat, months_in_year)\n",
    "\tpredictions.append(yhat)\n",
    "\t# observation\n",
    "\tobs = y[i]\n",
    "\thistory.append(obs)\n",
    "\tprint('>Predicted=%.3f, Expected=%3.f' % (yhat, obs))\n",
    "# report performance\n",
    "mse = mean_squared_error(y, predictions)\n",
    "rmse = sqrt(mse)\n",
    "print('RMSE: %.3f' % rmse)\n",
    "pyplot.plot(y)\n",
    "pyplot.plot(predictions, color='red')\n",
    "pyplot.show()\n"
   ]
  },
  {
   "cell_type": "code",
   "execution_count": null,
   "metadata": {
    "collapsed": true
   },
   "outputs": [],
   "source": []
  }
 ],
 "metadata": {
  "kernelspec": {
   "display_name": "Python 3",
   "language": "python",
   "name": "python3"
  },
  "language_info": {
   "codemirror_mode": {
    "name": "ipython",
    "version": 3
   },
   "file_extension": ".py",
   "mimetype": "text/x-python",
   "name": "python",
   "nbconvert_exporter": "python",
   "pygments_lexer": "ipython3",
   "version": "3.6.3"
  }
 },
 "nbformat": 4,
 "nbformat_minor": 2
}
