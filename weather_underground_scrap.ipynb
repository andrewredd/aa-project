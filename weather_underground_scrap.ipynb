{
 "cells": [
  {
   "cell_type": "code",
   "execution_count": 34,
   "metadata": {
    "collapsed": true
   },
   "outputs": [],
   "source": [
    "import requests\n",
    "from bs4 import BeautifulSoup\n",
    "import re\n",
    "import pandas as pd\n",
    "import datetime\n",
    "import os\n",
    "\n",
    "states = ['Kansas', 'Nebraska', 'Oklahoma']\n",
    "\n",
    "state_airports = {}"
   ]
  },
  {
   "cell_type": "code",
   "execution_count": 35,
   "metadata": {},
   "outputs": [
    {
     "name": "stdout",
     "output_type": "stream",
     "text": [
      "Kansas\n",
      "Nebraska\n",
      "Oklahoma\n"
     ]
    }
   ],
   "source": [
    "# get airport codes for states of interest\n",
    "for st in states:\n",
    "    print(st)\n",
    "    temp = []\n",
    "    r = requests.get(\"https://www.wunderground.com/history/index.html?error=AMBIGUOUS&query=%s\" % st)\n",
    "\n",
    "    regex = r\"\\/?history\\/?airport\\/(\\w+)\"\n",
    "    soup = BeautifulSoup(r.text, 'html.parser')\n",
    "\n",
    "    for i in soup.find_all('a'):\n",
    "        link = i.get('href')\n",
    "        if isinstance(link, str):\n",
    "            matches = re.search(regex, link)\n",
    "            if matches:\n",
    "                temp.append(matches.group(1))\n",
    "    \n",
    "    state_airports[st] = temp"
   ]
  },
  {
   "cell_type": "code",
   "execution_count": 36,
   "metadata": {},
   "outputs": [
    {
     "name": "stdout",
     "output_type": "stream",
     "text": [
      "Wall time: 0 ns\n"
     ]
    }
   ],
   "source": [
    "%time\n",
    "def non_empty_length(list_):\n",
    "    counter = 0\n",
    "    for i in list_:\n",
    "        if i != '':\n",
    "            counter+=1\n",
    "    return counter\n",
    "\n",
    "def name_list(list_named):\n",
    "    return (list_named[0], list_named[1:])\n",
    "\n",
    "def list_to_dict(rows):\n",
    "    dict_ = {}\n",
    "    for i in rows:\n",
    "        if (non_empty_length(i) > 1):\n",
    "            name, list_ = name_list(i)\n",
    "            dict_[name] = list_\n",
    "    return dict_\n",
    "\n",
    "# get weather for a day at a given airport\n",
    "def get_airport_weather(airport, year = 2018, day = 29, month = 3):\n",
    "    link = \"https://www.wunderground.com/history/airport/%s/%s/%s/%s/DailyHistory.html\" % (airport, year, month, day)\n",
    "    try:\n",
    "        r = requests.get(link)\n",
    "    except e:\n",
    "        \n",
    "    soup = BeautifulSoup(r.text, 'html.parser')\n",
    "    table = soup.find('table', {'class':'airport-history-summary-table'})\n",
    "    \n",
    "    headers = [header.text for header in table.find_all('th') if not header.text == '\\xa0']\n",
    "\n",
    "    rows = []\n",
    "\n",
    "    for row in table.find_all('tr'):\n",
    "        temp_row = [val.text.replace('\\xa0' , '').strip().replace('\\n', ' ') for val in row.find_all('td')]\n",
    "        if (non_empty_length(temp_row) > 1):\n",
    "            rows.append(temp_row)\n",
    "    return pd.DataFrame(rows, columns = ['labels', 'current', 'average', 'record']).set_index('labels')"
   ]
  },
  {
   "cell_type": "code",
   "execution_count": 44,
   "metadata": {},
   "outputs": [],
   "source": [
    "# https://stackoverflow.com/questions/993358/creating-a-range-of-dates-in-python\n",
    "base = datetime.date.today()\n",
    "base -= datetime.timedelta(days = 1)\n",
    "num_days = 1\n",
    "date_list = [base - datetime.timedelta(days=x) for x in range(0, num_days)]\n"
   ]
  },
  {
   "cell_type": "code",
   "execution_count": 45,
   "metadata": {},
   "outputs": [
    {
     "name": "stdout",
     "output_type": "stream",
     "text": [
      "KCNU\n",
      "2018-03-30\n",
      "KCFV\n",
      "2018-03-30\n",
      "KAAO\n",
      "2018-03-30\n",
      "KCBK\n",
      "2018-03-30\n",
      "KCNK\n",
      "2018-03-30\n",
      "KDDC\n",
      "2018-03-30\n",
      "KEHA\n",
      "2018-03-30\n",
      "KEMP\n",
      "2018-03-30\n",
      "KGCK\n",
      "2018-03-30\n",
      "KGLD\n",
      "2018-03-30\n",
      "KHYS\n",
      "2018-03-30\n",
      "KHLC\n",
      "2018-03-30\n",
      "KHUT\n",
      "2018-03-30\n",
      "KLWC\n",
      "2018-03-30\n",
      "KLBL\n",
      "2018-03-30\n",
      "KMHK\n",
      "2018-03-30\n",
      "KIAB\n",
      "2018-03-30\n",
      "KP28\n",
      "2018-03-30\n",
      "KEWK\n",
      "2018-03-30\n",
      "KOJC\n",
      "2018-03-30\n",
      "KPPF\n",
      "2018-03-30\n",
      "KRSL\n",
      "2018-03-30\n",
      "KSLN\n",
      "2018-03-30\n",
      "KTOP\n",
      "2018-03-30\n",
      "KICT\n",
      "2018-03-30\n",
      "KWLD\n",
      "2018-03-30\n",
      "Wall time: 1min 26s\n"
     ]
    }
   ],
   "source": [
    "%%time\n",
    "state = 'Kansas'\n",
    "for air in state_airports[state]:\n",
    "    print(air)\n",
    "    for date in date_list:\n",
    "        print(date)\n",
    "        air_weather = get_airport_weather(air, year = date.year, month = date.month, day=date.day)\n",
    "        file_dir = \"../WeatherData/%s/%s/%s/%s\" % (state, air, date.year, date.month)\n",
    "        os.makedirs(file_dir, exist_ok = True)\n",
    "        air_weather.to_csv(\"%s/%s.csv\" % (file_dir, date.day))"
   ]
  },
  {
   "cell_type": "code",
   "execution_count": null,
   "metadata": {
    "collapsed": true
   },
   "outputs": [],
   "source": [
    "# https://stackoverflow.com/questions/914821/producer-consumer-problem-with-python-multiprocessing\n",
    "\n",
    "from multiprocessing import Process, Queue, cpu_count\n",
    "import random\n",
    "import time"
   ]
  },
  {
   "cell_type": "code",
   "execution_count": null,
   "metadata": {
    "collapsed": true
   },
   "outputs": [],
   "source": [
    "def serve(queue):\n",
    "    works = [\"task_1\", \"task_2\"]\n",
    "    while True:\n",
    "        time.sleep(0.01)\n",
    "        queue.put(random.choice(works))"
   ]
  },
  {
   "cell_type": "code",
   "execution_count": 33,
   "metadata": {},
   "outputs": [
    {
     "data": {
      "text/plain": [
       "{}"
      ]
     },
     "execution_count": 33,
     "metadata": {},
     "output_type": "execute_result"
    }
   ],
   "source": [
    "def work(id, queue):\n",
    "    while True:\n",
    "        task = queue.get()\n",
    "        if task is None:\n",
    "            break\n",
    "        time.sleep(0.05)\n",
    "        print \"%d task:\" % id, task\n",
    "    queue.put(None)\n",
    "\n",
    "\n",
    "class Manager:\n",
    "    def __init__(self):\n",
    "        self.queue = Queue()\n",
    "        self.NUMBER_OF_PROCESSES = cpu_count()\n",
    "\n",
    "    def start(self):\n",
    "        print \"starting %d workers\" % self.NUMBER_OF_PROCESSES\n",
    "        self.workers = [Process(target=work, args=(i, self.queue,))\n",
    "                        for i in xrange(self.NUMBER_OF_PROCESSES)]\n",
    "        for w in self.workers:\n",
    "            w.start()\n",
    "\n",
    "        serve(self.queue)\n",
    "\n",
    "    def stop(self):\n",
    "        self.queue.put(None)\n",
    "        for i in range(self.NUMBER_OF_PROCESS):\n",
    "            self.workers[i].join()\n",
    "        queue.close()\n",
    "\n",
    "\n",
    "Manager().start()"
   ]
  },
  {
   "cell_type": "code",
   "execution_count": null,
   "metadata": {
    "collapsed": true
   },
   "outputs": [],
   "source": []
  },
  {
   "cell_type": "code",
   "execution_count": 22,
   "metadata": {},
   "outputs": [
    {
     "data": {
      "text/plain": [
       "{'Kansas': ['KCNU',\n",
       "  'KCFV',\n",
       "  'KAAO',\n",
       "  'KCBK',\n",
       "  'KCNK',\n",
       "  'KDDC',\n",
       "  'KEHA',\n",
       "  'KEMP',\n",
       "  'KGCK',\n",
       "  'KGLD',\n",
       "  'KHYS',\n",
       "  'KHLC',\n",
       "  'KHUT',\n",
       "  'KLWC',\n",
       "  'KLBL',\n",
       "  'KMHK',\n",
       "  'KIAB',\n",
       "  'KP28',\n",
       "  'KEWK',\n",
       "  'KOJC',\n",
       "  'KPPF',\n",
       "  'KRSL',\n",
       "  'KSLN',\n",
       "  'KTOP',\n",
       "  'KICT',\n",
       "  'KWLD'],\n",
       " 'Nebraska': ['KANW',\n",
       "  'KAIA',\n",
       "  'KAUH',\n",
       "  'KBIE',\n",
       "  'KBBW',\n",
       "  'KCDR',\n",
       "  'KOLU',\n",
       "  'KFNB',\n",
       "  'KFET',\n",
       "  'KGRI',\n",
       "  'KHSI',\n",
       "  'KHDE',\n",
       "  'KIML',\n",
       "  'KEAR',\n",
       "  'KLXN',\n",
       "  'KLNK',\n",
       "  'KMCK',\n",
       "  'KOFK',\n",
       "  'KLBF',\n",
       "  'KOFF',\n",
       "  'KOGA',\n",
       "  'KOMA',\n",
       "  'KONL',\n",
       "  'KODX',\n",
       "  'KBFF',\n",
       "  'KSNY',\n",
       "  'KVTN',\n",
       "  'KJYR'],\n",
       " 'Oklahoma': ['KADH',\n",
       "  'KLTS',\n",
       "  'KAVK',\n",
       "  'K1F0',\n",
       "  'KAQR',\n",
       "  'KBVO',\n",
       "  'KCQB',\n",
       "  'KCHK',\n",
       "  'KGCM',\n",
       "  'KDUC',\n",
       "  'KDUA',\n",
       "  'KWDG',\n",
       "  'KFDR',\n",
       "  'KGAG',\n",
       "  'KGMJ',\n",
       "  'KGOK',\n",
       "  'KHBR',\n",
       "  'KLAW',\n",
       "  'KMLC',\n",
       "  'KMKO',\n",
       "  'KOUN',\n",
       "  'KOKC',\n",
       "  'KOKM',\n",
       "  'KPVJ',\n",
       "  'KPNC',\n",
       "  'KRKR',\n",
       "  'KSNL',\n",
       "  'KSWO',\n",
       "  'KTQH',\n",
       "  'KTIK',\n",
       "  'KTUL',\n",
       "  'KWWR']}"
      ]
     },
     "execution_count": 22,
     "metadata": {},
     "output_type": "execute_result"
    }
   ],
   "source": [
    "test = ['KCNU', 'KCFV', 'KAAO', 'KCBK', 'KCNK', 'KDDC', 'KEHA', 'KEMP', 'KGCK', 'KGLD', 'KHYS', 'KHLC', 'KHUT', 'KLWC', 'KLBL', 'KMHK', 'KIAB', 'KP28', 'KEWK', 'KOJC', 'KPPF', 'KRSL', 'KSLN', 'KTOP', 'KICT', 'KWLD']"
   ]
  },
  {
   "cell_type": "code",
   "execution_count": 3,
   "metadata": {},
   "outputs": [
    {
     "data": {
      "text/plain": [
       "{'Kansas': ['KCNU',\n",
       "  'KCFV',\n",
       "  'KAAO',\n",
       "  'KCBK',\n",
       "  'KCNK',\n",
       "  'KDDC',\n",
       "  'KEHA',\n",
       "  'KEMP',\n",
       "  'KGCK',\n",
       "  'KGLD',\n",
       "  'KHYS',\n",
       "  'KHLC',\n",
       "  'KHUT',\n",
       "  'KLWC',\n",
       "  'KLBL',\n",
       "  'KMHK',\n",
       "  'KIAB',\n",
       "  'KP28',\n",
       "  'KEWK',\n",
       "  'KOJC',\n",
       "  'KPPF',\n",
       "  'KRSL',\n",
       "  'KSLN',\n",
       "  'KTOP',\n",
       "  'KICT',\n",
       "  'KWLD'],\n",
       " 'Nebraska': ['KANW',\n",
       "  'KAIA',\n",
       "  'KAUH',\n",
       "  'KBIE',\n",
       "  'KBBW',\n",
       "  'KCDR',\n",
       "  'KOLU',\n",
       "  'KFNB',\n",
       "  'KFET',\n",
       "  'KGRI',\n",
       "  'KHSI',\n",
       "  'KHDE',\n",
       "  'KIML',\n",
       "  'KEAR',\n",
       "  'KLXN',\n",
       "  'KLNK',\n",
       "  'KMCK',\n",
       "  'KOFK',\n",
       "  'KLBF',\n",
       "  'KOFF',\n",
       "  'KOGA',\n",
       "  'KOMA',\n",
       "  'KONL',\n",
       "  'KODX',\n",
       "  'KBFF',\n",
       "  'KSNY',\n",
       "  'KVTN',\n",
       "  'KJYR'],\n",
       " 'Oklahoma': ['KADH',\n",
       "  'KLTS',\n",
       "  'KAVK',\n",
       "  'K1F0',\n",
       "  'KAQR',\n",
       "  'KBVO',\n",
       "  'KCQB',\n",
       "  'KCHK',\n",
       "  'KGCM',\n",
       "  'KDUC',\n",
       "  'KDUA',\n",
       "  'KWDG',\n",
       "  'KFDR',\n",
       "  'KGAG',\n",
       "  'KGMJ',\n",
       "  'KGOK',\n",
       "  'KHBR',\n",
       "  'KLAW',\n",
       "  'KMLC',\n",
       "  'KMKO',\n",
       "  'KOUN',\n",
       "  'KOKC',\n",
       "  'KOKM',\n",
       "  'KPVJ',\n",
       "  'KPNC',\n",
       "  'KRKR',\n",
       "  'KSNL',\n",
       "  'KSWO',\n",
       "  'KTQH',\n",
       "  'KTIK',\n",
       "  'KTUL',\n",
       "  'KWWR']}"
      ]
     },
     "execution_count": 3,
     "metadata": {},
     "output_type": "execute_result"
    }
   ],
   "source": [
    "state_airports"
   ]
  },
  {
   "cell_type": "code",
   "execution_count": null,
   "metadata": {
    "collapsed": true
   },
   "outputs": [],
   "source": []
  }
 ],
 "metadata": {
  "kernelspec": {
   "display_name": "Python 3",
   "language": "python",
   "name": "python3"
  },
  "language_info": {
   "codemirror_mode": {
    "name": "ipython",
    "version": 3
   },
   "file_extension": ".py",
   "mimetype": "text/x-python",
   "name": "python",
   "nbconvert_exporter": "python",
   "pygments_lexer": "ipython3",
   "version": "3.6.3"
  }
 },
 "nbformat": 4,
 "nbformat_minor": 2
}
