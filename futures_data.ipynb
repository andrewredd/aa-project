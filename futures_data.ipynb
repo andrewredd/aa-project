{
 "cells": [
  {
   "cell_type": "code",
   "execution_count": 157,
   "metadata": {
    "collapsed": true
   },
   "outputs": [],
   "source": [
    "import pandas as pd\n",
    "import numpy as np\n",
    "import quandl\n",
    "import matplotlib\n",
    "%matplotlib inline\n",
    "\n",
    "quandl.ApiConfig.api_key = \"zFtyXTJz6DTqqdvEy2gi\""
   ]
  },
  {
   "cell_type": "code",
   "execution_count": null,
   "metadata": {
    "collapsed": true
   },
   "outputs": [],
   "source": [
    "#Stock Data (DBA and WEAT not available from here)\n",
    "#data = quandl.get_table('WIKI/PRICES', qopts = { 'columns': ['ticker', 'date', 'close'] }, ticker = ['DBA'], date = { 'gte': '2012-01-01', 'lte': '2018-04-13' })"
   ]
  },
  {
   "cell_type": "markdown",
   "metadata": {},
   "source": [
    "### Futures: Continuous contracts (W# - contract # ahead)"
   ]
  },
  {
   "cell_type": "code",
   "execution_count": 2,
   "metadata": {
    "collapsed": true
   },
   "outputs": [],
   "source": [
    "#continuous futures W1 is front month\n",
    "#W1 may18 prices start 3/15/18..futures trade until biz day before 15th of settle month\n",
    "data = quandl.get('CHRIS/CME_W7')"
   ]
  },
  {
   "cell_type": "code",
   "execution_count": 3,
   "metadata": {
    "collapsed": true
   },
   "outputs": [],
   "source": [
    "data.to_csv('CME_W7.csv')"
   ]
  },
  {
   "cell_type": "code",
   "execution_count": 4,
   "metadata": {},
   "outputs": [
    {
     "data": {
      "text/html": [
       "<div>\n",
       "<style scoped>\n",
       "    .dataframe tbody tr th:only-of-type {\n",
       "        vertical-align: middle;\n",
       "    }\n",
       "\n",
       "    .dataframe tbody tr th {\n",
       "        vertical-align: top;\n",
       "    }\n",
       "\n",
       "    .dataframe thead th {\n",
       "        text-align: right;\n",
       "    }\n",
       "</style>\n",
       "<table border=\"1\" class=\"dataframe\">\n",
       "  <thead>\n",
       "    <tr style=\"text-align: right;\">\n",
       "      <th></th>\n",
       "      <th>Open</th>\n",
       "      <th>High</th>\n",
       "      <th>Low</th>\n",
       "      <th>Last</th>\n",
       "      <th>Change</th>\n",
       "      <th>Settle</th>\n",
       "      <th>Volume</th>\n",
       "      <th>Previous Day Open Interest</th>\n",
       "    </tr>\n",
       "    <tr>\n",
       "      <th>Date</th>\n",
       "      <th></th>\n",
       "      <th></th>\n",
       "      <th></th>\n",
       "      <th></th>\n",
       "      <th></th>\n",
       "      <th></th>\n",
       "      <th></th>\n",
       "      <th></th>\n",
       "    </tr>\n",
       "  </thead>\n",
       "  <tbody>\n",
       "    <tr>\n",
       "      <th>2014-12-24</th>\n",
       "      <td>631.5</td>\n",
       "      <td>631.5</td>\n",
       "      <td>631.5</td>\n",
       "      <td>631.0</td>\n",
       "      <td>17.0</td>\n",
       "      <td>631.0</td>\n",
       "      <td>2.0</td>\n",
       "      <td>144.0</td>\n",
       "    </tr>\n",
       "    <tr>\n",
       "      <th>2014-12-26</th>\n",
       "      <td>631.0</td>\n",
       "      <td>631.0</td>\n",
       "      <td>631.0</td>\n",
       "      <td>631.0</td>\n",
       "      <td>0.0</td>\n",
       "      <td>631.0</td>\n",
       "      <td>0.0</td>\n",
       "      <td>146.0</td>\n",
       "    </tr>\n",
       "    <tr>\n",
       "      <th>2014-12-29</th>\n",
       "      <td>634.5</td>\n",
       "      <td>634.5</td>\n",
       "      <td>634.5</td>\n",
       "      <td>634.5</td>\n",
       "      <td>3.5</td>\n",
       "      <td>634.5</td>\n",
       "      <td>3.0</td>\n",
       "      <td>146.0</td>\n",
       "    </tr>\n",
       "    <tr>\n",
       "      <th>2014-12-30</th>\n",
       "      <td>629.0</td>\n",
       "      <td>629.0</td>\n",
       "      <td>625.0</td>\n",
       "      <td>624.5</td>\n",
       "      <td>10.0</td>\n",
       "      <td>624.5</td>\n",
       "      <td>10.0</td>\n",
       "      <td>147.0</td>\n",
       "    </tr>\n",
       "    <tr>\n",
       "      <th>2014-12-31</th>\n",
       "      <td>613.0</td>\n",
       "      <td>613.0</td>\n",
       "      <td>613.0</td>\n",
       "      <td>613.0</td>\n",
       "      <td>11.5</td>\n",
       "      <td>613.0</td>\n",
       "      <td>0.0</td>\n",
       "      <td>151.0</td>\n",
       "    </tr>\n",
       "  </tbody>\n",
       "</table>\n",
       "</div>"
      ],
      "text/plain": [
       "             Open   High    Low   Last  Change  Settle  Volume  \\\n",
       "Date                                                             \n",
       "2014-12-24  631.5  631.5  631.5  631.0    17.0   631.0     2.0   \n",
       "2014-12-26  631.0  631.0  631.0  631.0     0.0   631.0     0.0   \n",
       "2014-12-29  634.5  634.5  634.5  634.5     3.5   634.5     3.0   \n",
       "2014-12-30  629.0  629.0  625.0  624.5    10.0   624.5    10.0   \n",
       "2014-12-31  613.0  613.0  613.0  613.0    11.5   613.0     0.0   \n",
       "\n",
       "            Previous Day Open Interest  \n",
       "Date                                    \n",
       "2014-12-24                       144.0  \n",
       "2014-12-26                       146.0  \n",
       "2014-12-29                       146.0  \n",
       "2014-12-30                       147.0  \n",
       "2014-12-31                       151.0  "
      ]
     },
     "execution_count": 4,
     "metadata": {},
     "output_type": "execute_result"
    }
   ],
   "source": [
    "data.head()"
   ]
  },
  {
   "cell_type": "markdown",
   "metadata": {},
   "source": [
    "### Futures: Individual contracts (all data)"
   ]
  },
  {
   "cell_type": "code",
   "execution_count": null,
   "metadata": {
    "collapsed": true
   },
   "outputs": [],
   "source": [
    "#individual contract (July 2018)\n",
    "#data = quandl.get('CME/WN2018')\n",
    "#data = quandl.get('CME/WK2018')  #may2018'\n",
    "data = quandl.get('CME/WH2018')  #mar2018\n"
   ]
  },
  {
   "cell_type": "code",
   "execution_count": null,
   "metadata": {
    "collapsed": true
   },
   "outputs": [],
   "source": [
    "#data.iloc[635:,[3]]"
   ]
  },
  {
   "cell_type": "markdown",
   "metadata": {
    "collapsed": true
   },
   "source": [
    "### Combining the Financial data sets by Date"
   ]
  },
  {
   "cell_type": "code",
   "execution_count": 65,
   "metadata": {
    "collapsed": true
   },
   "outputs": [],
   "source": [
    "# dat = pd.read_csv(\"Data/CME_W4.csv\")\n",
    "# dat = dat.rename(index=str, columns={'Volume': 'Vol', 'Previous Day Open Interest': 'OpIntPvD'})\n",
    "# print(dat.head())\n",
    "# print(len(dat))\n",
    "# dat.dtypes\n",
    "\n",
    "# i = 1\n",
    "# cols = ['Date', 'Open', 'High', 'Low', 'Last', 'Vol', 'OpInt']\n",
    "# dat = dat[cols]\n",
    "# cols2 = ['W'+str(i) + \"_\" + x for x in cols[1:]]\n",
    "# cols2.insert(0,'Date')\n",
    "# dat.columns = cols2\n",
    "# dat.head()"
   ]
  },
  {
   "cell_type": "markdown",
   "metadata": {},
   "source": [
    "### Combine all the Futures Contract Data (5 futures files (W1-W5) and 4 stocks )"
   ]
  },
  {
   "cell_type": "code",
   "execution_count": 25,
   "metadata": {
    "collapsed": true,
    "scrolled": false
   },
   "outputs": [],
   "source": [
    "def fixDate(inDate):\n",
    "    lst = inDate.split('/')\n",
    "    if lst[2] < '20':\n",
    "        lst[2] = '20'+lst[2]\n",
    "    else:\n",
    "        lst[2] = '19'+lst[2]\n",
    "    return '/'.join(lst)\n",
    "    \n",
    "import glob\n",
    "\n",
    "cols = ['Date', 'Open', 'High', 'Low', 'Last', 'Vol', 'OpInt']\n",
    "\n",
    "#get futures data files, sort by 13th char (digit)\n",
    "filenamesFUT = glob.glob('./Data/CME_W*.csv')\n",
    "filenamesFUT = sorted(filenamesFUT, key=lambda x: x[12])\n",
    "\n",
    "#for each file, subset/clean columns, join to W1 by date\n",
    "for file in filenamesFUT:\n",
    "    lst = file.split('W')\n",
    "    cNum = int(lst[1][:1])\n",
    "    df = pd.read_csv(file)\n",
    "    \n",
    "    #W1-3 have date without century, add full year\n",
    "    if cNum <= 3:\n",
    "        df['Date'] = df['Date'].apply(fixDate)\n",
    "    df['Date'] = pd.to_datetime(df['Date'])\n",
    "    \n",
    "    df = df.rename(index=str, columns={'Volume': 'Vol', 'Previous Day Open Interest': 'OpInt'})\n",
    "    df = df[cols]\n",
    "    colsTxt = ['W'+str(cNum) + \"_\" + x for x in cols[1:]]\n",
    "    colsTxt.insert(0, 'Date')\n",
    "    df.columns = colsTxt\n",
    "\n",
    "    if cNum == 1:\n",
    "        dat = df\n",
    "    else:\n",
    "        dat = dat.merge(df, how='left', on='Date')\n",
    "\n"
   ]
  },
  {
   "cell_type": "markdown",
   "metadata": {},
   "source": [
    "### Add Equity data"
   ]
  },
  {
   "cell_type": "code",
   "execution_count": 26,
   "metadata": {
    "collapsed": true
   },
   "outputs": [],
   "source": [
    "filenames = glob.glob('./Data/*.csv')\n",
    "filenamesEQ = [x for x in filenames if x not in filenamesFUT]\n",
    "\n",
    "colsEQ = ['Date','Close']\n",
    "\n",
    "for file in filenamesEQ:\n",
    "    if 'financialALL' not in file and 'pivoted' not in file:\n",
    "        df = pd.read_csv(file, parse_dates=[0])\n",
    "        df = df[colsEQ]\n",
    "    \n",
    "        #extract ticker\n",
    "        ticker = file.split('/')[2].split('.')[0]\n",
    "\n",
    "        df.columns = ['Date', ticker]\n",
    "        \n",
    "        #merge with futures data\n",
    "        dat = dat.merge(df, how='left', on='Date')"
   ]
  },
  {
   "cell_type": "code",
   "execution_count": 27,
   "metadata": {},
   "outputs": [
    {
     "data": {
      "text/plain": [
       "Index(['Date', 'W1_Open', 'W1_High', 'W1_Low', 'W1_Last', 'W1_Vol', 'W1_OpInt',\n",
       "       'W2_Open', 'W2_High', 'W2_Low', 'W2_Last', 'W2_Vol', 'W2_OpInt',\n",
       "       'W3_Open', 'W3_High', 'W3_Low', 'W3_Last', 'W3_Vol', 'W3_OpInt', 'ADM',\n",
       "       'BG', 'WEAT', 'DBA'],\n",
       "      dtype='object')"
      ]
     },
     "execution_count": 27,
     "metadata": {},
     "output_type": "execute_result"
    }
   ],
   "source": [
    "dat.columns"
   ]
  },
  {
   "cell_type": "code",
   "execution_count": 155,
   "metadata": {},
   "outputs": [],
   "source": [
    "# make Date the index\n",
    "dat = dat.set_index('Date')"
   ]
  },
  {
   "cell_type": "code",
   "execution_count": 29,
   "metadata": {
    "collapsed": true
   },
   "outputs": [],
   "source": [
    "#save to csv\n",
    "dat.to_csv(\"./Data/financialALL.csv\")"
   ]
  },
  {
   "cell_type": "code",
   "execution_count": null,
   "metadata": {
    "collapsed": true
   },
   "outputs": [],
   "source": []
  },
  {
   "cell_type": "code",
   "execution_count": 23,
   "metadata": {
    "collapsed": true
   },
   "outputs": [],
   "source": [
    "#dfW = pd.read_csv(\"./Data/pivoted_daily.csv\", header=0, dtype=np.float64)\n",
    "#dfW.head()"
   ]
  },
  {
   "cell_type": "code",
   "execution_count": 24,
   "metadata": {},
   "outputs": [
    {
     "data": {
      "text/html": [
       "<div>\n",
       "<style scoped>\n",
       "    .dataframe tbody tr th:only-of-type {\n",
       "        vertical-align: middle;\n",
       "    }\n",
       "\n",
       "    .dataframe tbody tr th {\n",
       "        vertical-align: top;\n",
       "    }\n",
       "\n",
       "    .dataframe thead th {\n",
       "        text-align: right;\n",
       "    }\n",
       "</style>\n",
       "<table border=\"1\" class=\"dataframe\">\n",
       "  <thead>\n",
       "    <tr style=\"text-align: right;\">\n",
       "      <th></th>\n",
       "      <th>Date</th>\n",
       "      <th>W1_Open</th>\n",
       "      <th>W1_High</th>\n",
       "      <th>W1_Low</th>\n",
       "      <th>W1_Last</th>\n",
       "      <th>W1_Vol</th>\n",
       "      <th>W1_OpInt</th>\n",
       "      <th>W2_Open</th>\n",
       "      <th>W2_High</th>\n",
       "      <th>W2_Low</th>\n",
       "      <th>...</th>\n",
       "      <th>W5_Open</th>\n",
       "      <th>W5_High</th>\n",
       "      <th>W5_Low</th>\n",
       "      <th>W5_Last</th>\n",
       "      <th>W5_Vol</th>\n",
       "      <th>W5_OpInt</th>\n",
       "      <th>ADM</th>\n",
       "      <th>BG</th>\n",
       "      <th>WEAT</th>\n",
       "      <th>DBA</th>\n",
       "    </tr>\n",
       "  </thead>\n",
       "  <tbody>\n",
       "    <tr>\n",
       "      <th>0</th>\n",
       "      <td>1959-07-01</td>\n",
       "      <td>195.7</td>\n",
       "      <td>196.7</td>\n",
       "      <td>195.7</td>\n",
       "      <td>196.4</td>\n",
       "      <td>5828</td>\n",
       "      <td>25273</td>\n",
       "      <td>199.3</td>\n",
       "      <td>200.1</td>\n",
       "      <td>199.2</td>\n",
       "      <td>...</td>\n",
       "      <td>185.2</td>\n",
       "      <td>185.2</td>\n",
       "      <td>185.0</td>\n",
       "      <td>185.0</td>\n",
       "      <td>75.0</td>\n",
       "      <td>2382.0</td>\n",
       "      <td>NaN</td>\n",
       "      <td>NaN</td>\n",
       "      <td>NaN</td>\n",
       "      <td>NaN</td>\n",
       "    </tr>\n",
       "    <tr>\n",
       "      <th>1</th>\n",
       "      <td>1959-07-02</td>\n",
       "      <td>196.3</td>\n",
       "      <td>197.4</td>\n",
       "      <td>196.3</td>\n",
       "      <td>197.1</td>\n",
       "      <td>4780</td>\n",
       "      <td>26524</td>\n",
       "      <td>199.7</td>\n",
       "      <td>200.2</td>\n",
       "      <td>199.5</td>\n",
       "      <td>...</td>\n",
       "      <td>184.6</td>\n",
       "      <td>185.5</td>\n",
       "      <td>184.6</td>\n",
       "      <td>185.2</td>\n",
       "      <td>20.0</td>\n",
       "      <td>2402.0</td>\n",
       "      <td>NaN</td>\n",
       "      <td>NaN</td>\n",
       "      <td>NaN</td>\n",
       "      <td>NaN</td>\n",
       "    </tr>\n",
       "    <tr>\n",
       "      <th>2</th>\n",
       "      <td>1959-07-06</td>\n",
       "      <td>196.6</td>\n",
       "      <td>197.6</td>\n",
       "      <td>196.6</td>\n",
       "      <td>197.0</td>\n",
       "      <td>6591</td>\n",
       "      <td>27452</td>\n",
       "      <td>200.0</td>\n",
       "      <td>200.6</td>\n",
       "      <td>200.0</td>\n",
       "      <td>...</td>\n",
       "      <td>185.2</td>\n",
       "      <td>185.2</td>\n",
       "      <td>185.2</td>\n",
       "      <td>185.2</td>\n",
       "      <td>20.0</td>\n",
       "      <td>2402.0</td>\n",
       "      <td>NaN</td>\n",
       "      <td>NaN</td>\n",
       "      <td>NaN</td>\n",
       "      <td>NaN</td>\n",
       "    </tr>\n",
       "    <tr>\n",
       "      <th>3</th>\n",
       "      <td>1959-07-07</td>\n",
       "      <td>197.3</td>\n",
       "      <td>197.5</td>\n",
       "      <td>196.7</td>\n",
       "      <td>197.1</td>\n",
       "      <td>5604</td>\n",
       "      <td>28749</td>\n",
       "      <td>200.6</td>\n",
       "      <td>200.6</td>\n",
       "      <td>199.5</td>\n",
       "      <td>...</td>\n",
       "      <td>185.1</td>\n",
       "      <td>185.5</td>\n",
       "      <td>185.0</td>\n",
       "      <td>185.5</td>\n",
       "      <td>0.0</td>\n",
       "      <td>2402.0</td>\n",
       "      <td>NaN</td>\n",
       "      <td>NaN</td>\n",
       "      <td>NaN</td>\n",
       "      <td>NaN</td>\n",
       "    </tr>\n",
       "    <tr>\n",
       "      <th>4</th>\n",
       "      <td>1959-07-08</td>\n",
       "      <td>197.2</td>\n",
       "      <td>197.4</td>\n",
       "      <td>196.3</td>\n",
       "      <td>196.4</td>\n",
       "      <td>4538</td>\n",
       "      <td>30527</td>\n",
       "      <td>200.0</td>\n",
       "      <td>200.0</td>\n",
       "      <td>198.3</td>\n",
       "      <td>...</td>\n",
       "      <td>185.7</td>\n",
       "      <td>185.7</td>\n",
       "      <td>185.2</td>\n",
       "      <td>185.2</td>\n",
       "      <td>35.0</td>\n",
       "      <td>2422.0</td>\n",
       "      <td>NaN</td>\n",
       "      <td>NaN</td>\n",
       "      <td>NaN</td>\n",
       "      <td>NaN</td>\n",
       "    </tr>\n",
       "  </tbody>\n",
       "</table>\n",
       "<p>5 rows × 35 columns</p>\n",
       "</div>"
      ],
      "text/plain": [
       "        Date  W1_Open  W1_High  W1_Low  W1_Last  W1_Vol  W1_OpInt  W2_Open  \\\n",
       "0 1959-07-01    195.7    196.7   195.7    196.4    5828     25273    199.3   \n",
       "1 1959-07-02    196.3    197.4   196.3    197.1    4780     26524    199.7   \n",
       "2 1959-07-06    196.6    197.6   196.6    197.0    6591     27452    200.0   \n",
       "3 1959-07-07    197.3    197.5   196.7    197.1    5604     28749    200.6   \n",
       "4 1959-07-08    197.2    197.4   196.3    196.4    4538     30527    200.0   \n",
       "\n",
       "   W2_High  W2_Low ...   W5_Open  W5_High  W5_Low  W5_Last  W5_Vol  W5_OpInt  \\\n",
       "0    200.1   199.2 ...     185.2    185.2   185.0    185.0    75.0    2382.0   \n",
       "1    200.2   199.5 ...     184.6    185.5   184.6    185.2    20.0    2402.0   \n",
       "2    200.6   200.0 ...     185.2    185.2   185.2    185.2    20.0    2402.0   \n",
       "3    200.6   199.5 ...     185.1    185.5   185.0    185.5     0.0    2402.0   \n",
       "4    200.0   198.3 ...     185.7    185.7   185.2    185.2    35.0    2422.0   \n",
       "\n",
       "   ADM  BG  WEAT  DBA  \n",
       "0  NaN NaN   NaN  NaN  \n",
       "1  NaN NaN   NaN  NaN  \n",
       "2  NaN NaN   NaN  NaN  \n",
       "3  NaN NaN   NaN  NaN  \n",
       "4  NaN NaN   NaN  NaN  \n",
       "\n",
       "[5 rows x 35 columns]"
      ]
     },
     "execution_count": 24,
     "metadata": {},
     "output_type": "execute_result"
    }
   ],
   "source": [
    "dat.head()"
   ]
  },
  {
   "cell_type": "markdown",
   "metadata": {},
   "source": [
    "## Feature Engineering\n",
    "\n",
    "### OHLC Average\n",
    "\n",
    "Many traders believe in technical analysis, forecasting prices by analyzing statistics based on trading activity "
   ]
  },
  {
   "cell_type": "code",
   "execution_count": 33,
   "metadata": {
    "collapsed": true
   },
   "outputs": [],
   "source": [
    "#add OHLC for each of the futures contracts\n",
    "dat['W1_OHLC'] = np.sum(dat[['W1_Open', 'W1_High', 'W1_Low', 'W1_Last']],axis=1) / 4\n",
    "dat['W2_OHLC'] = np.sum(dat[['W2_Open', 'W2_High', 'W2_Low', 'W2_Last']],axis=1) / 4\n",
    "dat['W3_OHLC'] = np.sum(dat[['W3_Open', 'W3_High', 'W3_Low', 'W3_Last']],axis=1) / 4"
   ]
  },
  {
   "cell_type": "code",
   "execution_count": 38,
   "metadata": {
    "collapsed": true
   },
   "outputs": [],
   "source": [
    "#rearrange the columns\n",
    "dat = dat[['Date', 'W1_Open', 'W1_High', 'W1_Low', 'W1_Last', 'W1_Vol', 'W1_OpInt', 'W1_OHLC',\n",
    "       'W2_Open', 'W2_High', 'W2_Low', 'W2_Last', 'W2_Vol', 'W2_OpInt', 'W2_OHLC', \n",
    "       'W3_Open', 'W3_High', 'W3_Low', 'W3_Last', 'W3_Vol', 'W3_OpInt', 'W3_OHLC', 'ADM',\n",
    "       'BG', 'WEAT', 'DBA']]"
   ]
  },
  {
   "cell_type": "markdown",
   "metadata": {
    "collapsed": true
   },
   "source": [
    "### Moving Averages"
   ]
  },
  {
   "cell_type": "code",
   "execution_count": 149,
   "metadata": {
    "collapsed": true
   },
   "outputs": [],
   "source": [
    "MoveAvg = [50,100,200]\n",
    "for ma in MoveAvg:\n",
    "    dat['W1_{}MA'.format(ma)] = dat['W1_Last'].rolling(window=ma).mean()\n",
    "    dat['W2_{}MA'.format(ma)] = dat['W2_Last'].rolling(window=ma).mean()\n",
    "    dat['W3_{}MA'.format(ma)] = dat['W3_Last'].rolling(window=ma).mean()"
   ]
  },
  {
   "cell_type": "code",
   "execution_count": 150,
   "metadata": {},
   "outputs": [
    {
     "data": {
      "text/plain": [
       "Index(['Date', 'W1_Open', 'W1_High', 'W1_Low', 'W1_Last', 'W1_Vol', 'W1_OpInt',\n",
       "       'W1_OHLC', 'W2_Open', 'W2_High', 'W2_Low', 'W2_Last', 'W2_Vol',\n",
       "       'W2_OpInt', 'W2_OHLC', 'W3_Open', 'W3_High', 'W3_Low', 'W3_Last',\n",
       "       'W3_Vol', 'W3_OpInt', 'W3_OHLC', 'ADM', 'BG', 'WEAT', 'DBA', 'W1_50MA',\n",
       "       'W2_50MA', 'W3_50MA', 'W1_100MA', 'W2_100MA', 'W3_100MA', 'W1_200MA',\n",
       "       'W2_200MA', 'W3_200MA'],\n",
       "      dtype='object')"
      ]
     },
     "execution_count": 150,
     "metadata": {},
     "output_type": "execute_result"
    }
   ],
   "source": [
    "dat.columns"
   ]
  },
  {
   "cell_type": "markdown",
   "metadata": {},
   "source": [
    "### Percent Change"
   ]
  },
  {
   "cell_type": "code",
   "execution_count": 158,
   "metadata": {},
   "outputs": [],
   "source": [
    "dat['W1_PctChg'] = dat['W1_Last'].pct_change()\n",
    "dat['W2_PctChg'] = dat['W2_Last'].pct_change()\n",
    "dat['W3_PctChg'] = dat['W3_Last'].pct_change()"
   ]
  },
  {
   "cell_type": "code",
   "execution_count": null,
   "metadata": {
    "collapsed": true
   },
   "outputs": [],
   "source": []
  },
  {
   "cell_type": "code",
   "execution_count": null,
   "metadata": {
    "collapsed": true
   },
   "outputs": [],
   "source": []
  },
  {
   "cell_type": "code",
   "execution_count": 45,
   "metadata": {},
   "outputs": [],
   "source": [
    "import numpy as np\n",
    "import matplotlib.pyplot as plt\n",
    "import pandas as pd\n",
    "from pandas import datetime\n",
    "import math, time\n",
    "import itertools\n",
    "from sklearn.preprocessing import MinMaxScaler\n",
    "import datetime\n",
    "from operator import itemgetter\n",
    "from sklearn.metrics import mean_squared_error\n",
    "from math import sqrt\n",
    "from keras.models import Sequential\n",
    "from keras.layers.core import Dense, Dropout, Activation\n",
    "from keras.layers.recurrent import LSTM, RNN, GRU\n",
    "from keras.models import load_model\n",
    "import keras\n",
    "import h5py\n",
    "import requests\n",
    "import os"
   ]
  },
  {
   "cell_type": "markdown",
   "metadata": {},
   "source": [
    "### Normalize the data  (call function for whichever cols we want to normalize)"
   ]
  },
  {
   "cell_type": "code",
   "execution_count": 133,
   "metadata": {
    "collapsed": true
   },
   "outputs": [],
   "source": [
    "def normalizeData(data):\n",
    "    minMax = MinMaxScaler()\n",
    "    normData = minMax.fit_transform(data.values.reshape(-1,1)).ravel()\n",
    "    return normData"
   ]
  },
  {
   "cell_type": "code",
   "execution_count": null,
   "metadata": {},
   "outputs": [],
   "source": []
  },
  {
   "cell_type": "code",
   "execution_count": null,
   "metadata": {},
   "outputs": [],
   "source": []
  },
  {
   "cell_type": "code",
   "execution_count": 137,
   "metadata": {},
   "outputs": [],
   "source": [
    "#normalize a subset of the data\n",
    "datNorm = dat.iloc[:,1:5].apply(normalizeData, axis=0)"
   ]
  },
  {
   "cell_type": "code",
   "execution_count": 162,
   "metadata": {},
   "outputs": [
    {
     "data": {
      "text/plain": [
       "Text(0.5,1,'Chicago SRW Wheat Future - Front Month')"
      ]
     },
     "execution_count": 162,
     "metadata": {},
     "output_type": "execute_result"
    },
    {
     "data": {
      "image/png": "[encoded data removed]",
      "text/plain": [
       "<Figure size 720x576 with 1 Axes>"
      ]
     },
     "metadata": {},
     "output_type": "display_data"
    }
   ],
   "source": [
    "plt.figure(figsize=(10,8))\n",
    "plt.plot(dat['W1_Last'], color='r', label='W1')\n",
    "#plt.plot(dat['W1_50MA'], color='b', label='W2')\n",
    "#plt.plot(dat['W1_100MA'], color='c', label='W3');\n",
    "plt.xlabel('Date')\n",
    "plt.ylabel('Price (cents/bushel)')\n",
    "plt.title('Chicago SRW Wheat Future - Front Month');"
   ]
  },
  {
   "cell_type": "markdown",
   "metadata": {},
   "source": [
    "### Neural Network (RNN, GRU, LSTM)"
   ]
  },
  {
   "cell_type": "code",
   "execution_count": null,
   "metadata": {
    "collapsed": true
   },
   "outputs": [],
   "source": [
    "def build_NN(seq, numFeatures, dropRate, nnType='RNN'):\n",
    "    \n",
    "    model = Sequential()\n",
    "    model.add(input_shape=(seq, numFeatures))  #input layer\n",
    "    \n",
    "    if nnType == 'RNN':    \n",
    "        model.add(RNN(64))\n",
    "        model.add(Dense(40, activation='relu'))\n",
    "    elif nnType == 'GRU':\n",
    "        model.add(GRU(64))\n",
    "        model.add(Dense(1, activation='tanh'))\n",
    "    elif nnType == 'LSTM':\n",
    "        model.add(LSTM(64))\n",
    "        model.add(Dropout(dropRate))\n",
    "        model.add(LSTM(64))\n",
    "        model.add(Dense(1, activation='relu'))\n",
    "    else:\n",
    "        print('should not be here')\n",
    "    \n",
    "    model.add(Dense(1, activation='linear')) #output layer\n",
    "    #model.summary()   \n",
    "    \n",
    "    model.compile(loss='mse', optimizer='adam', metrics='accuracy')\n",
    "    \n",
    "    return model"
   ]
  },
  {
   "cell_type": "code",
   "execution_count": null,
   "metadata": {
    "collapsed": true
   },
   "outputs": [],
   "source": [
    "model = build_NN()"
   ]
  },
  {
   "cell_type": "code",
   "execution_count": null,
   "metadata": {
    "collapsed": true
   },
   "outputs": [],
   "source": []
  },
  {
   "cell_type": "code",
   "execution_count": null,
   "metadata": {
    "collapsed": true
   },
   "outputs": [],
   "source": []
  },
  {
   "cell_type": "code",
   "execution_count": null,
   "metadata": {
    "collapsed": true
   },
   "outputs": [],
   "source": [
    "#####"
   ]
  },
  {
   "cell_type": "code",
   "execution_count": 139,
   "metadata": {
    "collapsed": true
   },
   "outputs": [],
   "source": [
    "\n",
    "# from lstmstock import *\n",
    "import seaborn as sns\n",
    "import numpy as np\n",
    "import matplotlib.pyplot as plt\n",
    "import matplotlib.pyplot as plt2\n",
    "import pandas as pd\n",
    "from pandas import datetime\n",
    "import math, time\n",
    "import itertools\n",
    "from sklearn import preprocessing\n",
    "import datetime\n",
    "from sklearn.metrics import mean_squared_error\n",
    "from math import sqrt\n",
    "from keras.models import Sequential\n",
    "from keras.layers.core import Dense, Dropout, Activation\n",
    "from keras.layers.recurrent import LSTM\n",
    "from keras.models import load_model\n",
    "import keras\n",
    "import pandas_datareader.data as web\n",
    "import h5py\n",
    "from keras import backend as K\n",
    "import quandl"
   ]
  },
  {
   "cell_type": "code",
   "execution_count": 140,
   "metadata": {
    "collapsed": true
   },
   "outputs": [],
   "source": [
    "seq_len = 22\n",
    "shape = [seq_len, 9, 1]\n",
    "neurons = [256, 256, 32, 1]\n",
    "dropout = 0.3\n",
    "decay = 0.5\n",
    "epochs = 90\n",
    "stock_name = 'AAPL'"
   ]
  },
  {
   "cell_type": "code",
   "execution_count": 141,
   "metadata": {
    "collapsed": true
   },
   "outputs": [],
   "source": [
    "def get_stock_data(stock_name, normalize=True, ma=[]):\n",
    "    \"\"\"\n",
    "    Return a dataframe of that stock and normalize all the values. \n",
    "    (Optional: create moving average)\n",
    "    \"\"\"\n",
    "    df = quandl.get_table('WIKI/PRICES', ticker = stock_name)\n",
    "    df.drop(['ticker', 'open', 'high', 'low', 'close', 'ex-dividend', 'volume', 'split_ratio'], 1, inplace=True)\n",
    "    df.set_index('date', inplace=True)\n",
    "    \n",
    "    # Renaming all the columns so that we can use the old version code\n",
    "    df.rename(columns={'adj_open': 'Open', 'adj_high': 'High', 'adj_low': 'Low', 'adj_volume': 'Volume', 'adj_close': 'Adj Close'}, inplace=True)\n",
    "    \n",
    "    # Percentage change\n",
    "    df['Pct'] = df['Adj Close'].pct_change()\n",
    "    df.dropna(inplace=True)\n",
    "    \n",
    "    # Moving Average    \n",
    "    if ma != []:\n",
    "        for moving in ma:\n",
    "            df['{}ma'.format(moving)] = df['Adj Close'].rolling(window=moving).mean()\n",
    "    df.dropna(inplace=True)\n",
    "    \n",
    "    if normalize:\n",
    "        min_max_scaler = preprocessing.MinMaxScaler()\n",
    "        df['Open'] = min_max_scaler.fit_transform(df.Open.values.reshape(-1,1))\n",
    "        df['High'] = min_max_scaler.fit_transform(df.High.values.reshape(-1,1))\n",
    "        df['Low'] = min_max_scaler.fit_transform(df.Low.values.reshape(-1,1))\n",
    "        df['Volume'] = min_max_scaler.fit_transform(df.Volume.values.reshape(-1,1))\n",
    "        df['Adj Close'] = min_max_scaler.fit_transform(df['Adj Close'].values.reshape(-1,1))\n",
    "        df['Pct'] = min_max_scaler.fit_transform(df['Pct'].values.reshape(-1,1))\n",
    "        if ma != []:\n",
    "            for moving in ma:\n",
    "                df['{}ma'.format(moving)] = min_max_scaler.fit_transform(df['{}ma'.format(moving)].values.reshape(-1,1))  \n",
    "                \n",
    "    # Move Adj Close to the rightmost for the ease of training\n",
    "    adj_close = df['Adj Close']\n",
    "    df.drop(labels=['Adj Close'], axis=1, inplace=True)\n",
    "    df = pd.concat([df, adj_close], axis=1)\n",
    "      \n",
    "    return df"
   ]
  },
  {
   "cell_type": "code",
   "execution_count": 142,
   "metadata": {
    "collapsed": true
   },
   "outputs": [],
   "source": [
    "df = get_stock_data(stock_name, ma=[50, 100, 200])"
   ]
  },
  {
   "cell_type": "code",
   "execution_count": 143,
   "metadata": {
    "collapsed": true
   },
   "outputs": [],
   "source": [
    "def plot_stock(df):\n",
    "    print(df.head())\n",
    "    plt.subplot(211)\n",
    "    plt.plot(df['Adj Close'], color='red', label='Adj Close')\n",
    "    plt.legend(loc='best')\n",
    "    plt.subplot(212)\n",
    "    plt.plot(df['Pct'], color='blue', label='Percentage change')\n",
    "    plt.legend(loc='best')\n",
    "    plt.show()"
   ]
  },
  {
   "cell_type": "code",
   "execution_count": 144,
   "metadata": {},
   "outputs": [
    {
     "name": "stdout",
     "output_type": "stream",
     "text": [
      "                Open      High       Low    Volume       Pct      50ma  \\\n",
      "date                                                                     \n",
      "1981-09-30  0.000333  0.000341  0.000347  0.006603  0.618942  0.000667   \n",
      "1981-10-01  0.000333  0.000341  0.000347  0.008103  0.609620  0.000652   \n",
      "1981-10-02  0.000434  0.000442  0.000449  0.005935  0.705957  0.000642   \n",
      "1981-10-05  0.000474  0.000492  0.000490  0.005673  0.645236  0.000631   \n",
      "1981-10-06  0.000474  0.000472  0.000480  0.003687  0.601324  0.000619   \n",
      "\n",
      "               100ma     200ma  Adj Close  \n",
      "date                                       \n",
      "1981-09-30  0.000910  0.000904   0.000344  \n",
      "1981-10-01  0.000899  0.000899   0.000344  \n",
      "1981-10-02  0.000889  0.000895   0.000445  \n",
      "1981-10-05  0.000880  0.000891   0.000486  \n",
      "1981-10-06  0.000872  0.000886   0.000476  \n"
     ]
    },
    {
     "data": {
      "image/png": "[encoded data removed]",
      "text/plain": [
       "<Figure size 432x288 with 2 Axes>"
      ]
     },
     "metadata": {},
     "output_type": "display_data"
    }
   ],
   "source": [
    "\n",
    "plot_stock(df)"
   ]
  },
  {
   "cell_type": "code",
   "execution_count": null,
   "metadata": {},
   "outputs": [],
   "source": []
  },
  {
   "cell_type": "code",
   "execution_count": 164,
   "metadata": {},
   "outputs": [
    {
     "data": {
      "text/html": [
       "<div>\n",
       "<style scoped>\n",
       "    .dataframe tbody tr th:only-of-type {\n",
       "        vertical-align: middle;\n",
       "    }\n",
       "\n",
       "    .dataframe tbody tr th {\n",
       "        vertical-align: top;\n",
       "    }\n",
       "\n",
       "    .dataframe thead th {\n",
       "        text-align: right;\n",
       "    }\n",
       "</style>\n",
       "<table border=\"1\" class=\"dataframe\">\n",
       "  <thead>\n",
       "    <tr style=\"text-align: right;\">\n",
       "      <th></th>\n",
       "      <th>Open</th>\n",
       "      <th>High</th>\n",
       "      <th>Low</th>\n",
       "      <th>Volume</th>\n",
       "      <th>Pct</th>\n",
       "      <th>50ma</th>\n",
       "      <th>100ma</th>\n",
       "      <th>200ma</th>\n",
       "      <th>Adj Close</th>\n",
       "    </tr>\n",
       "    <tr>\n",
       "      <th>date</th>\n",
       "      <th></th>\n",
       "      <th></th>\n",
       "      <th></th>\n",
       "      <th></th>\n",
       "      <th></th>\n",
       "      <th></th>\n",
       "      <th></th>\n",
       "      <th></th>\n",
       "      <th></th>\n",
       "    </tr>\n",
       "  </thead>\n",
       "  <tbody>\n",
       "    <tr>\n",
       "      <th>1981-09-30</th>\n",
       "      <td>0.000333</td>\n",
       "      <td>0.000341</td>\n",
       "      <td>0.000347</td>\n",
       "      <td>0.006603</td>\n",
       "      <td>0.618942</td>\n",
       "      <td>0.000667</td>\n",
       "      <td>0.000910</td>\n",
       "      <td>0.000904</td>\n",
       "      <td>0.000344</td>\n",
       "    </tr>\n",
       "    <tr>\n",
       "      <th>1981-10-01</th>\n",
       "      <td>0.000333</td>\n",
       "      <td>0.000341</td>\n",
       "      <td>0.000347</td>\n",
       "      <td>0.008103</td>\n",
       "      <td>0.609620</td>\n",
       "      <td>0.000652</td>\n",
       "      <td>0.000899</td>\n",
       "      <td>0.000899</td>\n",
       "      <td>0.000344</td>\n",
       "    </tr>\n",
       "    <tr>\n",
       "      <th>1981-10-02</th>\n",
       "      <td>0.000434</td>\n",
       "      <td>0.000442</td>\n",
       "      <td>0.000449</td>\n",
       "      <td>0.005935</td>\n",
       "      <td>0.705957</td>\n",
       "      <td>0.000642</td>\n",
       "      <td>0.000889</td>\n",
       "      <td>0.000895</td>\n",
       "      <td>0.000445</td>\n",
       "    </tr>\n",
       "    <tr>\n",
       "      <th>1981-10-05</th>\n",
       "      <td>0.000474</td>\n",
       "      <td>0.000492</td>\n",
       "      <td>0.000490</td>\n",
       "      <td>0.005673</td>\n",
       "      <td>0.645236</td>\n",
       "      <td>0.000631</td>\n",
       "      <td>0.000880</td>\n",
       "      <td>0.000891</td>\n",
       "      <td>0.000486</td>\n",
       "    </tr>\n",
       "    <tr>\n",
       "      <th>1981-10-06</th>\n",
       "      <td>0.000474</td>\n",
       "      <td>0.000472</td>\n",
       "      <td>0.000480</td>\n",
       "      <td>0.003687</td>\n",
       "      <td>0.601324</td>\n",
       "      <td>0.000619</td>\n",
       "      <td>0.000872</td>\n",
       "      <td>0.000886</td>\n",
       "      <td>0.000476</td>\n",
       "    </tr>\n",
       "  </tbody>\n",
       "</table>\n",
       "</div>"
      ],
      "text/plain": [
       "                Open      High       Low    Volume       Pct      50ma  \\\n",
       "date                                                                     \n",
       "1981-09-30  0.000333  0.000341  0.000347  0.006603  0.618942  0.000667   \n",
       "1981-10-01  0.000333  0.000341  0.000347  0.008103  0.609620  0.000652   \n",
       "1981-10-02  0.000434  0.000442  0.000449  0.005935  0.705957  0.000642   \n",
       "1981-10-05  0.000474  0.000492  0.000490  0.005673  0.645236  0.000631   \n",
       "1981-10-06  0.000474  0.000472  0.000480  0.003687  0.601324  0.000619   \n",
       "\n",
       "               100ma     200ma  Adj Close  \n",
       "date                                       \n",
       "1981-09-30  0.000910  0.000904   0.000344  \n",
       "1981-10-01  0.000899  0.000899   0.000344  \n",
       "1981-10-02  0.000889  0.000895   0.000445  \n",
       "1981-10-05  0.000880  0.000891   0.000486  \n",
       "1981-10-06  0.000872  0.000886   0.000476  "
      ]
     },
     "execution_count": 164,
     "metadata": {},
     "output_type": "execute_result"
    }
   ],
   "source": [
    "df.head()"
   ]
  },
  {
   "cell_type": "code",
   "execution_count": null,
   "metadata": {
    "collapsed": true
   },
   "outputs": [],
   "source": []
  },
  {
   "cell_type": "code",
   "execution_count": 163,
   "metadata": {
    "collapsed": true
   },
   "outputs": [],
   "source": [
    "def load_data(stock, seq_len):\n",
    "    amount_of_features = len(stock.columns)\n",
    "    print (\"Amount of features = {}\".format(amount_of_features))\n",
    "    data = stock.as_matrix()\n",
    "    sequence_length = seq_len + 1 # index starting from 0\n",
    "    result = []\n",
    "\n",
    "    for index in range(len(data) - sequence_length): # maxmimum date = lastest date - sequence length\n",
    "        result.append(data[index: index + sequence_length]) # index : index + 22days\n",
    "\n",
    "    result = np.array(result)\n",
    "    row = round(0.8 * result.shape[0]) # 80% split\n",
    "    print (\"Amount of training data = {}\".format(0.9 * result.shape[0]))\n",
    "    print (\"Amount of testing data = {}\".format(0.1 * result.shape[0]))\n",
    "\n",
    "    train = result[:int(row), :] # 90% date\n",
    "    X_train = train[:, :-1] # all data until day m\n",
    "    y_train = train[:, -1][:,-1] # day m + 1 adjusted close price\n",
    "\n",
    "    X_test = result[int(row):, :-1]\n",
    "    y_test = result[int(row):, -1][:,-1]\n",
    "\n",
    "    X_train = np.reshape(X_train, (X_train.shape[0], X_train.shape[1], amount_of_features))\n",
    "    X_test = np.reshape(X_test, (X_test.shape[0], X_test.shape[1], amount_of_features))\n",
    "\n",
    "    return [X_train, y_train, X_test, y_test]"
   ]
  },
  {
   "cell_type": "code",
   "execution_count": 165,
   "metadata": {},
   "outputs": [
    {
     "name": "stdout",
     "output_type": "stream",
     "text": [
      "Amount of features = 9\n",
      "Amount of training data = 8259.300000000001\n",
      "Amount of testing data = 917.7\n"
     ]
    }
   ],
   "source": [
    "X_train, y_train, X_test, y_test = load_data(df, seq_len)"
   ]
  },
  {
   "cell_type": "code",
   "execution_count": 180,
   "metadata": {},
   "outputs": [
    {
     "data": {
      "text/plain": [
       "(7342, 22, 9)"
      ]
     },
     "execution_count": 180,
     "metadata": {},
     "output_type": "execute_result"
    }
   ],
   "source": [
    "X_train.shape"
   ]
  },
  {
   "cell_type": "code",
   "execution_count": 183,
   "metadata": {},
   "outputs": [
    {
     "data": {
      "text/plain": [
       "7360.0"
      ]
     },
     "execution_count": 183,
     "metadata": {},
     "output_type": "execute_result"
    }
   ],
   "source": [
    "len(df)*.8"
   ]
  },
  {
   "cell_type": "code",
   "execution_count": 171,
   "metadata": {},
   "outputs": [
    {
     "data": {
      "text/html": [
       "<div>\n",
       "<style scoped>\n",
       "    .dataframe tbody tr th:only-of-type {\n",
       "        vertical-align: middle;\n",
       "    }\n",
       "\n",
       "    .dataframe tbody tr th {\n",
       "        vertical-align: top;\n",
       "    }\n",
       "\n",
       "    .dataframe thead th {\n",
       "        text-align: right;\n",
       "    }\n",
       "</style>\n",
       "<table border=\"1\" class=\"dataframe\">\n",
       "  <thead>\n",
       "    <tr style=\"text-align: right;\">\n",
       "      <th></th>\n",
       "      <th>W1_Open</th>\n",
       "      <th>W1_High</th>\n",
       "      <th>W1_Low</th>\n",
       "      <th>W1_Last</th>\n",
       "      <th>W1_Vol</th>\n",
       "      <th>W1_OpInt</th>\n",
       "      <th>W1_OHLC</th>\n",
       "      <th>W2_Open</th>\n",
       "      <th>W2_High</th>\n",
       "      <th>W2_Low</th>\n",
       "      <th>...</th>\n",
       "      <th>W3_50MA</th>\n",
       "      <th>W1_100MA</th>\n",
       "      <th>W2_100MA</th>\n",
       "      <th>W3_100MA</th>\n",
       "      <th>W1_200MA</th>\n",
       "      <th>W2_200MA</th>\n",
       "      <th>W3_200MA</th>\n",
       "      <th>W1_PctChg</th>\n",
       "      <th>W2_PctChg</th>\n",
       "      <th>W3_PctChg</th>\n",
       "    </tr>\n",
       "    <tr>\n",
       "      <th>Date</th>\n",
       "      <th></th>\n",
       "      <th></th>\n",
       "      <th></th>\n",
       "      <th></th>\n",
       "      <th></th>\n",
       "      <th></th>\n",
       "      <th></th>\n",
       "      <th></th>\n",
       "      <th></th>\n",
       "      <th></th>\n",
       "      <th></th>\n",
       "      <th></th>\n",
       "      <th></th>\n",
       "      <th></th>\n",
       "      <th></th>\n",
       "      <th></th>\n",
       "      <th></th>\n",
       "      <th></th>\n",
       "      <th></th>\n",
       "      <th></th>\n",
       "      <th></th>\n",
       "    </tr>\n",
       "  </thead>\n",
       "  <tbody>\n",
       "    <tr>\n",
       "      <th>1959-07-01</th>\n",
       "      <td>195.7</td>\n",
       "      <td>196.7</td>\n",
       "      <td>195.7</td>\n",
       "      <td>196.4</td>\n",
       "      <td>5828</td>\n",
       "      <td>25273</td>\n",
       "      <td>196.125</td>\n",
       "      <td>199.3</td>\n",
       "      <td>200.1</td>\n",
       "      <td>199.2</td>\n",
       "      <td>...</td>\n",
       "      <td>NaN</td>\n",
       "      <td>NaN</td>\n",
       "      <td>NaN</td>\n",
       "      <td>NaN</td>\n",
       "      <td>NaN</td>\n",
       "      <td>NaN</td>\n",
       "      <td>NaN</td>\n",
       "      <td>NaN</td>\n",
       "      <td>NaN</td>\n",
       "      <td>NaN</td>\n",
       "    </tr>\n",
       "    <tr>\n",
       "      <th>1959-07-02</th>\n",
       "      <td>196.3</td>\n",
       "      <td>197.4</td>\n",
       "      <td>196.3</td>\n",
       "      <td>197.1</td>\n",
       "      <td>4780</td>\n",
       "      <td>26524</td>\n",
       "      <td>196.775</td>\n",
       "      <td>199.7</td>\n",
       "      <td>200.2</td>\n",
       "      <td>199.5</td>\n",
       "      <td>...</td>\n",
       "      <td>NaN</td>\n",
       "      <td>NaN</td>\n",
       "      <td>NaN</td>\n",
       "      <td>NaN</td>\n",
       "      <td>NaN</td>\n",
       "      <td>NaN</td>\n",
       "      <td>NaN</td>\n",
       "      <td>0.003564</td>\n",
       "      <td>0.001003</td>\n",
       "      <td>0.000507</td>\n",
       "    </tr>\n",
       "    <tr>\n",
       "      <th>1959-07-06</th>\n",
       "      <td>196.6</td>\n",
       "      <td>197.6</td>\n",
       "      <td>196.6</td>\n",
       "      <td>197.0</td>\n",
       "      <td>6591</td>\n",
       "      <td>27452</td>\n",
       "      <td>196.950</td>\n",
       "      <td>200.0</td>\n",
       "      <td>200.6</td>\n",
       "      <td>200.0</td>\n",
       "      <td>...</td>\n",
       "      <td>NaN</td>\n",
       "      <td>NaN</td>\n",
       "      <td>NaN</td>\n",
       "      <td>NaN</td>\n",
       "      <td>NaN</td>\n",
       "      <td>NaN</td>\n",
       "      <td>NaN</td>\n",
       "      <td>-0.000507</td>\n",
       "      <td>0.003006</td>\n",
       "      <td>0.003038</td>\n",
       "    </tr>\n",
       "    <tr>\n",
       "      <th>1959-07-07</th>\n",
       "      <td>197.3</td>\n",
       "      <td>197.5</td>\n",
       "      <td>196.7</td>\n",
       "      <td>197.1</td>\n",
       "      <td>5604</td>\n",
       "      <td>28749</td>\n",
       "      <td>197.150</td>\n",
       "      <td>200.6</td>\n",
       "      <td>200.6</td>\n",
       "      <td>199.5</td>\n",
       "      <td>...</td>\n",
       "      <td>NaN</td>\n",
       "      <td>NaN</td>\n",
       "      <td>NaN</td>\n",
       "      <td>NaN</td>\n",
       "      <td>NaN</td>\n",
       "      <td>NaN</td>\n",
       "      <td>NaN</td>\n",
       "      <td>0.000508</td>\n",
       "      <td>-0.002997</td>\n",
       "      <td>-0.004543</td>\n",
       "    </tr>\n",
       "    <tr>\n",
       "      <th>1959-07-08</th>\n",
       "      <td>197.2</td>\n",
       "      <td>197.4</td>\n",
       "      <td>196.3</td>\n",
       "      <td>196.4</td>\n",
       "      <td>4538</td>\n",
       "      <td>30527</td>\n",
       "      <td>196.825</td>\n",
       "      <td>200.0</td>\n",
       "      <td>200.0</td>\n",
       "      <td>198.3</td>\n",
       "      <td>...</td>\n",
       "      <td>NaN</td>\n",
       "      <td>NaN</td>\n",
       "      <td>NaN</td>\n",
       "      <td>NaN</td>\n",
       "      <td>NaN</td>\n",
       "      <td>NaN</td>\n",
       "      <td>NaN</td>\n",
       "      <td>-0.003551</td>\n",
       "      <td>-0.005511</td>\n",
       "      <td>-0.009128</td>\n",
       "    </tr>\n",
       "  </tbody>\n",
       "</table>\n",
       "<p>5 rows × 37 columns</p>\n",
       "</div>"
      ],
      "text/plain": [
       "            W1_Open  W1_High  W1_Low  W1_Last  W1_Vol  W1_OpInt  W1_OHLC  \\\n",
       "Date                                                                       \n",
       "1959-07-01    195.7    196.7   195.7    196.4    5828     25273  196.125   \n",
       "1959-07-02    196.3    197.4   196.3    197.1    4780     26524  196.775   \n",
       "1959-07-06    196.6    197.6   196.6    197.0    6591     27452  196.950   \n",
       "1959-07-07    197.3    197.5   196.7    197.1    5604     28749  197.150   \n",
       "1959-07-08    197.2    197.4   196.3    196.4    4538     30527  196.825   \n",
       "\n",
       "            W2_Open  W2_High  W2_Low    ...      W3_50MA  W1_100MA  W2_100MA  \\\n",
       "Date                                    ...                                    \n",
       "1959-07-01    199.3    200.1   199.2    ...          NaN       NaN       NaN   \n",
       "1959-07-02    199.7    200.2   199.5    ...          NaN       NaN       NaN   \n",
       "1959-07-06    200.0    200.6   200.0    ...          NaN       NaN       NaN   \n",
       "1959-07-07    200.6    200.6   199.5    ...          NaN       NaN       NaN   \n",
       "1959-07-08    200.0    200.0   198.3    ...          NaN       NaN       NaN   \n",
       "\n",
       "            W3_100MA  W1_200MA  W2_200MA  W3_200MA  W1_PctChg  W2_PctChg  \\\n",
       "Date                                                                       \n",
       "1959-07-01       NaN       NaN       NaN       NaN        NaN        NaN   \n",
       "1959-07-02       NaN       NaN       NaN       NaN   0.003564   0.001003   \n",
       "1959-07-06       NaN       NaN       NaN       NaN  -0.000507   0.003006   \n",
       "1959-07-07       NaN       NaN       NaN       NaN   0.000508  -0.002997   \n",
       "1959-07-08       NaN       NaN       NaN       NaN  -0.003551  -0.005511   \n",
       "\n",
       "            W3_PctChg  \n",
       "Date                   \n",
       "1959-07-01        NaN  \n",
       "1959-07-02   0.000507  \n",
       "1959-07-06   0.003038  \n",
       "1959-07-07  -0.004543  \n",
       "1959-07-08  -0.009128  \n",
       "\n",
       "[5 rows x 37 columns]"
      ]
     },
     "execution_count": 171,
     "metadata": {},
     "output_type": "execute_result"
    }
   ],
   "source": [
    "def prepData(df, window=30):\n",
    "    \n",
    "    newData = []\n",
    "\n",
    "    for i in range(len(df) - window): \n",
    "        newData.append(df[i: i + window]) # moving window of data\n",
    "\n",
    "    result = np.array(result)\n",
    "    row = round(0.8 * result.shape[0]) # 80% split\n",
    "\n",
    "    train = result[:int(row), :] # 90% date\n",
    "    X_train = train[:, :-1] # all data until day m\n",
    "    y_train = train[:, -1][:,-1] # day m + 1 adjusted close price\n",
    "\n",
    "    X_test = result[int(row):, :-1]\n",
    "    y_test = result[int(row):, -1][:,-1]\n",
    "\n",
    "    X_train = np.reshape(X_train, (X_train.shape[0], X_train.shape[1], amount_of_features))\n",
    "    X_test = np.reshape(X_test, (X_test.shape[0], X_test.shape[1], amount_of_features))\n",
    "\n",
    "    return [X_train, y_train, X_test, y_test]"
   ]
  },
  {
   "cell_type": "code",
   "execution_count": 174,
   "metadata": {},
   "outputs": [
    {
     "name": "stdout",
     "output_type": "stream",
     "text": [
      "0\n",
      "1\n",
      "2\n",
      "3\n",
      "4\n"
     ]
    }
   ],
   "source": [
    "for i in range(5):\n",
    "    print(i)"
   ]
  },
  {
   "cell_type": "code",
   "execution_count": 176,
   "metadata": {
    "collapsed": true
   },
   "outputs": [],
   "source": [
    "X"
   ]
  },
  {
   "cell_type": "code",
   "execution_count": 179,
   "metadata": {},
   "outputs": [
    {
     "data": {
      "text/html": [
       "<div>\n",
       "<style scoped>\n",
       "    .dataframe tbody tr th:only-of-type {\n",
       "        vertical-align: middle;\n",
       "    }\n",
       "\n",
       "    .dataframe tbody tr th {\n",
       "        vertical-align: top;\n",
       "    }\n",
       "\n",
       "    .dataframe thead th {\n",
       "        text-align: right;\n",
       "    }\n",
       "</style>\n",
       "<table border=\"1\" class=\"dataframe\">\n",
       "  <thead>\n",
       "    <tr style=\"text-align: right;\">\n",
       "      <th></th>\n",
       "      <th>W1_Open</th>\n",
       "      <th>W1_High</th>\n",
       "      <th>W1_Low</th>\n",
       "      <th>W1_Last</th>\n",
       "      <th>W1_Vol</th>\n",
       "      <th>W1_OpInt</th>\n",
       "      <th>W1_OHLC</th>\n",
       "      <th>W2_Open</th>\n",
       "      <th>W2_High</th>\n",
       "      <th>W2_Low</th>\n",
       "      <th>...</th>\n",
       "      <th>W3_50MA</th>\n",
       "      <th>W1_100MA</th>\n",
       "      <th>W2_100MA</th>\n",
       "      <th>W3_100MA</th>\n",
       "      <th>W1_200MA</th>\n",
       "      <th>W2_200MA</th>\n",
       "      <th>W3_200MA</th>\n",
       "      <th>W1_PctChg</th>\n",
       "      <th>W2_PctChg</th>\n",
       "      <th>W3_PctChg</th>\n",
       "    </tr>\n",
       "    <tr>\n",
       "      <th>Date</th>\n",
       "      <th></th>\n",
       "      <th></th>\n",
       "      <th></th>\n",
       "      <th></th>\n",
       "      <th></th>\n",
       "      <th></th>\n",
       "      <th></th>\n",
       "      <th></th>\n",
       "      <th></th>\n",
       "      <th></th>\n",
       "      <th></th>\n",
       "      <th></th>\n",
       "      <th></th>\n",
       "      <th></th>\n",
       "      <th></th>\n",
       "      <th></th>\n",
       "      <th></th>\n",
       "      <th></th>\n",
       "      <th></th>\n",
       "      <th></th>\n",
       "      <th></th>\n",
       "    </tr>\n",
       "  </thead>\n",
       "  <tbody>\n",
       "    <tr>\n",
       "      <th>1959-07-01</th>\n",
       "      <td>195.7</td>\n",
       "      <td>196.7</td>\n",
       "      <td>195.7</td>\n",
       "      <td>196.4</td>\n",
       "      <td>5828</td>\n",
       "      <td>25273</td>\n",
       "      <td>196.125</td>\n",
       "      <td>199.3</td>\n",
       "      <td>200.1</td>\n",
       "      <td>199.2</td>\n",
       "      <td>...</td>\n",
       "      <td>NaN</td>\n",
       "      <td>NaN</td>\n",
       "      <td>NaN</td>\n",
       "      <td>NaN</td>\n",
       "      <td>NaN</td>\n",
       "      <td>NaN</td>\n",
       "      <td>NaN</td>\n",
       "      <td>NaN</td>\n",
       "      <td>NaN</td>\n",
       "      <td>NaN</td>\n",
       "    </tr>\n",
       "    <tr>\n",
       "      <th>1959-07-02</th>\n",
       "      <td>196.3</td>\n",
       "      <td>197.4</td>\n",
       "      <td>196.3</td>\n",
       "      <td>197.1</td>\n",
       "      <td>4780</td>\n",
       "      <td>26524</td>\n",
       "      <td>196.775</td>\n",
       "      <td>199.7</td>\n",
       "      <td>200.2</td>\n",
       "      <td>199.5</td>\n",
       "      <td>...</td>\n",
       "      <td>NaN</td>\n",
       "      <td>NaN</td>\n",
       "      <td>NaN</td>\n",
       "      <td>NaN</td>\n",
       "      <td>NaN</td>\n",
       "      <td>NaN</td>\n",
       "      <td>NaN</td>\n",
       "      <td>0.003564</td>\n",
       "      <td>0.001003</td>\n",
       "      <td>0.000507</td>\n",
       "    </tr>\n",
       "    <tr>\n",
       "      <th>1959-07-06</th>\n",
       "      <td>196.6</td>\n",
       "      <td>197.6</td>\n",
       "      <td>196.6</td>\n",
       "      <td>197.0</td>\n",
       "      <td>6591</td>\n",
       "      <td>27452</td>\n",
       "      <td>196.950</td>\n",
       "      <td>200.0</td>\n",
       "      <td>200.6</td>\n",
       "      <td>200.0</td>\n",
       "      <td>...</td>\n",
       "      <td>NaN</td>\n",
       "      <td>NaN</td>\n",
       "      <td>NaN</td>\n",
       "      <td>NaN</td>\n",
       "      <td>NaN</td>\n",
       "      <td>NaN</td>\n",
       "      <td>NaN</td>\n",
       "      <td>-0.000507</td>\n",
       "      <td>0.003006</td>\n",
       "      <td>0.003038</td>\n",
       "    </tr>\n",
       "  </tbody>\n",
       "</table>\n",
       "<p>3 rows × 37 columns</p>\n",
       "</div>"
      ],
      "text/plain": [
       "            W1_Open  W1_High  W1_Low  W1_Last  W1_Vol  W1_OpInt  W1_OHLC  \\\n",
       "Date                                                                       \n",
       "1959-07-01    195.7    196.7   195.7    196.4    5828     25273  196.125   \n",
       "1959-07-02    196.3    197.4   196.3    197.1    4780     26524  196.775   \n",
       "1959-07-06    196.6    197.6   196.6    197.0    6591     27452  196.950   \n",
       "\n",
       "            W2_Open  W2_High  W2_Low    ...      W3_50MA  W1_100MA  W2_100MA  \\\n",
       "Date                                    ...                                    \n",
       "1959-07-01    199.3    200.1   199.2    ...          NaN       NaN       NaN   \n",
       "1959-07-02    199.7    200.2   199.5    ...          NaN       NaN       NaN   \n",
       "1959-07-06    200.0    200.6   200.0    ...          NaN       NaN       NaN   \n",
       "\n",
       "            W3_100MA  W1_200MA  W2_200MA  W3_200MA  W1_PctChg  W2_PctChg  \\\n",
       "Date                                                                       \n",
       "1959-07-01       NaN       NaN       NaN       NaN        NaN        NaN   \n",
       "1959-07-02       NaN       NaN       NaN       NaN   0.003564   0.001003   \n",
       "1959-07-06       NaN       NaN       NaN       NaN  -0.000507   0.003006   \n",
       "\n",
       "            W3_PctChg  \n",
       "Date                   \n",
       "1959-07-01        NaN  \n",
       "1959-07-02   0.000507  \n",
       "1959-07-06   0.003038  \n",
       "\n",
       "[3 rows x 37 columns]"
      ]
     },
     "execution_count": 179,
     "metadata": {},
     "output_type": "execute_result"
    }
   ],
   "source": [
    "a[0]\n"
   ]
  },
  {
   "cell_type": "code",
   "execution_count": null,
   "metadata": {
    "collapsed": true
   },
   "outputs": [],
   "source": []
  }
 ],
 "metadata": {
  "kernelspec": {
   "display_name": "Python 3",
   "language": "python",
   "name": "python3"
  },
  "language_info": {
   "codemirror_mode": {
    "name": "ipython",
    "version": 3
   },
   "file_extension": ".py",
   "mimetype": "text/x-python",
   "name": "python",
   "nbconvert_exporter": "python",
   "pygments_lexer": "ipython3",
   "version": "3.6.3"
  }
 },
 "nbformat": 4,
 "nbformat_minor": 2
}
