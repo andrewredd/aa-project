{
 "cells": [
  {
   "cell_type": "code",
   "execution_count": 1,
   "metadata": {
    "collapsed": true
   },
   "outputs": [],
   "source": [
    "import pandas as pd\n",
    "import numpy as np\n",
    "import quandl\n",
    "\n",
    "quandl.ApiConfig.api_key = \"zFtyXTJz6DTqqdvEy2gi\""
   ]
  },
  {
   "cell_type": "markdown",
   "metadata": {},
   "source": [
    "Stock Data (DBA and WEAT not available from here)"
   ]
  },
  {
   "cell_type": "code",
   "execution_count": null,
   "metadata": {
    "collapsed": true
   },
   "outputs": [],
   "source": [
    "data = quandl.get_table('WIKI/PRICES', qopts = { 'columns': ['ticker', 'date', 'close'] }, ticker = ['DBA'], date = { 'gte': '2012-01-01', 'lte': '2018-04-13' })"
   ]
  },
  {
   "cell_type": "markdown",
   "metadata": {},
   "source": [
    "### Futures: Continuous contracts (W# - contract # ahead)"
   ]
  },
  {
   "cell_type": "code",
   "execution_count": null,
   "metadata": {
    "collapsed": true
   },
   "outputs": [],
   "source": [
    "#continuous futures W1 is front month\n",
    "#W1 may18 prices start 3/15/18..futures trade until biz day before 15th of settle month\n",
    "data = quandl.get('CHRIS/CME_W7')"
   ]
  },
  {
   "cell_type": "code",
   "execution_count": null,
   "metadata": {
    "collapsed": true
   },
   "outputs": [],
   "source": [
    "data.to_csv('CME_W7.csv')"
   ]
  },
  {
   "cell_type": "code",
   "execution_count": null,
   "metadata": {},
   "outputs": [],
   "source": [
    "data.head()"
   ]
  },
  {
   "cell_type": "code",
   "execution_count": null,
   "metadata": {},
   "outputs": [],
   "source": [
    "data.iloc[14780:,]"
   ]
  },
  {
   "cell_type": "markdown",
   "metadata": {},
   "source": [
    "### Futures: Individual contracts (all data)"
   ]
  },
  {
   "cell_type": "code",
   "execution_count": null,
   "metadata": {
    "collapsed": true
   },
   "outputs": [],
   "source": [
    "#individual contract (July 2018)\n",
    "#data = quandl.get('CME/WN2018')\n",
    "#data = quandl.get('CME/WK2018')  #may2018'\n",
    "data = quandl.get('CME/WH2018')  #mar2018\n"
   ]
  },
  {
   "cell_type": "code",
   "execution_count": null,
   "metadata": {},
   "outputs": [],
   "source": [
    "#data.iloc[635:,[3]]"
   ]
  },
  {
   "cell_type": "markdown",
   "metadata": {
    "collapsed": true
   },
   "source": [
    "### Combining the Financial data sets by Date"
   ]
  },
  {
   "cell_type": "code",
   "execution_count": 65,
   "metadata": {},
   "outputs": [],
   "source": [
    "# dat = pd.read_csv(\"Data/CME_W4.csv\")\n",
    "# dat = dat.rename(index=str, columns={'Volume': 'Vol', 'Previous Day Open Interest': 'OpIntPvD'})\n",
    "# print(dat.head())\n",
    "# print(len(dat))\n",
    "# dat.dtypes\n",
    "\n",
    "# i = 1\n",
    "# cols = ['Date', 'Open', 'High', 'Low', 'Last', 'Vol', 'OpInt']\n",
    "# dat = dat[cols]\n",
    "# cols2 = ['W'+str(i) + \"_\" + x for x in cols[1:]]\n",
    "# cols2.insert(0,'Date')\n",
    "# dat.columns = cols2\n",
    "# dat.head()"
   ]
  },
  {
   "cell_type": "markdown",
   "metadata": {},
   "source": [
    "### Combine all the Futures Contract Data (W1-3 since '59, W4-5 all since '05)"
   ]
  },
  {
   "cell_type": "code",
   "execution_count": 83,
   "metadata": {
    "scrolled": false
   },
   "outputs": [],
   "source": [
    "def fixDate(inDate):\n",
    "    lst = inDate.split('/')\n",
    "    if lst[2] < '20':\n",
    "        lst[2] = '20'+lst[2]\n",
    "    else:\n",
    "        lst[2] = '19'+lst[2]\n",
    "    return '/'.join(lst)\n",
    "    \n",
    "import glob\n",
    "\n",
    "cols = ['Date', 'Open', 'High', 'Low', 'Last', 'Vol', 'OpInt']\n",
    "\n",
    "#get futures data files, sort by 13th char (digit)\n",
    "filenamesFUT = glob.glob('./Data/CME_W*.csv')\n",
    "filenamesFUT = sorted(filenamesFUT, key=lambda x: x[12])\n",
    "\n",
    "#for each file, subset/clean columns, join to W1 by date\n",
    "for file in filenamesFUT:\n",
    "    lst = file.split('W')\n",
    "    cNum = int(lst[1][:1])\n",
    "    df = pd.read_csv(file)\n",
    "    \n",
    "    #W1-3 have date without century, add full year\n",
    "    if cNum <= 3:\n",
    "        df['Date'] = df['Date'].apply(fixDate)\n",
    "    df['Date'] = pd.to_datetime(df['Date'])\n",
    "    \n",
    "    df = df.rename(index=str, columns={'Volume': 'Vol', 'Previous Day Open Interest': 'OpInt'})\n",
    "    df = df[cols]\n",
    "    colsTxt = ['W'+str(cNum) + \"_\" + x for x in cols[1:]]\n",
    "    colsTxt.insert(0, 'Date')\n",
    "    df.columns = colsTxt\n",
    "\n",
    "    if cNum == 1:\n",
    "        dat = df\n",
    "    else:\n",
    "        dat = dat.merge(df, how='left', on='Date')\n",
    "\n"
   ]
  },
  {
   "cell_type": "markdown",
   "metadata": {},
   "source": [
    "### Add Equity data"
   ]
  },
  {
   "cell_type": "code",
   "execution_count": 84,
   "metadata": {},
   "outputs": [
    {
     "name": "stdout",
     "output_type": "stream",
     "text": [
      "Date    datetime64[ns]\n",
      "ADM            float64\n",
      "dtype: object\n",
      "\n",
      "Date    datetime64[ns]\n",
      "BG             float64\n",
      "dtype: object\n",
      "\n",
      "Date    datetime64[ns]\n",
      "WEAT           float64\n",
      "dtype: object\n",
      "\n",
      "Date    datetime64[ns]\n",
      "DBA            float64\n",
      "dtype: object\n",
      "\n"
     ]
    }
   ],
   "source": [
    "filenames = glob.glob('./Data/*.csv')\n",
    "filenamesEQ = [x for x in filenames if x not in filenamesFUT]\n",
    "\n",
    "colsEQ = ['Date','Close']\n",
    "\n",
    "for file in filenamesEQ:\n",
    "    if 'financialALL' not in file:\n",
    "        df = pd.read_csv(file, parse_dates=[0])\n",
    "        df = df[colsEQ]\n",
    "    \n",
    "        #extract ticker\n",
    "        ticker = file.split('/')[2].split('.')[0]\n",
    "\n",
    "        df.columns = ['Date', ticker]\n",
    "        print(df.dtypes)\n",
    "        print()\n",
    "        #merge with futures data\n",
    "        dat = dat.merge(df, how='left', on='Date')"
   ]
  },
  {
   "cell_type": "code",
   "execution_count": 85,
   "metadata": {},
   "outputs": [
    {
     "data": {
      "text/plain": [
       "Index(['Date', 'W1_Open', 'W1_High', 'W1_Low', 'W1_Last', 'W1_Vol', 'W1_OpInt',\n",
       "       'W2_Open', 'W2_High', 'W2_Low', 'W2_Last', 'W2_Vol', 'W2_OpInt',\n",
       "       'W3_Open', 'W3_High', 'W3_Low', 'W3_Last', 'W3_Vol', 'W3_OpInt',\n",
       "       'W4_Open', 'W4_High', 'W4_Low', 'W4_Last', 'W4_Vol', 'W4_OpInt',\n",
       "       'W5_Open', 'W5_High', 'W5_Low', 'W5_Last', 'W5_Vol', 'W5_OpInt', 'ADM',\n",
       "       'BG', 'WEAT', 'DBA'],\n",
       "      dtype='object')"
      ]
     },
     "execution_count": 85,
     "metadata": {},
     "output_type": "execute_result"
    }
   ],
   "source": [
    "dat.columns"
   ]
  },
  {
   "cell_type": "code",
   "execution_count": 86,
   "metadata": {},
   "outputs": [
    {
     "data": {
      "text/plain": [
       "['./Data/ADM.csv',\n",
       " './Data/BG.csv',\n",
       " './Data/WEAT.csv',\n",
       " './Data/financialALL.csv',\n",
       " './Data/DBA.csv']"
      ]
     },
     "execution_count": 86,
     "metadata": {},
     "output_type": "execute_result"
    }
   ],
   "source": [
    "filenamesEQ"
   ]
  },
  {
   "cell_type": "code",
   "execution_count": 87,
   "metadata": {
    "collapsed": true
   },
   "outputs": [],
   "source": [
    "dat.to_csv(\"./Data/financialALL.csv\")"
   ]
  },
  {
   "cell_type": "code",
   "execution_count": 88,
   "metadata": {},
   "outputs": [
    {
     "name": "stderr",
     "output_type": "stream",
     "text": [
      "/Users/Arobster/anaconda3/lib/python3.6/site-packages/IPython/core/interactiveshell.py:2698: DtypeWarning: Columns (1,2,3,4,5,6,7,8,9,10,11,12,13,14,15,16,17,18,19,20,21,22,23,24,25,26,27,28,29,30,31,32,33,34,35,36,37,38,39,40,41,42,43,44,45,46,47,48,49,50,51,52,53,54,55,56,57,58,59,60,61,62,63,64,65,66,67,68,69,70,71,72,73,74,75,76,77,78,79,80,81,82,83,84,85,86,87,88,89,90,91,92,93,94,95,96,97,98,99,100,101,102,103,104,105,106,107,108,109,110,111,112,113,114,115,116,117,118,119,120,121,122,123,124,125,126,127,128,129,130,131,132,133,134,135,136,137,138,139,140,141,142,143,144,145,146,147,148,149,150,151,152,153,154,155,156,157,158,159,160,161,162,163,164,165,166,167,168,169,170,171,172,173,174,175,176,177,178,179,180,181,182,183,184,185,186,187,188,189,190,191,192,193,194,195,196,197,198,199,200,201,202,203,204,205,206,207,208,209,210,211,212,213,214,215,216,217,218,219,220,221,222,223,224,225,226,227,228,229,230,231,232,233,234,235,236,237,238,239,240,241,242,243,244,245,246,247,248,249,250,251,252,253,254,255,256,257,258,259,260,261,262,263,264,265,266,267,268,269,270,271,272,273,274,275,276,277,278,279,280,281,282,283,284,285,286,287,288,289,290,291,292,293,294,295,296,297,298,299,300,301,302,303,304,305,306,307,308,309,310,311,312,313,314,315,316,317,318,319,320,321,322,323,324,325,326,327,328,329,330,331,332,333,334,335,336,337,338,339,340,341,342,343,344,345,346,347,348,349,350,351,352,353,354,355,356,357,358,359,360,361,362,363,364,365,366,367,368,369,370,371,372,373,374,375,376,377,378,379,380,381,382,383,384,385,386,387,388,389,391,392,395,396,397,400,401,402,403,404,405,406,407,408,409,410,411,412,413,414,415,416,418,419,420,421,423,424,425,426,427,428,429,430,431,432,433,434,435,436,437,438,439,440,441,442,443,444,445,446,447,448,449,450,451,452,453,454,455,456,457,458,459,460,461,462,463,464,466,467,468,469,470,471,472,473,474,475,476,477,478,479,480,481,482,483,484,485,486,488,489,490,491,492,493,494,495,496,497,498,499,500,501,502,503,504,505,506,507,508,509,510,511,512,513,514,515,516,517,518,519,520,521,522,523,524,525,526,527,528,529,530,531,532,533,534,535,536,537,538,539,540,541,542,543,544,545,546,547,548,549,550,551,552,553,554,555,556,557,558,559,560,561,562,563,564,565,566,567,568,569,570,571,572,573,574,575,576,577,578,579,581,582,583,584,585,586,587,588,589,590,591,592,593,594,595,596,597,598,599,600,601,602,603,604,605,606,607,608,609,610,611,612,613,614,615,616,617,618,619,620,621,622,623,624,625,626,627,628,629,630,631,632,633,634,635,636,637,638,639,640,641,642,643,644,645,646,647,648,649,650,651,652,653,654,655,656,657,658,659,660,661,662,663,664,665,666,667,668,669,670,671,672,674,675,676,677,678,679,680,681,682,683,684,685,686,687,688,689,690,691,692,693,694,695,696,697,698,699,700,701,702,703,704,705,706,707,708,709,710,711,712,713,714,715,716,717,718,719,720,721,722,723,724,725,727,728,729,730,731,732,733,734,735,736,737,738,739,740,741,742,743,744,745,746,747,748,749,750,751,752,753,754,755,756,757,758,759,760,761,762,763,764,765,767,769,770,771,772,773,774,775,776,777,778,779,780,781,782,783,784,785,786,787,788,789,790,791,792,793,794,795,796,797,798,799,800,801,802,803,804,805,806,807,808,809,810,811,812,813,814,815,816,817,818,819,820,821,822,823,824,825,826,827,828,829,830,831,832,833,834,835,836,837,838,839,841,842,843,844,845,846,847,848,849,850,851,852,853,854,855,856,857,858,860,862,863,864,865,866,867,868,869,870,871,872,873,874,875,876,877,878,879,880,881,882,883,884,885,886,887,888,889,890,891,892,893,894,895,896,897,898,899,900,901,902,903,904,905,906,907,908,909,910,911,912,913,914,915,916,917,918,919,920,921,922,923,924,925,926,927,929,930,931,932,933,934,935,936,937,938,939,940,941,942,943,944,945,946,947,948,949,950,951,952,953,954,955,956,957,958,959,960,961,962,963,964,965,966,967,968,969,970,971,972,973,974,975,976,977,978,979,980,981,982,983,984,985,986,987,988,989,990,991,992,993,994,995,996,997,998,999,1000,1001,1002,1003,1004,1005,1006,1007,1008,1009,1010,1011,1012,1013,1014,1015,1016,1017,1018,1019,1020,1021,1022,1023,1024,1025,1026,1027,1028,1029,1030,1031,1032,1033,1034,1035,1036,1037,1038,1039,1040,1041,1042,1043,1044,1045,1046,1047,1048,1049,1050,1051,1052,1053,1054,1055,1056,1057,1058,1059,1060,1061,1062,1063,1064,1065,1066,1067,1068,1069,1070,1071,1072,1073,1074,1075,1076,1077,1078,1079,1080,1081,1082,1083,1084,1085,1086,1087,1088,1089,1090,1091,1092,1093,1094,1095,1096,1097,1098,1099,1100,1101,1102,1103,1104,1105,1106,1107,1108,1109,1110,1111,1112,1113,1114,1115,1116,1117,1118,1119,1120,1121,1122,1123,1124,1125,1126,1127,1128,1129,1130,1131,1132,1133,1134,1135,1136,1137,1138,1139,1140,1141,1142,1143,1144,1145,1146,1147,1148,1149,1150,1151,1152,1153,1154,1155,1156,1157,1158,1159,1160,1161,1162,1163,1164,1165,1166,1167,1168,1169,1170,1171,1172,1173,1174,1175,1176,1177,1178,1179,1180,1181,1182,1183,1184,1185,1186,1187,1188,1189,1190,1191,1192,1193,1194,1195,1196,1197,1198,1199,1200,1201,1202,1203,1204,1205,1206,1207,1208,1209,1210,1211,1212,1213,1214,1215,1216,1217,1218,1219,1220,1221,1222,1223,1224,1225,1226,1227,1228,1229,1230,1231,1232,1233,1234,1235,1236,1237,1238,1239,1240,1241,1242,1243,1244,1245,1246,1247,1248,1249,1250,1251,1252,1253,1254,1255,1256,1257,1258,1259,1260,1261,1262,1263,1264,1265,1266,1267,1268,1269,1270,1271,1272,1273,1274,1275,1276,1277,1278,1279,1280,1281,1282,1283,1284,1285,1286,1287,1288,1289,1290,1291,1292,1293,1294,1295,1296,1297,1298,1299,1300,1301,1302,1303,1304,1305,1306,1307,1308,1309,1310,1311,1312,1313,1314,1315,1316,1317,1318,1319,1320,1321,1322,1323,1324,1325,1326,1327,1328,1329,1330,1331,1332,1333,1334,1335,1336,1337,1338,1339,1340,1341,1342,1343,1344,1345,1346,1347,1348,1349,1350,1351,1352,1353,1354,1355,1356,1357,1358,1359,1360,1361,1362,1363,1364,1365,1366,1367,1368,1369,1370,1371,1372,1373,1374,1375,1376,1377,1378,1379,1380,1381,1382,1383,1384,1385,1386,1387,1388,1389,1390,1391,1392,1393,1394,1395) have mixed types. Specify dtype option on import or set low_memory=False.\n",
      "  interactivity=interactivity, compiler=compiler, result=result)\n"
     ]
    },
    {
     "data": {
      "text/html": [
       "<div>\n",
       "<style scoped>\n",
       "    .dataframe tbody tr th:only-of-type {\n",
       "        vertical-align: middle;\n",
       "    }\n",
       "\n",
       "    .dataframe tbody tr th {\n",
       "        vertical-align: top;\n",
       "    }\n",
       "\n",
       "    .dataframe thead th {\n",
       "        text-align: right;\n",
       "    }\n",
       "</style>\n",
       "<table border=\"1\" class=\"dataframe\">\n",
       "  <thead>\n",
       "    <tr style=\"text-align: right;\">\n",
       "      <th></th>\n",
       "      <th>Unnamed: 0</th>\n",
       "      <th>max_temp_f</th>\n",
       "      <th>max_temp_f.1</th>\n",
       "      <th>max_temp_f.2</th>\n",
       "      <th>max_temp_f.3</th>\n",
       "      <th>max_temp_f.4</th>\n",
       "      <th>max_temp_f.5</th>\n",
       "      <th>max_temp_f.6</th>\n",
       "      <th>max_temp_f.7</th>\n",
       "      <th>max_temp_f.8</th>\n",
       "      <th>...</th>\n",
       "      <th>snowd_in.83</th>\n",
       "      <th>snowd_in.84</th>\n",
       "      <th>snowd_in.85</th>\n",
       "      <th>snowd_in.86</th>\n",
       "      <th>snowd_in.87</th>\n",
       "      <th>snowd_in.88</th>\n",
       "      <th>snowd_in.89</th>\n",
       "      <th>snowd_in.90</th>\n",
       "      <th>snowd_in.91</th>\n",
       "      <th>snowd_in.92</th>\n",
       "    </tr>\n",
       "  </thead>\n",
       "  <tbody>\n",
       "    <tr>\n",
       "      <th>0</th>\n",
       "      <td>station</td>\n",
       "      <td>1F0</td>\n",
       "      <td>AAO</td>\n",
       "      <td>ADM</td>\n",
       "      <td>AFK</td>\n",
       "      <td>AIA</td>\n",
       "      <td>ANW</td>\n",
       "      <td>AUH</td>\n",
       "      <td>BBW</td>\n",
       "      <td>BFF</td>\n",
       "      <td>...</td>\n",
       "      <td>SWO</td>\n",
       "      <td>TIF</td>\n",
       "      <td>TOP</td>\n",
       "      <td>TQE</td>\n",
       "      <td>TQH</td>\n",
       "      <td>TUL</td>\n",
       "      <td>VTN</td>\n",
       "      <td>WDG</td>\n",
       "      <td>WLD</td>\n",
       "      <td>WWR</td>\n",
       "    </tr>\n",
       "    <tr>\n",
       "      <th>1</th>\n",
       "      <td>day</td>\n",
       "      <td>NaN</td>\n",
       "      <td>NaN</td>\n",
       "      <td>NaN</td>\n",
       "      <td>NaN</td>\n",
       "      <td>NaN</td>\n",
       "      <td>NaN</td>\n",
       "      <td>NaN</td>\n",
       "      <td>NaN</td>\n",
       "      <td>NaN</td>\n",
       "      <td>...</td>\n",
       "      <td>NaN</td>\n",
       "      <td>NaN</td>\n",
       "      <td>NaN</td>\n",
       "      <td>NaN</td>\n",
       "      <td>NaN</td>\n",
       "      <td>NaN</td>\n",
       "      <td>NaN</td>\n",
       "      <td>NaN</td>\n",
       "      <td>NaN</td>\n",
       "      <td>NaN</td>\n",
       "    </tr>\n",
       "    <tr>\n",
       "      <th>2</th>\n",
       "      <td>2005-01-31</td>\n",
       "      <td>43.0</td>\n",
       "      <td>35.96</td>\n",
       "      <td>45.0</td>\n",
       "      <td>37.4</td>\n",
       "      <td>44.6</td>\n",
       "      <td>42.8</td>\n",
       "      <td>37.4</td>\n",
       "      <td>44.96</td>\n",
       "      <td>44.96</td>\n",
       "      <td>...</td>\n",
       "      <td>-99.0</td>\n",
       "      <td>-99.0</td>\n",
       "      <td>-99.0</td>\n",
       "      <td>-99.0</td>\n",
       "      <td>-99.0</td>\n",
       "      <td>-99.0</td>\n",
       "      <td>-99.0</td>\n",
       "      <td>-99.0</td>\n",
       "      <td>-99.0</td>\n",
       "      <td>-99.0</td>\n",
       "    </tr>\n",
       "    <tr>\n",
       "      <th>3</th>\n",
       "      <td>2005-02-01</td>\n",
       "      <td>43.0</td>\n",
       "      <td>37.04</td>\n",
       "      <td>45.0</td>\n",
       "      <td>39.2</td>\n",
       "      <td>44.96</td>\n",
       "      <td>46.4</td>\n",
       "      <td>37.4</td>\n",
       "      <td>42.98</td>\n",
       "      <td>44.96</td>\n",
       "      <td>...</td>\n",
       "      <td>-99.0</td>\n",
       "      <td>-99.0</td>\n",
       "      <td>-99.0</td>\n",
       "      <td>-99.0</td>\n",
       "      <td>-99.0</td>\n",
       "      <td>-99.0</td>\n",
       "      <td>-99.0</td>\n",
       "      <td>-99.0</td>\n",
       "      <td>-99.0</td>\n",
       "      <td>-99.0</td>\n",
       "    </tr>\n",
       "    <tr>\n",
       "      <th>4</th>\n",
       "      <td>2005-02-02</td>\n",
       "      <td>43.0</td>\n",
       "      <td>44.06</td>\n",
       "      <td>45.0</td>\n",
       "      <td>46.4</td>\n",
       "      <td>48.92</td>\n",
       "      <td>53.6</td>\n",
       "      <td>44.6</td>\n",
       "      <td>51.98</td>\n",
       "      <td>51.8</td>\n",
       "      <td>...</td>\n",
       "      <td>-99.0</td>\n",
       "      <td>-99.0</td>\n",
       "      <td>-99.0</td>\n",
       "      <td>-99.0</td>\n",
       "      <td>-99.0</td>\n",
       "      <td>-99.0</td>\n",
       "      <td>-99.0</td>\n",
       "      <td>-99.0</td>\n",
       "      <td>-99.0</td>\n",
       "      <td>-99.0</td>\n",
       "    </tr>\n",
       "  </tbody>\n",
       "</table>\n",
       "<p>5 rows × 1396 columns</p>\n",
       "</div>"
      ],
      "text/plain": [
       "   Unnamed: 0 max_temp_f max_temp_f.1 max_temp_f.2 max_temp_f.3 max_temp_f.4  \\\n",
       "0     station        1F0          AAO          ADM          AFK          AIA   \n",
       "1         day        NaN          NaN          NaN          NaN          NaN   \n",
       "2  2005-01-31       43.0        35.96         45.0         37.4         44.6   \n",
       "3  2005-02-01       43.0        37.04         45.0         39.2        44.96   \n",
       "4  2005-02-02       43.0        44.06         45.0         46.4        48.92   \n",
       "\n",
       "  max_temp_f.5 max_temp_f.6 max_temp_f.7 max_temp_f.8     ...     snowd_in.83  \\\n",
       "0          ANW          AUH          BBW          BFF     ...             SWO   \n",
       "1          NaN          NaN          NaN          NaN     ...             NaN   \n",
       "2         42.8         37.4        44.96        44.96     ...           -99.0   \n",
       "3         46.4         37.4        42.98        44.96     ...           -99.0   \n",
       "4         53.6         44.6        51.98         51.8     ...           -99.0   \n",
       "\n",
       "  snowd_in.84 snowd_in.85 snowd_in.86 snowd_in.87 snowd_in.88 snowd_in.89  \\\n",
       "0         TIF         TOP         TQE         TQH         TUL         VTN   \n",
       "1         NaN         NaN         NaN         NaN         NaN         NaN   \n",
       "2       -99.0       -99.0       -99.0       -99.0       -99.0       -99.0   \n",
       "3       -99.0       -99.0       -99.0       -99.0       -99.0       -99.0   \n",
       "4       -99.0       -99.0       -99.0       -99.0       -99.0       -99.0   \n",
       "\n",
       "  snowd_in.90 snowd_in.91 snowd_in.92  \n",
       "0         WDG         WLD         WWR  \n",
       "1         NaN         NaN         NaN  \n",
       "2       -99.0       -99.0       -99.0  \n",
       "3       -99.0       -99.0       -99.0  \n",
       "4       -99.0       -99.0       -99.0  \n",
       "\n",
       "[5 rows x 1396 columns]"
      ]
     },
     "execution_count": 88,
     "metadata": {},
     "output_type": "execute_result"
    }
   ],
   "source": [
    "dfW = pd.read_csv(\"./Data/pivoted_daily.csv\", )\n",
    "dfW.head()"
   ]
  },
  {
   "cell_type": "code",
   "execution_count": null,
   "metadata": {
    "collapsed": true
   },
   "outputs": [],
   "source": []
  }
 ],
 "metadata": {
  "kernelspec": {
   "display_name": "Python 3",
   "language": "python",
   "name": "python3"
  },
  "language_info": {
   "codemirror_mode": {
    "name": "ipython",
    "version": 3
   },
   "file_extension": ".py",
   "mimetype": "text/x-python",
   "name": "python",
   "nbconvert_exporter": "python",
   "pygments_lexer": "ipython3",
   "version": "3.6.3"
  }
 },
 "nbformat": 4,
 "nbformat_minor": 2
}
