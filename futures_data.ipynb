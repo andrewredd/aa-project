{
 "cells": [
  {
   "cell_type": "code",
   "execution_count": 5,
   "metadata": {},
   "outputs": [
    {
     "name": "stderr",
     "output_type": "stream",
     "text": [
      "C:\\ProgramData\\Anaconda3\\lib\\site-packages\\h5py\\__init__.py:36: FutureWarning: Conversion of the second argument of issubdtype from `float` to `np.floating` is deprecated. In future, it will be treated as `np.float64 == np.dtype(float).type`.\n",
      "  from ._conv import register_converters as _register_converters\n",
      "Using TensorFlow backend.\n"
     ]
    }
   ],
   "source": [
    "import pandas as pd\n",
    "import numpy as np\n",
    "import quandl\n",
    "import matplotlib\n",
    "import matplotlib.pyplot as plt\n",
    "import pandas as pd\n",
    "from pandas import datetime\n",
    "from math import sqrt\n",
    "import time\n",
    "import itertools\n",
    "from sklearn.preprocessing import MinMaxScaler\n",
    "import datetime\n",
    "from operator import itemgetter\n",
    "from sklearn.metrics import mean_squared_error\n",
    "from math import sqrt\n",
    "from keras.models import Sequential\n",
    "from keras.layers.core import Dense, Dropout, Activation, Reshape\n",
    "from keras.layers.recurrent import LSTM, RNN, GRU, SimpleRNN\n",
    "from keras.models import load_model\n",
    "import keras\n",
    "import h5py\n",
    "import requests\n",
    "import os\n",
    "\n",
    "%matplotlib inline\n",
    "\n",
    "import warnings\n",
    "warnings.filterwarnings(\"ignore\")\n",
    "\n",
    "quandl.ApiConfig.api_key = \"zFtyXTJz6DTqqdvEy2gi\""
   ]
  },
  {
   "cell_type": "code",
   "execution_count": 6,
   "metadata": {
    "collapsed": true
   },
   "outputs": [],
   "source": [
    "#Stock Data (DBA and WEAT not available from here)\n",
    "#data = quandl.get_table('WIKI/PRICES', qopts = { 'columns': ['ticker', 'date', 'close'] }, ticker = ['DBA'], date = { 'gte': '2012-01-01', 'lte': '2018-04-13' })"
   ]
  },
  {
   "cell_type": "markdown",
   "metadata": {},
   "source": [
    "### Futures: Continuous contracts (W# - contract # ahead)"
   ]
  },
  {
   "cell_type": "code",
   "execution_count": 7,
   "metadata": {
    "collapsed": true
   },
   "outputs": [],
   "source": [
    "#continuous futures W1 is front month\n",
    "#W1 may18 prices start 3/15/18..futures trade until biz day before 15th of settle month\n",
    "#data = quandl.get('CHRIS/CME_KW1')\n",
    "#data.to_csv('CME_KW1.csv')"
   ]
  },
  {
   "cell_type": "code",
   "execution_count": 8,
   "metadata": {
    "collapsed": true
   },
   "outputs": [],
   "source": [
    "#data.head()"
   ]
  },
  {
   "cell_type": "markdown",
   "metadata": {},
   "source": [
    "### Futures: Individual contracts (all data)"
   ]
  },
  {
   "cell_type": "code",
   "execution_count": 9,
   "metadata": {
    "collapsed": true
   },
   "outputs": [],
   "source": [
    "#individual contract (July 2018)\n",
    "#data = quandl.get('CME/WN2018')\n",
    "#data = quandl.get('CME/WK2018')  #may2018'\n",
    "#data = quandl.get('CME/WH2018')  #mar2018\n"
   ]
  },
  {
   "cell_type": "code",
   "execution_count": 10,
   "metadata": {
    "collapsed": true
   },
   "outputs": [],
   "source": [
    "#data.iloc[635:,[3]]"
   ]
  },
  {
   "cell_type": "markdown",
   "metadata": {
    "collapsed": true
   },
   "source": [
    "### Combining the Financial data sets by Date"
   ]
  },
  {
   "cell_type": "code",
   "execution_count": 11,
   "metadata": {
    "collapsed": true
   },
   "outputs": [],
   "source": [
    "# dat = pd.read_csv(\"Data/CME_W4.csv\")\n",
    "# dat = dat.rename(index=str, columns={'Volume': 'Vol', 'Previous Day Open Interest': 'OpIntPvD'})\n",
    "# print(dat.head())\n",
    "# print(len(dat))\n",
    "# dat.dtypes\n",
    "\n",
    "# i = 1\n",
    "# cols = ['Date', 'Open', 'High', 'Low', 'Last', 'Vol', 'OpInt']\n",
    "# dat = dat[cols]\n",
    "# cols2 = ['W'+str(i) + \"_\" + x for x in cols[1:]]\n",
    "# cols2.insert(0,'Date')\n",
    "# dat.columns = cols2\n",
    "# dat.head()"
   ]
  },
  {
   "cell_type": "markdown",
   "metadata": {},
   "source": [
    "# Import, Merge, Clean Data\n",
    "\n",
    "### Combine all the Futures Contract Data (5 futures files (W1-W5) and 4 stocks )"
   ]
  },
  {
   "cell_type": "code",
   "execution_count": 12,
   "metadata": {
    "collapsed": true,
    "scrolled": false
   },
   "outputs": [],
   "source": [
    "def fixDate(inDate):\n",
    "    lst = inDate.split('/')\n",
    "    if lst[2] < '20':\n",
    "        lst[2] = '20'+lst[2]\n",
    "    else:\n",
    "        lst[2] = '19'+lst[2]\n",
    "    return '/'.join(lst)\n",
    "    \n",
    "import glob\n",
    "\n",
    "cols = ['Date', 'Open', 'High', 'Low', 'Last', 'Vol', 'OpInt']\n",
    "\n",
    "#get futures data files, sort by 13th char (digit)\n",
    "filenamesFUT = glob.glob('./Data/CME_KW*.csv')\n",
    "filenamesFUT = sorted(filenamesFUT, key=lambda x: x[12])\n",
    "\n",
    "#for each file, subset/clean columns, join to W1 by date\n",
    "for file in filenamesFUT:\n",
    "    lst = file.split('W')\n",
    "    cNum = int(lst[1][:1])\n",
    "    df = pd.read_csv(file)\n",
    "    \n",
    "    #W1-3 have date without century, add full year\n",
    "    #if cNum <= 3:\n",
    "    #df['Date'] = df['Date'].apply(fixDate)\n",
    "    df['Date'] = pd.to_datetime(df['Date'])\n",
    "    \n",
    "    df = df.rename(index=str, columns={'Volume': 'Vol', 'Previous Day Open Interest': 'OpInt'})\n",
    "    df = df[cols]\n",
    "    colsTxt = ['KW'+str(cNum) + \"_\" + x for x in cols[1:]]\n",
    "    colsTxt.insert(0, 'Date')\n",
    "    df.columns = colsTxt\n",
    "\n",
    "    if cNum == 1:\n",
    "        dat = df\n",
    "    else:\n",
    "        dat = dat.merge(df, how='left', on='Date')"
   ]
  },
  {
   "cell_type": "markdown",
   "metadata": {},
   "source": [
    "### Add Equity data"
   ]
  },
  {
   "cell_type": "code",
   "execution_count": 13,
   "metadata": {},
   "outputs": [
    {
     "ename": "IndexError",
     "evalue": "list index out of range",
     "output_type": "error",
     "traceback": [
      "\u001b[1;31m---------------------------------------------------------------------------\u001b[0m",
      "\u001b[1;31mIndexError\u001b[0m                                Traceback (most recent call last)",
      "\u001b[1;32m<ipython-input-13-c26d286c0987>\u001b[0m in \u001b[0;36m<module>\u001b[1;34m()\u001b[0m\n\u001b[0;32m     10\u001b[0m \u001b[1;33m\u001b[0m\u001b[0m\n\u001b[0;32m     11\u001b[0m         \u001b[1;31m#extract ticker\u001b[0m\u001b[1;33m\u001b[0m\u001b[1;33m\u001b[0m\u001b[0m\n\u001b[1;32m---> 12\u001b[1;33m         \u001b[0mticker\u001b[0m \u001b[1;33m=\u001b[0m \u001b[0mfile\u001b[0m\u001b[1;33m.\u001b[0m\u001b[0msplit\u001b[0m\u001b[1;33m(\u001b[0m\u001b[1;34m'/'\u001b[0m\u001b[1;33m)\u001b[0m\u001b[1;33m[\u001b[0m\u001b[1;36m2\u001b[0m\u001b[1;33m]\u001b[0m\u001b[1;33m.\u001b[0m\u001b[0msplit\u001b[0m\u001b[1;33m(\u001b[0m\u001b[1;34m'.'\u001b[0m\u001b[1;33m)\u001b[0m\u001b[1;33m[\u001b[0m\u001b[1;36m0\u001b[0m\u001b[1;33m]\u001b[0m\u001b[1;33m\u001b[0m\u001b[0m\n\u001b[0m\u001b[0;32m     13\u001b[0m \u001b[1;33m\u001b[0m\u001b[0m\n\u001b[0;32m     14\u001b[0m         \u001b[0mdf\u001b[0m\u001b[1;33m.\u001b[0m\u001b[0mcolumns\u001b[0m \u001b[1;33m=\u001b[0m \u001b[1;33m[\u001b[0m\u001b[1;34m'Date'\u001b[0m\u001b[1;33m,\u001b[0m \u001b[0mticker\u001b[0m\u001b[1;33m]\u001b[0m\u001b[1;33m\u001b[0m\u001b[0m\n",
      "\u001b[1;31mIndexError\u001b[0m: list index out of range"
     ]
    }
   ],
   "source": [
    "filenames = glob.glob('./Data/*.csv')\n",
    "filenamesEQ = [x for x in filenames if x not in filenamesFUT]\n",
    "\n",
    "colsEQ = ['Date','Close']\n",
    "\n",
    "for file in filenamesEQ:\n",
    "    if 'financialALL' not in file and 'imputed' not in file:\n",
    "        df = pd.read_csv(file, parse_dates=[0])\n",
    "        df = df[colsEQ]\n",
    "    \n",
    "        #extract ticker\n",
    "        ticker = file.split('/')[2].split('.')[0]\n",
    "\n",
    "        df.columns = ['Date', ticker]\n",
    "        \n",
    "        #merge with futures data\n",
    "        dat = dat.merge(df, how='left', on='Date')"
   ]
  },
  {
   "cell_type": "code",
   "execution_count": 327,
   "metadata": {},
   "outputs": [
    {
     "data": {
      "text/plain": [
       "Index(['Date', 'KW1_Open', 'KW1_High', 'KW1_Low', 'KW1_Last', 'KW1_Vol',\n",
       "       'KW1_OpInt', 'KW3_Open', 'KW3_High', 'KW3_Low', 'KW3_Last', 'KW3_Vol',\n",
       "       'KW3_OpInt', 'ADM', 'BG', 'WEAT', 'DBA'],\n",
       "      dtype='object')"
      ]
     },
     "execution_count": 327,
     "metadata": {},
     "output_type": "execute_result"
    }
   ],
   "source": [
    "dat.columns"
   ]
  },
  {
   "cell_type": "code",
   "execution_count": 328,
   "metadata": {},
   "outputs": [
    {
     "data": {
      "text/html": [
       "<div>\n",
       "<style scoped>\n",
       "    .dataframe tbody tr th:only-of-type {\n",
       "        vertical-align: middle;\n",
       "    }\n",
       "\n",
       "    .dataframe tbody tr th {\n",
       "        vertical-align: top;\n",
       "    }\n",
       "\n",
       "    .dataframe thead th {\n",
       "        text-align: right;\n",
       "    }\n",
       "</style>\n",
       "<table border=\"1\" class=\"dataframe\">\n",
       "  <thead>\n",
       "    <tr style=\"text-align: right;\">\n",
       "      <th></th>\n",
       "      <th>Date</th>\n",
       "      <th>FUT_Open</th>\n",
       "      <th>FUT_High</th>\n",
       "      <th>FUT_Low</th>\n",
       "      <th>FUT_Close</th>\n",
       "      <th>FUT_Vol</th>\n",
       "      <th>FUT_OpInt</th>\n",
       "      <th>ADM</th>\n",
       "      <th>BG</th>\n",
       "      <th>WEAT</th>\n",
       "      <th>DBA</th>\n",
       "    </tr>\n",
       "  </thead>\n",
       "  <tbody>\n",
       "    <tr>\n",
       "      <th>0</th>\n",
       "      <td>1976-04-09</td>\n",
       "      <td>389.5</td>\n",
       "      <td>389.50</td>\n",
       "      <td>387.00</td>\n",
       "      <td>388.00</td>\n",
       "      <td>95</td>\n",
       "      <td>480</td>\n",
       "      <td>NaN</td>\n",
       "      <td>NaN</td>\n",
       "      <td>NaN</td>\n",
       "      <td>NaN</td>\n",
       "    </tr>\n",
       "    <tr>\n",
       "      <th>1</th>\n",
       "      <td>1976-04-12</td>\n",
       "      <td>384.0</td>\n",
       "      <td>385.00</td>\n",
       "      <td>383.00</td>\n",
       "      <td>383.50</td>\n",
       "      <td>115</td>\n",
       "      <td>580</td>\n",
       "      <td>NaN</td>\n",
       "      <td>NaN</td>\n",
       "      <td>NaN</td>\n",
       "      <td>NaN</td>\n",
       "    </tr>\n",
       "    <tr>\n",
       "      <th>2</th>\n",
       "      <td>1976-04-13</td>\n",
       "      <td>383.0</td>\n",
       "      <td>383.00</td>\n",
       "      <td>381.00</td>\n",
       "      <td>381.00</td>\n",
       "      <td>5</td>\n",
       "      <td>585</td>\n",
       "      <td>NaN</td>\n",
       "      <td>NaN</td>\n",
       "      <td>NaN</td>\n",
       "      <td>NaN</td>\n",
       "    </tr>\n",
       "    <tr>\n",
       "      <th>3</th>\n",
       "      <td>1976-04-14</td>\n",
       "      <td>384.0</td>\n",
       "      <td>384.25</td>\n",
       "      <td>381.75</td>\n",
       "      <td>381.75</td>\n",
       "      <td>55</td>\n",
       "      <td>635</td>\n",
       "      <td>NaN</td>\n",
       "      <td>NaN</td>\n",
       "      <td>NaN</td>\n",
       "      <td>NaN</td>\n",
       "    </tr>\n",
       "    <tr>\n",
       "      <th>4</th>\n",
       "      <td>1976-04-15</td>\n",
       "      <td>381.5</td>\n",
       "      <td>394.50</td>\n",
       "      <td>381.50</td>\n",
       "      <td>390.00</td>\n",
       "      <td>230</td>\n",
       "      <td>645</td>\n",
       "      <td>NaN</td>\n",
       "      <td>NaN</td>\n",
       "      <td>NaN</td>\n",
       "      <td>NaN</td>\n",
       "    </tr>\n",
       "  </tbody>\n",
       "</table>\n",
       "</div>"
      ],
      "text/plain": [
       "        Date  FUT_Open  FUT_High  FUT_Low  FUT_Close  FUT_Vol  FUT_OpInt  ADM  \\\n",
       "0 1976-04-09     389.5    389.50   387.00     388.00       95        480  NaN   \n",
       "1 1976-04-12     384.0    385.00   383.00     383.50      115        580  NaN   \n",
       "2 1976-04-13     383.0    383.00   381.00     381.00        5        585  NaN   \n",
       "3 1976-04-14     384.0    384.25   381.75     381.75       55        635  NaN   \n",
       "4 1976-04-15     381.5    394.50   381.50     390.00      230        645  NaN   \n",
       "\n",
       "   BG  WEAT  DBA  \n",
       "0 NaN   NaN  NaN  \n",
       "1 NaN   NaN  NaN  \n",
       "2 NaN   NaN  NaN  \n",
       "3 NaN   NaN  NaN  \n",
       "4 NaN   NaN  NaN  "
      ]
     },
     "execution_count": 328,
     "metadata": {},
     "output_type": "execute_result"
    }
   ],
   "source": [
    "#keep only the W3 futures contract (3 months ahead rolling contract)\n",
    "dat = dat[['Date', 'KW3_Open', 'KW3_High', 'KW3_Low', 'KW3_Last', 'KW3_Vol', 'KW3_OpInt', 'ADM',\n",
    "     'BG', 'WEAT', 'DBA']]\n",
    "\n",
    "#change col names\n",
    "dat.columns = ['Date', 'FUT_Open', 'FUT_High', 'FUT_Low', 'FUT_Close', 'FUT_Vol', 'FUT_OpInt', 'ADM',\n",
    "     'BG', 'WEAT', 'DBA']\n",
    "\n",
    "dat.head()"
   ]
  },
  {
   "cell_type": "code",
   "execution_count": 329,
   "metadata": {
    "collapsed": true
   },
   "outputs": [],
   "source": [
    "# make Date the index\n",
    "dat = dat.set_index('Date')\n",
    "\n",
    "#save to csv\n",
    "dat.to_csv(\"./Data/financialALL.csv\")"
   ]
  },
  {
   "cell_type": "markdown",
   "metadata": {},
   "source": [
    "### Split data into 3 datasets (futures, stocks, weather)"
   ]
  },
  {
   "cell_type": "code",
   "execution_count": 47,
   "metadata": {},
   "outputs": [],
   "source": [
    "dat = pd.read_csv(\"Data/financialALL.csv\", index_col=0)"
   ]
  },
  {
   "cell_type": "code",
   "execution_count": 49,
   "metadata": {},
   "outputs": [
    {
     "data": {
      "text/plain": [
       "Index(['FUT_Open', 'FUT_High', 'FUT_Low', 'FUT_Close', 'FUT_Vol', 'FUT_OpInt',\n",
       "       'ADM', 'BG', 'WEAT', 'DBA'],\n",
       "      dtype='object')"
      ]
     },
     "execution_count": 49,
     "metadata": {},
     "output_type": "execute_result"
    }
   ],
   "source": [
    "dat.columns"
   ]
  },
  {
   "cell_type": "code",
   "execution_count": 50,
   "metadata": {
    "collapsed": true
   },
   "outputs": [],
   "source": [
    "futures = dat[['FUT_Open','FUT_High','FUT_Low','FUT_Close','FUT_Vol','FUT_OpInt']]\n",
    "stocks = dat[['ADM','BG','WEAT','DBA']]\n",
    "stocks.dropna(inplace=True)"
   ]
  },
  {
   "cell_type": "code",
   "execution_count": 51,
   "metadata": {},
   "outputs": [
    {
     "data": {
      "text/html": [
       "<div>\n",
       "<style scoped>\n",
       "    .dataframe tbody tr th:only-of-type {\n",
       "        vertical-align: middle;\n",
       "    }\n",
       "\n",
       "    .dataframe tbody tr th {\n",
       "        vertical-align: top;\n",
       "    }\n",
       "\n",
       "    .dataframe thead th {\n",
       "        text-align: right;\n",
       "    }\n",
       "</style>\n",
       "<table border=\"1\" class=\"dataframe\">\n",
       "  <thead>\n",
       "    <tr style=\"text-align: right;\">\n",
       "      <th></th>\n",
       "      <th>1F0_avg_rh</th>\n",
       "      <th>1F0_avg_wind_drct</th>\n",
       "      <th>1F0_avg_wind_speed_kts</th>\n",
       "      <th>1F0_climo_high_f</th>\n",
       "      <th>1F0_climo_low_f</th>\n",
       "      <th>1F0_climo_precip_in</th>\n",
       "      <th>1F0_max_dewpoint_f</th>\n",
       "      <th>1F0_max_rh</th>\n",
       "      <th>1F0_max_temp_f</th>\n",
       "      <th>1F0_min_dewpoint_f</th>\n",
       "      <th>...</th>\n",
       "      <th>WWR_climo_precip_in</th>\n",
       "      <th>WWR_max_dewpoint_f</th>\n",
       "      <th>WWR_max_rh</th>\n",
       "      <th>WWR_max_temp_f</th>\n",
       "      <th>WWR_min_dewpoint_f</th>\n",
       "      <th>WWR_min_rh</th>\n",
       "      <th>WWR_min_temp_f</th>\n",
       "      <th>WWR_precip_in</th>\n",
       "      <th>WWR_snow_in</th>\n",
       "      <th>WWR_snowd_in</th>\n",
       "    </tr>\n",
       "    <tr>\n",
       "      <th>Date</th>\n",
       "      <th></th>\n",
       "      <th></th>\n",
       "      <th></th>\n",
       "      <th></th>\n",
       "      <th></th>\n",
       "      <th></th>\n",
       "      <th></th>\n",
       "      <th></th>\n",
       "      <th></th>\n",
       "      <th></th>\n",
       "      <th></th>\n",
       "      <th></th>\n",
       "      <th></th>\n",
       "      <th></th>\n",
       "      <th></th>\n",
       "      <th></th>\n",
       "      <th></th>\n",
       "      <th></th>\n",
       "      <th></th>\n",
       "      <th></th>\n",
       "      <th></th>\n",
       "    </tr>\n",
       "  </thead>\n",
       "  <tbody>\n",
       "    <tr>\n",
       "      <th>2005-01-31</th>\n",
       "      <td>88.6985</td>\n",
       "      <td>4.95102</td>\n",
       "      <td>3.557650</td>\n",
       "      <td>54.7</td>\n",
       "      <td>32.5</td>\n",
       "      <td>0.06</td>\n",
       "      <td>37.0</td>\n",
       "      <td>100.0</td>\n",
       "      <td>43.0</td>\n",
       "      <td>37.0</td>\n",
       "      <td>...</td>\n",
       "      <td>0.03</td>\n",
       "      <td>34.0</td>\n",
       "      <td>100.0000</td>\n",
       "      <td>37.0</td>\n",
       "      <td>30.0</td>\n",
       "      <td>86.6944</td>\n",
       "      <td>30.0</td>\n",
       "      <td>0.08</td>\n",
       "      <td>1.361442</td>\n",
       "      <td>1.713048</td>\n",
       "    </tr>\n",
       "    <tr>\n",
       "      <th>2005-02-01</th>\n",
       "      <td>85.1454</td>\n",
       "      <td>30.55420</td>\n",
       "      <td>5.152340</td>\n",
       "      <td>54.9</td>\n",
       "      <td>32.6</td>\n",
       "      <td>0.07</td>\n",
       "      <td>39.0</td>\n",
       "      <td>100.0</td>\n",
       "      <td>43.0</td>\n",
       "      <td>37.0</td>\n",
       "      <td>...</td>\n",
       "      <td>0.03</td>\n",
       "      <td>34.0</td>\n",
       "      <td>100.0000</td>\n",
       "      <td>36.0</td>\n",
       "      <td>34.0</td>\n",
       "      <td>80.5077</td>\n",
       "      <td>34.0</td>\n",
       "      <td>0.00</td>\n",
       "      <td>1.068212</td>\n",
       "      <td>2.398019</td>\n",
       "    </tr>\n",
       "    <tr>\n",
       "      <th>2005-02-02</th>\n",
       "      <td>86.7985</td>\n",
       "      <td>355.15000</td>\n",
       "      <td>3.563940</td>\n",
       "      <td>55.0</td>\n",
       "      <td>32.8</td>\n",
       "      <td>0.08</td>\n",
       "      <td>37.0</td>\n",
       "      <td>100.0</td>\n",
       "      <td>43.0</td>\n",
       "      <td>34.0</td>\n",
       "      <td>...</td>\n",
       "      <td>0.02</td>\n",
       "      <td>34.0</td>\n",
       "      <td>100.0000</td>\n",
       "      <td>46.0</td>\n",
       "      <td>30.0</td>\n",
       "      <td>60.7869</td>\n",
       "      <td>30.0</td>\n",
       "      <td>0.00</td>\n",
       "      <td>0.247806</td>\n",
       "      <td>0.096416</td>\n",
       "    </tr>\n",
       "    <tr>\n",
       "      <th>2005-02-03</th>\n",
       "      <td>73.9092</td>\n",
       "      <td>351.57600</td>\n",
       "      <td>1.132680</td>\n",
       "      <td>55.2</td>\n",
       "      <td>33.0</td>\n",
       "      <td>0.06</td>\n",
       "      <td>36.0</td>\n",
       "      <td>100.0</td>\n",
       "      <td>55.0</td>\n",
       "      <td>28.0</td>\n",
       "      <td>...</td>\n",
       "      <td>0.03</td>\n",
       "      <td>37.0</td>\n",
       "      <td>92.9165</td>\n",
       "      <td>61.0</td>\n",
       "      <td>30.0</td>\n",
       "      <td>28.7724</td>\n",
       "      <td>30.0</td>\n",
       "      <td>0.00</td>\n",
       "      <td>-0.790440</td>\n",
       "      <td>-1.163829</td>\n",
       "    </tr>\n",
       "    <tr>\n",
       "      <th>2005-02-04</th>\n",
       "      <td>69.7364</td>\n",
       "      <td>211.26100</td>\n",
       "      <td>0.581704</td>\n",
       "      <td>55.4</td>\n",
       "      <td>33.2</td>\n",
       "      <td>0.07</td>\n",
       "      <td>37.0</td>\n",
       "      <td>100.0</td>\n",
       "      <td>59.0</td>\n",
       "      <td>28.0</td>\n",
       "      <td>...</td>\n",
       "      <td>0.03</td>\n",
       "      <td>34.0</td>\n",
       "      <td>93.0280</td>\n",
       "      <td>63.0</td>\n",
       "      <td>34.0</td>\n",
       "      <td>25.3208</td>\n",
       "      <td>34.0</td>\n",
       "      <td>0.00</td>\n",
       "      <td>-0.350570</td>\n",
       "      <td>-0.533856</td>\n",
       "    </tr>\n",
       "  </tbody>\n",
       "</table>\n",
       "<p>5 rows × 1395 columns</p>\n",
       "</div>"
      ],
      "text/plain": [
       "            1F0_avg_rh  1F0_avg_wind_drct  1F0_avg_wind_speed_kts  \\\n",
       "Date                                                                \n",
       "2005-01-31     88.6985            4.95102                3.557650   \n",
       "2005-02-01     85.1454           30.55420                5.152340   \n",
       "2005-02-02     86.7985          355.15000                3.563940   \n",
       "2005-02-03     73.9092          351.57600                1.132680   \n",
       "2005-02-04     69.7364          211.26100                0.581704   \n",
       "\n",
       "            1F0_climo_high_f  1F0_climo_low_f  1F0_climo_precip_in  \\\n",
       "Date                                                                 \n",
       "2005-01-31              54.7             32.5                 0.06   \n",
       "2005-02-01              54.9             32.6                 0.07   \n",
       "2005-02-02              55.0             32.8                 0.08   \n",
       "2005-02-03              55.2             33.0                 0.06   \n",
       "2005-02-04              55.4             33.2                 0.07   \n",
       "\n",
       "            1F0_max_dewpoint_f  1F0_max_rh  1F0_max_temp_f  \\\n",
       "Date                                                         \n",
       "2005-01-31                37.0       100.0            43.0   \n",
       "2005-02-01                39.0       100.0            43.0   \n",
       "2005-02-02                37.0       100.0            43.0   \n",
       "2005-02-03                36.0       100.0            55.0   \n",
       "2005-02-04                37.0       100.0            59.0   \n",
       "\n",
       "            1F0_min_dewpoint_f      ...       WWR_climo_precip_in  \\\n",
       "Date                                ...                             \n",
       "2005-01-31                37.0      ...                      0.03   \n",
       "2005-02-01                37.0      ...                      0.03   \n",
       "2005-02-02                34.0      ...                      0.02   \n",
       "2005-02-03                28.0      ...                      0.03   \n",
       "2005-02-04                28.0      ...                      0.03   \n",
       "\n",
       "            WWR_max_dewpoint_f  WWR_max_rh  WWR_max_temp_f  \\\n",
       "Date                                                         \n",
       "2005-01-31                34.0    100.0000            37.0   \n",
       "2005-02-01                34.0    100.0000            36.0   \n",
       "2005-02-02                34.0    100.0000            46.0   \n",
       "2005-02-03                37.0     92.9165            61.0   \n",
       "2005-02-04                34.0     93.0280            63.0   \n",
       "\n",
       "            WWR_min_dewpoint_f  WWR_min_rh  WWR_min_temp_f  WWR_precip_in  \\\n",
       "Date                                                                        \n",
       "2005-01-31                30.0     86.6944            30.0           0.08   \n",
       "2005-02-01                34.0     80.5077            34.0           0.00   \n",
       "2005-02-02                30.0     60.7869            30.0           0.00   \n",
       "2005-02-03                30.0     28.7724            30.0           0.00   \n",
       "2005-02-04                34.0     25.3208            34.0           0.00   \n",
       "\n",
       "            WWR_snow_in  WWR_snowd_in  \n",
       "Date                                   \n",
       "2005-01-31     1.361442      1.713048  \n",
       "2005-02-01     1.068212      2.398019  \n",
       "2005-02-02     0.247806      0.096416  \n",
       "2005-02-03    -0.790440     -1.163829  \n",
       "2005-02-04    -0.350570     -0.533856  \n",
       "\n",
       "[5 rows x 1395 columns]"
      ]
     },
     "execution_count": 51,
     "metadata": {},
     "output_type": "execute_result"
    }
   ],
   "source": [
    "weather = pd.read_csv(\"./Data/final_weather_imputed.csv\", header=0)\n",
    "weather['Date'] = pd.to_datetime(weather['day'])\n",
    "weather.drop(columns=['day'], inplace=True)\n",
    "weather.set_index('Date', inplace=True)\n",
    "weather.head()"
   ]
  },
  {
   "cell_type": "markdown",
   "metadata": {},
   "source": [
    "# Feature Engineering\n",
    "\n",
    "### OHLC Average\n",
    "\n",
    "Many traders believe in technical analysis, forecasting prices by analyzing statistics based on trading activity. One particular metric watched is the OHLC average which is the average of the Open, High, Low, and Closing prices of a security. "
   ]
  },
  {
   "cell_type": "code",
   "execution_count": 52,
   "metadata": {
    "collapsed": true
   },
   "outputs": [],
   "source": [
    "#add OHLC for each of the futures contracts row\n",
    "futures['FUT_OHLC'] = np.sum(futures[['FUT_Open', 'FUT_High', 'FUT_Low', 'FUT_Close']],axis=1) / 4"
   ]
  },
  {
   "cell_type": "markdown",
   "metadata": {
    "collapsed": true
   },
   "source": [
    "### Moving Averages"
   ]
  },
  {
   "cell_type": "code",
   "execution_count": 53,
   "metadata": {
    "collapsed": true
   },
   "outputs": [],
   "source": [
    "MoveAvg = [50,100,200]\n",
    "for ma in MoveAvg:\n",
    "    #add MA columns by taking the mean over specificed window size\n",
    "    futures['FUT_{}MA'.format(ma)] = futures['FUT_Close'].rolling(window=ma).mean()"
   ]
  },
  {
   "cell_type": "markdown",
   "metadata": {},
   "source": [
    "### Percent Change"
   ]
  },
  {
   "cell_type": "code",
   "execution_count": 54,
   "metadata": {
    "collapsed": true
   },
   "outputs": [],
   "source": [
    "futures['FUT_%Chg'] = futures['FUT_Close'].pct_change()"
   ]
  },
  {
   "cell_type": "markdown",
   "metadata": {},
   "source": [
    "### Closing price one month ahead (will be the label)"
   ]
  },
  {
   "cell_type": "code",
   "execution_count": 55,
   "metadata": {
    "collapsed": true
   },
   "outputs": [],
   "source": [
    "windowSize = 44  #number of days in a month to window data\n",
    "lookAhead = 22\n",
    "futures['FUT_CloseAhead'] = futures['FUT_Close'].shift(-lookAhead)  #**** update col selection below as well\n",
    "futures.dropna(inplace=True)\n",
    "\n",
    "#moving FUT_Close to 2nd to last col\n",
    "#futures = futures[['FUT_Open', 'FUT_High', 'FUT_Low', 'FUT_Vol', 'FUT_OpInt',\n",
    "#       'FUT_OHLC', 'FUT_50MA', 'FUT_100MA', 'FUT_200MA', 'FUT_%Chg', 'FUT_Close']]\n",
    "\n",
    "#uncomment and comment above if adding CloseAhead\n",
    "futures = futures[['FUT_Open', 'FUT_High', 'FUT_Low', 'FUT_Vol', 'FUT_OpInt',\n",
    "        'FUT_OHLC', 'FUT_50MA', 'FUT_100MA', 'FUT_200MA', 'FUT_%Chg', 'FUT_Close','FUT_CloseAhead']]"
   ]
  },
  {
   "cell_type": "markdown",
   "metadata": {},
   "source": [
    "### Normalize the data  (call function for whichever cols we want to normalize)\n",
    "\n",
    "3 datasets after this section are:\n",
    "<ul>\n",
    "<li>fut_norm\n",
    "<li>weather_norm\n",
    "<li>stk_norm\n",
    "</ul>"
   ]
  },
  {
   "cell_type": "code",
   "execution_count": 56,
   "metadata": {
    "collapsed": true
   },
   "outputs": [],
   "source": [
    "def normalizeData(data):\n",
    "    minMax = MinMaxScaler()\n",
    "    normData = minMax.fit_transform(data.values.reshape(-1,1)).ravel()\n",
    "    return normData"
   ]
  },
  {
   "cell_type": "code",
   "execution_count": 57,
   "metadata": {
    "collapsed": true
   },
   "outputs": [],
   "source": [
    "#normalize futures data (except the close)\n",
    "fut_norm = futures.iloc[:,:-1].apply(normalizeData, axis=0)\n",
    "\n",
    "#do close separately so can use model later to denorm\n",
    "close_normalizer = MinMaxScaler()\n",
    "#fut_norm['FUT_Close'] = close_normalizer.fit_transform(futures.iloc[:,-1].values.reshape(-1,1)).ravel()\n",
    "fut_norm['FUT_CloseAhead'] = close_normalizer.fit_transform(futures.iloc[:,-1].values.reshape(-1,1)).ravel()"
   ]
  },
  {
   "cell_type": "code",
   "execution_count": 58,
   "metadata": {},
   "outputs": [
    {
     "data": {
      "text/html": [
       "<div>\n",
       "<style scoped>\n",
       "    .dataframe tbody tr th:only-of-type {\n",
       "        vertical-align: middle;\n",
       "    }\n",
       "\n",
       "    .dataframe tbody tr th {\n",
       "        vertical-align: top;\n",
       "    }\n",
       "\n",
       "    .dataframe thead th {\n",
       "        text-align: right;\n",
       "    }\n",
       "</style>\n",
       "<table border=\"1\" class=\"dataframe\">\n",
       "  <thead>\n",
       "    <tr style=\"text-align: right;\">\n",
       "      <th></th>\n",
       "      <th>1F0_avg_rh</th>\n",
       "      <th>1F0_avg_wind_drct</th>\n",
       "      <th>1F0_avg_wind_speed_kts</th>\n",
       "      <th>1F0_climo_high_f</th>\n",
       "      <th>1F0_climo_low_f</th>\n",
       "      <th>1F0_climo_precip_in</th>\n",
       "      <th>1F0_max_dewpoint_f</th>\n",
       "      <th>1F0_max_rh</th>\n",
       "      <th>1F0_max_temp_f</th>\n",
       "      <th>1F0_min_dewpoint_f</th>\n",
       "      <th>...</th>\n",
       "      <th>WWR_climo_precip_in</th>\n",
       "      <th>WWR_max_dewpoint_f</th>\n",
       "      <th>WWR_max_rh</th>\n",
       "      <th>WWR_max_temp_f</th>\n",
       "      <th>WWR_min_dewpoint_f</th>\n",
       "      <th>WWR_min_rh</th>\n",
       "      <th>WWR_min_temp_f</th>\n",
       "      <th>WWR_precip_in</th>\n",
       "      <th>WWR_snow_in</th>\n",
       "      <th>WWR_snowd_in</th>\n",
       "    </tr>\n",
       "    <tr>\n",
       "      <th>Date</th>\n",
       "      <th></th>\n",
       "      <th></th>\n",
       "      <th></th>\n",
       "      <th></th>\n",
       "      <th></th>\n",
       "      <th></th>\n",
       "      <th></th>\n",
       "      <th></th>\n",
       "      <th></th>\n",
       "      <th></th>\n",
       "      <th></th>\n",
       "      <th></th>\n",
       "      <th></th>\n",
       "      <th></th>\n",
       "      <th></th>\n",
       "      <th></th>\n",
       "      <th></th>\n",
       "      <th></th>\n",
       "      <th></th>\n",
       "      <th></th>\n",
       "      <th></th>\n",
       "    </tr>\n",
       "  </thead>\n",
       "  <tbody>\n",
       "    <tr>\n",
       "      <th>2005-01-31</th>\n",
       "      <td>88.6985</td>\n",
       "      <td>4.95102</td>\n",
       "      <td>3.557650</td>\n",
       "      <td>54.7</td>\n",
       "      <td>32.5</td>\n",
       "      <td>0.06</td>\n",
       "      <td>37.0</td>\n",
       "      <td>100.0</td>\n",
       "      <td>43.0</td>\n",
       "      <td>37.0</td>\n",
       "      <td>...</td>\n",
       "      <td>0.03</td>\n",
       "      <td>34.0</td>\n",
       "      <td>100.0000</td>\n",
       "      <td>37.0</td>\n",
       "      <td>30.0</td>\n",
       "      <td>86.6944</td>\n",
       "      <td>30.0</td>\n",
       "      <td>0.08</td>\n",
       "      <td>1.361442</td>\n",
       "      <td>1.713048</td>\n",
       "    </tr>\n",
       "    <tr>\n",
       "      <th>2005-02-01</th>\n",
       "      <td>85.1454</td>\n",
       "      <td>30.55420</td>\n",
       "      <td>5.152340</td>\n",
       "      <td>54.9</td>\n",
       "      <td>32.6</td>\n",
       "      <td>0.07</td>\n",
       "      <td>39.0</td>\n",
       "      <td>100.0</td>\n",
       "      <td>43.0</td>\n",
       "      <td>37.0</td>\n",
       "      <td>...</td>\n",
       "      <td>0.03</td>\n",
       "      <td>34.0</td>\n",
       "      <td>100.0000</td>\n",
       "      <td>36.0</td>\n",
       "      <td>34.0</td>\n",
       "      <td>80.5077</td>\n",
       "      <td>34.0</td>\n",
       "      <td>0.00</td>\n",
       "      <td>1.068212</td>\n",
       "      <td>2.398019</td>\n",
       "    </tr>\n",
       "    <tr>\n",
       "      <th>2005-02-02</th>\n",
       "      <td>86.7985</td>\n",
       "      <td>355.15000</td>\n",
       "      <td>3.563940</td>\n",
       "      <td>55.0</td>\n",
       "      <td>32.8</td>\n",
       "      <td>0.08</td>\n",
       "      <td>37.0</td>\n",
       "      <td>100.0</td>\n",
       "      <td>43.0</td>\n",
       "      <td>34.0</td>\n",
       "      <td>...</td>\n",
       "      <td>0.02</td>\n",
       "      <td>34.0</td>\n",
       "      <td>100.0000</td>\n",
       "      <td>46.0</td>\n",
       "      <td>30.0</td>\n",
       "      <td>60.7869</td>\n",
       "      <td>30.0</td>\n",
       "      <td>0.00</td>\n",
       "      <td>0.247806</td>\n",
       "      <td>0.096416</td>\n",
       "    </tr>\n",
       "    <tr>\n",
       "      <th>2005-02-03</th>\n",
       "      <td>73.9092</td>\n",
       "      <td>351.57600</td>\n",
       "      <td>1.132680</td>\n",
       "      <td>55.2</td>\n",
       "      <td>33.0</td>\n",
       "      <td>0.06</td>\n",
       "      <td>36.0</td>\n",
       "      <td>100.0</td>\n",
       "      <td>55.0</td>\n",
       "      <td>28.0</td>\n",
       "      <td>...</td>\n",
       "      <td>0.03</td>\n",
       "      <td>37.0</td>\n",
       "      <td>92.9165</td>\n",
       "      <td>61.0</td>\n",
       "      <td>30.0</td>\n",
       "      <td>28.7724</td>\n",
       "      <td>30.0</td>\n",
       "      <td>0.00</td>\n",
       "      <td>-0.790440</td>\n",
       "      <td>-1.163829</td>\n",
       "    </tr>\n",
       "    <tr>\n",
       "      <th>2005-02-04</th>\n",
       "      <td>69.7364</td>\n",
       "      <td>211.26100</td>\n",
       "      <td>0.581704</td>\n",
       "      <td>55.4</td>\n",
       "      <td>33.2</td>\n",
       "      <td>0.07</td>\n",
       "      <td>37.0</td>\n",
       "      <td>100.0</td>\n",
       "      <td>59.0</td>\n",
       "      <td>28.0</td>\n",
       "      <td>...</td>\n",
       "      <td>0.03</td>\n",
       "      <td>34.0</td>\n",
       "      <td>93.0280</td>\n",
       "      <td>63.0</td>\n",
       "      <td>34.0</td>\n",
       "      <td>25.3208</td>\n",
       "      <td>34.0</td>\n",
       "      <td>0.00</td>\n",
       "      <td>-0.350570</td>\n",
       "      <td>-0.533856</td>\n",
       "    </tr>\n",
       "  </tbody>\n",
       "</table>\n",
       "<p>5 rows × 1395 columns</p>\n",
       "</div>"
      ],
      "text/plain": [
       "            1F0_avg_rh  1F0_avg_wind_drct  1F0_avg_wind_speed_kts  \\\n",
       "Date                                                                \n",
       "2005-01-31     88.6985            4.95102                3.557650   \n",
       "2005-02-01     85.1454           30.55420                5.152340   \n",
       "2005-02-02     86.7985          355.15000                3.563940   \n",
       "2005-02-03     73.9092          351.57600                1.132680   \n",
       "2005-02-04     69.7364          211.26100                0.581704   \n",
       "\n",
       "            1F0_climo_high_f  1F0_climo_low_f  1F0_climo_precip_in  \\\n",
       "Date                                                                 \n",
       "2005-01-31              54.7             32.5                 0.06   \n",
       "2005-02-01              54.9             32.6                 0.07   \n",
       "2005-02-02              55.0             32.8                 0.08   \n",
       "2005-02-03              55.2             33.0                 0.06   \n",
       "2005-02-04              55.4             33.2                 0.07   \n",
       "\n",
       "            1F0_max_dewpoint_f  1F0_max_rh  1F0_max_temp_f  \\\n",
       "Date                                                         \n",
       "2005-01-31                37.0       100.0            43.0   \n",
       "2005-02-01                39.0       100.0            43.0   \n",
       "2005-02-02                37.0       100.0            43.0   \n",
       "2005-02-03                36.0       100.0            55.0   \n",
       "2005-02-04                37.0       100.0            59.0   \n",
       "\n",
       "            1F0_min_dewpoint_f      ...       WWR_climo_precip_in  \\\n",
       "Date                                ...                             \n",
       "2005-01-31                37.0      ...                      0.03   \n",
       "2005-02-01                37.0      ...                      0.03   \n",
       "2005-02-02                34.0      ...                      0.02   \n",
       "2005-02-03                28.0      ...                      0.03   \n",
       "2005-02-04                28.0      ...                      0.03   \n",
       "\n",
       "            WWR_max_dewpoint_f  WWR_max_rh  WWR_max_temp_f  \\\n",
       "Date                                                         \n",
       "2005-01-31                34.0    100.0000            37.0   \n",
       "2005-02-01                34.0    100.0000            36.0   \n",
       "2005-02-02                34.0    100.0000            46.0   \n",
       "2005-02-03                37.0     92.9165            61.0   \n",
       "2005-02-04                34.0     93.0280            63.0   \n",
       "\n",
       "            WWR_min_dewpoint_f  WWR_min_rh  WWR_min_temp_f  WWR_precip_in  \\\n",
       "Date                                                                        \n",
       "2005-01-31                30.0     86.6944            30.0           0.08   \n",
       "2005-02-01                34.0     80.5077            34.0           0.00   \n",
       "2005-02-02                30.0     60.7869            30.0           0.00   \n",
       "2005-02-03                30.0     28.7724            30.0           0.00   \n",
       "2005-02-04                34.0     25.3208            34.0           0.00   \n",
       "\n",
       "            WWR_snow_in  WWR_snowd_in  \n",
       "Date                                   \n",
       "2005-01-31     1.361442      1.713048  \n",
       "2005-02-01     1.068212      2.398019  \n",
       "2005-02-02     0.247806      0.096416  \n",
       "2005-02-03    -0.790440     -1.163829  \n",
       "2005-02-04    -0.350570     -0.533856  \n",
       "\n",
       "[5 rows x 1395 columns]"
      ]
     },
     "execution_count": 58,
     "metadata": {},
     "output_type": "execute_result"
    }
   ],
   "source": [
    "weather.head()"
   ]
  },
  {
   "cell_type": "code",
   "execution_count": 59,
   "metadata": {
    "collapsed": true
   },
   "outputs": [],
   "source": [
    "#normalize stock and weather data\n",
    "stk_norm = stocks.iloc[:,:].apply(normalizeData, axis=0)\n",
    "weather_norm = weather.iloc[:,:].apply(normalizeData, axis=0)"
   ]
  },
  {
   "cell_type": "code",
   "execution_count": 60,
   "metadata": {},
   "outputs": [
    {
     "data": {
      "image/png": "[encoded data removed]",
      "text/plain": [
       "<matplotlib.figure.Figure at 0x1bab9fb59e8>"
      ]
     },
     "metadata": {},
     "output_type": "display_data"
    }
   ],
   "source": [
    "plt.figure(figsize=(12,8))\n",
    "plt.plot(fut_norm['FUT_Close'], color='r', label='W1')\n",
    "plt.plot(stk_norm['WEAT'], color='b')\n",
    "plt.xlabel('Date')\n",
    "plt.ylabel('Price (cents/bushel)')\n",
    "plt.title('Kansas City HRW Wheat Future (and WEAT ETF) - Front Month');"
   ]
  },
  {
   "cell_type": "markdown",
   "metadata": {},
   "source": [
    "### Prep Data for NN\n",
    "\n",
    "3 datasets (pre-windowing)\n",
    "<ul>\n",
    "<li>fut_norm\n",
    "<li>fut_weather_norm\n",
    "<li>fut_weatherLen_norm (futures only but weathersLength)\n",
    "<li>fut_stk_weather_norm\n",
    "<li>fut_stkLen_weatherLen_norm (futures only but stockLength)\n",
    "<li>fut_stkLen_weather_norm (futures & weather only but stockLength)\n",
    "</ul>"
   ]
  },
  {
   "cell_type": "code",
   "execution_count": 64,
   "metadata": {},
   "outputs": [
    {
     "data": {
      "text/html": [
       "<div>\n",
       "<style scoped>\n",
       "    .dataframe tbody tr th:only-of-type {\n",
       "        vertical-align: middle;\n",
       "    }\n",
       "\n",
       "    .dataframe tbody tr th {\n",
       "        vertical-align: top;\n",
       "    }\n",
       "\n",
       "    .dataframe thead th {\n",
       "        text-align: right;\n",
       "    }\n",
       "</style>\n",
       "<table border=\"1\" class=\"dataframe\">\n",
       "  <thead>\n",
       "    <tr style=\"text-align: right;\">\n",
       "      <th></th>\n",
       "      <th>FUT_Open</th>\n",
       "      <th>FUT_High</th>\n",
       "      <th>FUT_Low</th>\n",
       "      <th>FUT_Vol</th>\n",
       "      <th>FUT_OpInt</th>\n",
       "      <th>FUT_OHLC</th>\n",
       "      <th>FUT_50MA</th>\n",
       "      <th>FUT_100MA</th>\n",
       "      <th>FUT_200MA</th>\n",
       "      <th>FUT_%Chg</th>\n",
       "      <th>FUT_Close</th>\n",
       "      <th>FUT_CloseAhead</th>\n",
       "    </tr>\n",
       "    <tr>\n",
       "      <th>Date</th>\n",
       "      <th></th>\n",
       "      <th></th>\n",
       "      <th></th>\n",
       "      <th></th>\n",
       "      <th></th>\n",
       "      <th></th>\n",
       "      <th></th>\n",
       "      <th></th>\n",
       "      <th></th>\n",
       "      <th></th>\n",
       "      <th></th>\n",
       "      <th></th>\n",
       "    </tr>\n",
       "  </thead>\n",
       "  <tbody>\n",
       "    <tr>\n",
       "      <th>1977-01-25</th>\n",
       "      <td>0.056070</td>\n",
       "      <td>0.051546</td>\n",
       "      <td>0.054634</td>\n",
       "      <td>0.033855</td>\n",
       "      <td>0.197008</td>\n",
       "      <td>0.053501</td>\n",
       "      <td>0.047188</td>\n",
       "      <td>0.070794</td>\n",
       "      <td>0.129900</td>\n",
       "      <td>0.646660</td>\n",
       "      <td>0.052996</td>\n",
       "      <td>0.056338</td>\n",
       "    </tr>\n",
       "    <tr>\n",
       "      <th>1977-01-26</th>\n",
       "      <td>0.051682</td>\n",
       "      <td>0.048500</td>\n",
       "      <td>0.050732</td>\n",
       "      <td>0.017733</td>\n",
       "      <td>0.196418</td>\n",
       "      <td>0.050063</td>\n",
       "      <td>0.047523</td>\n",
       "      <td>0.070033</td>\n",
       "      <td>0.129138</td>\n",
       "      <td>0.643435</td>\n",
       "      <td>0.050609</td>\n",
       "      <td>0.052041</td>\n",
       "    </tr>\n",
       "    <tr>\n",
       "      <th>1977-01-27</th>\n",
       "      <td>0.052657</td>\n",
       "      <td>0.048969</td>\n",
       "      <td>0.051220</td>\n",
       "      <td>0.016121</td>\n",
       "      <td>0.195975</td>\n",
       "      <td>0.050305</td>\n",
       "      <td>0.047805</td>\n",
       "      <td>0.069187</td>\n",
       "      <td>0.128402</td>\n",
       "      <td>0.661408</td>\n",
       "      <td>0.049654</td>\n",
       "      <td>0.050847</td>\n",
       "    </tr>\n",
       "    <tr>\n",
       "      <th>1977-01-28</th>\n",
       "      <td>0.051438</td>\n",
       "      <td>0.047095</td>\n",
       "      <td>0.049512</td>\n",
       "      <td>0.033586</td>\n",
       "      <td>0.195336</td>\n",
       "      <td>0.048857</td>\n",
       "      <td>0.047949</td>\n",
       "      <td>0.068359</td>\n",
       "      <td>0.127677</td>\n",
       "      <td>0.661365</td>\n",
       "      <td>0.048699</td>\n",
       "      <td>0.047505</td>\n",
       "    </tr>\n",
       "    <tr>\n",
       "      <th>1977-01-31</th>\n",
       "      <td>0.051195</td>\n",
       "      <td>0.047329</td>\n",
       "      <td>0.050976</td>\n",
       "      <td>0.025928</td>\n",
       "      <td>0.192580</td>\n",
       "      <td>0.049581</td>\n",
       "      <td>0.048177</td>\n",
       "      <td>0.067409</td>\n",
       "      <td>0.126957</td>\n",
       "      <td>0.691936</td>\n",
       "      <td>0.050131</td>\n",
       "      <td>0.047744</td>\n",
       "    </tr>\n",
       "  </tbody>\n",
       "</table>\n",
       "</div>"
      ],
      "text/plain": [
       "            FUT_Open  FUT_High   FUT_Low   FUT_Vol  FUT_OpInt  FUT_OHLC  \\\n",
       "Date                                                                      \n",
       "1977-01-25  0.056070  0.051546  0.054634  0.033855   0.197008  0.053501   \n",
       "1977-01-26  0.051682  0.048500  0.050732  0.017733   0.196418  0.050063   \n",
       "1977-01-27  0.052657  0.048969  0.051220  0.016121   0.195975  0.050305   \n",
       "1977-01-28  0.051438  0.047095  0.049512  0.033586   0.195336  0.048857   \n",
       "1977-01-31  0.051195  0.047329  0.050976  0.025928   0.192580  0.049581   \n",
       "\n",
       "            FUT_50MA  FUT_100MA  FUT_200MA  FUT_%Chg  FUT_Close  \\\n",
       "Date                                                              \n",
       "1977-01-25  0.047188   0.070794   0.129900  0.646660   0.052996   \n",
       "1977-01-26  0.047523   0.070033   0.129138  0.643435   0.050609   \n",
       "1977-01-27  0.047805   0.069187   0.128402  0.661408   0.049654   \n",
       "1977-01-28  0.047949   0.068359   0.127677  0.661365   0.048699   \n",
       "1977-01-31  0.048177   0.067409   0.126957  0.691936   0.050131   \n",
       "\n",
       "            FUT_CloseAhead  \n",
       "Date                        \n",
       "1977-01-25        0.056338  \n",
       "1977-01-26        0.052041  \n",
       "1977-01-27        0.050847  \n",
       "1977-01-28        0.047505  \n",
       "1977-01-31        0.047744  "
      ]
     },
     "execution_count": 64,
     "metadata": {},
     "output_type": "execute_result"
    }
   ],
   "source": [
    "fut_norm.head()"
   ]
  },
  {
   "cell_type": "code",
   "execution_count": 65,
   "metadata": {
    "collapsed": true
   },
   "outputs": [],
   "source": [
    "fut_weather_norm = weather_norm.merge(fut_norm, left_index=True, right_index=True)\n",
    "fut_weatherLen_norm = fut_weather_norm[['FUT_Open', 'FUT_High', 'FUT_Low', 'FUT_Vol', 'FUT_OpInt', 'FUT_OHLC',\n",
    "       'FUT_50MA', 'FUT_100MA', 'FUT_200MA', 'FUT_%Chg', 'FUT_Close', 'FUT_CloseAhead']]\n",
    "# fut_weatherLen_norm = fut_weather_norm[['FUT_Open', 'FUT_High', 'FUT_Low', 'FUT_Vol', 'FUT_OpInt', 'FUT_OHLC',\n",
    "#        'FUT_50MA', 'FUT_100MA', 'FUT_200MA', 'FUT_%Chg', 'FUT_Close']]"
   ]
  },
  {
   "cell_type": "code",
   "execution_count": 66,
   "metadata": {},
   "outputs": [
    {
     "data": {
      "text/plain": [
       "3272"
      ]
     },
     "execution_count": 66,
     "metadata": {},
     "output_type": "execute_result"
    }
   ],
   "source": [
    "len(fut_weather_norm)"
   ]
  },
  {
   "cell_type": "code",
   "execution_count": 67,
   "metadata": {
    "collapsed": true
   },
   "outputs": [],
   "source": [
    "fut_stk_weather_norm = stk_norm.merge(fut_weather_norm, left_index=True, right_index=True)\n",
    "fut_stkLen_weatherLen_norm = fut_stk_weather_norm[['FUT_Open', 'FUT_High', 'FUT_Low', 'FUT_Vol', 'FUT_OpInt', 'FUT_OHLC',\n",
    "       'FUT_50MA', 'FUT_100MA', 'FUT_200MA', 'FUT_%Chg', 'FUT_Close', 'FUT_CloseAhead']]\n",
    "# fut_stkLen_weatherLen_norm = fut_stk_weather_norm[['FUT_Open', 'FUT_High', 'FUT_Low', 'FUT_Vol', 'FUT_OpInt', 'FUT_OHLC',\n",
    "#        'FUT_50MA', 'FUT_100MA', 'FUT_200MA', 'FUT_%Chg', 'FUT_Close']]\n",
    "fut_stkLen_weather_norm = fut_stk_weather_norm.drop(columns=['ADM','BG','DBA','WEAT'])"
   ]
  },
  {
   "cell_type": "code",
   "execution_count": 68,
   "metadata": {
    "collapsed": true
   },
   "outputs": [],
   "source": [
    "#creates the windowed data\n",
    "def prepDataValid(df, window=30):\n",
    "    \n",
    "    newData = []\n",
    "\n",
    "    data = df.as_matrix()\n",
    "    \n",
    "    for i in range(len(data) - window): \n",
    "        newData.append(data[i: i + (window+1)]) # moving window of data, add one as index starts at 0\n",
    "    \n",
    "    \n",
    "    newData = np.array(newData)\n",
    "    split = int(round(len(newData)/3))\n",
    "    \n",
    "    XTrain = newData[:split, :-1]    # data for days d in a month\n",
    "    yTrain = newData[:split,-1][:,-1] # data for day  d+1 only last col (FUT_CloseAhead)\n",
    "    \n",
    "    XValid = newData[split:(2*split),:-1]\n",
    "    yValid = newData[split:(2*split),-1][:,-1]\n",
    "    \n",
    "    XTest = newData[(2*split):,:-1]\n",
    "    yTest = newData[(2*split):,-1][:,-1]\n",
    "\n",
    "    return [XTrain, yTrain, XValid, yValid, XTest, yTest]"
   ]
  },
  {
   "cell_type": "code",
   "execution_count": 69,
   "metadata": {
    "collapsed": true
   },
   "outputs": [],
   "source": [
    "#creates the windowed data\n",
    "def prepData(df, window=30):\n",
    "    \n",
    "    newData = []\n",
    "\n",
    "    data = df.as_matrix()\n",
    "    \n",
    "    for i in range(len(data) - window): \n",
    "        newData.append(data[i: i + (window+1)]) # moving window of data, add one as index starts at 0\n",
    "    \n",
    "    newData = np.array(newData)\n",
    "    split = int(round(len(newData)/3))\n",
    "\n",
    "    XTrain = newData[:(2*split), :-1]    # data for days d in a month\n",
    "    yTrain = newData[:(2*split),-1][:,-1] # data for day  d+1 only last col (FUT_CloseAhead)\n",
    "    \n",
    "    #XValid = newData[split:(2*split),:-1]\n",
    "    #yValid = newData[split:(2*split),-1][:,-1]\n",
    "    \n",
    "    XTest = newData[(2*split):,:-1]\n",
    "    yTest = newData[(2*split):,-1][:,-1]\n",
    "\n",
    "    return [XTrain, yTrain, XTest, yTest]"
   ]
  },
  {
   "cell_type": "code",
   "execution_count": 70,
   "metadata": {
    "collapsed": true
   },
   "outputs": [],
   "source": [
    "#sets up non-windowing data base NN (assumes last col is target)\n",
    "def prepDataBase(df):\n",
    "    split = int(round(len(df)/3))\n",
    "    df = np.array(df)\n",
    "    XTrain = df[:(2*split), :-1]    # first split of rows, all but last col\n",
    "    yTrain = df[:(2*split),-1]      # only last col\n",
    "    \n",
    "    #XValid = df[split:(2*split),:-1]\n",
    "    #yValid = df[split:(2*split),-1]\n",
    "    \n",
    "    XTest = df[(2*split):,:-1]\n",
    "    yTest = df[(2*split):,-1]\n",
    "    \n",
    "    return [XTrain, yTrain, XTest, yTest]"
   ]
  },
  {
   "cell_type": "code",
   "execution_count": 71,
   "metadata": {
    "collapsed": true
   },
   "outputs": [],
   "source": [
    "# #sets up non-windowing data base NN (assumes last col is target)\n",
    "# def prepDataBase(df):\n",
    "#     split = int(round(len(df)/3))\n",
    "#     df = np.array(df)\n",
    "#     XTrain = df[:split, :-1]    # first split of rows, all but last col\n",
    "#     yTrain = df[:split,-1]      # only last col\n",
    "    \n",
    "#     XValid = df[split:(2*split),:-1]\n",
    "#     yValid = df[split:(2*split),-1]\n",
    "    \n",
    "#     XTest = df[(2*split):,:-1]\n",
    "#     yTest = df[(2*split):,-1]\n",
    "    \n",
    "#     return [XTrain, yTrain, XValid, yValid, XTest, yTest]"
   ]
  },
  {
   "cell_type": "markdown",
   "metadata": {},
   "source": [
    "# Windowing of Data \n",
    "\n",
    "predData() returns RNN ready data: \n",
    "<ul>\n",
    "<li>XTrain\n",
    "<li>yTrain\n",
    "<li>XValid\n",
    "<li>yValid\n",
    "<li>XTest\n",
    "<li>yTest\n",
    "</ul>"
   ]
  },
  {
   "cell_type": "code",
   "execution_count": 72,
   "metadata": {},
   "outputs": [],
   "source": [
    "#get data split to do validation\n",
    "#just futures data (back to 1976)\n",
    "XTrainF, yTrainF, XValidF, yValidF, XTestF, yTestF = prepDataValid(fut_norm, windowSize)\n",
    "XTrainFW, yTrainFW, XValidFW, yValidFW, XTestFW, yTestFW = prepDataValid(fut_weather_norm, windowSize)\n",
    "XTrainFSW, yTrainFSW, XValidFSW, yValidFSW, XTestFSW, yTestFSW = prepDataValid(fut_stk_weather_norm, windowSize)"
   ]
  },
  {
   "cell_type": "code",
   "execution_count": 73,
   "metadata": {
    "collapsed": true
   },
   "outputs": [],
   "source": [
    "# get the non-windowed data for baseline NN\n",
    "XTrainF_Base, yTrainF_Base, XTestF_Base, yTestF_Base = prepDataBase(fut_norm)\n",
    "XTrainFW_Base, yTrainFW_Base, XTestFW_Base, yTestFW_Base = prepDataBase(fut_weather_norm)\n",
    "XTrainFW_F_Base, yTrainFW_F_Base, XTestFW_F_Base, yTestFW_F_Base = prepDataBase(fut_weatherLen_norm)\n",
    "XTrainFSW_Base, yTrainFSW_Base, XTestFSW_Base, yTestFSW_Base = prepDataBase(fut_stk_weather_norm)\n",
    "XTrainFSW_F_Base, yTrainFSW_F_Base, XTestFSW_F_Base, yTestFSW_F_Base = prepDataBase(fut_stkLen_weatherLen_norm)\n",
    "XTrainFSW_FW_Base, yTrainFSW_FW_Base, XTestFSW_FW_Base, yTestFSW_FW_Base = prepDataBase(fut_stkLen_weather_norm)\n"
   ]
  },
  {
   "cell_type": "code",
   "execution_count": 74,
   "metadata": {
    "collapsed": true
   },
   "outputs": [],
   "source": [
    "## >>>>> label is FUT_CloseAhead (close price 22 days forward)  ... should we just use FUT_Close?\n",
    "\n",
    "#just futures data (back to 1976)\n",
    "XTrainF, yTrainF, XTestF, yTestF = prepData(fut_norm, windowSize)\n",
    "\n",
    "#futures and weather (back to 2005)\n",
    "XTrainFW, yTrainFW, XTestFW, yTestFW = prepData(fut_weather_norm, windowSize)\n",
    "XTrainFW_F, yTrainFW_F, XTestFW_F, yTestFW_F = prepData(fut_weatherLen_norm, windowSize)\n",
    "\n",
    "#futures, weather, and stocks (back to 2011)\n",
    "XTrainFSW, yTrainFSW, XTestFSW, yTestFSW = prepData(fut_stk_weather_norm, windowSize)\n",
    "XTrainFSW_F, yTrainFSW_F, XTestFSW_F, yTestFSW_F = prepData(fut_stkLen_weatherLen_norm, windowSize)\n",
    "XTrainFSW_FW, yTrainFSW_FW, XTestFSW_FW, yTestFSW_FW = prepData(fut_stkLen_weather_norm, windowSize)"
   ]
  },
  {
   "cell_type": "markdown",
   "metadata": {},
   "source": [
    "### Check if shapes look ok"
   ]
  },
  {
   "cell_type": "code",
   "execution_count": 75,
   "metadata": {},
   "outputs": [
    {
     "name": "stdout",
     "output_type": "stream",
     "text": [
      "(1068, 1410)\n"
     ]
    }
   ],
   "source": [
    "print(XTrainFSW_Base.shape)"
   ]
  },
  {
   "cell_type": "code",
   "execution_count": 76,
   "metadata": {},
   "outputs": [
    {
     "name": "stdout",
     "output_type": "stream",
     "text": [
      "(6880, 44, 12) (6880,) (3440, 44, 12) (3440,)\n"
     ]
    }
   ],
   "source": [
    "print(XTrainF.shape, yTrainF.shape, XTestF.shape, yTestF.shape)"
   ]
  },
  {
   "cell_type": "code",
   "execution_count": 77,
   "metadata": {},
   "outputs": [
    {
     "data": {
      "text/plain": [
       "Index(['FUT_Open', 'FUT_High', 'FUT_Low', 'FUT_Vol', 'FUT_OpInt', 'FUT_OHLC',\n",
       "       'FUT_50MA', 'FUT_100MA', 'FUT_200MA', 'FUT_%Chg', 'FUT_Close',\n",
       "       'FUT_CloseAhead'],\n",
       "      dtype='object')"
      ]
     },
     "execution_count": 77,
     "metadata": {},
     "output_type": "execute_result"
    }
   ],
   "source": [
    "fut_norm.columns"
   ]
  },
  {
   "cell_type": "code",
   "execution_count": 78,
   "metadata": {},
   "outputs": [
    {
     "name": "stdout",
     "output_type": "stream",
     "text": [
      "(2152, 44, 1407) (2152,) (1076, 44, 1407) (1076,)\n"
     ]
    }
   ],
   "source": [
    "print(XTrainFW.shape, yTrainFW.shape, XTestFW.shape, yTestFW.shape)"
   ]
  },
  {
   "cell_type": "code",
   "execution_count": 79,
   "metadata": {},
   "outputs": [
    {
     "name": "stdout",
     "output_type": "stream",
     "text": [
      "(1038, 44, 1411) (1038,) (520, 44, 1411) (520,)\n"
     ]
    }
   ],
   "source": [
    "print(XTrainFSW.shape, yTrainFSW.shape, XTestFSW.shape, yTestFSW.shape)"
   ]
  },
  {
   "cell_type": "markdown",
   "metadata": {},
   "source": [
    "# Neural Network (RNN, GRU, LSTM)"
   ]
  },
  {
   "cell_type": "code",
   "execution_count": 80,
   "metadata": {
    "collapsed": true
   },
   "outputs": [],
   "source": [
    "#default layers = 6, neurons list always should equal 6\n",
    "def build_NN(inShape, neuronList, rnnLayers=2, nnType='RNN'):\n",
    "    \n",
    "    model = Sequential()\n",
    "    #model.add(Dense(neuronList[0], input_shape=(inShape[0], inShape[1])))  #input layer\n",
    "    \n",
    "    #print(inShape[1], rnnLayers, neuronList)\n",
    "    if nnType == 'RNN':\n",
    "        model.add(Dense(neuronList[0], input_shape=(inShape[0], inShape[1])))  #input layer\n",
    "        for i in range(rnnLayers):\n",
    "            if i != rnnLayers-1:\n",
    "                model.add(SimpleRNN(neuronList[1], return_sequences=True))\n",
    "            else:\n",
    "                model.add(SimpleRNN(neuronList[2]))\n",
    "        model.add(Dense(neuronList[3], activation='relu'))\n",
    "        model.add(Dense(neuronList[4], activation='relu'))\n",
    "    elif nnType == 'GRU':\n",
    "        model.add(Dense(neuronList[0], input_shape=(inShape[0], inShape[1])))  #input layer\n",
    "        for i in range(rnnLayers):\n",
    "            if i != rnnLayers-1:\n",
    "                model.add(GRU(neuronList[1], return_sequences=True))\n",
    "            else:\n",
    "                model.add(GRU(neuronList[2]))\n",
    "        model.add(Dense(neuronList[3], activation='relu'))\n",
    "        model.add(Dense(neuronList[4], activation='relu'))\n",
    "    elif nnType == 'LSTM':\n",
    "        model.add(Dense(neuronList[0], input_shape=(inShape[0], inShape[1])))  #input layer\n",
    "        for i in range(rnnLayers):\n",
    "            if i != rnnLayers-1:\n",
    "                model.add(LSTM(neuronList[1], return_sequences=True)) \n",
    "            else:\n",
    "                model.add(LSTM(neuronList[2]))\n",
    "        model.add(Dense(neuronList[3], activation='relu'))      \n",
    "        model.add(Dense(neuronList[4], activation='relu'))\n",
    "    elif nnType == 'BASE':\n",
    "        model.add(Dense(neuronList[0], input_shape=(inShape[1]-1,)))  #input layer\n",
    "        for i in range(rnnLayers):\n",
    "            if i != rnnLayers-1:\n",
    "                model.add(Dense(neuronList[1], activation='relu'))\n",
    "            else:\n",
    "                model.add(Dense(neuronList[2], activation='relu'))\n",
    "        model.add(Dense(neuronList[3], activation='relu'))\n",
    "        model.add(Reshape((-1,)))\n",
    "        model.add(Dense(neuronList[4], activation='relu'))\n",
    "    else:\n",
    "        print('should not be here')\n",
    "    \n",
    "    model.add(Dense(neuronList[5], activation='linear', kernel_initializer=\"uniform\")) #output layer\n",
    "      \n",
    "    model.compile(loss='mse', optimizer='adam', metrics=['accuracy'])\n",
    "    #model.summary() \n",
    "\n",
    "    return model"
   ]
  },
  {
   "cell_type": "markdown",
   "metadata": {},
   "source": [
    "### Build Models for each dataset and type of NN"
   ]
  },
  {
   "cell_type": "code",
   "execution_count": 81,
   "metadata": {
    "collapsed": true
   },
   "outputs": [],
   "source": [
    "#get the input shapes for each dataset to use input layer of NN model\n",
    "inShapeF = [windowSize, len(fut_norm.columns)]\n",
    "inShapeFW = [windowSize, len(fut_weather_norm.columns)]\n",
    "inShapeFSW = [windowSize, len(fut_stk_weather_norm.columns)]"
   ]
  },
  {
   "cell_type": "markdown",
   "metadata": {},
   "source": [
    "### Validation"
   ]
  },
  {
   "cell_type": "code",
   "execution_count": null,
   "metadata": {
    "scrolled": true
   },
   "outputs": [
    {
     "name": "stdout",
     "output_type": "stream",
     "text": [
      "Epoch 1/8\n",
      "6880/6880 [==============================] - 35s 5ms/step - loss: 0.0081 - acc: 1.4535e-04\n",
      "Epoch 2/8\n",
      "6880/6880 [==============================] - 33s 5ms/step - loss: 0.0027 - acc: 1.4535e-04\n",
      "Epoch 3/8\n",
      "6880/6880 [==============================] - 33s 5ms/step - loss: 0.0013 - acc: 1.4535e-04\n",
      "Epoch 4/8\n",
      "6880/6880 [==============================] - 33s 5ms/step - loss: 7.4131e-04 - acc: 1.4535e-04\n",
      "Epoch 5/8\n",
      "6880/6880 [==============================] - 33s 5ms/step - loss: 6.4187e-04 - acc: 1.4535e-04\n",
      "Epoch 6/8\n",
      "6880/6880 [==============================] - 33s 5ms/step - loss: 5.4077e-04 - acc: 1.4535e-04\n",
      "Epoch 7/8\n",
      "6880/6880 [==============================] - 32s 5ms/step - loss: 4.9628e-04 - acc: 1.4535e-04\n",
      "Epoch 8/8\n",
      "6880/6880 [==============================] - 32s 5ms/step - loss: 4.4503e-04 - acc: 1.4535e-04\n",
      "Epoch 1/8\n",
      "2152/2152 [==============================] - 14s 7ms/step - loss: 0.1291 - acc: 0.0000e+00\n",
      "Epoch 2/8\n",
      "2152/2152 [==============================] - 13s 6ms/step - loss: 0.0365 - acc: 0.0000e+00\n",
      "Epoch 3/8\n",
      "2152/2152 [==============================] - 13s 6ms/step - loss: 0.0324 - acc: 0.0000e+00\n",
      "Epoch 4/8\n",
      "2152/2152 [==============================] - 13s 6ms/step - loss: 0.0331 - acc: 0.0000e+00\n",
      "Epoch 5/8\n",
      "2152/2152 [==============================] - 13s 6ms/step - loss: 0.0310 - acc: 0.0000e+00\n",
      "Epoch 6/8\n",
      "2152/2152 [==============================] - 13s 6ms/step - loss: 0.0311 - acc: 0.0000e+00\n",
      "Epoch 7/8\n",
      "2152/2152 [==============================] - 13s 6ms/step - loss: 0.0309 - acc: 0.0000e+00\n",
      "Epoch 8/8\n",
      "2152/2152 [==============================] - 13s 6ms/step - loss: 0.0310 - acc: 0.0000e+00\n",
      "Epoch 1/8\n",
      "1038/1038 [==============================] - 7s 7ms/step - loss: 0.2072 - acc: 0.0000e+00\n",
      "Epoch 2/8\n",
      "1038/1038 [==============================] - 6s 6ms/step - loss: 0.1019 - acc: 0.0000e+00\n",
      "Epoch 3/8\n",
      "1038/1038 [==============================] - 6s 6ms/step - loss: 0.0265 - acc: 0.0000e+00\n",
      "Epoch 4/8\n",
      "1038/1038 [==============================] - 6s 6ms/step - loss: 0.0197 - acc: 0.0000e+00\n",
      "Epoch 5/8\n",
      "1038/1038 [==============================] - 7s 6ms/step - loss: 0.0263 - acc: 0.0000e+00\n",
      "Epoch 6/8\n",
      "1038/1038 [==============================] - 8s 8ms/step - loss: 0.0161 - acc: 0.0000e+00\n",
      "Epoch 7/8\n",
      "1038/1038 [==============================] - 7s 6ms/step - loss: 0.0147 - acc: 0.0000e+00\n",
      "Epoch 8/8\n",
      "1038/1038 [==============================] - 7s 7ms/step - loss: 0.0165 - acc: 0.0000e+00\n",
      "Epoch 1/8\n",
      "6880/6880 [==============================] - 114s 17ms/step - loss: 0.0282 - acc: 1.4535e-04\n",
      "Epoch 2/8\n",
      "6880/6880 [==============================] - 111s 16ms/step - loss: 0.0032 - acc: 1.4535e-04\n",
      "Epoch 3/8\n",
      "6880/6880 [==============================] - 111s 16ms/step - loss: 0.0016 - acc: 1.4535e-04\n",
      "Epoch 4/8\n",
      "6880/6880 [==============================] - 111s 16ms/step - loss: 8.9160e-04 - acc: 1.4535e-04\n",
      "Epoch 5/8\n",
      "6880/6880 [==============================] - 111s 16ms/step - loss: 7.3456e-04 - acc: 1.4535e-04\n",
      "Epoch 6/8\n",
      "6880/6880 [==============================] - 113s 16ms/step - loss: 6.0569e-04 - acc: 1.4535e-04\n",
      "Epoch 7/8\n",
      "6880/6880 [==============================] - 111s 16ms/step - loss: 5.2282e-04 - acc: 1.4535e-04\n",
      "Epoch 8/8\n",
      "6880/6880 [==============================] - 112s 16ms/step - loss: 4.7483e-04 - acc: 1.4535e-04\n",
      "Epoch 1/8\n",
      "2152/2152 [==============================] - 42s 19ms/step - loss: 0.1186 - acc: 0.0000e+00\n",
      "Epoch 2/8\n",
      "2152/2152 [==============================] - 40s 19ms/step - loss: 0.0369 - acc: 0.0000e+00\n",
      "Epoch 3/8\n",
      "2152/2152 [==============================] - 40s 19ms/step - loss: 0.0334 - acc: 0.0000e+00\n",
      "Epoch 4/8\n",
      "2152/2152 [==============================] - 40s 19ms/step - loss: 0.0322 - acc: 0.0000e+00\n",
      "Epoch 5/8\n",
      "2152/2152 [==============================] - 40s 19ms/step - loss: 0.0311 - acc: 0.0000e+00\n",
      "Epoch 6/8\n",
      "2152/2152 [==============================] - 41s 19ms/step - loss: 0.0308 - acc: 0.0000e+00\n",
      "Epoch 7/8\n",
      "2152/2152 [==============================] - 40s 19ms/step - loss: 0.0310 - acc: 0.0000e+00\n",
      "Epoch 8/8\n",
      "2152/2152 [==============================] - 40s 19ms/step - loss: 0.0311 - acc: 0.0000e+00\n",
      "Epoch 1/8\n",
      "1038/1038 [==============================] - 22s 21ms/step - loss: 0.1824 - acc: 0.0000e+00\n",
      "Epoch 2/8\n",
      "1038/1038 [==============================] - 21s 20ms/step - loss: 0.3159 - acc: 0.0000e+00\n",
      "Epoch 3/8\n",
      "1038/1038 [==============================] - 20s 19ms/step - loss: 0.1010 - acc: 0.0000e+00\n",
      "Epoch 4/8\n",
      "1038/1038 [==============================] - 20s 20ms/step - loss: 0.0316 - acc: 0.0000e+00\n",
      "Epoch 5/8\n",
      "1038/1038 [==============================] - 21s 20ms/step - loss: 0.0165 - acc: 0.0000e+00\n",
      "Epoch 6/8\n",
      "1038/1038 [==============================] - 20s 19ms/step - loss: 0.0203 - acc: 0.0000e+00\n",
      "Epoch 7/8\n",
      "1038/1038 [==============================] - 20s 20ms/step - loss: 0.0143 - acc: 0.0000e+00\n",
      "Epoch 8/8\n",
      "1038/1038 [==============================] - 20s 20ms/step - loss: 0.0167 - acc: 0.0000e+00\n",
      "Epoch 1/8\n",
      "6880/6880 [==============================] - 12s 2ms/step - loss: 0.0105 - acc: 1.4535e-04\n",
      "Epoch 2/8\n",
      "6880/6880 [==============================] - 10s 1ms/step - loss: 0.0036 - acc: 1.4535e-04\n",
      "Epoch 3/8\n",
      "6880/6880 [==============================] - 10s 1ms/step - loss: 0.0023 - acc: 1.4535e-04\n",
      "Epoch 4/8\n",
      "6880/6880 [==============================] - 10s 1ms/step - loss: 0.0012 - acc: 1.4535e-04\n",
      "Epoch 5/8\n",
      "6880/6880 [==============================] - 10s 1ms/step - loss: 8.1320e-04 - acc: 1.4535e-04\n",
      "Epoch 6/8\n",
      "6880/6880 [==============================] - 10s 1ms/step - loss: 6.3423e-04 - acc: 1.4535e-04\n",
      "Epoch 7/8\n",
      "6880/6880 [==============================] - 10s 1ms/step - loss: 5.6914e-04 - acc: 1.4535e-04\n",
      "Epoch 8/8\n",
      "6880/6880 [==============================] - 10s 1ms/step - loss: 5.0132e-04 - acc: 1.4535e-04\n",
      "Epoch 1/8\n",
      "2152/2152 [==============================] - 6s 3ms/step - loss: 0.1902 - acc: 0.0000e+00\n",
      "Epoch 2/8\n",
      "2152/2152 [==============================] - 5s 2ms/step - loss: 0.0833 - acc: 0.0000e+00\n",
      "Epoch 3/8\n",
      "2152/2152 [==============================] - 5s 2ms/step - loss: 0.0340 - acc: 0.0000e+00\n",
      "Epoch 4/8\n",
      "2152/2152 [==============================] - 5s 2ms/step - loss: 0.0392 - acc: 4.6468e-04\n",
      "Epoch 5/8\n",
      "2152/2152 [==============================] - 5s 2ms/step - loss: 0.0364 - acc: 0.0000e+00\n",
      "Epoch 6/8\n",
      "2152/2152 [==============================] - 5s 2ms/step - loss: 0.0309 - acc: 0.0000e+00\n",
      "Epoch 7/8\n",
      "2152/2152 [==============================] - 5s 2ms/step - loss: 0.0323 - acc: 0.0000e+00\n",
      "Epoch 8/8\n",
      "2152/2152 [==============================] - 5s 2ms/step - loss: 0.0332 - acc: 0.0000e+00\n",
      "Epoch 1/8\n",
      "1038/1038 [==============================] - 4s 4ms/step - loss: 0.1886 - acc: 0.0000e+00\n",
      "Epoch 2/8\n",
      "1038/1038 [==============================] - 2s 2ms/step - loss: 0.0861 - acc: 0.0000e+00\n",
      "Epoch 3/8\n",
      "1038/1038 [==============================] - 2s 2ms/step - loss: 0.0258 - acc: 0.0000e+00\n",
      "Epoch 4/8\n",
      "1038/1038 [==============================] - 3s 2ms/step - loss: 0.0166 - acc: 0.0000e+00\n",
      "Epoch 5/8\n",
      "1038/1038 [==============================] - 2s 2ms/step - loss: 0.0263 - acc: 0.0000e+00\n",
      "Epoch 6/8\n",
      "1038/1038 [==============================] - 3s 2ms/step - loss: 0.0194 - acc: 0.0000e+00\n",
      "Epoch 7/8\n",
      "1038/1038 [==============================] - 2s 2ms/step - loss: 0.0144 - acc: 0.0000e+00\n",
      "Epoch 8/8\n",
      "1038/1038 [==============================] - 3s 2ms/step - loss: 0.0155 - acc: 0.0000e+00\n",
      "Epoch 1/8\n",
      "6880/6880 [==============================] - 65s 9ms/step - loss: 0.0087 - acc: 1.4535e-04\n",
      "Epoch 2/8\n",
      "6880/6880 [==============================] - 62s 9ms/step - loss: 0.0021 - acc: 1.4535e-04\n",
      "Epoch 3/8\n",
      "6880/6880 [==============================] - 61s 9ms/step - loss: 0.0012 - acc: 1.4535e-04\n",
      "Epoch 4/8\n",
      "6880/6880 [==============================] - 62s 9ms/step - loss: 8.0643e-04 - acc: 1.4535e-04\n",
      "Epoch 5/8\n",
      "6880/6880 [==============================] - 62s 9ms/step - loss: 6.8804e-04 - acc: 1.4535e-04\n",
      "Epoch 6/8\n",
      "6880/6880 [==============================] - 62s 9ms/step - loss: 5.8415e-04 - acc: 1.4535e-04\n",
      "Epoch 7/8\n",
      "6880/6880 [==============================] - 61s 9ms/step - loss: 5.0985e-04 - acc: 1.4535e-04\n",
      "Epoch 8/8\n",
      "6880/6880 [==============================] - 62s 9ms/step - loss: 4.1258e-04 - acc: 1.4535e-04\n",
      "Epoch 1/8\n"
     ]
    },
    {
     "name": "stdout",
     "output_type": "stream",
     "text": [
      "2152/2152 [==============================] - 26s 12ms/step - loss: 0.1852 - acc: 0.0000e+00\n",
      "Epoch 2/8\n",
      "2152/2152 [==============================] - 23s 11ms/step - loss: 0.0390 - acc: 0.0000e+00\n",
      "Epoch 3/8\n",
      "2152/2152 [==============================] - 23s 10ms/step - loss: 0.0322 - acc: 0.0000e+00\n",
      "Epoch 4/8\n",
      "2152/2152 [==============================] - 22s 10ms/step - loss: 0.0340 - acc: 0.0000e+00\n",
      "Epoch 5/8\n",
      "2152/2152 [==============================] - 23s 11ms/step - loss: 0.0313 - acc: 0.0000e+00\n",
      "Epoch 6/8\n",
      "2152/2152 [==============================] - 25s 12ms/step - loss: 0.0322 - acc: 0.0000e+00\n",
      "Epoch 7/8\n",
      "2152/2152 [==============================] - 23s 11ms/step - loss: 0.0310 - acc: 0.0000e+00\n",
      "Epoch 8/8\n",
      "2152/2152 [==============================] - 23s 11ms/step - loss: 0.0317 - acc: 0.0000e+00\n",
      "Epoch 1/8\n",
      "1038/1038 [==============================] - 14s 14ms/step - loss: 0.1964 - acc: 0.0000e+00\n",
      "Epoch 2/8\n",
      "1038/1038 [==============================] - 11s 11ms/step - loss: 0.0330 - acc: 0.0000e+00\n",
      "Epoch 3/8\n",
      "1038/1038 [==============================] - 11s 11ms/step - loss: 0.0235 - acc: 0.0000e+00\n",
      "Epoch 4/8\n",
      "1038/1038 [==============================] - 11s 11ms/step - loss: 0.0173 - acc: 0.0000e+00\n",
      "Epoch 5/8\n",
      "1038/1038 [==============================] - 11s 11ms/step - loss: 0.0186 - acc: 0.0000e+00\n",
      "Epoch 6/8\n",
      "1038/1038 [==============================] - 12s 11ms/step - loss: 0.0146 - acc: 0.0000e+00\n",
      "Epoch 7/8\n",
      "1038/1038 [==============================] - 11s 11ms/step - loss: 0.0195 - acc: 0.0000e+00\n",
      "Epoch 8/8\n",
      "1038/1038 [==============================] - 11s 11ms/step - loss: 0.0157 - acc: 0.0000e+00\n",
      "Epoch 1/8\n",
      "6880/6880 [==============================] - 209s 30ms/step - loss: 0.0174 - acc: 1.4535e-04\n",
      "Epoch 2/8\n",
      "6880/6880 [==============================] - 207s 30ms/step - loss: 0.0066 - acc: 1.4535e-04\n",
      "Epoch 3/8\n",
      "6880/6880 [==============================] - 203s 29ms/step - loss: 0.0025 - acc: 1.4535e-04\n",
      "Epoch 4/8\n",
      "6880/6880 [==============================] - 205s 30ms/step - loss: 0.0018 - acc: 1.4535e-04\n",
      "Epoch 5/8\n",
      "6880/6880 [==============================] - 204s 30ms/step - loss: 0.0012 - acc: 1.4535e-04\n",
      "Epoch 6/8\n",
      "6880/6880 [==============================] - 204s 30ms/step - loss: 9.1118e-04 - acc: 1.4535e-04\n",
      "Epoch 7/8\n",
      "6880/6880 [==============================] - 203s 29ms/step - loss: 7.3733e-04 - acc: 1.4535e-04\n",
      "Epoch 8/8\n",
      "4000/6880 [================>.............] - ETA: 1:24 - loss: 5.8108e-04 - acc: 2.5000e-04"
     ]
    }
   ],
   "source": [
    "neuronsList = [[512, 256, 256, 64, 32, 1],[1024, 512, 512, 128, 64, 1], [256, 128, 128, 32, 16, 1]]\n",
    "layersList = [2,4,6]\n",
    "epochs = 8\n",
    "batchSize = 1000\n",
    "\n",
    "scoreTable = []\n",
    "score = []\n",
    "\n",
    "for layers in layersList:\n",
    "    for neurons in neuronsList:\n",
    "        modelLSTM_F = build_NN(inShapeF, neurons, rnnLayers=layers, nnType='LSTM')\n",
    "        modelLSTM_FW = build_NN(inShapeFW, neurons, rnnLayers=layers, nnType='LSTM')\n",
    "        modelLSTM_FSW = build_NN(inShapeFSW, neurons, rnnLayers=layers, nnType='LSTM')\n",
    "        \n",
    "        modelLSTM_F.fit(XTrainF, yTrainF, batch_size=batchSize, epochs=epochs, verbose=1)\n",
    "        modelLSTM_FW.fit(XTrainFW, yTrainFW, batch_size=batchSize, epochs=epochs, verbose=1)\n",
    "        modelLSTM_FSW.fit(XTrainFSW, yTrainFSW, batch_size=batchSize, epochs=epochs, verbose=1)\n",
    "        \n",
    "        temp = []\n",
    "        temp.append(modelLSTM_F.evaluate(XValidF, yValidF, verbose=0)[0])\n",
    "        temp.append(modelLSTM_FW.evaluate(XValidFW, yValidFW, verbose=0)[0])\n",
    "        temp.append(modelLSTM_FSW.evaluate(XValidFSW, yValidFSW, verbose=0)[0])\n",
    "        \n",
    "        score.append(np.mean(temp))\n",
    "    \n",
    "    scoreTable.append(score)\n",
    "    score = []\n",
    "    "
   ]
  },
  {
   "cell_type": "markdown",
   "metadata": {},
   "source": [
    "### Get the bestLayers and bestNeurons from 'Grid Search'"
   ]
  },
  {
   "cell_type": "code",
   "execution_count": 182,
   "metadata": {
    "collapsed": true
   },
   "outputs": [],
   "source": [
    "scoreTableNP = np.array(scoreTable)\n",
    "idx = np.where(scoreTableNP == np.min(scoreTableNP))\n",
    "\n",
    "bestLayers = np.array(layersList)[idx[0]][0]\n",
    "bestNeurons = np.array(neuronsList)[idx[1]][0]"
   ]
  },
  {
   "cell_type": "code",
   "execution_count": 388,
   "metadata": {},
   "outputs": [
    {
     "data": {
      "text/plain": [
       "[256, 128, 128, 32, 16, 1]"
      ]
     },
     "execution_count": 388,
     "metadata": {},
     "output_type": "execute_result"
    }
   ],
   "source": [
    "list(bestNeurons)"
   ]
  },
  {
   "cell_type": "code",
   "execution_count": 390,
   "metadata": {
    "collapsed": true
   },
   "outputs": [],
   "source": [
    "#neurons list\n",
    "#neurons = [512, 256, 256, 64, 32, 1]\n",
    "neurons2 = list(bestNeurons)\n",
    "neurons = [256, 256, 128, 32, 16, 1]  #NN doesn't like 128 as 2nd neuron value\n",
    "epochs = 10\n",
    "batchSize = 300\n",
    "bestLayers = 4"
   ]
  },
  {
   "cell_type": "code",
   "execution_count": 313,
   "metadata": {
    "collapsed": true
   },
   "outputs": [],
   "source": [
    "modelBASE_F = build_NN(inShapeF, neurons, rnnLayers=bestLayers, nnType='BASE')\n",
    "modelBASE_FW = build_NN(inShapeFW, neurons, rnnLayers=bestLayers, nnType='BASE')\n",
    "modelBASE_FW_F = build_NN(inShapeF, neurons, rnnLayers=bestLayers, nnType='BASE')\n",
    "modelBASE_FSW = build_NN(inShapeFSW, neurons, rnnLayers=bestLayers, nnType='BASE')\n",
    "modelBASE_FSW_F = build_NN(inShapeF, neurons, rnnLayers=bestLayers, nnType='BASE')\n",
    "modelBASE_FSW_FW = build_NN(inShapeFW, neurons, rnnLayers=bestLayers, nnType='BASE')"
   ]
  },
  {
   "cell_type": "code",
   "execution_count": 391,
   "metadata": {},
   "outputs": [
    {
     "name": "stdout",
     "output_type": "stream",
     "text": [
      "_________________________________________________________________\n",
      "Layer (type)                 Output Shape              Param #   \n",
      "=================================================================\n",
      "dense_921 (Dense)            (None, 256)               3072      \n",
      "_________________________________________________________________\n",
      "dense_922 (Dense)            (None, 256)               65792     \n",
      "_________________________________________________________________\n",
      "dense_923 (Dense)            (None, 256)               65792     \n",
      "_________________________________________________________________\n",
      "dense_924 (Dense)            (None, 256)               65792     \n",
      "_________________________________________________________________\n",
      "dense_925 (Dense)            (None, 128)               32896     \n",
      "_________________________________________________________________\n",
      "dense_926 (Dense)            (None, 32)                4128      \n",
      "_________________________________________________________________\n",
      "reshape_31 (Reshape)         (None, 32)                0         \n",
      "_________________________________________________________________\n",
      "dense_927 (Dense)            (None, 16)                528       \n",
      "_________________________________________________________________\n",
      "dense_928 (Dense)            (None, 1)                 17        \n",
      "=================================================================\n",
      "Total params: 238,017\n",
      "Trainable params: 238,017\n",
      "Non-trainable params: 0\n",
      "_________________________________________________________________\n",
      "None \n",
      "\n",
      "_________________________________________________________________\n",
      "Layer (type)                 Output Shape              Param #   \n",
      "=================================================================\n",
      "dense_929 (Dense)            (None, 44, 256)           3328      \n",
      "_________________________________________________________________\n",
      "simple_rnn_138 (SimpleRNN)   (None, 44, 256)           131328    \n",
      "_________________________________________________________________\n",
      "simple_rnn_139 (SimpleRNN)   (None, 44, 256)           131328    \n",
      "_________________________________________________________________\n",
      "simple_rnn_140 (SimpleRNN)   (None, 44, 256)           131328    \n",
      "_________________________________________________________________\n",
      "simple_rnn_141 (SimpleRNN)   (None, 128)               49280     \n",
      "_________________________________________________________________\n",
      "dense_930 (Dense)            (None, 32)                4128      \n",
      "_________________________________________________________________\n",
      "dense_931 (Dense)            (None, 16)                528       \n",
      "_________________________________________________________________\n",
      "dense_932 (Dense)            (None, 1)                 17        \n",
      "=================================================================\n",
      "Total params: 451,265\n",
      "Trainable params: 451,265\n",
      "Non-trainable params: 0\n",
      "_________________________________________________________________\n",
      "None \n",
      "\n",
      "_________________________________________________________________\n",
      "Layer (type)                 Output Shape              Param #   \n",
      "=================================================================\n",
      "dense_933 (Dense)            (None, 44, 256)           3328      \n",
      "_________________________________________________________________\n",
      "gru_106 (GRU)                (None, 44, 256)           393984    \n",
      "_________________________________________________________________\n",
      "gru_107 (GRU)                (None, 44, 256)           393984    \n",
      "_________________________________________________________________\n",
      "gru_108 (GRU)                (None, 44, 256)           393984    \n",
      "_________________________________________________________________\n",
      "gru_109 (GRU)                (None, 128)               147840    \n",
      "_________________________________________________________________\n",
      "dense_934 (Dense)            (None, 32)                4128      \n",
      "_________________________________________________________________\n",
      "dense_935 (Dense)            (None, 16)                528       \n",
      "_________________________________________________________________\n",
      "dense_936 (Dense)            (None, 1)                 17        \n",
      "=================================================================\n",
      "Total params: 1,337,793\n",
      "Trainable params: 1,337,793\n",
      "Non-trainable params: 0\n",
      "_________________________________________________________________\n",
      "None \n",
      "\n",
      "_________________________________________________________________\n",
      "Layer (type)                 Output Shape              Param #   \n",
      "=================================================================\n",
      "dense_937 (Dense)            (None, 44, 256)           3328      \n",
      "_________________________________________________________________\n",
      "lstm_283 (LSTM)              (None, 44, 256)           525312    \n",
      "_________________________________________________________________\n",
      "lstm_284 (LSTM)              (None, 44, 256)           525312    \n",
      "_________________________________________________________________\n",
      "lstm_285 (LSTM)              (None, 44, 256)           525312    \n",
      "_________________________________________________________________\n",
      "lstm_286 (LSTM)              (None, 128)               197120    \n",
      "_________________________________________________________________\n",
      "dense_938 (Dense)            (None, 32)                4128      \n",
      "_________________________________________________________________\n",
      "dense_939 (Dense)            (None, 16)                528       \n",
      "_________________________________________________________________\n",
      "dense_940 (Dense)            (None, 1)                 17        \n",
      "=================================================================\n",
      "Total params: 1,781,057\n",
      "Trainable params: 1,781,057\n",
      "Non-trainable params: 0\n",
      "_________________________________________________________________\n",
      "None \n",
      "\n"
     ]
    }
   ],
   "source": [
    "modelBASE_F = build_NN(inShapeF, neurons, rnnLayers=bestLayers, nnType='BASE')\n",
    "modelRNN_F = build_NN(inShapeF, neurons, rnnLayers=bestLayers, nnType='RNN')\n",
    "modelGRU_F = build_NN(inShapeF, neurons, rnnLayers=bestLayers, nnType='GRU')\n",
    "modelLSTM_F = build_NN(inShapeF, neurons, rnnLayers=bestLayers, nnType='LSTM')\n",
    "\n",
    "#Futures & Weather\n",
    "modelBASE_FW = build_NN(inShapeFW, neurons, rnnLayers=bestLayers, nnType='BASE')\n",
    "modelRNN_FW = build_NN(inShapeFW, neurons, rnnLayers=bestLayers, nnType='RNN')\n",
    "modelGRU_FW = build_NN(inShapeFW, neurons, rnnLayers=bestLayers, nnType='GRU')\n",
    "modelLSTM_FW = build_NN(inShapeFW, neurons, rnnLayers=bestLayers, nnType='LSTM')\n",
    "\n",
    "#Futures only but Weather length\n",
    "modelBASE_FW_F = build_NN(inShapeF, neurons, rnnLayers=bestLayers, nnType='BASE')\n",
    "modelRNN_FW_F = build_NN(inShapeF, neurons, rnnLayers=bestLayers, nnType='RNN')\n",
    "modelGRU_FW_F = build_NN(inShapeF, neurons, rnnLayers=bestLayers, nnType='GRU')\n",
    "modelLSTM_FW_F = build_NN(inShapeF, neurons, rnnLayers=bestLayers, nnType='LSTM')\n",
    "\n",
    "\n",
    "# Futures & Stock & Weather\n",
    "modelBASE_FSW = build_NN(inShapeFSW, neurons, rnnLayers=bestLayers, nnType='BASE')\n",
    "modelRNN_FSW = build_NN(inShapeFSW, neurons, rnnLayers=bestLayers, nnType='RNN')\n",
    "modelGRU_FSW = build_NN(inShapeFSW, neurons, rnnLayers=bestLayers, nnType='GRU')\n",
    "modelLSTM_FSW = build_NN(inShapeFSW, neurons, rnnLayers=bestLayers, nnType='LSTM')\n",
    "\n",
    "#Futures only but stock length\n",
    "modelBASE_FSW_F = build_NN(inShapeF, neurons, rnnLayers=bestLayers, nnType='BASE')\n",
    "modelRNN_FSW_F = build_NN(inShapeF, neurons, rnnLayers=bestLayers, nnType='RNN')\n",
    "modelGRU_FSW_F = build_NN(inShapeF, neurons, rnnLayers=bestLayers, nnType='GRU')\n",
    "modelLSTM_FSW_F = build_NN(inShapeF, neurons, rnnLayers=bestLayers, nnType='LSTM')\n",
    "\n",
    "#Futures & weather only but stock length\n",
    "modelBASE_FSW_FW = build_NN(inShapeFW, neurons, rnnLayers=bestLayers, nnType='BASE')\n",
    "modelRNN_FSW_FW = build_NN(inShapeFW, neurons, rnnLayers=bestLayers, nnType='RNN')\n",
    "modelGRU_FSW_FW = build_NN(inShapeFW, neurons, rnnLayers=bestLayers, nnType='GRU')\n",
    "modelLSTM_FSW_FW = build_NN(inShapeFW, neurons, rnnLayers=bestLayers, nnType='LSTM')\n",
    "\n",
    "print(modelBASE_F.summary(),'\\n')\n",
    "print(modelRNN_F.summary(),'\\n')\n",
    "print(modelGRU_F.summary(),'\\n')\n",
    "print(modelLSTM_F.summary(),'\\n')"
   ]
  },
  {
   "cell_type": "code",
   "execution_count": 392,
   "metadata": {
    "collapsed": true
   },
   "outputs": [],
   "source": [
    "#get the loss\n",
    "def model_traintest_loss(mod, XTrain, yTrain, XTest, yTest):\n",
    "    trainLoss = mod.evaluate(XTrain, yTrain, verbose=0)\n",
    "    testLoss = mod.evaluate(XTest, yTest, verbose=0)\n",
    "    print('Train Score: {:.5f} MSE ({:.2f} RMSE)'.format(trainLoss[0], math.sqrt(trainLoss[0])))\n",
    "    print('Test Score: {:.5f} MSE ({:.2f} RMSE)'.format(testLoss[0], math.sqrt(testLoss[0])))\n",
    "    return trainLoss[0], testLoss[0]\n",
    "\n",
    "def model_loss(mod, X, y):\n",
    "    loss = mod.evaluate(X, y, verbose=0)\n",
    "    #print('Train Score: {:.5f} MSE ({:.2f} RMSE)'.format(trainLoss[0], math.sqrt(trainLoss[0])))\n",
    "    #print('Test Score: {:.5f} MSE ({:.2f} RMSE)'.format(testLoss[0], math.sqrt(testLoss[0])))\n",
    "    return loss[0]  #returns MSE"
   ]
  },
  {
   "cell_type": "markdown",
   "metadata": {},
   "source": [
    "## Fit Models:  Futures"
   ]
  },
  {
   "cell_type": "code",
   "execution_count": 393,
   "metadata": {},
   "outputs": [
    {
     "name": "stdout",
     "output_type": "stream",
     "text": [
      "_________________________________________________________________\n",
      "Layer (type)                 Output Shape              Param #   \n",
      "=================================================================\n",
      "dense_921 (Dense)            (None, 256)               3072      \n",
      "_________________________________________________________________\n",
      "dense_922 (Dense)            (None, 256)               65792     \n",
      "_________________________________________________________________\n",
      "dense_923 (Dense)            (None, 256)               65792     \n",
      "_________________________________________________________________\n",
      "dense_924 (Dense)            (None, 256)               65792     \n",
      "_________________________________________________________________\n",
      "dense_925 (Dense)            (None, 128)               32896     \n",
      "_________________________________________________________________\n",
      "dense_926 (Dense)            (None, 32)                4128      \n",
      "_________________________________________________________________\n",
      "reshape_31 (Reshape)         (None, 32)                0         \n",
      "_________________________________________________________________\n",
      "dense_927 (Dense)            (None, 16)                528       \n",
      "_________________________________________________________________\n",
      "dense_928 (Dense)            (None, 1)                 17        \n",
      "=================================================================\n",
      "Total params: 238,017\n",
      "Trainable params: 238,017\n",
      "Non-trainable params: 0\n",
      "_________________________________________________________________\n"
     ]
    }
   ],
   "source": [
    "modelBASE_F.summary()"
   ]
  },
  {
   "cell_type": "code",
   "execution_count": 314,
   "metadata": {},
   "outputs": [
    {
     "name": "stdout",
     "output_type": "stream",
     "text": [
      "Train on 5539 samples, validate on 1385 samples\n",
      "Epoch 1/10\n",
      "5539/5539 [==============================] - 29s 5ms/step - loss: 0.0082 - acc: 1.8054e-04 - val_loss: 8.2380e-04 - val_acc: 0.0000e+00\n",
      "Epoch 2/10\n",
      "5539/5539 [==============================] - 0s 54us/step - loss: 0.0011 - acc: 1.8054e-04 - val_loss: 1.6145e-04 - val_acc: 0.0000e+00\n",
      "Epoch 3/10\n",
      "5539/5539 [==============================] - 0s 51us/step - loss: 2.3577e-04 - acc: 1.8054e-04 - val_loss: 1.1604e-04 - val_acc: 0.0000e+00\n",
      "Epoch 4/10\n",
      "5539/5539 [==============================] - 0s 59us/step - loss: 1.1785e-04 - acc: 1.8054e-04 - val_loss: 6.5528e-05 - val_acc: 0.0000e+00\n",
      "Epoch 5/10\n",
      "5539/5539 [==============================] - 0s 52us/step - loss: 5.6688e-05 - acc: 1.8054e-04 - val_loss: 3.6824e-05 - val_acc: 0.0000e+00\n",
      "Epoch 6/10\n",
      "5539/5539 [==============================] - 0s 54us/step - loss: 2.5167e-05 - acc: 1.8054e-04 - val_loss: 1.1780e-05 - val_acc: 0.0000e+00\n",
      "Epoch 7/10\n",
      "5539/5539 [==============================] - 0s 52us/step - loss: 1.0655e-05 - acc: 1.8054e-04 - val_loss: 1.1371e-05 - val_acc: 0.0000e+00\n",
      "Epoch 8/10\n",
      "5539/5539 [==============================] - 0s 62us/step - loss: 8.5166e-06 - acc: 1.8054e-04 - val_loss: 8.4094e-06 - val_acc: 0.0000e+00\n",
      "Epoch 9/10\n",
      "5539/5539 [==============================] - 0s 54us/step - loss: 7.0484e-06 - acc: 1.8054e-04 - val_loss: 6.5121e-06 - val_acc: 0.0000e+00\n",
      "Epoch 10/10\n",
      "5539/5539 [==============================] - 0s 56us/step - loss: 5.8453e-06 - acc: 1.8054e-04 - val_loss: 6.0091e-06 - val_acc: 0.0000e+00\n",
      "Train on 1745 samples, validate on 437 samples\n",
      "Epoch 1/10\n",
      "1745/1745 [==============================] - 29s 17ms/step - loss: 0.0774 - acc: 0.0000e+00 - val_loss: 0.0304 - val_acc: 0.0000e+00\n",
      "Epoch 2/10\n",
      "1745/1745 [==============================] - 0s 139us/step - loss: 0.0375 - acc: 0.0000e+00 - val_loss: 0.0282 - val_acc: 0.0000e+00\n",
      "Epoch 3/10\n",
      "1745/1745 [==============================] - 0s 142us/step - loss: 0.0351 - acc: 0.0000e+00 - val_loss: 0.0300 - val_acc: 0.0000e+00\n",
      "Epoch 4/10\n",
      "1745/1745 [==============================] - 0s 152us/step - loss: 0.0338 - acc: 0.0000e+00 - val_loss: 0.0320 - val_acc: 0.0000e+00\n",
      "Epoch 5/10\n",
      "1745/1745 [==============================] - 0s 138us/step - loss: 0.0320 - acc: 0.0000e+00 - val_loss: 0.0432 - val_acc: 0.0000e+00\n",
      "Epoch 6/10\n",
      "1745/1745 [==============================] - 0s 136us/step - loss: 0.0309 - acc: 0.0000e+00 - val_loss: 0.0167 - val_acc: 0.0000e+00\n",
      "Epoch 7/10\n",
      "1745/1745 [==============================] - 0s 138us/step - loss: 0.0272 - acc: 0.0000e+00 - val_loss: 0.0103 - val_acc: 0.0000e+00\n",
      "Epoch 8/10\n",
      "1745/1745 [==============================] - 0s 146us/step - loss: 0.0211 - acc: 0.0000e+00 - val_loss: 0.0531 - val_acc: 0.0000e+00\n",
      "Epoch 9/10\n",
      "1745/1745 [==============================] - 0s 135us/step - loss: 0.0248 - acc: 5.7307e-04 - val_loss: 0.0297 - val_acc: 0.0000e+00\n",
      "Epoch 10/10\n",
      "1745/1745 [==============================] - 0s 138us/step - loss: 0.0155 - acc: 5.7307e-04 - val_loss: 0.0186 - val_acc: 0.0000e+00\n",
      "Train on 1745 samples, validate on 437 samples\n",
      "Epoch 1/10\n",
      "1745/1745 [==============================] - 30s 17ms/step - loss: 0.1572 - acc: 0.0000e+00 - val_loss: 0.1623 - val_acc: 0.0000e+00\n",
      "Epoch 2/10\n",
      "1745/1745 [==============================] - 0s 65us/step - loss: 0.0455 - acc: 5.7307e-04 - val_loss: 0.0459 - val_acc: 0.0000e+00\n",
      "Epoch 3/10\n",
      "1745/1745 [==============================] - 0s 82us/step - loss: 0.0164 - acc: 5.7307e-04 - val_loss: 0.0269 - val_acc: 0.0000e+00\n",
      "Epoch 4/10\n",
      "1745/1745 [==============================] - 0s 75us/step - loss: 0.0119 - acc: 5.7307e-04 - val_loss: 0.0019 - val_acc: 0.0000e+00\n",
      "Epoch 5/10\n",
      "1745/1745 [==============================] - 0s 67us/step - loss: 0.0055 - acc: 5.7307e-04 - val_loss: 0.0017 - val_acc: 0.0000e+00\n",
      "Epoch 6/10\n",
      "1745/1745 [==============================] - 0s 67us/step - loss: 0.0032 - acc: 5.7307e-04 - val_loss: 0.0035 - val_acc: 0.0000e+00\n",
      "Epoch 7/10\n",
      "1745/1745 [==============================] - 0s 65us/step - loss: 0.0021 - acc: 5.7307e-04 - val_loss: 0.0029 - val_acc: 0.0000e+00\n",
      "Epoch 8/10\n",
      "1745/1745 [==============================] - 0s 57us/step - loss: 0.0018 - acc: 5.7307e-04 - val_loss: 0.0013 - val_acc: 0.0000e+00\n",
      "Epoch 9/10\n",
      "1745/1745 [==============================] - 0s 70us/step - loss: 0.0013 - acc: 5.7307e-04 - val_loss: 0.0014 - val_acc: 0.0000e+00\n",
      "Epoch 10/10\n",
      "1745/1745 [==============================] - 0s 69us/step - loss: 0.0010 - acc: 5.7307e-04 - val_loss: 7.1884e-04 - val_acc: 0.0000e+00\n",
      "Train on 854 samples, validate on 214 samples\n",
      "Epoch 1/10\n",
      "854/854 [==============================] - 28s 33ms/step - loss: 0.1436 - acc: 0.0000e+00 - val_loss: 0.2849 - val_acc: 0.0000e+00\n",
      "Epoch 2/10\n",
      "854/854 [==============================] - 0s 127us/step - loss: 0.0501 - acc: 0.0000e+00 - val_loss: 0.0100 - val_acc: 0.0000e+00\n",
      "Epoch 3/10\n",
      "854/854 [==============================] - 0s 141us/step - loss: 0.0247 - acc: 0.0000e+00 - val_loss: 0.0692 - val_acc: 0.0000e+00\n",
      "Epoch 4/10\n",
      "854/854 [==============================] - 0s 138us/step - loss: 0.0165 - acc: 0.0000e+00 - val_loss: 0.0523 - val_acc: 0.0000e+00\n",
      "Epoch 5/10\n",
      "854/854 [==============================] - 0s 125us/step - loss: 0.0135 - acc: 0.0000e+00 - val_loss: 0.0301 - val_acc: 0.0000e+00\n",
      "Epoch 6/10\n",
      "854/854 [==============================] - 0s 141us/step - loss: 0.0120 - acc: 0.0000e+00 - val_loss: 0.0679 - val_acc: 0.0000e+00\n",
      "Epoch 7/10\n",
      "854/854 [==============================] - 0s 129us/step - loss: 0.0118 - acc: 0.0000e+00 - val_loss: 0.0278 - val_acc: 0.0000e+00\n",
      "Epoch 8/10\n",
      "854/854 [==============================] - 0s 127us/step - loss: 0.0108 - acc: 0.0000e+00 - val_loss: 0.0573 - val_acc: 0.0000e+00\n",
      "Epoch 9/10\n",
      "854/854 [==============================] - 0s 126us/step - loss: 0.0105 - acc: 0.0000e+00 - val_loss: 0.0320 - val_acc: 0.0000e+00\n",
      "Epoch 10/10\n",
      "854/854 [==============================] - 0s 160us/step - loss: 0.0102 - acc: 0.0000e+00 - val_loss: 0.0453 - val_acc: 0.0000e+00\n",
      "Train on 854 samples, validate on 214 samples\n",
      "Epoch 1/10\n",
      "854/854 [==============================] - 30s 35ms/step - loss: 0.2205 - acc: 0.0000e+00 - val_loss: 0.0564 - val_acc: 0.0000e+00\n",
      "Epoch 2/10\n",
      "854/854 [==============================] - 0s 79us/step - loss: 0.1326 - acc: 0.0000e+00 - val_loss: 0.0071 - val_acc: 0.0000e+00\n",
      "Epoch 3/10\n",
      "854/854 [==============================] - 0s 69us/step - loss: 0.0214 - acc: 0.0000e+00 - val_loss: 0.0459 - val_acc: 0.0000e+00\n",
      "Epoch 4/10\n",
      "854/854 [==============================] - 0s 77us/step - loss: 0.0387 - acc: 0.0000e+00 - val_loss: 0.0064 - val_acc: 0.0000e+00\n",
      "Epoch 5/10\n",
      "854/854 [==============================] - 0s 72us/step - loss: 0.0055 - acc: 0.0000e+00 - val_loss: 0.0014 - val_acc: 0.0000e+00\n",
      "Epoch 6/10\n",
      "854/854 [==============================] - 0s 64us/step - loss: 0.0197 - acc: 0.0000e+00 - val_loss: 0.0016 - val_acc: 0.0000e+00\n",
      "Epoch 7/10\n",
      "854/854 [==============================] - 0s 63us/step - loss: 0.0137 - acc: 0.0000e+00 - val_loss: 0.0012 - val_acc: 0.0000e+00\n",
      "Epoch 8/10\n",
      "854/854 [==============================] - 0s 59us/step - loss: 0.0032 - acc: 0.0000e+00 - val_loss: 0.0119 - val_acc: 0.0000e+00\n",
      "Epoch 9/10\n",
      "854/854 [==============================] - 0s 64us/step - loss: 0.0089 - acc: 0.0000e+00 - val_loss: 0.0096 - val_acc: 0.0000e+00\n",
      "Epoch 10/10\n",
      "854/854 [==============================] - 0s 57us/step - loss: 0.0036 - acc: 0.0000e+00 - val_loss: 0.0016 - val_acc: 0.0000e+00\n",
      "Train on 854 samples, validate on 214 samples\n",
      "Epoch 1/10\n",
      "854/854 [==============================] - 29s 34ms/step - loss: 0.2233 - acc: 0.0000e+00 - val_loss: 0.0033 - val_acc: 0.0000e+00\n",
      "Epoch 2/10\n",
      "854/854 [==============================] - 0s 129us/step - loss: 0.0524 - acc: 0.0000e+00 - val_loss: 0.1670 - val_acc: 0.0000e+00\n",
      "Epoch 3/10\n",
      "854/854 [==============================] - 0s 124us/step - loss: 0.0270 - acc: 0.0000e+00 - val_loss: 0.0101 - val_acc: 0.0000e+00\n",
      "Epoch 4/10\n",
      "854/854 [==============================] - 0s 138us/step - loss: 0.0236 - acc: 0.0000e+00 - val_loss: 0.0564 - val_acc: 0.0000e+00\n",
      "Epoch 5/10\n",
      "854/854 [==============================] - 0s 131us/step - loss: 0.0166 - acc: 0.0000e+00 - val_loss: 0.0520 - val_acc: 0.0000e+00\n"
     ]
    },
    {
     "name": "stdout",
     "output_type": "stream",
     "text": [
      "Epoch 6/10\n",
      "854/854 [==============================] - 0s 126us/step - loss: 0.0135 - acc: 0.0000e+00 - val_loss: 0.0336 - val_acc: 0.0000e+00\n",
      "Epoch 7/10\n",
      "854/854 [==============================] - 0s 132us/step - loss: 0.0124 - acc: 0.0000e+00 - val_loss: 0.0660 - val_acc: 0.0000e+00\n",
      "Epoch 8/10\n",
      "854/854 [==============================] - 0s 126us/step - loss: 0.0116 - acc: 0.0000e+00 - val_loss: 0.0299 - val_acc: 0.0000e+00\n",
      "Epoch 9/10\n",
      "854/854 [==============================] - 0s 126us/step - loss: 0.0109 - acc: 0.0000e+00 - val_loss: 0.0550 - val_acc: 0.0000e+00\n",
      "Epoch 10/10\n",
      "854/854 [==============================] - 0s 133us/step - loss: 0.0102 - acc: 0.0000e+00 - val_loss: 0.0322 - val_acc: 0.0000e+00\n"
     ]
    },
    {
     "data": {
      "text/plain": [
       "<keras.callbacks.History at 0x1f8657fd0>"
      ]
     },
     "execution_count": 314,
     "metadata": {},
     "output_type": "execute_result"
    }
   ],
   "source": [
    "# modelBASE_F.fit(XTrainF_Base, yTrainF_Base, batch_size=batchSize, epochs=epochs, validation_split=0.2, verbose=1)\n",
    "# modelBASE_FW.fit(XTrainFW_Base, yTrainFW_Base, batch_size=batchSize, epochs=epochs, validation_split=0.2, verbose=1)\n",
    "# modelBASE_FW_F.fit(XTrainFW_F_Base, yTrainFW_F_Base, batch_size=batchSize, epochs=epochs, validation_split=0.2, verbose=1)\n",
    "# modelBASE_FSW.fit(XTrainFSW_Base, yTrainFSW_Base, batch_size=batchSize, epochs=epochs, validation_split=0.2, verbose=1)\n",
    "# modelBASE_FSW_F.fit(XTrainFSW_F_Base, yTrainFSW_F_Base, batch_size=batchSize, epochs=epochs, validation_split=0.2, verbose=1)\n",
    "# modelBASE_FSW_FW.fit(XTrainFSW_FW_Base, yTrainFSW_FW_Base, batch_size=batchSize, epochs=epochs, validation_split=0.2, verbose=1)"
   ]
  },
  {
   "cell_type": "code",
   "execution_count": 394,
   "metadata": {
    "scrolled": true
   },
   "outputs": [
    {
     "name": "stdout",
     "output_type": "stream",
     "text": [
      "Train on 5528 samples, validate on 1382 samples\n",
      "Epoch 1/10\n",
      "5528/5528 [==============================] - 43s 8ms/step - loss: 0.0080 - acc: 1.8090e-04 - val_loss: 0.0010 - val_acc: 0.0000e+00\n",
      "Epoch 2/10\n",
      "5528/5528 [==============================] - 0s 65us/step - loss: 0.0013 - acc: 1.8090e-04 - val_loss: 5.3725e-04 - val_acc: 0.0000e+00\n",
      "Epoch 3/10\n",
      "5528/5528 [==============================] - 0s 64us/step - loss: 6.6372e-04 - acc: 1.8090e-04 - val_loss: 5.0898e-04 - val_acc: 0.0000e+00\n",
      "Epoch 4/10\n",
      "5528/5528 [==============================] - 0s 63us/step - loss: 5.4174e-04 - acc: 1.8090e-04 - val_loss: 4.5347e-04 - val_acc: 0.0000e+00\n",
      "Epoch 5/10\n",
      "5528/5528 [==============================] - 0s 62us/step - loss: 4.8429e-04 - acc: 1.8090e-04 - val_loss: 4.2850e-04 - val_acc: 0.0000e+00\n",
      "Epoch 6/10\n",
      "5528/5528 [==============================] - 0s 61us/step - loss: 4.4950e-04 - acc: 1.8090e-04 - val_loss: 4.3480e-04 - val_acc: 0.0000e+00\n",
      "Epoch 7/10\n",
      "5528/5528 [==============================] - 0s 66us/step - loss: 4.3941e-04 - acc: 1.8090e-04 - val_loss: 4.2845e-04 - val_acc: 0.0000e+00\n",
      "Epoch 8/10\n",
      "5528/5528 [==============================] - 0s 70us/step - loss: 4.3069e-04 - acc: 1.8090e-04 - val_loss: 4.3084e-04 - val_acc: 0.0000e+00\n",
      "Epoch 9/10\n",
      "5528/5528 [==============================] - 0s 62us/step - loss: 4.3703e-04 - acc: 1.8090e-04 - val_loss: 4.5628e-04 - val_acc: 0.0000e+00\n",
      "Epoch 10/10\n",
      "5528/5528 [==============================] - 0s 65us/step - loss: 4.4120e-04 - acc: 1.8090e-04 - val_loss: 4.2271e-04 - val_acc: 0.0000e+00\n",
      "Train on 5504 samples, validate on 1376 samples\n",
      "Epoch 1/10\n",
      "5504/5504 [==============================] - 48s 9ms/step - loss: 0.0050 - acc: 1.8169e-04 - val_loss: 7.3921e-04 - val_acc: 0.0000e+00\n",
      "Epoch 2/10\n",
      "5504/5504 [==============================] - 19s 3ms/step - loss: 7.6547e-04 - acc: 1.8169e-04 - val_loss: 4.8663e-04 - val_acc: 0.0000e+00\n",
      "Epoch 3/10\n",
      "5504/5504 [==============================] - 18s 3ms/step - loss: 6.8992e-04 - acc: 1.8169e-04 - val_loss: 4.6152e-04 - val_acc: 0.0000e+00\n",
      "Epoch 4/10\n",
      "5504/5504 [==============================] - 19s 3ms/step - loss: 5.2912e-04 - acc: 1.8169e-04 - val_loss: 3.8538e-04 - val_acc: 0.0000e+00\n",
      "Epoch 5/10\n",
      "5504/5504 [==============================] - 17s 3ms/step - loss: 4.1649e-04 - acc: 1.8169e-04 - val_loss: 3.1295e-04 - val_acc: 0.0000e+00\n",
      "Epoch 6/10\n",
      "5504/5504 [==============================] - 18s 3ms/step - loss: 6.8329e-04 - acc: 1.8169e-04 - val_loss: 4.4462e-04 - val_acc: 0.0000e+00\n",
      "Epoch 7/10\n",
      "5504/5504 [==============================] - 18s 3ms/step - loss: 6.5752e-04 - acc: 1.8169e-04 - val_loss: 6.1595e-04 - val_acc: 0.0000e+00\n",
      "Epoch 8/10\n",
      "5504/5504 [==============================] - 17s 3ms/step - loss: 4.3289e-04 - acc: 1.8169e-04 - val_loss: 3.0818e-04 - val_acc: 0.0000e+00\n",
      "Epoch 9/10\n",
      "5504/5504 [==============================] - 16s 3ms/step - loss: 3.4448e-04 - acc: 1.8169e-04 - val_loss: 2.4782e-04 - val_acc: 0.0000e+00\n",
      "Epoch 10/10\n",
      "5504/5504 [==============================] - 17s 3ms/step - loss: 2.4862e-04 - acc: 1.8169e-04 - val_loss: 2.5962e-04 - val_acc: 0.0000e+00\n",
      "Train on 5504 samples, validate on 1376 samples\n",
      "Epoch 1/10\n",
      "5504/5504 [==============================] - 76s 14ms/step - loss: 0.0051 - acc: 1.8169e-04 - val_loss: 6.1689e-04 - val_acc: 0.0000e+00\n",
      "Epoch 2/10\n",
      "5504/5504 [==============================] - 49s 9ms/step - loss: 8.1727e-04 - acc: 1.8169e-04 - val_loss: 5.8558e-04 - val_acc: 0.0000e+00\n",
      "Epoch 3/10\n",
      "5504/5504 [==============================] - 58s 11ms/step - loss: 5.1117e-04 - acc: 1.8169e-04 - val_loss: 3.8141e-04 - val_acc: 0.0000e+00\n",
      "Epoch 4/10\n",
      "5504/5504 [==============================] - 58s 11ms/step - loss: 3.4256e-04 - acc: 1.8169e-04 - val_loss: 2.6736e-04 - val_acc: 0.0000e+00\n",
      "Epoch 5/10\n",
      "5504/5504 [==============================] - 60s 11ms/step - loss: 2.4773e-04 - acc: 1.8169e-04 - val_loss: 1.9392e-04 - val_acc: 0.0000e+00\n",
      "Epoch 6/10\n",
      "5504/5504 [==============================] - 59s 11ms/step - loss: 1.8304e-04 - acc: 1.8169e-04 - val_loss: 1.3335e-04 - val_acc: 0.0000e+00\n",
      "Epoch 7/10\n",
      "5504/5504 [==============================] - 61s 11ms/step - loss: 1.2115e-04 - acc: 1.8169e-04 - val_loss: 1.5042e-04 - val_acc: 0.0000e+00\n",
      "Epoch 8/10\n",
      "5504/5504 [==============================] - 63s 11ms/step - loss: 1.4474e-04 - acc: 1.8169e-04 - val_loss: 7.8166e-05 - val_acc: 0.0000e+00\n",
      "Epoch 9/10\n",
      "5504/5504 [==============================] - 61s 11ms/step - loss: 7.1597e-05 - acc: 1.8169e-04 - val_loss: 6.4473e-05 - val_acc: 0.0000e+00\n",
      "Epoch 10/10\n",
      "5504/5504 [==============================] - 64s 12ms/step - loss: 6.5498e-05 - acc: 1.8169e-04 - val_loss: 7.0362e-05 - val_acc: 0.0000e+00\n",
      "Train on 5504 samples, validate on 1376 samples\n",
      "Epoch 1/10\n",
      "5504/5504 [==============================] - 132s 24ms/step - loss: 0.0094 - acc: 1.8169e-04 - val_loss: 0.0014 - val_acc: 0.0000e+00\n",
      "Epoch 2/10\n",
      "5504/5504 [==============================] - 74s 14ms/step - loss: 0.0044 - acc: 1.8169e-04 - val_loss: 0.0022 - val_acc: 0.0000e+00\n",
      "Epoch 3/10\n",
      "5504/5504 [==============================] - 76s 14ms/step - loss: 0.0043 - acc: 1.8169e-04 - val_loss: 0.0018 - val_acc: 0.0000e+00\n",
      "Epoch 4/10\n",
      "5504/5504 [==============================] - 76s 14ms/step - loss: 0.0043 - acc: 1.8169e-04 - val_loss: 0.0020 - val_acc: 0.0000e+00\n",
      "Epoch 5/10\n",
      "5504/5504 [==============================] - 78s 14ms/step - loss: 0.0042 - acc: 1.8169e-04 - val_loss: 0.0018 - val_acc: 0.0000e+00\n",
      "Epoch 6/10\n",
      "5504/5504 [==============================] - 78s 14ms/step - loss: 0.0031 - acc: 1.8169e-04 - val_loss: 0.0016 - val_acc: 0.0000e+00\n",
      "Epoch 7/10\n",
      "5504/5504 [==============================] - 75s 14ms/step - loss: 0.0015 - acc: 1.8169e-04 - val_loss: 8.0994e-04 - val_acc: 0.0000e+00\n",
      "Epoch 8/10\n",
      "5504/5504 [==============================] - 76s 14ms/step - loss: 7.8714e-04 - acc: 1.8169e-04 - val_loss: 5.8790e-04 - val_acc: 0.0000e+00\n",
      "Epoch 9/10\n",
      "5504/5504 [==============================] - 77s 14ms/step - loss: 5.4381e-04 - acc: 1.8169e-04 - val_loss: 8.4829e-04 - val_acc: 0.0000e+00\n",
      "Epoch 10/10\n",
      "5504/5504 [==============================] - 80s 14ms/step - loss: 5.4607e-04 - acc: 1.8169e-04 - val_loss: 5.9982e-04 - val_acc: 0.0000e+00\n",
      "CPU times: user 1h 31min 25s, sys: 14min 23s, total: 1h 45min 48s\n",
      "Wall time: 28min 10s\n"
     ]
    }
   ],
   "source": [
    "%%time\n",
    "modelBASE_F.fit(XTrainF_Base, yTrainF_Base, batch_size=batchSize, epochs=epochs, validation_split=0.2, verbose=1)\n",
    "modelRNN_F.fit(XTrainF, yTrainF, batch_size=batchSize, epochs=epochs, validation_split=0.2, verbose=1)\n",
    "modelGRU_F.fit(XTrainF, yTrainF, batch_size=batchSize, epochs=epochs, validation_split=0.2, verbose=1)\n",
    "modelLSTM_F.fit(XTrainF, yTrainF, batch_size=batchSize, epochs=epochs, validation_split=0.2, verbose=1)"
   ]
  },
  {
   "cell_type": "markdown",
   "metadata": {},
   "source": [
    "## Fit Models:  Futures + Weather data"
   ]
  },
  {
   "cell_type": "code",
   "execution_count": 395,
   "metadata": {
    "scrolled": true
   },
   "outputs": [
    {
     "name": "stdout",
     "output_type": "stream",
     "text": [
      "Train on 1745 samples, validate on 437 samples\n",
      "Epoch 1/10\n",
      "1745/1745 [==============================] - 55s 31ms/step - loss: 0.1161 - acc: 0.0000e+00 - val_loss: 0.0148 - val_acc: 0.0000e+00\n",
      "Epoch 2/10\n",
      "1745/1745 [==============================] - 0s 214us/step - loss: 0.0460 - acc: 0.0000e+00 - val_loss: 0.0389 - val_acc: 0.0000e+00\n",
      "Epoch 3/10\n",
      "1745/1745 [==============================] - 0s 207us/step - loss: 0.0375 - acc: 0.0000e+00 - val_loss: 0.0529 - val_acc: 0.0000e+00\n",
      "Epoch 4/10\n",
      "1745/1745 [==============================] - 0s 204us/step - loss: 0.0354 - acc: 0.0000e+00 - val_loss: 0.0236 - val_acc: 0.0000e+00\n",
      "Epoch 5/10\n",
      "1745/1745 [==============================] - 0s 180us/step - loss: 0.0344 - acc: 0.0000e+00 - val_loss: 0.0309 - val_acc: 0.0000e+00\n",
      "Epoch 6/10\n",
      "1745/1745 [==============================] - 1s 329us/step - loss: 0.0336 - acc: 0.0000e+00 - val_loss: 0.0370 - val_acc: 0.0000e+00\n",
      "Epoch 7/10\n",
      "1745/1745 [==============================] - 0s 241us/step - loss: 0.0328 - acc: 0.0000e+00 - val_loss: 0.0409 - val_acc: 0.0000e+00\n",
      "Epoch 8/10\n",
      "1745/1745 [==============================] - 0s 200us/step - loss: 0.0322 - acc: 0.0000e+00 - val_loss: 0.0284 - val_acc: 0.0000e+00\n",
      "Epoch 9/10\n",
      "1745/1745 [==============================] - 0s 198us/step - loss: 0.0310 - acc: 0.0000e+00 - val_loss: 0.0285 - val_acc: 0.0000e+00\n",
      "Epoch 10/10\n",
      "1745/1745 [==============================] - 0s 202us/step - loss: 0.0299 - acc: 0.0000e+00 - val_loss: 0.0277 - val_acc: 0.0000e+00\n",
      "Train on 1721 samples, validate on 431 samples\n",
      "Epoch 1/10\n",
      "1721/1721 [==============================] - 81s 47ms/step - loss: 0.1152 - acc: 0.0000e+00 - val_loss: 0.0671 - val_acc: 0.0000e+00\n",
      "Epoch 2/10\n",
      "1721/1721 [==============================] - 12s 7ms/step - loss: 0.0361 - acc: 0.0000e+00 - val_loss: 0.0145 - val_acc: 0.0000e+00\n",
      "Epoch 3/10\n",
      "1721/1721 [==============================] - 11s 7ms/step - loss: 0.0364 - acc: 0.0000e+00 - val_loss: 0.0189 - val_acc: 0.0000e+00\n",
      "Epoch 4/10\n",
      "1721/1721 [==============================] - 11s 7ms/step - loss: 0.0331 - acc: 0.0000e+00 - val_loss: 0.0366 - val_acc: 0.0000e+00\n",
      "Epoch 5/10\n",
      "1721/1721 [==============================] - 13s 8ms/step - loss: 0.0332 - acc: 0.0000e+00 - val_loss: 0.0287 - val_acc: 0.0000e+00\n",
      "Epoch 6/10\n",
      "1721/1721 [==============================] - 12s 7ms/step - loss: 0.0327 - acc: 0.0000e+00 - val_loss: 0.0238 - val_acc: 0.0000e+00\n",
      "Epoch 7/10\n",
      "1721/1721 [==============================] - 12s 7ms/step - loss: 0.0328 - acc: 0.0000e+00 - val_loss: 0.0265 - val_acc: 0.0000e+00\n",
      "Epoch 8/10\n",
      "1721/1721 [==============================] - 12s 7ms/step - loss: 0.0326 - acc: 0.0000e+00 - val_loss: 0.0290 - val_acc: 0.0000e+00\n",
      "Epoch 9/10\n",
      "1721/1721 [==============================] - 12s 7ms/step - loss: 0.0327 - acc: 0.0000e+00 - val_loss: 0.0277 - val_acc: 0.0000e+00\n",
      "Epoch 10/10\n",
      "1721/1721 [==============================] - 11s 7ms/step - loss: 0.0327 - acc: 0.0000e+00 - val_loss: 0.0250 - val_acc: 0.0000e+00\n",
      "Train on 1721 samples, validate on 431 samples\n",
      "Epoch 1/10\n",
      "1721/1721 [==============================] - 86s 50ms/step - loss: 0.0751 - acc: 0.0000e+00 - val_loss: 0.0233 - val_acc: 0.0000e+00\n",
      "Epoch 2/10\n",
      "1721/1721 [==============================] - 24s 14ms/step - loss: 0.0344 - acc: 0.0000e+00 - val_loss: 0.0201 - val_acc: 0.0000e+00\n",
      "Epoch 3/10\n",
      "1721/1721 [==============================] - 25s 14ms/step - loss: 0.0334 - acc: 0.0000e+00 - val_loss: 0.0323 - val_acc: 0.0000e+00\n",
      "Epoch 4/10\n",
      "1721/1721 [==============================] - 23s 14ms/step - loss: 0.0329 - acc: 0.0000e+00 - val_loss: 0.0233 - val_acc: 0.0000e+00\n",
      "Epoch 5/10\n",
      "1721/1721 [==============================] - 22s 13ms/step - loss: 0.0330 - acc: 0.0000e+00 - val_loss: 0.0302 - val_acc: 0.0000e+00\n",
      "Epoch 6/10\n",
      "1721/1721 [==============================] - 22s 13ms/step - loss: 0.0328 - acc: 0.0000e+00 - val_loss: 0.0273 - val_acc: 0.0000e+00\n",
      "Epoch 7/10\n",
      "1721/1721 [==============================] - 22s 13ms/step - loss: 0.0327 - acc: 0.0000e+00 - val_loss: 0.0266 - val_acc: 0.0000e+00\n",
      "Epoch 8/10\n",
      "1721/1721 [==============================] - 22s 13ms/step - loss: 0.0327 - acc: 0.0000e+00 - val_loss: 0.0268 - val_acc: 0.0000e+00\n",
      "Epoch 9/10\n",
      "1721/1721 [==============================] - 22s 13ms/step - loss: 0.0327 - acc: 0.0000e+00 - val_loss: 0.0268 - val_acc: 0.0000e+00\n",
      "Epoch 10/10\n",
      "1721/1721 [==============================] - 22s 13ms/step - loss: 0.0327 - acc: 0.0000e+00 - val_loss: 0.0286 - val_acc: 0.0000e+00\n",
      "Train on 1721 samples, validate on 431 samples\n",
      "Epoch 1/10\n",
      "1721/1721 [==============================] - 78s 45ms/step - loss: 0.1319 - acc: 0.0000e+00 - val_loss: 0.0890 - val_acc: 0.0000e+00\n",
      "Epoch 2/10\n",
      "1721/1721 [==============================] - 26s 15ms/step - loss: 0.0398 - acc: 0.0000e+00 - val_loss: 0.0111 - val_acc: 0.0000e+00\n",
      "Epoch 3/10\n",
      "1721/1721 [==============================] - 26s 15ms/step - loss: 0.0352 - acc: 0.0000e+00 - val_loss: 0.0374 - val_acc: 0.0000e+00\n",
      "Epoch 4/10\n",
      "1721/1721 [==============================] - 26s 15ms/step - loss: 0.0340 - acc: 0.0000e+00 - val_loss: 0.0310 - val_acc: 0.0000e+00\n",
      "Epoch 5/10\n",
      "1721/1721 [==============================] - 26s 15ms/step - loss: 0.0326 - acc: 0.0000e+00 - val_loss: 0.0206 - val_acc: 0.0000e+00\n",
      "Epoch 6/10\n",
      "1721/1721 [==============================] - 26s 15ms/step - loss: 0.0331 - acc: 0.0000e+00 - val_loss: 0.0295 - val_acc: 0.0000e+00\n",
      "Epoch 7/10\n",
      "1721/1721 [==============================] - 26s 15ms/step - loss: 0.0327 - acc: 0.0000e+00 - val_loss: 0.0280 - val_acc: 0.0000e+00\n",
      "Epoch 8/10\n",
      "1721/1721 [==============================] - 26s 15ms/step - loss: 0.0328 - acc: 0.0000e+00 - val_loss: 0.0252 - val_acc: 0.0000e+00\n",
      "Epoch 9/10\n",
      "1721/1721 [==============================] - 26s 15ms/step - loss: 0.0327 - acc: 0.0000e+00 - val_loss: 0.0290 - val_acc: 0.0000e+00\n",
      "Epoch 10/10\n",
      "1721/1721 [==============================] - 26s 15ms/step - loss: 0.0327 - acc: 0.0000e+00 - val_loss: 0.0259 - val_acc: 0.0000e+00\n",
      "CPU times: user 34min 28s, sys: 5min 26s, total: 39min 54s\n",
      "Wall time: 14min 13s\n"
     ]
    }
   ],
   "source": [
    "%%time\n",
    "modelBASE_FW.fit(XTrainFW_Base, yTrainFW_Base, batch_size=batchSize, epochs=epochs, validation_split=0.2, verbose=1)\n",
    "modelRNN_FW.fit(XTrainFW, yTrainFW, batch_size=batchSize, epochs=epochs, validation_split=0.2, verbose=1)\n",
    "modelGRU_FW.fit(XTrainFW, yTrainFW, batch_size=batchSize, epochs=epochs, validation_split=0.2, verbose=1)\n",
    "modelLSTM_FW.fit(XTrainFW, yTrainFW, batch_size=batchSize, epochs=epochs, validation_split=0.2, verbose=1)"
   ]
  },
  {
   "cell_type": "markdown",
   "metadata": {},
   "source": [
    "### Futures only (weather length)"
   ]
  },
  {
   "cell_type": "code",
   "execution_count": 396,
   "metadata": {
    "scrolled": true
   },
   "outputs": [
    {
     "name": "stdout",
     "output_type": "stream",
     "text": [
      "Train on 1745 samples, validate on 437 samples\n",
      "Epoch 1/10\n",
      "1745/1745 [==============================] - 55s 32ms/step - loss: 0.1385 - acc: 0.0000e+00 - val_loss: 0.0623 - val_acc: 0.0000e+00\n",
      "Epoch 2/10\n",
      "1745/1745 [==============================] - 0s 106us/step - loss: 0.0289 - acc: 0.0000e+00 - val_loss: 0.0044 - val_acc: 0.0000e+00\n",
      "Epoch 3/10\n",
      "1745/1745 [==============================] - 0s 98us/step - loss: 0.0141 - acc: 5.7307e-04 - val_loss: 0.0228 - val_acc: 0.0000e+00\n",
      "Epoch 4/10\n",
      "1745/1745 [==============================] - 0s 108us/step - loss: 0.0092 - acc: 5.7307e-04 - val_loss: 0.0114 - val_acc: 0.0000e+00\n",
      "Epoch 5/10\n",
      "1745/1745 [==============================] - 0s 117us/step - loss: 0.0087 - acc: 5.7307e-04 - val_loss: 0.0067 - val_acc: 0.0000e+00\n",
      "Epoch 6/10\n",
      "1745/1745 [==============================] - 0s 93us/step - loss: 0.0071 - acc: 5.7307e-04 - val_loss: 0.0037 - val_acc: 0.0000e+00\n",
      "Epoch 7/10\n",
      "1745/1745 [==============================] - 0s 96us/step - loss: 0.0056 - acc: 5.7307e-04 - val_loss: 0.0037 - val_acc: 0.0000e+00\n",
      "Epoch 8/10\n",
      "1745/1745 [==============================] - 0s 98us/step - loss: 0.0052 - acc: 5.7307e-04 - val_loss: 0.0039 - val_acc: 0.0000e+00\n",
      "Epoch 9/10\n",
      "1745/1745 [==============================] - 0s 105us/step - loss: 0.0048 - acc: 5.7307e-04 - val_loss: 0.0035 - val_acc: 0.0000e+00\n",
      "Epoch 10/10\n",
      "1745/1745 [==============================] - 0s 90us/step - loss: 0.0046 - acc: 5.7307e-04 - val_loss: 0.0036 - val_acc: 0.0000e+00\n",
      "Train on 1721 samples, validate on 431 samples\n",
      "Epoch 1/10\n",
      "1721/1721 [==============================] - 65s 38ms/step - loss: 0.0804 - acc: 0.0000e+00 - val_loss: 0.0180 - val_acc: 0.0000e+00\n",
      "Epoch 2/10\n",
      "1721/1721 [==============================] - 8s 5ms/step - loss: 0.0320 - acc: 0.0000e+00 - val_loss: 0.0218 - val_acc: 0.0000e+00\n",
      "Epoch 3/10\n",
      "1721/1721 [==============================] - 8s 5ms/step - loss: 0.0208 - acc: 0.0000e+00 - val_loss: 0.0094 - val_acc: 0.0000e+00\n",
      "Epoch 4/10\n",
      "1721/1721 [==============================] - 8s 5ms/step - loss: 0.0146 - acc: 5.8106e-04 - val_loss: 0.0089 - val_acc: 0.0000e+00\n",
      "Epoch 5/10\n",
      "1721/1721 [==============================] - 8s 5ms/step - loss: 0.0096 - acc: 5.8106e-04 - val_loss: 0.0101 - val_acc: 0.0000e+00\n",
      "Epoch 6/10\n",
      "1721/1721 [==============================] - 8s 5ms/step - loss: 0.0066 - acc: 5.8106e-04 - val_loss: 0.0035 - val_acc: 0.0000e+00\n",
      "Epoch 7/10\n",
      "1721/1721 [==============================] - 8s 5ms/step - loss: 0.0050 - acc: 5.8106e-04 - val_loss: 0.0033 - val_acc: 0.0000e+00\n",
      "Epoch 8/10\n",
      "1721/1721 [==============================] - 8s 5ms/step - loss: 0.0042 - acc: 5.8106e-04 - val_loss: 0.0032 - val_acc: 0.0000e+00\n",
      "Epoch 9/10\n",
      "1721/1721 [==============================] - 8s 5ms/step - loss: 0.0036 - acc: 5.8106e-04 - val_loss: 0.0024 - val_acc: 0.0000e+00\n",
      "Epoch 10/10\n",
      "1721/1721 [==============================] - 8s 5ms/step - loss: 0.0031 - acc: 5.8106e-04 - val_loss: 0.0022 - val_acc: 0.0000e+00\n",
      "Train on 1721 samples, validate on 431 samples\n",
      "Epoch 1/10\n",
      "1721/1721 [==============================] - 77s 45ms/step - loss: 0.1035 - acc: 0.0000e+00 - val_loss: 0.0099 - val_acc: 0.0000e+00\n",
      "Epoch 2/10\n",
      "1721/1721 [==============================] - 20s 12ms/step - loss: 0.0381 - acc: 0.0000e+00 - val_loss: 0.0329 - val_acc: 0.0000e+00\n",
      "Epoch 3/10\n",
      "1721/1721 [==============================] - 20s 12ms/step - loss: 0.0336 - acc: 0.0000e+00 - val_loss: 0.0304 - val_acc: 0.0000e+00\n",
      "Epoch 4/10\n",
      "1721/1721 [==============================] - 20s 11ms/step - loss: 0.0323 - acc: 0.0000e+00 - val_loss: 0.0216 - val_acc: 0.0000e+00\n",
      "Epoch 5/10\n",
      "1721/1721 [==============================] - 20s 12ms/step - loss: 0.0312 - acc: 0.0000e+00 - val_loss: 0.0267 - val_acc: 0.0000e+00\n",
      "Epoch 6/10\n",
      "1721/1721 [==============================] - 20s 12ms/step - loss: 0.0258 - acc: 0.0000e+00 - val_loss: 0.0138 - val_acc: 0.0000e+00\n",
      "Epoch 7/10\n",
      "1721/1721 [==============================] - 20s 11ms/step - loss: 0.0128 - acc: 0.0000e+00 - val_loss: 0.0057 - val_acc: 0.0000e+00\n",
      "Epoch 8/10\n",
      "1721/1721 [==============================] - 19s 11ms/step - loss: 0.0083 - acc: 5.8106e-04 - val_loss: 0.0038 - val_acc: 0.0000e+00\n",
      "Epoch 9/10\n",
      "1721/1721 [==============================] - 22s 13ms/step - loss: 0.0054 - acc: 5.8106e-04 - val_loss: 0.0039 - val_acc: 0.0000e+00\n",
      "Epoch 10/10\n",
      "1721/1721 [==============================] - 20s 12ms/step - loss: 0.0035 - acc: 5.8106e-04 - val_loss: 0.0018 - val_acc: 0.0000e+00\n",
      "Train on 1721 samples, validate on 431 samples\n",
      "Epoch 1/10\n",
      "1721/1721 [==============================] - 97s 56ms/step - loss: 0.1435 - acc: 0.0000e+00 - val_loss: 0.0756 - val_acc: 0.0000e+00\n",
      "Epoch 2/10\n",
      "1721/1721 [==============================] - 24s 14ms/step - loss: 0.0375 - acc: 0.0000e+00 - val_loss: 0.0107 - val_acc: 0.0000e+00\n",
      "Epoch 3/10\n",
      "1721/1721 [==============================] - 25s 14ms/step - loss: 0.0347 - acc: 0.0000e+00 - val_loss: 0.0443 - val_acc: 0.0000e+00\n",
      "Epoch 4/10\n",
      "1721/1721 [==============================] - 24s 14ms/step - loss: 0.0346 - acc: 0.0000e+00 - val_loss: 0.0295 - val_acc: 0.0000e+00\n",
      "Epoch 5/10\n",
      "1721/1721 [==============================] - 25s 14ms/step - loss: 0.0331 - acc: 0.0000e+00 - val_loss: 0.0200 - val_acc: 0.0000e+00\n",
      "Epoch 6/10\n",
      "1721/1721 [==============================] - 25s 15ms/step - loss: 0.0332 - acc: 0.0000e+00 - val_loss: 0.0322 - val_acc: 0.0000e+00\n",
      "Epoch 7/10\n",
      "1721/1721 [==============================] - 24s 14ms/step - loss: 0.0329 - acc: 0.0000e+00 - val_loss: 0.0264 - val_acc: 0.0000e+00\n",
      "Epoch 8/10\n",
      "1721/1721 [==============================] - 25s 15ms/step - loss: 0.0327 - acc: 0.0000e+00 - val_loss: 0.0248 - val_acc: 0.0000e+00\n",
      "Epoch 9/10\n",
      "1721/1721 [==============================] - 25s 14ms/step - loss: 0.0326 - acc: 0.0000e+00 - val_loss: 0.0299 - val_acc: 0.0000e+00\n",
      "Epoch 10/10\n",
      "1721/1721 [==============================] - 25s 15ms/step - loss: 0.0324 - acc: 0.0000e+00 - val_loss: 0.0247 - val_acc: 0.0000e+00\n",
      "CPU times: user 30min 8s, sys: 5min 3s, total: 35min 12s\n",
      "Wall time: 12min 58s\n"
     ]
    }
   ],
   "source": [
    "%%time\n",
    "modelBASE_FW_F.fit(XTrainFW_F_Base, yTrainFW_F_Base, batch_size=batchSize, epochs=epochs, validation_split=0.2, verbose=1)\n",
    "modelRNN_FW_F.fit(XTrainFW_F, yTrainFW_F, batch_size=batchSize, epochs=epochs, validation_split=0.2, verbose=1)\n",
    "modelGRU_FW_F.fit(XTrainFW_F, yTrainFW_F, batch_size=batchSize, epochs=epochs, validation_split=0.2, verbose=1)\n",
    "modelLSTM_FW_F.fit(XTrainFW_F, yTrainFW_F, batch_size=batchSize, epochs=epochs, validation_split=0.2, verbose=1)"
   ]
  },
  {
   "cell_type": "markdown",
   "metadata": {},
   "source": [
    "## Fit Models: Futures + Weather + Stock data"
   ]
  },
  {
   "cell_type": "code",
   "execution_count": 397,
   "metadata": {
    "scrolled": true
   },
   "outputs": [
    {
     "name": "stdout",
     "output_type": "stream",
     "text": [
      "Train on 854 samples, validate on 214 samples\n",
      "Epoch 1/10\n",
      "854/854 [==============================] - 68s 79ms/step - loss: 0.1726 - acc: 0.0000e+00 - val_loss: 0.0840 - val_acc: 0.0000e+00\n",
      "Epoch 2/10\n",
      "854/854 [==============================] - 0s 198us/step - loss: 0.0479 - acc: 0.0000e+00 - val_loss: 0.0253 - val_acc: 0.0000e+00\n",
      "Epoch 3/10\n",
      "854/854 [==============================] - 0s 247us/step - loss: 0.0316 - acc: 0.0000e+00 - val_loss: 0.0121 - val_acc: 0.0000e+00\n",
      "Epoch 4/10\n",
      "854/854 [==============================] - 0s 296us/step - loss: 0.0205 - acc: 0.0000e+00 - val_loss: 0.1207 - val_acc: 0.0000e+00\n",
      "Epoch 5/10\n",
      "854/854 [==============================] - 0s 206us/step - loss: 0.0197 - acc: 0.0000e+00 - val_loss: 0.0265 - val_acc: 0.0000e+00\n",
      "Epoch 6/10\n",
      "854/854 [==============================] - 0s 232us/step - loss: 0.0173 - acc: 0.0000e+00 - val_loss: 0.0294 - val_acc: 0.0000e+00\n",
      "Epoch 7/10\n",
      "854/854 [==============================] - 0s 223us/step - loss: 0.0132 - acc: 0.0000e+00 - val_loss: 0.0768 - val_acc: 0.0000e+00\n",
      "Epoch 8/10\n",
      "854/854 [==============================] - 0s 205us/step - loss: 0.0130 - acc: 0.0000e+00 - val_loss: 0.0305 - val_acc: 0.0000e+00\n",
      "Epoch 9/10\n",
      "854/854 [==============================] - 0s 273us/step - loss: 0.0129 - acc: 0.0000e+00 - val_loss: 0.0353 - val_acc: 0.0000e+00\n",
      "Epoch 10/10\n",
      "854/854 [==============================] - 0s 299us/step - loss: 0.0117 - acc: 0.0000e+00 - val_loss: 0.0578 - val_acc: 0.0000e+00\n",
      "Train on 830 samples, validate on 208 samples\n",
      "Epoch 1/10\n",
      "830/830 [==============================] - 80s 97ms/step - loss: 0.1277 - acc: 0.0000e+00 - val_loss: 0.0164 - val_acc: 0.0000e+00\n",
      "Epoch 2/10\n",
      "830/830 [==============================] - 6s 7ms/step - loss: 0.0123 - acc: 0.0000e+00 - val_loss: 0.0713 - val_acc: 0.0000e+00\n",
      "Epoch 3/10\n",
      "830/830 [==============================] - 6s 7ms/step - loss: 0.0130 - acc: 0.0000e+00 - val_loss: 0.0318 - val_acc: 0.0000e+00\n",
      "Epoch 4/10\n",
      "830/830 [==============================] - 6s 7ms/step - loss: 0.0108 - acc: 0.0000e+00 - val_loss: 0.0352 - val_acc: 0.0000e+00\n",
      "Epoch 5/10\n",
      "830/830 [==============================] - 6s 7ms/step - loss: 0.0101 - acc: 0.0000e+00 - val_loss: 0.0507 - val_acc: 0.0000e+00\n",
      "Epoch 6/10\n",
      "830/830 [==============================] - 7s 9ms/step - loss: 0.0102 - acc: 0.0000e+00 - val_loss: 0.0405 - val_acc: 0.0000e+00\n",
      "Epoch 7/10\n",
      "830/830 [==============================] - 6s 7ms/step - loss: 0.0097 - acc: 0.0000e+00 - val_loss: 0.0335 - val_acc: 0.0000e+00\n",
      "Epoch 8/10\n",
      "830/830 [==============================] - 5s 7ms/step - loss: 0.0099 - acc: 0.0000e+00 - val_loss: 0.0383 - val_acc: 0.0000e+00\n",
      "Epoch 9/10\n",
      "830/830 [==============================] - 6s 7ms/step - loss: 0.0097 - acc: 0.0000e+00 - val_loss: 0.0445 - val_acc: 0.0000e+00\n",
      "Epoch 10/10\n",
      "830/830 [==============================] - 6s 7ms/step - loss: 0.0098 - acc: 0.0000e+00 - val_loss: 0.0427 - val_acc: 0.0000e+00\n",
      "Train on 830 samples, validate on 208 samples\n",
      "Epoch 1/10\n",
      "830/830 [==============================] - 88s 106ms/step - loss: 0.1081 - acc: 0.0000e+00 - val_loss: 0.0532 - val_acc: 0.0000e+00\n",
      "Epoch 2/10\n",
      "830/830 [==============================] - 12s 15ms/step - loss: 0.0172 - acc: 0.0000e+00 - val_loss: 0.0698 - val_acc: 0.0000e+00\n",
      "Epoch 3/10\n",
      "830/830 [==============================] - 12s 14ms/step - loss: 0.0111 - acc: 0.0000e+00 - val_loss: 0.0180 - val_acc: 0.0000e+00\n",
      "Epoch 4/10\n",
      "830/830 [==============================] - 12s 14ms/step - loss: 0.0131 - acc: 0.0000e+00 - val_loss: 0.0340 - val_acc: 0.0000e+00\n",
      "Epoch 5/10\n",
      "830/830 [==============================] - 11s 13ms/step - loss: 0.0101 - acc: 0.0000e+00 - val_loss: 0.0527 - val_acc: 0.0000e+00\n",
      "Epoch 6/10\n",
      "830/830 [==============================] - 12s 14ms/step - loss: 0.0106 - acc: 0.0000e+00 - val_loss: 0.0442 - val_acc: 0.0000e+00\n",
      "Epoch 7/10\n",
      "830/830 [==============================] - 12s 15ms/step - loss: 0.0098 - acc: 0.0000e+00 - val_loss: 0.0332 - val_acc: 0.0000e+00\n",
      "Epoch 8/10\n",
      "830/830 [==============================] - 12s 14ms/step - loss: 0.0100 - acc: 0.0000e+00 - val_loss: 0.0372 - val_acc: 0.0000e+00\n",
      "Epoch 9/10\n",
      "830/830 [==============================] - 12s 14ms/step - loss: 0.0098 - acc: 0.0000e+00 - val_loss: 0.0424 - val_acc: 0.0000e+00\n",
      "Epoch 10/10\n",
      "830/830 [==============================] - 12s 14ms/step - loss: 0.0098 - acc: 0.0000e+00 - val_loss: 0.0392 - val_acc: 0.0000e+00\n",
      "Train on 830 samples, validate on 208 samples\n",
      "Epoch 1/10\n",
      "830/830 [==============================] - 90s 109ms/step - loss: 0.1806 - acc: 0.0000e+00 - val_loss: 0.0013 - val_acc: 0.0000e+00\n",
      "Epoch 2/10\n",
      "830/830 [==============================] - 14s 16ms/step - loss: 0.0225 - acc: 0.0000e+00 - val_loss: 0.0927 - val_acc: 0.0000e+00\n",
      "Epoch 3/10\n",
      "830/830 [==============================] - 14s 17ms/step - loss: 0.0189 - acc: 0.0000e+00 - val_loss: 0.0507 - val_acc: 0.0000e+00\n",
      "Epoch 4/10\n",
      "830/830 [==============================] - 14s 17ms/step - loss: 0.0109 - acc: 0.0000e+00 - val_loss: 0.0198 - val_acc: 0.0000e+00\n",
      "Epoch 5/10\n",
      "830/830 [==============================] - 14s 16ms/step - loss: 0.0132 - acc: 0.0000e+00 - val_loss: 0.0255 - val_acc: 0.0000e+00\n",
      "Epoch 6/10\n",
      "830/830 [==============================] - 14s 16ms/step - loss: 0.0104 - acc: 0.0000e+00 - val_loss: 0.0473 - val_acc: 0.0000e+00\n",
      "Epoch 7/10\n",
      "830/830 [==============================] - 14s 17ms/step - loss: 0.0109 - acc: 0.0000e+00 - val_loss: 0.0568 - val_acc: 0.0000e+00\n",
      "Epoch 8/10\n",
      "830/830 [==============================] - 14s 17ms/step - loss: 0.0108 - acc: 0.0000e+00 - val_loss: 0.0423 - val_acc: 0.0000e+00\n",
      "Epoch 9/10\n",
      "830/830 [==============================] - 13s 16ms/step - loss: 0.0099 - acc: 0.0000e+00 - val_loss: 0.0308 - val_acc: 0.0000e+00\n",
      "Epoch 10/10\n",
      "830/830 [==============================] - 14s 17ms/step - loss: 0.0104 - acc: 0.0000e+00 - val_loss: 0.0314 - val_acc: 0.0000e+00\n",
      "CPU times: user 18min 16s, sys: 3min, total: 21min 16s\n",
      "Wall time: 10min 22s\n"
     ]
    }
   ],
   "source": [
    "%%time\n",
    "modelBASE_FSW.fit(XTrainFSW_Base, yTrainFSW_Base, batch_size=batchSize, epochs=epochs, validation_split=0.2, verbose=1)\n",
    "modelRNN_FSW.fit(XTrainFSW, yTrainFSW, batch_size=batchSize, epochs=epochs, validation_split=0.2, verbose=1)\n",
    "modelGRU_FSW.fit(XTrainFSW, yTrainFSW, batch_size=batchSize, epochs=epochs, validation_split=0.2, verbose=1)\n",
    "modelLSTM_FSW.fit(XTrainFSW, yTrainFSW, batch_size=batchSize, epochs=epochs, validation_split=0.2, verbose=1)"
   ]
  },
  {
   "cell_type": "markdown",
   "metadata": {},
   "source": [
    "### Futures only (stock length)"
   ]
  },
  {
   "cell_type": "code",
   "execution_count": 398,
   "metadata": {
    "scrolled": true
   },
   "outputs": [
    {
     "name": "stdout",
     "output_type": "stream",
     "text": [
      "Train on 854 samples, validate on 214 samples\n",
      "Epoch 1/10\n",
      "854/854 [==============================] - 73s 85ms/step - loss: 0.2323 - acc: 0.0000e+00 - val_loss: 0.0762 - val_acc: 0.0000e+00\n",
      "Epoch 2/10\n",
      "854/854 [==============================] - 0s 171us/step - loss: 0.2163 - acc: 0.0000e+00 - val_loss: 0.0649 - val_acc: 0.0000e+00\n",
      "Epoch 3/10\n",
      "854/854 [==============================] - 0s 120us/step - loss: 0.1805 - acc: 0.0000e+00 - val_loss: 0.0389 - val_acc: 0.0000e+00\n",
      "Epoch 4/10\n",
      "854/854 [==============================] - ETA: 0s - loss: 0.1362 - acc: 0.0000e+0 - 0s 127us/step - loss: 0.0988 - acc: 0.0000e+00 - val_loss: 0.0023 - val_acc: 0.0000e+00\n",
      "Epoch 5/10\n",
      "854/854 [==============================] - 0s 162us/step - loss: 0.0167 - acc: 0.0000e+00 - val_loss: 0.0477 - val_acc: 0.0000e+00\n",
      "Epoch 6/10\n",
      "854/854 [==============================] - 0s 132us/step - loss: 0.0427 - acc: 0.0000e+00 - val_loss: 0.0107 - val_acc: 0.0000e+00\n",
      "Epoch 7/10\n",
      "854/854 [==============================] - 0s 99us/step - loss: 0.0071 - acc: 0.0000e+00 - val_loss: 0.0011 - val_acc: 0.0000e+00\n",
      "Epoch 8/10\n",
      "854/854 [==============================] - 0s 112us/step - loss: 0.0208 - acc: 0.0000e+00 - val_loss: 0.0022 - val_acc: 0.0000e+00\n",
      "Epoch 9/10\n",
      "854/854 [==============================] - 0s 107us/step - loss: 0.0189 - acc: 0.0000e+00 - val_loss: 8.9826e-04 - val_acc: 0.0000e+00\n",
      "Epoch 10/10\n",
      "854/854 [==============================] - 0s 99us/step - loss: 0.0062 - acc: 0.0000e+00 - val_loss: 0.0094 - val_acc: 0.0000e+00\n",
      "Train on 830 samples, validate on 208 samples\n",
      "Epoch 1/10\n",
      "830/830 [==============================] - 77s 92ms/step - loss: 0.2539 - acc: 0.0000e+00 - val_loss: 0.0546 - val_acc: 0.0000e+00\n",
      "Epoch 2/10\n",
      "830/830 [==============================] - 4s 4ms/step - loss: 0.1522 - acc: 0.0000e+00 - val_loss: 0.0103 - val_acc: 0.0000e+00\n",
      "Epoch 3/10\n",
      "830/830 [==============================] - 4s 5ms/step - loss: 0.0794 - acc: 0.0000e+00 - val_loss: 9.8474e-04 - val_acc: 0.0000e+00\n",
      "Epoch 4/10\n",
      "830/830 [==============================] - 4s 5ms/step - loss: 0.0393 - acc: 0.0000e+00 - val_loss: 0.0079 - val_acc: 0.0000e+00\n",
      "Epoch 5/10\n",
      "830/830 [==============================] - 4s 5ms/step - loss: 0.0179 - acc: 0.0000e+00 - val_loss: 0.0292 - val_acc: 0.0000e+00\n",
      "Epoch 6/10\n",
      "830/830 [==============================] - 5s 5ms/step - loss: 0.0103 - acc: 0.0000e+00 - val_loss: 0.0574 - val_acc: 0.0000e+00\n",
      "Epoch 7/10\n",
      "830/830 [==============================] - 4s 5ms/step - loss: 0.0129 - acc: 0.0000e+00 - val_loss: 0.0754 - val_acc: 0.0000e+00\n",
      "Epoch 8/10\n",
      "830/830 [==============================] - 4s 4ms/step - loss: 0.0159 - acc: 0.0000e+00 - val_loss: 0.0732 - val_acc: 0.0000e+00\n",
      "Epoch 9/10\n",
      "830/830 [==============================] - 4s 5ms/step - loss: 0.0137 - acc: 0.0000e+00 - val_loss: 0.0560 - val_acc: 0.0000e+00\n",
      "Epoch 10/10\n",
      "830/830 [==============================] - 4s 4ms/step - loss: 0.0106 - acc: 0.0000e+00 - val_loss: 0.0377 - val_acc: 0.0000e+00\n",
      "Train on 830 samples, validate on 208 samples\n",
      "Epoch 1/10\n",
      "830/830 [==============================] - 88s 106ms/step - loss: 0.2239 - acc: 0.0000e+00 - val_loss: 0.0352 - val_acc: 0.0000e+00\n",
      "Epoch 2/10\n",
      "830/830 [==============================] - 10s 12ms/step - loss: 0.0724 - acc: 0.0000e+00 - val_loss: 0.0446 - val_acc: 0.0000e+00\n",
      "Epoch 3/10\n",
      "830/830 [==============================] - 10s 12ms/step - loss: 0.0157 - acc: 0.0000e+00 - val_loss: 0.0661 - val_acc: 0.0000e+00\n",
      "Epoch 4/10\n",
      "830/830 [==============================] - 10s 12ms/step - loss: 0.0115 - acc: 0.0000e+00 - val_loss: 0.0268 - val_acc: 0.0000e+00\n",
      "Epoch 5/10\n",
      "830/830 [==============================] - 10s 12ms/step - loss: 0.0108 - acc: 0.0000e+00 - val_loss: 0.0383 - val_acc: 0.0000e+00\n",
      "Epoch 6/10\n",
      "830/830 [==============================] - 10s 12ms/step - loss: 0.0099 - acc: 0.0000e+00 - val_loss: 0.0483 - val_acc: 0.0000e+00\n",
      "Epoch 7/10\n",
      "830/830 [==============================] - 9s 11ms/step - loss: 0.0100 - acc: 0.0000e+00 - val_loss: 0.0369 - val_acc: 0.0000e+00\n",
      "Epoch 8/10\n",
      "830/830 [==============================] - 9s 11ms/step - loss: 0.0098 - acc: 0.0000e+00 - val_loss: 0.0376 - val_acc: 0.0000e+00\n",
      "Epoch 9/10\n",
      "830/830 [==============================] - 9s 11ms/step - loss: 0.0097 - acc: 0.0000e+00 - val_loss: 0.0404 - val_acc: 0.0000e+00\n",
      "Epoch 10/10\n",
      "830/830 [==============================] - 10s 12ms/step - loss: 0.0098 - acc: 0.0000e+00 - val_loss: 0.0408 - val_acc: 0.0000e+00\n",
      "Train on 830 samples, validate on 208 samples\n",
      "Epoch 1/10\n",
      "830/830 [==============================] - 86s 104ms/step - loss: 0.2212 - acc: 0.0000e+00 - val_loss: 0.0356 - val_acc: 0.0000e+00\n",
      "Epoch 2/10\n",
      "830/830 [==============================] - 12s 15ms/step - loss: 0.1109 - acc: 0.0000e+00 - val_loss: 9.8303e-04 - val_acc: 0.0000e+00\n",
      "Epoch 3/10\n",
      "830/830 [==============================] - 11s 13ms/step - loss: 0.0324 - acc: 0.0000e+00 - val_loss: 0.0365 - val_acc: 0.0000e+00\n",
      "Epoch 4/10\n",
      "830/830 [==============================] - 11s 13ms/step - loss: 0.0139 - acc: 0.0000e+00 - val_loss: 0.0980 - val_acc: 0.0000e+00\n",
      "Epoch 5/10\n",
      "830/830 [==============================] - 11s 13ms/step - loss: 0.0214 - acc: 0.0000e+00 - val_loss: 0.0713 - val_acc: 0.0000e+00\n",
      "Epoch 6/10\n",
      "830/830 [==============================] - 11s 13ms/step - loss: 0.0120 - acc: 0.0000e+00 - val_loss: 0.0355 - val_acc: 0.0000e+00\n",
      "Epoch 7/10\n",
      "830/830 [==============================] - 11s 14ms/step - loss: 0.0108 - acc: 0.0000e+00 - val_loss: 0.0213 - val_acc: 0.0000e+00\n",
      "Epoch 8/10\n",
      "830/830 [==============================] - 12s 14ms/step - loss: 0.0128 - acc: 0.0000e+00 - val_loss: 0.0225 - val_acc: 0.0000e+00\n",
      "Epoch 9/10\n",
      "830/830 [==============================] - 12s 14ms/step - loss: 0.0116 - acc: 0.0000e+00 - val_loss: 0.0313 - val_acc: 0.0000e+00\n",
      "Epoch 10/10\n",
      "830/830 [==============================] - 13s 16ms/step - loss: 0.0099 - acc: 0.0000e+00 - val_loss: 0.0467 - val_acc: 0.0000e+00\n",
      "CPU times: user 16min 20s, sys: 2min 41s, total: 19min 1s\n",
      "Wall time: 9min 20s\n"
     ]
    }
   ],
   "source": [
    "%%time\n",
    "modelBASE_FSW_F.fit(XTrainFSW_F_Base, yTrainFSW_F_Base, batch_size=batchSize, epochs=epochs, validation_split=0.2, verbose=1)\n",
    "modelRNN_FSW_F.fit(XTrainFSW_F, yTrainFSW_F, batch_size=batchSize, epochs=epochs, validation_split=0.2, verbose=1)\n",
    "modelGRU_FSW_F.fit(XTrainFSW_F, yTrainFSW_F, batch_size=batchSize, epochs=epochs, validation_split=0.2, verbose=1)\n",
    "modelLSTM_FSW_F.fit(XTrainFSW_F, yTrainFSW_F, batch_size=batchSize, epochs=epochs, validation_split=0.2, verbose=1)"
   ]
  },
  {
   "cell_type": "markdown",
   "metadata": {},
   "source": [
    "### Futures & Weather only (stock length)"
   ]
  },
  {
   "cell_type": "code",
   "execution_count": 399,
   "metadata": {
    "scrolled": true
   },
   "outputs": [
    {
     "name": "stdout",
     "output_type": "stream",
     "text": [
      "Train on 854 samples, validate on 214 samples\n",
      "Epoch 1/10\n",
      "854/854 [==============================] - 73s 85ms/step - loss: 0.1675 - acc: 0.0000e+00 - val_loss: 0.1149 - val_acc: 0.0000e+00\n",
      "Epoch 2/10\n",
      "854/854 [==============================] - 0s 184us/step - loss: 0.0298 - acc: 0.0000e+00 - val_loss: 0.0126 - val_acc: 0.0000e+00\n",
      "Epoch 3/10\n",
      "854/854 [==============================] - 0s 258us/step - loss: 0.0199 - acc: 0.0000e+00 - val_loss: 0.0909 - val_acc: 0.0000e+00\n",
      "Epoch 4/10\n",
      "854/854 [==============================] - 0s 200us/step - loss: 0.0157 - acc: 0.0000e+00 - val_loss: 0.0305 - val_acc: 0.0000e+00\n",
      "Epoch 5/10\n",
      "854/854 [==============================] - 0s 245us/step - loss: 0.0128 - acc: 0.0000e+00 - val_loss: 0.0667 - val_acc: 0.0000e+00\n",
      "Epoch 6/10\n",
      "854/854 [==============================] - 0s 232us/step - loss: 0.0123 - acc: 0.0000e+00 - val_loss: 0.0278 - val_acc: 0.0000e+00\n",
      "Epoch 7/10\n",
      "854/854 [==============================] - 0s 239us/step - loss: 0.0118 - acc: 0.0000e+00 - val_loss: 0.0567 - val_acc: 0.0000e+00\n",
      "Epoch 8/10\n",
      "854/854 [==============================] - 0s 259us/step - loss: 0.0111 - acc: 0.0000e+00 - val_loss: 0.0326 - val_acc: 0.0000e+00\n",
      "Epoch 9/10\n",
      "854/854 [==============================] - 0s 196us/step - loss: 0.0109 - acc: 0.0000e+00 - val_loss: 0.0516 - val_acc: 0.0000e+00\n",
      "Epoch 10/10\n",
      "854/854 [==============================] - 0s 223us/step - loss: 0.0108 - acc: 0.0000e+00 - val_loss: 0.0312 - val_acc: 0.0000e+00\n",
      "Train on 830 samples, validate on 208 samples\n",
      "Epoch 1/10\n",
      "830/830 [==============================] - 88s 106ms/step - loss: 0.1244 - acc: 0.0000e+00 - val_loss: 0.0191 - val_acc: 0.0000e+00\n",
      "Epoch 2/10\n",
      "830/830 [==============================] - 6s 7ms/step - loss: 0.0115 - acc: 0.0000e+00 - val_loss: 0.0672 - val_acc: 0.0000e+00\n",
      "Epoch 3/10\n",
      "830/830 [==============================] - 6s 7ms/step - loss: 0.0124 - acc: 0.0000e+00 - val_loss: 0.0430 - val_acc: 0.0000e+00\n",
      "Epoch 4/10\n",
      "830/830 [==============================] - 6s 7ms/step - loss: 0.0097 - acc: 0.0000e+00 - val_loss: 0.0329 - val_acc: 0.0000e+00\n",
      "Epoch 5/10\n",
      "830/830 [==============================] - 5s 6ms/step - loss: 0.0098 - acc: 0.0000e+00 - val_loss: 0.0453 - val_acc: 0.0000e+00\n",
      "Epoch 6/10\n",
      "830/830 [==============================] - 6s 7ms/step - loss: 0.0097 - acc: 0.0000e+00 - val_loss: 0.0400 - val_acc: 0.0000e+00\n",
      "Epoch 7/10\n",
      "830/830 [==============================] - 6s 7ms/step - loss: 0.0096 - acc: 0.0000e+00 - val_loss: 0.0387 - val_acc: 0.0000e+00\n",
      "Epoch 8/10\n",
      "830/830 [==============================] - 6s 7ms/step - loss: 0.0095 - acc: 0.0000e+00 - val_loss: 0.0441 - val_acc: 0.0000e+00\n",
      "Epoch 9/10\n",
      "830/830 [==============================] - 6s 7ms/step - loss: 0.0095 - acc: 0.0000e+00 - val_loss: 0.0394 - val_acc: 0.0000e+00\n",
      "Epoch 10/10\n",
      "830/830 [==============================] - 6s 7ms/step - loss: 0.0092 - acc: 0.0000e+00 - val_loss: 0.0465 - val_acc: 0.0000e+00\n",
      "Train on 830 samples, validate on 208 samples\n",
      "Epoch 1/10\n",
      "830/830 [==============================] - 91s 110ms/step - loss: 0.0986 - acc: 0.0000e+00 - val_loss: 0.0767 - val_acc: 0.0000e+00\n",
      "Epoch 2/10\n",
      "830/830 [==============================] - 13s 16ms/step - loss: 0.0155 - acc: 0.0000e+00 - val_loss: 0.0346 - val_acc: 0.0000e+00\n",
      "Epoch 3/10\n",
      "830/830 [==============================] - 13s 16ms/step - loss: 0.0109 - acc: 0.0000e+00 - val_loss: 0.0511 - val_acc: 0.0000e+00\n",
      "Epoch 4/10\n",
      "830/830 [==============================] - 11s 14ms/step - loss: 0.0104 - acc: 0.0000e+00 - val_loss: 0.0263 - val_acc: 0.0000e+00\n",
      "Epoch 5/10\n",
      "830/830 [==============================] - 12s 15ms/step - loss: 0.0105 - acc: 0.0000e+00 - val_loss: 0.0493 - val_acc: 0.0000e+00\n",
      "Epoch 6/10\n",
      "830/830 [==============================] - 12s 14ms/step - loss: 0.0102 - acc: 0.0000e+00 - val_loss: 0.0404 - val_acc: 0.0000e+00\n",
      "Epoch 7/10\n",
      "830/830 [==============================] - 12s 14ms/step - loss: 0.0099 - acc: 0.0000e+00 - val_loss: 0.0333 - val_acc: 0.0000e+00\n",
      "Epoch 8/10\n",
      "830/830 [==============================] - 13s 15ms/step - loss: 0.0098 - acc: 0.0000e+00 - val_loss: 0.0457 - val_acc: 0.0000e+00\n",
      "Epoch 9/10\n",
      "830/830 [==============================] - 12s 14ms/step - loss: 0.0098 - acc: 0.0000e+00 - val_loss: 0.0408 - val_acc: 0.0000e+00\n",
      "Epoch 10/10\n",
      "830/830 [==============================] - 12s 14ms/step - loss: 0.0095 - acc: 0.0000e+00 - val_loss: 0.0365 - val_acc: 0.0000e+00\n",
      "Train on 830 samples, validate on 208 samples\n",
      "Epoch 1/10\n",
      "830/830 [==============================] - 92s 110ms/step - loss: 0.2153 - acc: 0.0000e+00 - val_loss: 0.0320 - val_acc: 0.0000e+00\n",
      "Epoch 2/10\n",
      "830/830 [==============================] - 15s 18ms/step - loss: 0.1220 - acc: 0.0000e+00 - val_loss: 0.0031 - val_acc: 0.0000e+00\n",
      "Epoch 3/10\n",
      "830/830 [==============================] - 15s 18ms/step - loss: 0.0499 - acc: 0.0000e+00 - val_loss: 0.0133 - val_acc: 0.0000e+00\n",
      "Epoch 4/10\n",
      "830/830 [==============================] - 14s 17ms/step - loss: 0.0132 - acc: 0.0000e+00 - val_loss: 0.0743 - val_acc: 0.0000e+00\n",
      "Epoch 5/10\n",
      "830/830 [==============================] - 16s 19ms/step - loss: 0.0175 - acc: 0.0000e+00 - val_loss: 0.0776 - val_acc: 0.0000e+00\n",
      "Epoch 6/10\n",
      "830/830 [==============================] - 14s 17ms/step - loss: 0.0134 - acc: 0.0000e+00 - val_loss: 0.0423 - val_acc: 0.0000e+00\n",
      "Epoch 7/10\n",
      "830/830 [==============================] - 16s 19ms/step - loss: 0.0102 - acc: 0.0000e+00 - val_loss: 0.0231 - val_acc: 0.0000e+00\n",
      "Epoch 8/10\n",
      "830/830 [==============================] - 14s 17ms/step - loss: 0.0122 - acc: 0.0000e+00 - val_loss: 0.0249 - val_acc: 0.0000e+00\n",
      "Epoch 9/10\n",
      "830/830 [==============================] - 16s 19ms/step - loss: 0.0108 - acc: 0.0000e+00 - val_loss: 0.0377 - val_acc: 0.0000e+00\n",
      "Epoch 10/10\n",
      "830/830 [==============================] - 15s 18ms/step - loss: 0.0099 - acc: 0.0000e+00 - val_loss: 0.0510 - val_acc: 0.0000e+00\n",
      "CPU times: user 18min 23s, sys: 3min 4s, total: 21min 28s\n",
      "Wall time: 10min 49s\n"
     ]
    }
   ],
   "source": [
    "%%time\n",
    "modelBASE_FSW_FW.fit(XTrainFSW_FW_Base, yTrainFSW_FW_Base, batch_size=batchSize, epochs=epochs, validation_split=0.2, verbose=1)\n",
    "modelRNN_FSW_FW.fit(XTrainFSW_FW, yTrainFSW_FW, batch_size=batchSize, epochs=epochs, validation_split=0.2, verbose=1)\n",
    "modelGRU_FSW_FW.fit(XTrainFSW_FW, yTrainFSW_FW, batch_size=batchSize, epochs=epochs, validation_split=0.2, verbose=1)\n",
    "modelLSTM_FSW_FW.fit(XTrainFSW_FW, yTrainFSW_FW, batch_size=batchSize, epochs=epochs, validation_split=0.2, verbose=1)"
   ]
  },
  {
   "cell_type": "markdown",
   "metadata": {},
   "source": [
    "# Train & Test loss calculations\n",
    "\n",
    "Produces 6 tables to compare\n",
    "<ul>\n",
    "<li>train_table_F \n",
    "<li>train_table_FW\n",
    "<li>train_table_FSW\n",
    "<li>test_table_F \n",
    "<li>test_table_FW\n",
    "<li>test_table_FSW\n",
    "</ul>\n"
   ]
  },
  {
   "cell_type": "code",
   "execution_count": null,
   "metadata": {
    "collapsed": true
   },
   "outputs": [],
   "source": []
  },
  {
   "cell_type": "code",
   "execution_count": 400,
   "metadata": {},
   "outputs": [
    {
     "name": "stdout",
     "output_type": "stream",
     "text": [
      "CPU times: user 14min 47s, sys: 1min 42s, total: 16min 29s\n",
      "Wall time: 5min 34s\n"
     ]
    }
   ],
   "source": [
    "%%time\n",
    "NNmods = ['BASE','RNN','GRU','LSTM']\n",
    "DatasetsFSW = ['FUT','FUT_Weather','FUT_STK_Weather']\n",
    "DatasetsFW = ['FUT','FUT_Weather']\n",
    "\n",
    "loss_train_F = []\n",
    "loss_train_FW = []\n",
    "loss_train_FSW = []\n",
    "loss_test_F = []\n",
    "loss_test_FW = []\n",
    "loss_test_FSW = []\n",
    "\n",
    "#Futures only \n",
    "loss_train_F.append(model_loss(modelBASE_F, XTrainF_Base, yTrainF_Base))\n",
    "loss_train_F.append(model_loss(modelRNN_F, XTrainF, yTrainF))\n",
    "loss_train_F.append(model_loss(modelGRU_F, XTrainF, yTrainF))\n",
    "loss_train_F.append(model_loss(modelLSTM_F, XTrainF, yTrainF))\n",
    "\n",
    "train_table_F = pd.DataFrame(loss_train_F, index=NNmods, columns=['FUT'])\n",
    "\n",
    "\n",
    "#Futures & Weather\n",
    "temp = []\n",
    "temp.append(model_loss(modelBASE_FW_F, XTrainFW_F_Base, yTrainFW_F_Base))\n",
    "temp.append(model_loss(modelBASE_FW, XTrainFW_Base, yTrainFW_Base))\n",
    "\n",
    "loss_train_FW.append(temp)\n",
    "temp = []\n",
    "\n",
    "temp.append(model_loss(modelRNN_FW_F, XTrainFW_F, yTrainFW_F))\n",
    "temp.append(model_loss(modelRNN_FW, XTrainFW, yTrainFW))\n",
    "\n",
    "loss_train_FW.append(temp)\n",
    "temp = []\n",
    "\n",
    "temp.append(model_loss(modelGRU_FW_F, XTrainFW_F, yTrainFW_F))\n",
    "temp.append(model_loss(modelGRU_FW, XTrainFW, yTrainFW))\n",
    "\n",
    "loss_train_FW.append(temp)\n",
    "temp = []\n",
    "\n",
    "temp.append(model_loss(modelLSTM_FW_F, XTrainFW_F, yTrainFW_F))\n",
    "temp.append(model_loss(modelLSTM_FW, XTrainFW, yTrainFW))\n",
    "\n",
    "loss_train_FW.append(temp)\n",
    "temp = []\n",
    "\n",
    "train_table_FW = pd.DataFrame(loss_train_FW, index=NNmods, columns=DatasetsFW)\n",
    "\n",
    "\n",
    "#Futures & Stock & Weather\n",
    "temp.append(model_loss(modelBASE_FSW_F, XTrainFSW_F_Base, yTrainFSW_F_Base))\n",
    "temp.append(model_loss(modelBASE_FSW_FW, XTrainFSW_FW_Base, yTrainFSW_FW_Base))\n",
    "temp.append(model_loss(modelBASE_FSW, XTrainFSW_Base, yTrainFSW_Base))\n",
    "\n",
    "loss_train_FSW.append(temp)\n",
    "temp = []\n",
    "\n",
    "temp.append(model_loss(modelRNN_FSW_F, XTrainFSW_F, yTrainFSW_F))\n",
    "temp.append(model_loss(modelRNN_FSW_FW, XTrainFSW_FW, yTrainFSW_FW))\n",
    "temp.append(model_loss(modelRNN_FSW, XTrainFSW, yTrainFSW))\n",
    "\n",
    "loss_train_FSW.append(temp)\n",
    "temp = []\n",
    "\n",
    "temp.append(model_loss(modelGRU_FSW_F, XTrainFSW_F, yTrainFSW_F))\n",
    "temp.append(model_loss(modelGRU_FSW_FW, XTrainFSW_FW, yTrainFSW_FW))\n",
    "temp.append(model_loss(modelGRU_FSW, XTrainFSW, yTrainFSW))\n",
    "\n",
    "loss_train_FSW.append(temp)\n",
    "temp = []\n",
    "\n",
    "temp.append(model_loss(modelLSTM_FSW_F, XTrainFSW_F, yTrainFSW_F))\n",
    "temp.append(model_loss(modelLSTM_FSW_FW, XTrainFSW_FW, yTrainFSW_FW))\n",
    "temp.append(model_loss(modelLSTM_FSW, XTrainFSW, yTrainFSW))\n",
    "\n",
    "loss_train_FSW.append(temp)\n",
    "temp = []\n",
    "\n",
    "train_table_FSW = pd.DataFrame(loss_train_FSW, index=NNmods, columns=DatasetsFSW)\n",
    "\n",
    "#---------------------------------------------------------\n",
    "#---------------Test--------------------------------------\n",
    "#---------------------------------------------------------\n",
    "\n",
    "#Futures only \n",
    "loss_test_F.append(model_loss(modelBASE_F, XTestF_Base, yTestF_Base))\n",
    "loss_test_F.append(model_loss(modelRNN_F,  XTestF, yTestF))\n",
    "loss_test_F.append(model_loss(modelGRU_F,  XTestF, yTestF))\n",
    "loss_test_F.append(model_loss(modelLSTM_F, XTestF, yTestF))\n",
    "\n",
    "test_table_F = pd.DataFrame(loss_test_F, index=NNmods, columns=['FUT'])\n",
    "\n",
    "\n",
    "#Futures & Weather\n",
    "temp = []\n",
    "temp.append(model_loss(modelBASE_FW_F, XTestFW_F_Base, yTestFW_F_Base))\n",
    "temp.append(model_loss(modelBASE_FW,   XTestFW_Base,   yTestFW_Base))\n",
    "\n",
    "loss_test_FW.append(temp)\n",
    "temp = []\n",
    "\n",
    "temp.append(model_loss(modelRNN_FW_F, XTestFW_F, yTestFW_F))\n",
    "temp.append(model_loss(modelRNN_FW,   XTestFW,   yTestFW))\n",
    "\n",
    "loss_test_FW.append(temp)\n",
    "temp = []\n",
    "\n",
    "temp.append(model_loss(modelGRU_FW_F, XTestFW_F, yTestFW_F))\n",
    "temp.append(model_loss(modelGRU_FW,   XTestFW,   yTestFW))\n",
    "\n",
    "loss_test_FW.append(temp)\n",
    "temp = []\n",
    "\n",
    "temp.append(model_loss(modelLSTM_FW_F, XTestFW_F, yTestFW_F))\n",
    "temp.append(model_loss(modelLSTM_FW,   XTestFW,   yTestFW))\n",
    "\n",
    "loss_test_FW.append(temp)\n",
    "temp = []\n",
    "\n",
    "test_table_FW = pd.DataFrame(loss_test_FW, index=NNmods, columns=DatasetsFW)\n",
    "\n",
    "\n",
    "#Futures & Stock & Weather\n",
    "temp.append(model_loss(modelBASE_FSW_F,  XTestFSW_F_Base,  yTestFSW_F_Base))\n",
    "temp.append(model_loss(modelBASE_FSW_FW, XTestFSW_FW_Base, yTestFSW_FW_Base))\n",
    "temp.append(model_loss(modelBASE_FSW,    XTestFSW_Base,    yTestFSW_Base))\n",
    "\n",
    "loss_test_FSW.append(temp)\n",
    "temp = []\n",
    "\n",
    "temp.append(model_loss(modelRNN_FSW_F,  XTestFSW_F,  yTestFSW_F))\n",
    "temp.append(model_loss(modelRNN_FSW_FW, XTestFSW_FW, yTestFSW_FW))\n",
    "temp.append(model_loss(modelRNN_FSW,    XTestFSW,    yTestFSW))\n",
    "\n",
    "loss_test_FSW.append(temp)\n",
    "temp = []\n",
    "\n",
    "temp.append(model_loss(modelGRU_FSW_F, XTestFSW_F, yTestFSW_F))\n",
    "temp.append(model_loss(modelGRU_FSW_FW, XTestFSW_FW, yTestFSW_FW))\n",
    "temp.append(model_loss(modelGRU_FSW, XTestFSW, yTestFSW))\n",
    "\n",
    "loss_test_FSW.append(temp)\n",
    "temp = []\n",
    "\n",
    "temp.append(model_loss(modelLSTM_FSW_F, XTestFSW_F, yTestFSW_F))\n",
    "temp.append(model_loss(modelLSTM_FSW_FW, XTestFSW_FW, yTestFSW_FW))\n",
    "temp.append(model_loss(modelLSTM_FSW, XTestFSW, yTestFSW))\n",
    "\n",
    "loss_test_FSW.append(temp)\n",
    "temp = []\n",
    "\n",
    "test_table_FSW = pd.DataFrame(loss_test_FSW, index=NNmods, columns=DatasetsFSW)"
   ]
  },
  {
   "cell_type": "code",
   "execution_count": 401,
   "metadata": {},
   "outputs": [
    {
     "data": {
      "text/html": [
       "<div>\n",
       "<style scoped>\n",
       "    .dataframe tbody tr th:only-of-type {\n",
       "        vertical-align: middle;\n",
       "    }\n",
       "\n",
       "    .dataframe tbody tr th {\n",
       "        vertical-align: top;\n",
       "    }\n",
       "\n",
       "    .dataframe thead th {\n",
       "        text-align: right;\n",
       "    }\n",
       "</style>\n",
       "<table border=\"1\" class=\"dataframe\">\n",
       "  <thead>\n",
       "    <tr style=\"text-align: right;\">\n",
       "      <th></th>\n",
       "      <th>FUT</th>\n",
       "    </tr>\n",
       "  </thead>\n",
       "  <tbody>\n",
       "    <tr>\n",
       "      <th>BASE</th>\n",
       "      <td>0.000418</td>\n",
       "    </tr>\n",
       "    <tr>\n",
       "      <th>RNN</th>\n",
       "      <td>0.000251</td>\n",
       "    </tr>\n",
       "    <tr>\n",
       "      <th>GRU</th>\n",
       "      <td>0.000056</td>\n",
       "    </tr>\n",
       "    <tr>\n",
       "      <th>LSTM</th>\n",
       "      <td>0.000642</td>\n",
       "    </tr>\n",
       "  </tbody>\n",
       "</table>\n",
       "</div>"
      ],
      "text/plain": [
       "           FUT\n",
       "BASE  0.000418\n",
       "RNN   0.000251\n",
       "GRU   0.000056\n",
       "LSTM  0.000642"
      ]
     },
     "execution_count": 401,
     "metadata": {},
     "output_type": "execute_result"
    }
   ],
   "source": [
    "train_table_F"
   ]
  },
  {
   "cell_type": "code",
   "execution_count": 402,
   "metadata": {},
   "outputs": [
    {
     "data": {
      "text/html": [
       "<div>\n",
       "<style scoped>\n",
       "    .dataframe tbody tr th:only-of-type {\n",
       "        vertical-align: middle;\n",
       "    }\n",
       "\n",
       "    .dataframe tbody tr th {\n",
       "        vertical-align: top;\n",
       "    }\n",
       "\n",
       "    .dataframe thead th {\n",
       "        text-align: right;\n",
       "    }\n",
       "</style>\n",
       "<table border=\"1\" class=\"dataframe\">\n",
       "  <thead>\n",
       "    <tr style=\"text-align: right;\">\n",
       "      <th></th>\n",
       "      <th>FUT</th>\n",
       "      <th>FUT_Weather</th>\n",
       "    </tr>\n",
       "  </thead>\n",
       "  <tbody>\n",
       "    <tr>\n",
       "      <th>BASE</th>\n",
       "      <td>0.004418</td>\n",
       "      <td>0.028422</td>\n",
       "    </tr>\n",
       "    <tr>\n",
       "      <th>RNN</th>\n",
       "      <td>0.002761</td>\n",
       "      <td>0.031160</td>\n",
       "    </tr>\n",
       "    <tr>\n",
       "      <th>GRU</th>\n",
       "      <td>0.002451</td>\n",
       "      <td>0.031838</td>\n",
       "    </tr>\n",
       "    <tr>\n",
       "      <th>LSTM</th>\n",
       "      <td>0.030659</td>\n",
       "      <td>0.031310</td>\n",
       "    </tr>\n",
       "  </tbody>\n",
       "</table>\n",
       "</div>"
      ],
      "text/plain": [
       "           FUT  FUT_Weather\n",
       "BASE  0.004418     0.028422\n",
       "RNN   0.002761     0.031160\n",
       "GRU   0.002451     0.031838\n",
       "LSTM  0.030659     0.031310"
      ]
     },
     "execution_count": 402,
     "metadata": {},
     "output_type": "execute_result"
    }
   ],
   "source": [
    "train_table_FW"
   ]
  },
  {
   "cell_type": "code",
   "execution_count": 403,
   "metadata": {},
   "outputs": [
    {
     "data": {
      "text/html": [
       "<div>\n",
       "<style scoped>\n",
       "    .dataframe tbody tr th:only-of-type {\n",
       "        vertical-align: middle;\n",
       "    }\n",
       "\n",
       "    .dataframe tbody tr th {\n",
       "        vertical-align: top;\n",
       "    }\n",
       "\n",
       "    .dataframe thead th {\n",
       "        text-align: right;\n",
       "    }\n",
       "</style>\n",
       "<table border=\"1\" class=\"dataframe\">\n",
       "  <thead>\n",
       "    <tr style=\"text-align: right;\">\n",
       "      <th></th>\n",
       "      <th>FUT</th>\n",
       "      <th>FUT_Weather</th>\n",
       "      <th>FUT_STK_Weather</th>\n",
       "    </tr>\n",
       "  </thead>\n",
       "  <tbody>\n",
       "    <tr>\n",
       "      <th>BASE</th>\n",
       "      <td>0.007212</td>\n",
       "      <td>0.014823</td>\n",
       "      <td>0.021137</td>\n",
       "    </tr>\n",
       "    <tr>\n",
       "      <th>RNN</th>\n",
       "      <td>0.015372</td>\n",
       "      <td>0.016717</td>\n",
       "      <td>0.016275</td>\n",
       "    </tr>\n",
       "    <tr>\n",
       "      <th>GRU</th>\n",
       "      <td>0.015976</td>\n",
       "      <td>0.014998</td>\n",
       "      <td>0.015650</td>\n",
       "    </tr>\n",
       "    <tr>\n",
       "      <th>LSTM</th>\n",
       "      <td>0.017412</td>\n",
       "      <td>0.018631</td>\n",
       "      <td>0.014497</td>\n",
       "    </tr>\n",
       "  </tbody>\n",
       "</table>\n",
       "</div>"
      ],
      "text/plain": [
       "           FUT  FUT_Weather  FUT_STK_Weather\n",
       "BASE  0.007212     0.014823         0.021137\n",
       "RNN   0.015372     0.016717         0.016275\n",
       "GRU   0.015976     0.014998         0.015650\n",
       "LSTM  0.017412     0.018631         0.014497"
      ]
     },
     "execution_count": 403,
     "metadata": {},
     "output_type": "execute_result"
    }
   ],
   "source": [
    "train_table_FSW"
   ]
  },
  {
   "cell_type": "code",
   "execution_count": 404,
   "metadata": {},
   "outputs": [
    {
     "data": {
      "text/html": [
       "<div>\n",
       "<style scoped>\n",
       "    .dataframe tbody tr th:only-of-type {\n",
       "        vertical-align: middle;\n",
       "    }\n",
       "\n",
       "    .dataframe tbody tr th {\n",
       "        vertical-align: top;\n",
       "    }\n",
       "\n",
       "    .dataframe thead th {\n",
       "        text-align: right;\n",
       "    }\n",
       "</style>\n",
       "<table border=\"1\" class=\"dataframe\">\n",
       "  <thead>\n",
       "    <tr style=\"text-align: right;\">\n",
       "      <th></th>\n",
       "      <th>FUT</th>\n",
       "    </tr>\n",
       "  </thead>\n",
       "  <tbody>\n",
       "    <tr>\n",
       "      <th>BASE</th>\n",
       "      <td>0.005268</td>\n",
       "    </tr>\n",
       "    <tr>\n",
       "      <th>RNN</th>\n",
       "      <td>0.021016</td>\n",
       "    </tr>\n",
       "    <tr>\n",
       "      <th>GRU</th>\n",
       "      <td>0.008084</td>\n",
       "    </tr>\n",
       "    <tr>\n",
       "      <th>LSTM</th>\n",
       "      <td>0.028071</td>\n",
       "    </tr>\n",
       "  </tbody>\n",
       "</table>\n",
       "</div>"
      ],
      "text/plain": [
       "           FUT\n",
       "BASE  0.005268\n",
       "RNN   0.021016\n",
       "GRU   0.008084\n",
       "LSTM  0.028071"
      ]
     },
     "execution_count": 404,
     "metadata": {},
     "output_type": "execute_result"
    }
   ],
   "source": [
    "test_table_F"
   ]
  },
  {
   "cell_type": "code",
   "execution_count": 405,
   "metadata": {},
   "outputs": [
    {
     "data": {
      "text/html": [
       "<div>\n",
       "<style scoped>\n",
       "    .dataframe tbody tr th:only-of-type {\n",
       "        vertical-align: middle;\n",
       "    }\n",
       "\n",
       "    .dataframe tbody tr th {\n",
       "        vertical-align: top;\n",
       "    }\n",
       "\n",
       "    .dataframe thead th {\n",
       "        text-align: right;\n",
       "    }\n",
       "</style>\n",
       "<table border=\"1\" class=\"dataframe\">\n",
       "  <thead>\n",
       "    <tr style=\"text-align: right;\">\n",
       "      <th></th>\n",
       "      <th>FUT</th>\n",
       "      <th>FUT_Weather</th>\n",
       "    </tr>\n",
       "  </thead>\n",
       "  <tbody>\n",
       "    <tr>\n",
       "      <th>BASE</th>\n",
       "      <td>0.001851</td>\n",
       "      <td>0.015856</td>\n",
       "    </tr>\n",
       "    <tr>\n",
       "      <th>RNN</th>\n",
       "      <td>0.001585</td>\n",
       "      <td>0.019356</td>\n",
       "    </tr>\n",
       "    <tr>\n",
       "      <th>GRU</th>\n",
       "      <td>0.001444</td>\n",
       "      <td>0.016819</td>\n",
       "    </tr>\n",
       "    <tr>\n",
       "      <th>LSTM</th>\n",
       "      <td>0.018839</td>\n",
       "      <td>0.018661</td>\n",
       "    </tr>\n",
       "  </tbody>\n",
       "</table>\n",
       "</div>"
      ],
      "text/plain": [
       "           FUT  FUT_Weather\n",
       "BASE  0.001851     0.015856\n",
       "RNN   0.001585     0.019356\n",
       "GRU   0.001444     0.016819\n",
       "LSTM  0.018839     0.018661"
      ]
     },
     "execution_count": 405,
     "metadata": {},
     "output_type": "execute_result"
    }
   ],
   "source": [
    "test_table_FW"
   ]
  },
  {
   "cell_type": "code",
   "execution_count": 406,
   "metadata": {},
   "outputs": [
    {
     "data": {
      "text/html": [
       "<div>\n",
       "<style scoped>\n",
       "    .dataframe tbody tr th:only-of-type {\n",
       "        vertical-align: middle;\n",
       "    }\n",
       "\n",
       "    .dataframe tbody tr th {\n",
       "        vertical-align: top;\n",
       "    }\n",
       "\n",
       "    .dataframe thead th {\n",
       "        text-align: right;\n",
       "    }\n",
       "</style>\n",
       "<table border=\"1\" class=\"dataframe\">\n",
       "  <thead>\n",
       "    <tr style=\"text-align: right;\">\n",
       "      <th></th>\n",
       "      <th>FUT</th>\n",
       "      <th>FUT_Weather</th>\n",
       "      <th>FUT_STK_Weather</th>\n",
       "    </tr>\n",
       "  </thead>\n",
       "  <tbody>\n",
       "    <tr>\n",
       "      <th>BASE</th>\n",
       "      <td>0.009162</td>\n",
       "      <td>0.051479</td>\n",
       "      <td>0.081547</td>\n",
       "    </tr>\n",
       "    <tr>\n",
       "      <th>RNN</th>\n",
       "      <td>0.058894</td>\n",
       "      <td>0.067447</td>\n",
       "      <td>0.064809</td>\n",
       "    </tr>\n",
       "    <tr>\n",
       "      <th>GRU</th>\n",
       "      <td>0.062665</td>\n",
       "      <td>0.056730</td>\n",
       "      <td>0.060752</td>\n",
       "    </tr>\n",
       "    <tr>\n",
       "      <th>LSTM</th>\n",
       "      <td>0.070180</td>\n",
       "      <td>0.075489</td>\n",
       "      <td>0.050968</td>\n",
       "    </tr>\n",
       "  </tbody>\n",
       "</table>\n",
       "</div>"
      ],
      "text/plain": [
       "           FUT  FUT_Weather  FUT_STK_Weather\n",
       "BASE  0.009162     0.051479         0.081547\n",
       "RNN   0.058894     0.067447         0.064809\n",
       "GRU   0.062665     0.056730         0.060752\n",
       "LSTM  0.070180     0.075489         0.050968"
      ]
     },
     "execution_count": 406,
     "metadata": {},
     "output_type": "execute_result"
    }
   ],
   "source": [
    "test_table_FSW"
   ]
  },
  {
   "cell_type": "code",
   "execution_count": null,
   "metadata": {
    "collapsed": true
   },
   "outputs": [],
   "source": []
  },
  {
   "cell_type": "markdown",
   "metadata": {},
   "source": [
    "# Denormalize the close data & predictions (using same normalizing model from much earlier)"
   ]
  },
  {
   "cell_type": "code",
   "execution_count": 258,
   "metadata": {
    "collapsed": true
   },
   "outputs": [],
   "source": [
    "def denormalize(norm_close):       \n",
    "    #normalized_value = normalized_value.reshape(-1,1)\n",
    "\n",
    "    #return df.shape, p.shape\n",
    "    denorm_close = close_normalizer.inverse_transform(norm_close)\n",
    "      \n",
    "    return denorm_close"
   ]
  },
  {
   "cell_type": "markdown",
   "metadata": {},
   "source": [
    "# Predictions: LSTM for FUT only"
   ]
  },
  {
   "cell_type": "code",
   "execution_count": 156,
   "metadata": {},
   "outputs": [
    {
     "data": {
      "text/plain": [
       "array([[ 228.73051453],\n",
       "       [ 228.76409912],\n",
       "       [ 228.81941223],\n",
       "       ..., \n",
       "       [ 227.50605774],\n",
       "       [ 227.46653748],\n",
       "       [ 227.35243225]], dtype=float32)"
      ]
     },
     "execution_count": 156,
     "metadata": {},
     "output_type": "execute_result"
    }
   ],
   "source": [
    "denormalize(yPred_norm)"
   ]
  },
  {
   "cell_type": "code",
   "execution_count": 159,
   "metadata": {},
   "outputs": [
    {
     "data": {
      "text/plain": [
       "array([[ 377.5 ],\n",
       "       [ 373.5 ],\n",
       "       [ 370.75],\n",
       "       ..., \n",
       "       [ 553.  ],\n",
       "       [ 545.25],\n",
       "       [ 533.75]])"
      ]
     },
     "execution_count": 159,
     "metadata": {},
     "output_type": "execute_result"
    }
   ],
   "source": [
    "denormalize(yTestF.reshape(-1,1))"
   ]
  },
  {
   "cell_type": "markdown",
   "metadata": {},
   "source": [
    "# Prediction vs Actual:  LSTM - Futures only"
   ]
  },
  {
   "cell_type": "code",
   "execution_count": 407,
   "metadata": {},
   "outputs": [
    {
     "data": {
      "image/png": "[encoded data removed]",
      "text/plain": [
       "<Figure size 864x576 with 1 Axes>"
      ]
     },
     "metadata": {},
     "output_type": "display_data"
    }
   ],
   "source": [
    "yPred_norm = modelLSTM_F.predict(XTestF)\n",
    "yPred_denorm = denormalize(yPred_norm)\n",
    "yTestF_denorm = denormalize(yTestF.reshape(-1,1))\n",
    "\n",
    "plt.figure(figsize=(12,8))\n",
    "plt.plot(list(range(len(yTestF))), yTestF_denorm)\n",
    "plt.plot(list(range(len(yTestF))), yPred_denorm);"
   ]
  },
  {
   "cell_type": "markdown",
   "metadata": {},
   "source": [
    "# Prediction vs Actual: LSTM - Futures only (data truncated to length of weather data)"
   ]
  },
  {
   "cell_type": "code",
   "execution_count": 408,
   "metadata": {},
   "outputs": [
    {
     "data": {
      "image/png": "[encoded data removed]",
      "text/plain": [
       "<Figure size 864x576 with 1 Axes>"
      ]
     },
     "metadata": {},
     "output_type": "display_data"
    }
   ],
   "source": [
    "yPred_norm = modelLSTM_FW_F.predict(XTestFW_F)\n",
    "yPred_denorm = denormalize(yPred_norm)\n",
    "yTestFW_F_denorm = denormalize(yTestFW_F.reshape(-1,1))\n",
    "\n",
    "plt.figure(figsize=(12,8))\n",
    "plt.plot(list(range(len(yTestFW_F))), yTestFW_F_denorm, label='actual')\n",
    "plt.plot(list(range(len(yTestFW_F))), yPred_denorm, label='prediction');"
   ]
  },
  {
   "cell_type": "markdown",
   "metadata": {},
   "source": [
    "# Prediction vs Actual: RNN - FUT+Weather"
   ]
  },
  {
   "cell_type": "code",
   "execution_count": 409,
   "metadata": {},
   "outputs": [
    {
     "data": {
      "image/png": "[encoded data removed]",
      "text/plain": [
       "<Figure size 864x576 with 1 Axes>"
      ]
     },
     "metadata": {},
     "output_type": "display_data"
    }
   ],
   "source": [
    "yPredFW_norm = modelRNN_FW.predict(XTestFW)\n",
    "yPredFW_denorm = denormalize(yPredFW_norm)\n",
    "yTestFW_denorm = denormalize(yTestFW.reshape(-1,1))\n",
    "\n",
    "plt.figure(figsize=(12,8))\n",
    "plt.plot(list(range(len(yTestFW))), yTestFW_denorm)\n",
    "plt.plot(list(range(len(yTestFW))), yPredFW_denorm);"
   ]
  },
  {
   "cell_type": "markdown",
   "metadata": {
    "collapsed": true
   },
   "source": [
    "# Prediction vs Actual: LSTM - Futures only (truncated to length of stock data)"
   ]
  },
  {
   "cell_type": "code",
   "execution_count": 410,
   "metadata": {},
   "outputs": [
    {
     "data": {
      "image/png": "[encoded data removed]",
      "text/plain": [
       "<Figure size 864x576 with 1 Axes>"
      ]
     },
     "metadata": {},
     "output_type": "display_data"
    }
   ],
   "source": [
    "yPredFSW_norm = modelLSTM_FSW_F.predict(XTestFSW_F)\n",
    "yPredFSW_denorm = denormalize(yPredFSW_norm)\n",
    "yTestFSW_denorm = denormalize(yTestFSW_F.reshape(-1,1))\n",
    "\n",
    "plt.figure(figsize=(12,8))\n",
    "plt.plot(list(range(len(yTestFSW))), yTestFSW_denorm)\n",
    "plt.plot(list(range(len(yTestFSW))), yPredFSW_denorm);"
   ]
  },
  {
   "cell_type": "code",
   "execution_count": null,
   "metadata": {
    "collapsed": true
   },
   "outputs": [],
   "source": []
  }
 ],
 "metadata": {
  "kernelspec": {
   "display_name": "Python 3",
   "language": "python",
   "name": "python3"
  },
  "language_info": {
   "codemirror_mode": {
    "name": "ipython",
    "version": 3
   },
   "file_extension": ".py",
   "mimetype": "text/x-python",
   "name": "python",
   "nbconvert_exporter": "python",
   "pygments_lexer": "ipython3",
   "version": "3.6.3"
  }
 },
 "nbformat": 4,
 "nbformat_minor": 2
}
