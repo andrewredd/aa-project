{
 "cells": [
  {
   "cell_type": "code",
   "execution_count": 272,
   "metadata": {},
   "outputs": [],
   "source": [
    "import pandas as pd\n",
    "import numpy as np\n",
    "import quandl\n",
    "import matplotlib\n",
    "import matplotlib.pyplot as plt\n",
    "import pandas as pd\n",
    "from pandas import datetime\n",
    "from math import sqrt\n",
    "import time\n",
    "import itertools\n",
    "from sklearn.preprocessing import MinMaxScaler\n",
    "import datetime\n",
    "from operator import itemgetter\n",
    "from sklearn.metrics import mean_squared_error\n",
    "from math import sqrt\n",
    "from keras.models import Sequential\n",
    "from keras.layers.core import Dense, Dropout, Activation, Reshape\n",
    "from keras.layers.recurrent import LSTM, RNN, GRU, SimpleRNN\n",
    "from keras.models import load_model\n",
    "import keras\n",
    "import h5py\n",
    "import requests\n",
    "import os\n",
    "\n",
    "%matplotlib inline\n",
    "\n",
    "import warnings\n",
    "warnings.filterwarnings(\"ignore\")\n",
    "\n",
    "quandl.ApiConfig.api_key = \"zFtyXTJz6DTqqdvEy2gi\""
   ]
  },
  {
   "cell_type": "code",
   "execution_count": null,
   "metadata": {
    "collapsed": true
   },
   "outputs": [],
   "source": [
    "#Stock Data (DBA and WEAT not available from here)\n",
    "#data = quandl.get_table('WIKI/PRICES', qopts = { 'columns': ['ticker', 'date', 'close'] }, ticker = ['DBA'], date = { 'gte': '2012-01-01', 'lte': '2018-04-13' })"
   ]
  },
  {
   "cell_type": "markdown",
   "metadata": {},
   "source": [
    "### Futures: Continuous contracts (W# - contract # ahead)"
   ]
  },
  {
   "cell_type": "code",
   "execution_count": 5,
   "metadata": {
    "collapsed": true
   },
   "outputs": [],
   "source": [
    "#continuous futures W1 is front month\n",
    "#W1 may18 prices start 3/15/18..futures trade until biz day before 15th of settle month\n",
    "#data = quandl.get('CHRIS/CME_KW1')\n",
    "#data.to_csv('CME_KW1.csv')"
   ]
  },
  {
   "cell_type": "code",
   "execution_count": 629,
   "metadata": {
    "collapsed": true
   },
   "outputs": [],
   "source": [
    "#data.head()"
   ]
  },
  {
   "cell_type": "markdown",
   "metadata": {},
   "source": [
    "### Futures: Individual contracts (all data)"
   ]
  },
  {
   "cell_type": "code",
   "execution_count": null,
   "metadata": {
    "collapsed": true
   },
   "outputs": [],
   "source": [
    "#individual contract (July 2018)\n",
    "#data = quandl.get('CME/WN2018')\n",
    "#data = quandl.get('CME/WK2018')  #may2018'\n",
    "#data = quandl.get('CME/WH2018')  #mar2018\n"
   ]
  },
  {
   "cell_type": "code",
   "execution_count": null,
   "metadata": {
    "collapsed": true
   },
   "outputs": [],
   "source": [
    "#data.iloc[635:,[3]]"
   ]
  },
  {
   "cell_type": "markdown",
   "metadata": {
    "collapsed": true
   },
   "source": [
    "### Combining the Financial data sets by Date"
   ]
  },
  {
   "cell_type": "code",
   "execution_count": 65,
   "metadata": {
    "collapsed": true
   },
   "outputs": [],
   "source": [
    "# dat = pd.read_csv(\"Data/CME_W4.csv\")\n",
    "# dat = dat.rename(index=str, columns={'Volume': 'Vol', 'Previous Day Open Interest': 'OpIntPvD'})\n",
    "# print(dat.head())\n",
    "# print(len(dat))\n",
    "# dat.dtypes\n",
    "\n",
    "# i = 1\n",
    "# cols = ['Date', 'Open', 'High', 'Low', 'Last', 'Vol', 'OpInt']\n",
    "# dat = dat[cols]\n",
    "# cols2 = ['W'+str(i) + \"_\" + x for x in cols[1:]]\n",
    "# cols2.insert(0,'Date')\n",
    "# dat.columns = cols2\n",
    "# dat.head()"
   ]
  },
  {
   "cell_type": "markdown",
   "metadata": {},
   "source": [
    "# Import, Merge, Clean Data\n",
    "\n",
    "### Combine all the Futures Contract Data (5 futures files (W1-W5) and 4 stocks )"
   ]
  },
  {
   "cell_type": "code",
   "execution_count": 52,
   "metadata": {
    "scrolled": false
   },
   "outputs": [],
   "source": [
    "def fixDate(inDate):\n",
    "    lst = inDate.split('/')\n",
    "    if lst[2] < '20':\n",
    "        lst[2] = '20'+lst[2]\n",
    "    else:\n",
    "        lst[2] = '19'+lst[2]\n",
    "    return '/'.join(lst)\n",
    "    \n",
    "import glob\n",
    "\n",
    "cols = ['Date', 'Open', 'High', 'Low', 'Last', 'Vol', 'OpInt']\n",
    "\n",
    "#get futures data files, sort by 13th char (digit)\n",
    "filenamesFUT = glob.glob('./Data/CME_KW*.csv')\n",
    "filenamesFUT = sorted(filenamesFUT, key=lambda x: x[12])\n",
    "\n",
    "#for each file, subset/clean columns, join to W1 by date\n",
    "for file in filenamesFUT:\n",
    "    lst = file.split('W')\n",
    "    cNum = int(lst[1][:1])\n",
    "    df = pd.read_csv(file)\n",
    "    \n",
    "    #W1-3 have date without century, add full year\n",
    "    #if cNum <= 3:\n",
    "    #df['Date'] = df['Date'].apply(fixDate)\n",
    "    df['Date'] = pd.to_datetime(df['Date'])\n",
    "    \n",
    "    df = df.rename(index=str, columns={'Volume': 'Vol', 'Previous Day Open Interest': 'OpInt'})\n",
    "    df = df[cols]\n",
    "    colsTxt = ['KW'+str(cNum) + \"_\" + x for x in cols[1:]]\n",
    "    colsTxt.insert(0, 'Date')\n",
    "    df.columns = colsTxt\n",
    "\n",
    "    if cNum == 1:\n",
    "        dat = df\n",
    "    else:\n",
    "        dat = dat.merge(df, how='left', on='Date')"
   ]
  },
  {
   "cell_type": "markdown",
   "metadata": {},
   "source": [
    "### Add Equity data"
   ]
  },
  {
   "cell_type": "code",
   "execution_count": 53,
   "metadata": {
    "collapsed": true
   },
   "outputs": [],
   "source": [
    "filenames = glob.glob('./Data/*.csv')\n",
    "filenamesEQ = [x for x in filenames if x not in filenamesFUT]\n",
    "\n",
    "colsEQ = ['Date','Close']\n",
    "\n",
    "for file in filenamesEQ:\n",
    "    if 'financialALL' not in file and 'imputed' not in file:\n",
    "        df = pd.read_csv(file, parse_dates=[0])\n",
    "        df = df[colsEQ]\n",
    "    \n",
    "        #extract ticker\n",
    "        ticker = file.split('/')[2].split('.')[0]\n",
    "\n",
    "        df.columns = ['Date', ticker]\n",
    "        \n",
    "        #merge with futures data\n",
    "        dat = dat.merge(df, how='left', on='Date')"
   ]
  },
  {
   "cell_type": "code",
   "execution_count": 54,
   "metadata": {},
   "outputs": [
    {
     "data": {
      "text/plain": [
       "Index(['Date', 'KW1_Open', 'KW1_High', 'KW1_Low', 'KW1_Last', 'KW1_Vol',\n",
       "       'KW1_OpInt', 'KW3_Open', 'KW3_High', 'KW3_Low', 'KW3_Last', 'KW3_Vol',\n",
       "       'KW3_OpInt', 'ADM', 'BG', 'WEAT', 'DBA'],\n",
       "      dtype='object')"
      ]
     },
     "execution_count": 54,
     "metadata": {},
     "output_type": "execute_result"
    }
   ],
   "source": [
    "dat.columns"
   ]
  },
  {
   "cell_type": "code",
   "execution_count": 55,
   "metadata": {},
   "outputs": [
    {
     "data": {
      "text/html": [
       "<div>\n",
       "<style scoped>\n",
       "    .dataframe tbody tr th:only-of-type {\n",
       "        vertical-align: middle;\n",
       "    }\n",
       "\n",
       "    .dataframe tbody tr th {\n",
       "        vertical-align: top;\n",
       "    }\n",
       "\n",
       "    .dataframe thead th {\n",
       "        text-align: right;\n",
       "    }\n",
       "</style>\n",
       "<table border=\"1\" class=\"dataframe\">\n",
       "  <thead>\n",
       "    <tr style=\"text-align: right;\">\n",
       "      <th></th>\n",
       "      <th>Date</th>\n",
       "      <th>FUT_Open</th>\n",
       "      <th>FUT_High</th>\n",
       "      <th>FUT_Low</th>\n",
       "      <th>FUT_Close</th>\n",
       "      <th>FUT_Vol</th>\n",
       "      <th>FUT_OpInt</th>\n",
       "      <th>ADM</th>\n",
       "      <th>BG</th>\n",
       "      <th>WEAT</th>\n",
       "      <th>DBA</th>\n",
       "    </tr>\n",
       "  </thead>\n",
       "  <tbody>\n",
       "    <tr>\n",
       "      <th>0</th>\n",
       "      <td>1976-04-09</td>\n",
       "      <td>389.5</td>\n",
       "      <td>389.50</td>\n",
       "      <td>387.00</td>\n",
       "      <td>388.00</td>\n",
       "      <td>95</td>\n",
       "      <td>480</td>\n",
       "      <td>NaN</td>\n",
       "      <td>NaN</td>\n",
       "      <td>NaN</td>\n",
       "      <td>NaN</td>\n",
       "    </tr>\n",
       "    <tr>\n",
       "      <th>1</th>\n",
       "      <td>1976-04-12</td>\n",
       "      <td>384.0</td>\n",
       "      <td>385.00</td>\n",
       "      <td>383.00</td>\n",
       "      <td>383.50</td>\n",
       "      <td>115</td>\n",
       "      <td>580</td>\n",
       "      <td>NaN</td>\n",
       "      <td>NaN</td>\n",
       "      <td>NaN</td>\n",
       "      <td>NaN</td>\n",
       "    </tr>\n",
       "    <tr>\n",
       "      <th>2</th>\n",
       "      <td>1976-04-13</td>\n",
       "      <td>383.0</td>\n",
       "      <td>383.00</td>\n",
       "      <td>381.00</td>\n",
       "      <td>381.00</td>\n",
       "      <td>5</td>\n",
       "      <td>585</td>\n",
       "      <td>NaN</td>\n",
       "      <td>NaN</td>\n",
       "      <td>NaN</td>\n",
       "      <td>NaN</td>\n",
       "    </tr>\n",
       "    <tr>\n",
       "      <th>3</th>\n",
       "      <td>1976-04-14</td>\n",
       "      <td>384.0</td>\n",
       "      <td>384.25</td>\n",
       "      <td>381.75</td>\n",
       "      <td>381.75</td>\n",
       "      <td>55</td>\n",
       "      <td>635</td>\n",
       "      <td>NaN</td>\n",
       "      <td>NaN</td>\n",
       "      <td>NaN</td>\n",
       "      <td>NaN</td>\n",
       "    </tr>\n",
       "    <tr>\n",
       "      <th>4</th>\n",
       "      <td>1976-04-15</td>\n",
       "      <td>381.5</td>\n",
       "      <td>394.50</td>\n",
       "      <td>381.50</td>\n",
       "      <td>390.00</td>\n",
       "      <td>230</td>\n",
       "      <td>645</td>\n",
       "      <td>NaN</td>\n",
       "      <td>NaN</td>\n",
       "      <td>NaN</td>\n",
       "      <td>NaN</td>\n",
       "    </tr>\n",
       "  </tbody>\n",
       "</table>\n",
       "</div>"
      ],
      "text/plain": [
       "        Date  FUT_Open  FUT_High  FUT_Low  FUT_Close  FUT_Vol  FUT_OpInt  ADM  \\\n",
       "0 1976-04-09     389.5    389.50   387.00     388.00       95        480  NaN   \n",
       "1 1976-04-12     384.0    385.00   383.00     383.50      115        580  NaN   \n",
       "2 1976-04-13     383.0    383.00   381.00     381.00        5        585  NaN   \n",
       "3 1976-04-14     384.0    384.25   381.75     381.75       55        635  NaN   \n",
       "4 1976-04-15     381.5    394.50   381.50     390.00      230        645  NaN   \n",
       "\n",
       "   BG  WEAT  DBA  \n",
       "0 NaN   NaN  NaN  \n",
       "1 NaN   NaN  NaN  \n",
       "2 NaN   NaN  NaN  \n",
       "3 NaN   NaN  NaN  \n",
       "4 NaN   NaN  NaN  "
      ]
     },
     "execution_count": 55,
     "metadata": {},
     "output_type": "execute_result"
    }
   ],
   "source": [
    "#keep only the W3 futures contract (3 months ahead rolling contract)\n",
    "dat = dat[['Date', 'KW3_Open', 'KW3_High', 'KW3_Low', 'KW3_Last', 'KW3_Vol', 'KW3_OpInt', 'ADM',\n",
    "     'BG', 'WEAT', 'DBA']]\n",
    "\n",
    "#change col names\n",
    "dat.columns = ['Date', 'FUT_Open', 'FUT_High', 'FUT_Low', 'FUT_Close', 'FUT_Vol', 'FUT_OpInt', 'ADM',\n",
    "     'BG', 'WEAT', 'DBA']\n",
    "\n",
    "dat.head()"
   ]
  },
  {
   "cell_type": "code",
   "execution_count": 56,
   "metadata": {
    "collapsed": true
   },
   "outputs": [],
   "source": [
    "# make Date the index\n",
    "dat = dat.set_index('Date')\n",
    "\n",
    "#save to csv\n",
    "dat.to_csv(\"./Data/financialALL.csv\")"
   ]
  },
  {
   "cell_type": "markdown",
   "metadata": {},
   "source": [
    "### Split data into 3 datasets (futures, stocks, weather)"
   ]
  },
  {
   "cell_type": "code",
   "execution_count": 57,
   "metadata": {
    "collapsed": true
   },
   "outputs": [],
   "source": [
    "futures = dat[['FUT_Open','FUT_High','FUT_Low','FUT_Close','FUT_Vol','FUT_OpInt']]\n",
    "stocks = dat[['ADM','BG','WEAT','DBA']]\n",
    "stocks.dropna(inplace=True)"
   ]
  },
  {
   "cell_type": "code",
   "execution_count": 58,
   "metadata": {},
   "outputs": [
    {
     "data": {
      "text/html": [
       "<div>\n",
       "<style scoped>\n",
       "    .dataframe tbody tr th:only-of-type {\n",
       "        vertical-align: middle;\n",
       "    }\n",
       "\n",
       "    .dataframe tbody tr th {\n",
       "        vertical-align: top;\n",
       "    }\n",
       "\n",
       "    .dataframe thead th {\n",
       "        text-align: right;\n",
       "    }\n",
       "</style>\n",
       "<table border=\"1\" class=\"dataframe\">\n",
       "  <thead>\n",
       "    <tr style=\"text-align: right;\">\n",
       "      <th></th>\n",
       "      <th>1F0_avg_rh</th>\n",
       "      <th>1F0_avg_wind_drct</th>\n",
       "      <th>1F0_avg_wind_speed_kts</th>\n",
       "      <th>1F0_climo_high_f</th>\n",
       "      <th>1F0_climo_low_f</th>\n",
       "      <th>1F0_climo_precip_in</th>\n",
       "      <th>1F0_max_dewpoint_f</th>\n",
       "      <th>1F0_max_rh</th>\n",
       "      <th>1F0_max_temp_f</th>\n",
       "      <th>1F0_min_dewpoint_f</th>\n",
       "      <th>...</th>\n",
       "      <th>WWR_climo_precip_in</th>\n",
       "      <th>WWR_max_dewpoint_f</th>\n",
       "      <th>WWR_max_rh</th>\n",
       "      <th>WWR_max_temp_f</th>\n",
       "      <th>WWR_min_dewpoint_f</th>\n",
       "      <th>WWR_min_rh</th>\n",
       "      <th>WWR_min_temp_f</th>\n",
       "      <th>WWR_precip_in</th>\n",
       "      <th>WWR_snow_in</th>\n",
       "      <th>WWR_snowd_in</th>\n",
       "    </tr>\n",
       "    <tr>\n",
       "      <th>Date</th>\n",
       "      <th></th>\n",
       "      <th></th>\n",
       "      <th></th>\n",
       "      <th></th>\n",
       "      <th></th>\n",
       "      <th></th>\n",
       "      <th></th>\n",
       "      <th></th>\n",
       "      <th></th>\n",
       "      <th></th>\n",
       "      <th></th>\n",
       "      <th></th>\n",
       "      <th></th>\n",
       "      <th></th>\n",
       "      <th></th>\n",
       "      <th></th>\n",
       "      <th></th>\n",
       "      <th></th>\n",
       "      <th></th>\n",
       "      <th></th>\n",
       "      <th></th>\n",
       "    </tr>\n",
       "  </thead>\n",
       "  <tbody>\n",
       "    <tr>\n",
       "      <th>2005-01-31</th>\n",
       "      <td>88.6985</td>\n",
       "      <td>4.95102</td>\n",
       "      <td>3.557650</td>\n",
       "      <td>54.7</td>\n",
       "      <td>32.5</td>\n",
       "      <td>0.06</td>\n",
       "      <td>37.0</td>\n",
       "      <td>100.0</td>\n",
       "      <td>43.0</td>\n",
       "      <td>37.0</td>\n",
       "      <td>...</td>\n",
       "      <td>0.03</td>\n",
       "      <td>34.0</td>\n",
       "      <td>100.0000</td>\n",
       "      <td>37.0</td>\n",
       "      <td>30.0</td>\n",
       "      <td>86.6944</td>\n",
       "      <td>30.0</td>\n",
       "      <td>0.08</td>\n",
       "      <td>1.361442</td>\n",
       "      <td>1.713048</td>\n",
       "    </tr>\n",
       "    <tr>\n",
       "      <th>2005-02-01</th>\n",
       "      <td>85.1454</td>\n",
       "      <td>30.55420</td>\n",
       "      <td>5.152340</td>\n",
       "      <td>54.9</td>\n",
       "      <td>32.6</td>\n",
       "      <td>0.07</td>\n",
       "      <td>39.0</td>\n",
       "      <td>100.0</td>\n",
       "      <td>43.0</td>\n",
       "      <td>37.0</td>\n",
       "      <td>...</td>\n",
       "      <td>0.03</td>\n",
       "      <td>34.0</td>\n",
       "      <td>100.0000</td>\n",
       "      <td>36.0</td>\n",
       "      <td>34.0</td>\n",
       "      <td>80.5077</td>\n",
       "      <td>34.0</td>\n",
       "      <td>0.00</td>\n",
       "      <td>1.068212</td>\n",
       "      <td>2.398019</td>\n",
       "    </tr>\n",
       "    <tr>\n",
       "      <th>2005-02-02</th>\n",
       "      <td>86.7985</td>\n",
       "      <td>355.15000</td>\n",
       "      <td>3.563940</td>\n",
       "      <td>55.0</td>\n",
       "      <td>32.8</td>\n",
       "      <td>0.08</td>\n",
       "      <td>37.0</td>\n",
       "      <td>100.0</td>\n",
       "      <td>43.0</td>\n",
       "      <td>34.0</td>\n",
       "      <td>...</td>\n",
       "      <td>0.02</td>\n",
       "      <td>34.0</td>\n",
       "      <td>100.0000</td>\n",
       "      <td>46.0</td>\n",
       "      <td>30.0</td>\n",
       "      <td>60.7869</td>\n",
       "      <td>30.0</td>\n",
       "      <td>0.00</td>\n",
       "      <td>0.247806</td>\n",
       "      <td>0.096416</td>\n",
       "    </tr>\n",
       "    <tr>\n",
       "      <th>2005-02-03</th>\n",
       "      <td>73.9092</td>\n",
       "      <td>351.57600</td>\n",
       "      <td>1.132680</td>\n",
       "      <td>55.2</td>\n",
       "      <td>33.0</td>\n",
       "      <td>0.06</td>\n",
       "      <td>36.0</td>\n",
       "      <td>100.0</td>\n",
       "      <td>55.0</td>\n",
       "      <td>28.0</td>\n",
       "      <td>...</td>\n",
       "      <td>0.03</td>\n",
       "      <td>37.0</td>\n",
       "      <td>92.9165</td>\n",
       "      <td>61.0</td>\n",
       "      <td>30.0</td>\n",
       "      <td>28.7724</td>\n",
       "      <td>30.0</td>\n",
       "      <td>0.00</td>\n",
       "      <td>-0.790440</td>\n",
       "      <td>-1.163829</td>\n",
       "    </tr>\n",
       "    <tr>\n",
       "      <th>2005-02-04</th>\n",
       "      <td>69.7364</td>\n",
       "      <td>211.26100</td>\n",
       "      <td>0.581704</td>\n",
       "      <td>55.4</td>\n",
       "      <td>33.2</td>\n",
       "      <td>0.07</td>\n",
       "      <td>37.0</td>\n",
       "      <td>100.0</td>\n",
       "      <td>59.0</td>\n",
       "      <td>28.0</td>\n",
       "      <td>...</td>\n",
       "      <td>0.03</td>\n",
       "      <td>34.0</td>\n",
       "      <td>93.0280</td>\n",
       "      <td>63.0</td>\n",
       "      <td>34.0</td>\n",
       "      <td>25.3208</td>\n",
       "      <td>34.0</td>\n",
       "      <td>0.00</td>\n",
       "      <td>-0.350570</td>\n",
       "      <td>-0.533856</td>\n",
       "    </tr>\n",
       "  </tbody>\n",
       "</table>\n",
       "<p>5 rows × 1395 columns</p>\n",
       "</div>"
      ],
      "text/plain": [
       "            1F0_avg_rh  1F0_avg_wind_drct  1F0_avg_wind_speed_kts  \\\n",
       "Date                                                                \n",
       "2005-01-31     88.6985            4.95102                3.557650   \n",
       "2005-02-01     85.1454           30.55420                5.152340   \n",
       "2005-02-02     86.7985          355.15000                3.563940   \n",
       "2005-02-03     73.9092          351.57600                1.132680   \n",
       "2005-02-04     69.7364          211.26100                0.581704   \n",
       "\n",
       "            1F0_climo_high_f  1F0_climo_low_f  1F0_climo_precip_in  \\\n",
       "Date                                                                 \n",
       "2005-01-31              54.7             32.5                 0.06   \n",
       "2005-02-01              54.9             32.6                 0.07   \n",
       "2005-02-02              55.0             32.8                 0.08   \n",
       "2005-02-03              55.2             33.0                 0.06   \n",
       "2005-02-04              55.4             33.2                 0.07   \n",
       "\n",
       "            1F0_max_dewpoint_f  1F0_max_rh  1F0_max_temp_f  \\\n",
       "Date                                                         \n",
       "2005-01-31                37.0       100.0            43.0   \n",
       "2005-02-01                39.0       100.0            43.0   \n",
       "2005-02-02                37.0       100.0            43.0   \n",
       "2005-02-03                36.0       100.0            55.0   \n",
       "2005-02-04                37.0       100.0            59.0   \n",
       "\n",
       "            1F0_min_dewpoint_f      ...       WWR_climo_precip_in  \\\n",
       "Date                                ...                             \n",
       "2005-01-31                37.0      ...                      0.03   \n",
       "2005-02-01                37.0      ...                      0.03   \n",
       "2005-02-02                34.0      ...                      0.02   \n",
       "2005-02-03                28.0      ...                      0.03   \n",
       "2005-02-04                28.0      ...                      0.03   \n",
       "\n",
       "            WWR_max_dewpoint_f  WWR_max_rh  WWR_max_temp_f  \\\n",
       "Date                                                         \n",
       "2005-01-31                34.0    100.0000            37.0   \n",
       "2005-02-01                34.0    100.0000            36.0   \n",
       "2005-02-02                34.0    100.0000            46.0   \n",
       "2005-02-03                37.0     92.9165            61.0   \n",
       "2005-02-04                34.0     93.0280            63.0   \n",
       "\n",
       "            WWR_min_dewpoint_f  WWR_min_rh  WWR_min_temp_f  WWR_precip_in  \\\n",
       "Date                                                                        \n",
       "2005-01-31                30.0     86.6944            30.0           0.08   \n",
       "2005-02-01                34.0     80.5077            34.0           0.00   \n",
       "2005-02-02                30.0     60.7869            30.0           0.00   \n",
       "2005-02-03                30.0     28.7724            30.0           0.00   \n",
       "2005-02-04                34.0     25.3208            34.0           0.00   \n",
       "\n",
       "            WWR_snow_in  WWR_snowd_in  \n",
       "Date                                   \n",
       "2005-01-31     1.361442      1.713048  \n",
       "2005-02-01     1.068212      2.398019  \n",
       "2005-02-02     0.247806      0.096416  \n",
       "2005-02-03    -0.790440     -1.163829  \n",
       "2005-02-04    -0.350570     -0.533856  \n",
       "\n",
       "[5 rows x 1395 columns]"
      ]
     },
     "execution_count": 58,
     "metadata": {},
     "output_type": "execute_result"
    }
   ],
   "source": [
    "weather = pd.read_csv(\"./Data/final_weather_imputed.csv\", header=0)\n",
    "weather['Date'] = pd.to_datetime(weather['day'])\n",
    "weather.drop(columns=['day'], inplace=True)\n",
    "weather.set_index('Date', inplace=True)\n",
    "weather.head()"
   ]
  },
  {
   "cell_type": "markdown",
   "metadata": {},
   "source": [
    "# Feature Engineering\n",
    "\n",
    "### OHLC Average\n",
    "\n",
    "Many traders believe in technical analysis, forecasting prices by analyzing statistics based on trading activity. One particular metric watched is the OHLC average which is the average of the Open, High, Low, and Closing prices of a security. "
   ]
  },
  {
   "cell_type": "code",
   "execution_count": 59,
   "metadata": {
    "collapsed": true
   },
   "outputs": [],
   "source": [
    "#add OHLC for each of the futures contracts row\n",
    "futures['FUT_OHLC'] = np.sum(futures[['FUT_Open', 'FUT_High', 'FUT_Low', 'FUT_Close']],axis=1) / 4"
   ]
  },
  {
   "cell_type": "markdown",
   "metadata": {
    "collapsed": true
   },
   "source": [
    "### Moving Averages"
   ]
  },
  {
   "cell_type": "code",
   "execution_count": 60,
   "metadata": {
    "collapsed": true
   },
   "outputs": [],
   "source": [
    "MoveAvg = [50,100,200]\n",
    "for ma in MoveAvg:\n",
    "    #add MA columns by taking the mean over specificed window size\n",
    "    futures['FUT_{}MA'.format(ma)] = futures['FUT_Close'].rolling(window=ma).mean()"
   ]
  },
  {
   "cell_type": "markdown",
   "metadata": {},
   "source": [
    "### Percent Change"
   ]
  },
  {
   "cell_type": "code",
   "execution_count": 61,
   "metadata": {
    "collapsed": true
   },
   "outputs": [],
   "source": [
    "futures['FUT_%Chg'] = futures['FUT_Close'].pct_change()"
   ]
  },
  {
   "cell_type": "markdown",
   "metadata": {},
   "source": [
    "### Closing price one month ahead (will be the label)"
   ]
  },
  {
   "cell_type": "code",
   "execution_count": 62,
   "metadata": {
    "collapsed": true
   },
   "outputs": [],
   "source": [
    "windowSize = 22  #number of days in a month to window data\n",
    "lookAhead = 10\n",
    "# futures['FUT_CloseAhead'] = futures['FUT_Close'].shift(-lookAhead)  #**** update col selection below as well\n",
    "futures.dropna(inplace=True)\n",
    "\n",
    "#moving FUT_Close to 2nd to last col\n",
    "futures = futures[['FUT_Open', 'FUT_High', 'FUT_Low', 'FUT_Vol', 'FUT_OpInt',\n",
    "       'FUT_OHLC', 'FUT_50MA', 'FUT_100MA', 'FUT_200MA', 'FUT_%Chg', 'FUT_Close']]\n",
    "\n",
    "#uncomment and comment above if adding CloseAhead\n",
    "# futures = futures[['FUT_Open', 'FUT_High', 'FUT_Low', 'FUT_Vol', 'FUT_OpInt',\n",
    "#        'FUT_OHLC', 'FUT_50MA', 'FUT_100MA', 'FUT_200MA', 'FUT_%Chg', 'FUT_Close','FUT_CloseAhead']]"
   ]
  },
  {
   "cell_type": "markdown",
   "metadata": {},
   "source": [
    "### Normalize the data  (call function for whichever cols we want to normalize)\n",
    "\n",
    "3 datasets after this section are:\n",
    "<ul>\n",
    "<li>fut_norm\n",
    "<li>weather_norm\n",
    "<li>stk_norm\n",
    "</ul>"
   ]
  },
  {
   "cell_type": "code",
   "execution_count": 64,
   "metadata": {
    "collapsed": true
   },
   "outputs": [],
   "source": [
    "def normalizeData(data):\n",
    "    minMax = MinMaxScaler()\n",
    "    normData = minMax.fit_transform(data.values.reshape(-1,1)).ravel()\n",
    "    return normData"
   ]
  },
  {
   "cell_type": "code",
   "execution_count": 66,
   "metadata": {
    "collapsed": true
   },
   "outputs": [],
   "source": [
    "#normalize futures data (except the close)\n",
    "fut_norm = futures.iloc[:,:-1].apply(normalizeData, axis=0)\n",
    "\n",
    "#do close separately so can use model later to denorm\n",
    "close_normalizer = MinMaxScaler()\n",
    "fut_norm['FUT_Close'] = close_normalizer.fit_transform(futures.iloc[:,-1].values.reshape(-1,1)).ravel()"
   ]
  },
  {
   "cell_type": "code",
   "execution_count": 67,
   "metadata": {
    "collapsed": true
   },
   "outputs": [],
   "source": [
    "#normalize stock and weather data\n",
    "stk_norm = stocks.iloc[:,:].apply(normalizeData, axis=0)\n",
    "weather_norm = weather.iloc[:,:].apply(normalizeData, axis=0)"
   ]
  },
  {
   "cell_type": "code",
   "execution_count": 68,
   "metadata": {},
   "outputs": [
    {
     "data": {
      "image/png": "[encoded data removed]",
      "text/plain": [
       "<Figure size 864x576 with 1 Axes>"
      ]
     },
     "metadata": {},
     "output_type": "display_data"
    }
   ],
   "source": [
    "plt.figure(figsize=(12,8))\n",
    "plt.plot(fut_norm['FUT_Close'], color='r', label='W1')\n",
    "plt.plot(stk_norm['WEAT'], color='b')\n",
    "plt.xlabel('Date')\n",
    "plt.ylabel('Price (cents/bushel)')\n",
    "plt.title('Kansas City HRW Wheat Future (and WEAT ETF) - Front Month');"
   ]
  },
  {
   "cell_type": "markdown",
   "metadata": {},
   "source": [
    "### Prep Data for NN\n",
    "\n",
    "3 datasets (pre-windowing)\n",
    "<ul>\n",
    "<li>fut_norm\n",
    "<li>fut_weather_norm\n",
    "<li>fut_weatherLen_norm (futures only but weathersLength)\n",
    "<li>fut_stk_weather_norm\n",
    "<li>fut_stkLen_weatherLen_norm (futures only but stockLength)\n",
    "<li>fut_stkLen_weather_norm (futures & weather only but stockLength)\n",
    "</ul>"
   ]
  },
  {
   "cell_type": "code",
   "execution_count": 115,
   "metadata": {
    "collapsed": true
   },
   "outputs": [],
   "source": [
    "fut_weather_norm = weather_norm.merge(fut_norm, left_index=True, right_index=True)\n",
    "fut_weatherLen_norm = fut_weather_norm[['FUT_Open', 'FUT_High', 'FUT_Low', 'FUT_Vol', 'FUT_OpInt', 'FUT_OHLC',\n",
    "       'FUT_50MA', 'FUT_100MA', 'FUT_200MA', 'FUT_%Chg', 'FUT_Close']]"
   ]
  },
  {
   "cell_type": "code",
   "execution_count": 119,
   "metadata": {},
   "outputs": [
    {
     "data": {
      "text/plain": [
       "3272"
      ]
     },
     "execution_count": 119,
     "metadata": {},
     "output_type": "execute_result"
    }
   ],
   "source": [
    "len(fut_weather_norm)"
   ]
  },
  {
   "cell_type": "code",
   "execution_count": 122,
   "metadata": {
    "collapsed": true
   },
   "outputs": [],
   "source": [
    "fut_stk_weather_norm = stk_norm.merge(fut_weather_norm, left_index=True, right_index=True)\n",
    "fut_stkLen_weatherLen_norm = fut_stk_weather_norm[['FUT_Open', 'FUT_High', 'FUT_Low', 'FUT_Vol', 'FUT_OpInt', 'FUT_OHLC',\n",
    "       'FUT_50MA', 'FUT_100MA', 'FUT_200MA', 'FUT_%Chg', 'FUT_Close']]\n",
    "fut_stkLen_weather_norm = fut_stk_weather_norm.drop(columns=['ADM','BG','DBA','WEAT'])"
   ]
  },
  {
   "cell_type": "code",
   "execution_count": 71,
   "metadata": {
    "collapsed": true
   },
   "outputs": [],
   "source": [
    "#creates the windowed data\n",
    "def prepDataValid(df, window=30):\n",
    "    \n",
    "    newData = []\n",
    "\n",
    "    data = df.as_matrix()\n",
    "    \n",
    "    for i in range(len(data) - window): \n",
    "        newData.append(data[i: i + (window+1)]) # moving window of data, add one as index starts at 0\n",
    "    \n",
    "    \n",
    "    newData = np.array(newData)\n",
    "    split = int(round(len(newData)/3))\n",
    "\n",
    "    XTrain = newData[:split, :-1]    # data for days d in a month\n",
    "    yTrain = newData[:split,-1][:,-1] # data for day  d+1 only last col (FUT_CloseAhead)\n",
    "    \n",
    "    XValid = newData[split:(2*split),:-1]\n",
    "    yValid = newData[split:(2*split),-1][:,-1]\n",
    "    \n",
    "    XTest = newData[(2*split):,:-1]\n",
    "    yTest = newData[(2*split):,-1][:,-1]\n",
    "\n",
    "    return [XTrain, yTrain, XValid, yValid, XTest, yTest]"
   ]
  },
  {
   "cell_type": "code",
   "execution_count": 197,
   "metadata": {
    "collapsed": true
   },
   "outputs": [],
   "source": [
    "#creates the windowed data\n",
    "def prepData(df, window=30):\n",
    "    \n",
    "    newData = []\n",
    "\n",
    "    data = df.as_matrix()\n",
    "    \n",
    "    for i in range(len(data) - window): \n",
    "        newData.append(data[i: i + (window+1)]) # moving window of data, add one as index starts at 0\n",
    "    \n",
    "    newData = np.array(newData)\n",
    "    split = int(round(len(newData)/3))\n",
    "\n",
    "    XTrain = newData[:(2*split), :-1]    # data for days d in a month\n",
    "    yTrain = newData[:(2*split),-1][:,-1] # data for day  d+1 only last col (FUT_CloseAhead)\n",
    "    \n",
    "    #XValid = newData[split:(2*split),:-1]\n",
    "    #yValid = newData[split:(2*split),-1][:,-1]\n",
    "    \n",
    "    XTest = newData[(2*split):,:-1]\n",
    "    yTest = newData[(2*split):,-1][:,-1]\n",
    "\n",
    "    return [XTrain, yTrain, XTest, yTest]"
   ]
  },
  {
   "cell_type": "code",
   "execution_count": 72,
   "metadata": {
    "collapsed": true
   },
   "outputs": [],
   "source": [
    "#sets up non-windowing data base NN (assumes last col is target)\n",
    "def prepDataBase(df):\n",
    "    split = int(round(len(df)/3))\n",
    "    df = np.array(df)\n",
    "    XTrain = df[:(2*split), :-1]    # first split of rows, all but last col\n",
    "    yTrain = df[:(2*split),-1]      # only last col\n",
    "    \n",
    "    #XValid = df[split:(2*split),:-1]\n",
    "    #yValid = df[split:(2*split),-1]\n",
    "    \n",
    "    XTest = df[(2*split):,:-1]\n",
    "    yTest = df[(2*split):,-1]\n",
    "    \n",
    "    return [XTrain, yTrain, XTest, yTest]"
   ]
  },
  {
   "cell_type": "code",
   "execution_count": null,
   "metadata": {
    "collapsed": true
   },
   "outputs": [],
   "source": [
    "# #sets up non-windowing data base NN (assumes last col is target)\n",
    "# def prepDataBase(df):\n",
    "#     split = int(round(len(df)/3))\n",
    "#     df = np.array(df)\n",
    "#     XTrain = df[:split, :-1]    # first split of rows, all but last col\n",
    "#     yTrain = df[:split,-1]      # only last col\n",
    "    \n",
    "#     XValid = df[split:(2*split),:-1]\n",
    "#     yValid = df[split:(2*split),-1]\n",
    "    \n",
    "#     XTest = df[(2*split):,:-1]\n",
    "#     yTest = df[(2*split):,-1]\n",
    "    \n",
    "#     return [XTrain, yTrain, XValid, yValid, XTest, yTest]"
   ]
  },
  {
   "cell_type": "markdown",
   "metadata": {},
   "source": [
    "# Windowing of Data \n",
    "\n",
    "predData() returns RNN ready data: \n",
    "<ul>\n",
    "<li>XTrain\n",
    "<li>yTrain\n",
    "<li>XValid\n",
    "<li>yValid\n",
    "<li>XTest\n",
    "<li>yTest\n",
    "</ul>"
   ]
  },
  {
   "cell_type": "code",
   "execution_count": null,
   "metadata": {
    "collapsed": true
   },
   "outputs": [],
   "source": [
    "#get data split to do validation\n",
    "#just futures data (back to 1976)\n",
    "XTrainF, yTrainF, XValidF, yValidF, XTestF, yTestF = prepDataValid(fut_norm, windowSize)\n",
    "XTrainFW, yTrainFW, XValidFW, yValidFW, XTestFW, yTestFW = prepDataValid(fut_weather_norm, windowSize)\n",
    "XTrainFSW, yTrainFSW, XValidFSW, yValidFSW, XTestFSW, yTestFSW = prepDataValid(fut_stk_weather_norm, windowSize)"
   ]
  },
  {
   "cell_type": "code",
   "execution_count": 73,
   "metadata": {
    "collapsed": true
   },
   "outputs": [],
   "source": [
    "# get the non-windowed data for baseline NN\n",
    "XTrainF_Base, yTrainF_Base, XTestF_Base, yTestF_Base = prepDataBase(fut_norm)\n",
    "XTrainFW_Base, yTrainFW_Base, XTestFW_Base, yTestFW_Base = prepDataBase(fut_weather_norm)\n",
    "XTrainFSW_Base, yTrainFSW_Base, XTestFSW_Base, yTestFSW_Base = prepDataBase(fut_stk_weather_norm)\n"
   ]
  },
  {
   "cell_type": "code",
   "execution_count": 198,
   "metadata": {},
   "outputs": [],
   "source": [
    "## >>>>> label is FUT_CloseAhead (close price 22 days forward)  ... should we just use FUT_Close?\n",
    "\n",
    "#just futures data (back to 1976)\n",
    "XTrainF, yTrainF, XTestF, yTestF = prepData(fut_norm, windowSize)\n",
    "\n",
    "#futures and weather (back to 2005)\n",
    "XTrainFW, yTrainFW, XTestFW, yTestFW = prepData(fut_weather_norm, windowSize)\n",
    "XTrainFW_F, yTrainFW_F, XTestFW_F, yTestFW_F = prepData(fut_weatherLen_norm, windowSize)\n",
    "\n",
    "#futures, weather, and stocks (back to 2011)\n",
    "XTrainFSW, yTrainFSW, XTestFSW, yTestFSW = prepData(fut_stk_weather_norm, windowSize)\n",
    "XTrainFSW_F, yTrainFSW_F, XTestFSW_F, yTestFSW_F = prepData(fut_stkLen_weatherLen_norm, windowSize)\n",
    "XTrainFSW_FW, yTrainFSW_FW, XTestFSW_FW, yTestFSW_FW = prepData(fut_stkLen_weather_norm, windowSize)"
   ]
  },
  {
   "cell_type": "markdown",
   "metadata": {},
   "source": [
    "### Check if shapes look ok"
   ]
  },
  {
   "cell_type": "code",
   "execution_count": 200,
   "metadata": {},
   "outputs": [
    {
     "name": "stdout",
     "output_type": "stream",
     "text": [
      "(6910, 22, 11) (6910,) (3454, 22, 11) (3454,)\n"
     ]
    }
   ],
   "source": [
    "print(XTrainF.shape, yTrainF.shape, XTestF.shape, yTestF.shape)"
   ]
  },
  {
   "cell_type": "code",
   "execution_count": 201,
   "metadata": {},
   "outputs": [
    {
     "name": "stdout",
     "output_type": "stream",
     "text": [
      "(2166, 22, 1406) (2166,) (1084, 22, 1406) (1084,)\n"
     ]
    }
   ],
   "source": [
    "print(XTrainFW.shape, yTrainFW.shape, XTestFW.shape, yTestFW.shape)"
   ]
  },
  {
   "cell_type": "code",
   "execution_count": 202,
   "metadata": {},
   "outputs": [
    {
     "name": "stdout",
     "output_type": "stream",
     "text": [
      "(1054, 22, 1410) (1054,) (526, 22, 1410) (526,)\n"
     ]
    }
   ],
   "source": [
    "print(XTrainFSW.shape, yTrainFSW.shape, XTestFSW.shape, yTestFSW.shape)"
   ]
  },
  {
   "cell_type": "markdown",
   "metadata": {},
   "source": [
    "# Neural Network (RNN, GRU, LSTM)"
   ]
  },
  {
   "cell_type": "code",
   "execution_count": 282,
   "metadata": {
    "collapsed": true
   },
   "outputs": [],
   "source": [
    "#default layers = 6, neurons list always should equal 6\n",
    "def build_NN(inShape, neuronList, rnnLayers=2, nnType='RNN'):\n",
    "    \n",
    "    model = Sequential()\n",
    "    model.add(Dense(neuronList[0], input_shape=(inShape[0], inShape[1])))  #input layer\n",
    "    \n",
    "    #print(inShape[1], rnnLayers, neuronList)\n",
    "    if nnType == 'RNN':\n",
    "        for i in range(rnnLayers):\n",
    "            if i != rnnLayers-1:\n",
    "                model.add(SimpleRNN(neuronList[1], return_sequences=True))\n",
    "            else:\n",
    "                model.add(SimpleRNN(neuronList[2]))\n",
    "        model.add(Dense(neuronList[3], activation='relu'))\n",
    "        model.add(Dense(neuronList[4], activation='relu'))\n",
    "    elif nnType == 'GRU':\n",
    "        for i in range(rnnLayers):\n",
    "            if i != rnnLayers-1:\n",
    "                model.add(GRU(neuronList[1], return_sequences=True))\n",
    "            else:\n",
    "                model.add(GRU(neuronList[2]))\n",
    "        model.add(Dense(neuronList[3], activation='relu'))\n",
    "        model.add(Dense(neuronList[4], activation='relu'))\n",
    "    elif nnType == 'LSTM':\n",
    "        for i in range(rnnLayers):\n",
    "            if i != rnnLayers-1:\n",
    "                model.add(LSTM(neuronList[1], return_sequences=True)) \n",
    "            else:\n",
    "                model.add(LSTM(neuronList[2]))\n",
    "        model.add(Dense(neuronList[3], activation='relu'))      \n",
    "        model.add(Dense(neuronList[4], activation='relu'))\n",
    "    elif nnType == 'BASE':\n",
    "        for i in range(rnnLayers):\n",
    "            if i != rnnLayers-1:\n",
    "                model.add(Dense(neuronList[1], activation='relu'))\n",
    "            else:\n",
    "                model.add(Dense(neuronList[2], activation='relu'))\n",
    "        model.add(Dense(neuronList[3], activation='relu'))\n",
    "        model.add(Reshape((-1,)))\n",
    "        model.add(Dense(neuronList[4], activation='relu'))\n",
    "    else:\n",
    "        print('should not be here')\n",
    "    \n",
    "    model.add(Dense(neuronList[5], activation='linear', kernel_initializer=\"uniform\")) #output layer\n",
    "      \n",
    "    model.compile(loss='mse', optimizer='adam', metrics=['accuracy'])\n",
    "    #model.summary() \n",
    "\n",
    "    return model"
   ]
  },
  {
   "cell_type": "markdown",
   "metadata": {},
   "source": [
    "### Build Models for each dataset and type of NN"
   ]
  },
  {
   "cell_type": "code",
   "execution_count": null,
   "metadata": {
    "collapsed": true
   },
   "outputs": [],
   "source": [
    "#get the input shapes for each dataset to use input layer of NN model\n",
    "inShapeF = [windowSize, len(fut_norm.columns)]\n",
    "inShapeFW = [windowSize, len(fut_weather_norm.columns)]\n",
    "inShapeFSW = [windowSize, len(fut_stk_weather_norm.columns)]"
   ]
  },
  {
   "cell_type": "markdown",
   "metadata": {},
   "source": [
    "### Validation"
   ]
  },
  {
   "cell_type": "code",
   "execution_count": 172,
   "metadata": {
    "scrolled": true
   },
   "outputs": [
    {
     "name": "stdout",
     "output_type": "stream",
     "text": [
      "Epoch 1/8\n",
      "3455/3455 [==============================] - 18s 5ms/step - loss: 0.0122 - acc: 2.8944e-04\n",
      "Epoch 2/8\n",
      "3455/3455 [==============================] - 9s 3ms/step - loss: 0.0029 - acc: 2.8944e-04\n",
      "Epoch 3/8\n",
      "3455/3455 [==============================] - 9s 3ms/step - loss: 0.0013 - acc: 2.8944e-04\n",
      "Epoch 4/8\n",
      "3455/3455 [==============================] - 9s 3ms/step - loss: 5.7869e-04 - acc: 2.8944e-04\n",
      "Epoch 5/8\n",
      "3455/3455 [==============================] - 9s 3ms/step - loss: 5.5882e-04 - acc: 2.8944e-04\n",
      "Epoch 6/8\n",
      "3455/3455 [==============================] - 9s 3ms/step - loss: 4.0230e-04 - acc: 2.8944e-04\n",
      "Epoch 7/8\n",
      "3455/3455 [==============================] - 9s 3ms/step - loss: 3.1311e-04 - acc: 2.8944e-04\n",
      "Epoch 8/8\n",
      "3455/3455 [==============================] - 10s 3ms/step - loss: 2.5554e-04 - acc: 2.8944e-04\n",
      "Epoch 1/8\n",
      "1083/1083 [==============================] - 15s 14ms/step - loss: 0.1553 - acc: 0.0000e+00\n",
      "Epoch 2/8\n",
      "1083/1083 [==============================] - 4s 4ms/step - loss: 0.0471 - acc: 0.0000e+00\n",
      "Epoch 3/8\n",
      "1083/1083 [==============================] - 4s 4ms/step - loss: 0.0517 - acc: 0.0000e+00\n",
      "Epoch 4/8\n",
      "1083/1083 [==============================] - 4s 4ms/step - loss: 0.0415 - acc: 0.0000e+00\n",
      "Epoch 5/8\n",
      "1083/1083 [==============================] - 4s 4ms/step - loss: 0.0395 - acc: 0.0000e+00\n",
      "Epoch 6/8\n",
      "1083/1083 [==============================] - 4s 4ms/step - loss: 0.0411 - acc: 0.0000e+00\n",
      "Epoch 7/8\n",
      "1083/1083 [==============================] - 4s 4ms/step - loss: 0.0393 - acc: 0.0000e+00\n",
      "Epoch 8/8\n",
      "1083/1083 [==============================] - 4s 4ms/step - loss: 0.0388 - acc: 0.0000e+00\n",
      "Epoch 1/8\n",
      "527/527 [==============================] - 11s 21ms/step - loss: 0.2815 - acc: 0.0000e+00\n",
      "Epoch 2/8\n",
      "527/527 [==============================] - 2s 4ms/step - loss: 0.1853 - acc: 0.0000e+00\n",
      "Epoch 3/8\n",
      "527/527 [==============================] - 2s 4ms/step - loss: 0.0884 - acc: 0.0000e+00\n",
      "Epoch 4/8\n",
      "527/527 [==============================] - 2s 4ms/step - loss: 0.0313 - acc: 0.0000e+00\n",
      "Epoch 5/8\n",
      "527/527 [==============================] - 2s 4ms/step - loss: 0.0078 - acc: 0.0000e+00\n",
      "Epoch 6/8\n",
      "527/527 [==============================] - 2s 3ms/step - loss: 0.0137 - acc: 0.0000e+00\n",
      "Epoch 7/8\n",
      "527/527 [==============================] - 2s 4ms/step - loss: 0.0236 - acc: 0.0000e+00\n",
      "Epoch 8/8\n",
      "527/527 [==============================] - 2s 4ms/step - loss: 0.0209 - acc: 0.0000e+00\n",
      "Epoch 1/8\n",
      "3455/3455 [==============================] - 42s 12ms/step - loss: 0.0295 - acc: 2.8944e-04\n",
      "Epoch 2/8\n",
      "3455/3455 [==============================] - 31s 9ms/step - loss: 0.0107 - acc: 2.8944e-04\n",
      "Epoch 3/8\n",
      "3455/3455 [==============================] - 29s 9ms/step - loss: 0.0029 - acc: 2.8944e-04\n",
      "Epoch 4/8\n",
      "3455/3455 [==============================] - 30s 9ms/step - loss: 0.0015 - acc: 2.8944e-04\n",
      "Epoch 5/8\n",
      "3455/3455 [==============================] - 30s 9ms/step - loss: 6.9415e-04 - acc: 2.8944e-04\n",
      "Epoch 6/8\n",
      "3455/3455 [==============================] - 30s 9ms/step - loss: 5.7427e-04 - acc: 2.8944e-04\n",
      "Epoch 7/8\n",
      "3455/3455 [==============================] - 29s 9ms/step - loss: 3.4015e-04 - acc: 2.8944e-04\n",
      "Epoch 8/8\n",
      "3455/3455 [==============================] - 30s 9ms/step - loss: 2.8012e-04 - acc: 2.8944e-04\n",
      "Epoch 1/8\n",
      "1083/1083 [==============================] - 21s 20ms/step - loss: 0.1499 - acc: 0.0000e+00\n",
      "Epoch 2/8\n",
      "1083/1083 [==============================] - 11s 10ms/step - loss: 0.1111 - acc: 9.2336e-04\n",
      "Epoch 3/8\n",
      "1083/1083 [==============================] - 11s 10ms/step - loss: 0.0556 - acc: 0.0000e+00\n",
      "Epoch 4/8\n",
      "1083/1083 [==============================] - 11s 10ms/step - loss: 0.0389 - acc: 0.0000e+00\n",
      "Epoch 5/8\n",
      "1083/1083 [==============================] - 11s 10ms/step - loss: 0.0420 - acc: 0.0000e+00\n",
      "Epoch 6/8\n",
      "1083/1083 [==============================] - 11s 10ms/step - loss: 0.0388 - acc: 0.0000e+00\n",
      "Epoch 7/8\n",
      "1083/1083 [==============================] - 11s 10ms/step - loss: 0.0402 - acc: 0.0000e+00\n",
      "Epoch 8/8\n",
      "1083/1083 [==============================] - 11s 11ms/step - loss: 0.0394 - acc: 0.0000e+00\n",
      "Epoch 1/8\n",
      "527/527 [==============================] - 15s 29ms/step - loss: 0.2825 - acc: 0.0000e+00\n",
      "Epoch 2/8\n",
      "527/527 [==============================] - 5s 10ms/step - loss: 0.0195 - acc: 0.0000e+00\n",
      "Epoch 3/8\n",
      "527/527 [==============================] - 5s 10ms/step - loss: 0.2355 - acc: 0.0000e+00\n",
      "Epoch 4/8\n",
      "527/527 [==============================] - 5s 10ms/step - loss: 0.0123 - acc: 0.0000e+00\n",
      "Epoch 5/8\n",
      "527/527 [==============================] - 5s 10ms/step - loss: 0.0374 - acc: 0.0000e+00\n",
      "Epoch 6/8\n",
      "527/527 [==============================] - 5s 10ms/step - loss: 0.0391 - acc: 0.0000e+00\n",
      "Epoch 7/8\n",
      "527/527 [==============================] - 6s 10ms/step - loss: 0.0198 - acc: 0.0000e+00\n",
      "Epoch 8/8\n",
      "527/527 [==============================] - 5s 10ms/step - loss: 0.0083 - acc: 0.0000e+00\n",
      "Epoch 1/8\n",
      "3455/3455 [==============================] - 13s 4ms/step - loss: 0.0163 - acc: 2.8944e-04\n",
      "Epoch 2/8\n",
      "3455/3455 [==============================] - 3s 954us/step - loss: 0.0054 - acc: 2.8944e-04\n",
      "Epoch 3/8\n",
      "3455/3455 [==============================] - 3s 933us/step - loss: 0.0035 - acc: 2.8944e-04\n",
      "Epoch 4/8\n",
      "3455/3455 [==============================] - 3s 907us/step - loss: 0.0033 - acc: 2.8944e-04\n",
      "Epoch 5/8\n",
      "3455/3455 [==============================] - 3s 925us/step - loss: 0.0019 - acc: 2.8944e-04\n",
      "Epoch 6/8\n",
      "3455/3455 [==============================] - 3s 880us/step - loss: 9.0204e-04 - acc: 2.8944e-04\n",
      "Epoch 7/8\n",
      "3455/3455 [==============================] - 3s 925us/step - loss: 4.4877e-04 - acc: 2.8944e-04\n",
      "Epoch 8/8\n",
      "3455/3455 [==============================] - 3s 957us/step - loss: 5.2852e-04 - acc: 2.8944e-04\n",
      "Epoch 1/8\n",
      "1083/1083 [==============================] - 12s 11ms/step - loss: 0.1627 - acc: 0.0000e+00\n",
      "Epoch 2/8\n",
      "1083/1083 [==============================] - 2s 2ms/step - loss: 0.0907 - acc: 0.0000e+00\n",
      "Epoch 3/8\n",
      "1083/1083 [==============================] - 2s 2ms/step - loss: 0.0435 - acc: 0.0000e+00\n",
      "Epoch 4/8\n",
      "1083/1083 [==============================] - 2s 2ms/step - loss: 0.0437 - acc: 0.0000e+00\n",
      "Epoch 5/8\n",
      "1083/1083 [==============================] - 2s 2ms/step - loss: 0.0463 - acc: 0.0000e+00\n",
      "Epoch 6/8\n",
      "1083/1083 [==============================] - 2s 2ms/step - loss: 0.0400 - acc: 0.0000e+00\n",
      "Epoch 7/8\n",
      "1083/1083 [==============================] - 2s 2ms/step - loss: 0.0389 - acc: 0.0000e+00\n",
      "Epoch 8/8\n",
      "1083/1083 [==============================] - 2s 2ms/step - loss: 0.0399 - acc: 0.0000e+00\n",
      "Epoch 1/8\n",
      "527/527 [==============================] - 11s 21ms/step - loss: 0.2757 - acc: 0.0000e+00\n",
      "Epoch 2/8\n",
      "527/527 [==============================] - 1s 2ms/step - loss: 0.2506 - acc: 0.0000e+00\n",
      "Epoch 3/8\n",
      "527/527 [==============================] - 1s 2ms/step - loss: 0.2169 - acc: 0.0000e+00\n",
      "Epoch 4/8\n",
      "527/527 [==============================] - 1s 2ms/step - loss: 0.1851 - acc: 0.0000e+00\n",
      "Epoch 5/8\n",
      "527/527 [==============================] - 1s 2ms/step - loss: 0.1484 - acc: 0.0000e+00\n",
      "Epoch 6/8\n",
      "527/527 [==============================] - 1s 2ms/step - loss: 0.1121 - acc: 0.0000e+00\n",
      "Epoch 7/8\n",
      "527/527 [==============================] - 1s 2ms/step - loss: 0.0799 - acc: 0.0000e+00\n",
      "Epoch 8/8\n",
      "527/527 [==============================] - 1s 2ms/step - loss: 0.0523 - acc: 0.0000e+00\n",
      "Epoch 1/8\n",
      "3455/3455 [==============================] - 28s 8ms/step - loss: 0.0136 - acc: 2.8944e-04\n",
      "Epoch 2/8\n",
      "3455/3455 [==============================] - 17s 5ms/step - loss: 0.0048 - acc: 2.8944e-04\n",
      "Epoch 3/8\n",
      "3455/3455 [==============================] - 17s 5ms/step - loss: 0.0027 - acc: 2.8944e-04\n",
      "Epoch 4/8\n",
      "3455/3455 [==============================] - 17s 5ms/step - loss: 0.0016 - acc: 2.8944e-04\n",
      "Epoch 5/8\n",
      "3455/3455 [==============================] - 17s 5ms/step - loss: 8.9547e-04 - acc: 2.8944e-04\n",
      "Epoch 6/8\n",
      "3455/3455 [==============================] - 17s 5ms/step - loss: 9.6611e-04 - acc: 2.8944e-04\n",
      "Epoch 7/8\n",
      "3455/3455 [==============================] - 17s 5ms/step - loss: 6.0815e-04 - acc: 2.8944e-04\n",
      "Epoch 8/8\n",
      "3455/3455 [==============================] - 16s 5ms/step - loss: 5.4759e-04 - acc: 2.8944e-04\n",
      "Epoch 1/8\n",
      "1083/1083 [==============================] - 18s 16ms/step - loss: 0.1514 - acc: 0.0000e+00\n",
      "Epoch 2/8\n"
     ]
    },
    {
     "name": "stdout",
     "output_type": "stream",
     "text": [
      "1083/1083 [==============================] - 6s 6ms/step - loss: 0.0500 - acc: 0.0000e+00\n",
      "Epoch 3/8\n",
      "1083/1083 [==============================] - 7s 6ms/step - loss: 0.0474 - acc: 0.0000e+00\n",
      "Epoch 4/8\n",
      "1083/1083 [==============================] - 6s 6ms/step - loss: 0.0388 - acc: 0.0000e+00\n",
      "Epoch 5/8\n",
      "1083/1083 [==============================] - 6s 6ms/step - loss: 0.0388 - acc: 0.0000e+00\n",
      "Epoch 6/8\n",
      "1083/1083 [==============================] - 6s 6ms/step - loss: 0.0388 - acc: 0.0000e+00\n",
      "Epoch 7/8\n",
      "1083/1083 [==============================] - 6s 6ms/step - loss: 0.0387 - acc: 0.0000e+00\n",
      "Epoch 8/8\n",
      "1083/1083 [==============================] - 6s 6ms/step - loss: 0.0387 - acc: 0.0000e+00\n",
      "Epoch 1/8\n",
      "527/527 [==============================] - 14s 27ms/step - loss: 0.2820 - acc: 0.0000e+00\n",
      "Epoch 2/8\n",
      "527/527 [==============================] - 3s 6ms/step - loss: 0.2654 - acc: 0.0000e+00\n",
      "Epoch 3/8\n",
      "527/527 [==============================] - 3s 6ms/step - loss: 0.2216 - acc: 0.0000e+00\n",
      "Epoch 4/8\n",
      "527/527 [==============================] - 3s 6ms/step - loss: 0.1309 - acc: 0.0000e+00\n",
      "Epoch 5/8\n",
      "527/527 [==============================] - 3s 6ms/step - loss: 0.0558 - acc: 0.0000e+00\n",
      "Epoch 6/8\n",
      "527/527 [==============================] - 3s 6ms/step - loss: 0.0107 - acc: 0.0000e+00\n",
      "Epoch 7/8\n",
      "527/527 [==============================] - 3s 6ms/step - loss: 0.0178 - acc: 0.0000e+00\n",
      "Epoch 8/8\n",
      "527/527 [==============================] - 3s 6ms/step - loss: 0.0311 - acc: 0.0000e+00\n",
      "Epoch 1/8\n",
      "3455/3455 [==============================] - 66s 19ms/step - loss: 0.0302 - acc: 2.8944e-04\n",
      "Epoch 2/8\n",
      "3455/3455 [==============================] - 52s 15ms/step - loss: 0.0134 - acc: 2.8944e-04\n",
      "Epoch 3/8\n",
      "3455/3455 [==============================] - 53s 15ms/step - loss: 0.0056 - acc: 2.8944e-04\n",
      "Epoch 4/8\n",
      "3455/3455 [==============================] - 53s 15ms/step - loss: 0.0051 - acc: 2.8944e-04\n",
      "Epoch 5/8\n",
      "3455/3455 [==============================] - 53s 15ms/step - loss: 0.0018 - acc: 2.8944e-04\n",
      "Epoch 6/8\n",
      "3455/3455 [==============================] - 53s 15ms/step - loss: 0.0015 - acc: 2.8944e-04\n",
      "Epoch 7/8\n",
      "3455/3455 [==============================] - 54s 16ms/step - loss: 0.0010 - acc: 2.8944e-04\n",
      "Epoch 8/8\n",
      "3455/3455 [==============================] - 54s 16ms/step - loss: 8.2516e-04 - acc: 2.8944e-04\n",
      "Epoch 1/8\n",
      "1083/1083 [==============================] - 30s 28ms/step - loss: 0.1417 - acc: 0.0000e+00\n",
      "Epoch 2/8\n",
      "1083/1083 [==============================] - 19s 18ms/step - loss: 0.1440 - acc: 0.0000e+00\n",
      "Epoch 3/8\n",
      "1083/1083 [==============================] - 19s 17ms/step - loss: 0.1095 - acc: 9.2336e-04\n",
      "Epoch 4/8\n",
      "1083/1083 [==============================] - 18s 17ms/step - loss: 0.0416 - acc: 0.0000e+00\n",
      "Epoch 5/8\n",
      "1083/1083 [==============================] - 18s 17ms/step - loss: 0.0397 - acc: 0.0000e+00\n",
      "Epoch 6/8\n",
      "1083/1083 [==============================] - 18s 17ms/step - loss: 0.0412 - acc: 0.0000e+00\n",
      "Epoch 7/8\n",
      "1083/1083 [==============================] - 18s 17ms/step - loss: 0.0398 - acc: 0.0000e+00\n",
      "Epoch 8/8\n",
      "1083/1083 [==============================] - 19s 18ms/step - loss: 0.0387 - acc: 0.0000e+00\n",
      "Epoch 1/8\n",
      "527/527 [==============================] - 20s 39ms/step - loss: 0.2725 - acc: 0.0000e+00\n",
      "Epoch 2/8\n",
      "527/527 [==============================] - 9s 17ms/step - loss: 0.0987 - acc: 0.0000e+00\n",
      "Epoch 3/8\n",
      "527/527 [==============================] - 9s 17ms/step - loss: 0.1786 - acc: 0.0000e+00\n",
      "Epoch 4/8\n",
      "527/527 [==============================] - 9s 17ms/step - loss: 0.0105 - acc: 0.0000e+00\n",
      "Epoch 5/8\n",
      "527/527 [==============================] - 9s 17ms/step - loss: 0.0362 - acc: 0.0000e+00\n",
      "Epoch 6/8\n",
      "527/527 [==============================] - 9s 16ms/step - loss: 0.0373 - acc: 0.0000e+00\n",
      "Epoch 7/8\n",
      "527/527 [==============================] - 9s 16ms/step - loss: 0.0164 - acc: 0.0000e+00\n",
      "Epoch 8/8\n",
      "527/527 [==============================] - 9s 16ms/step - loss: 0.0070 - acc: 0.0000e+00\n",
      "Epoch 1/8\n",
      "3455/3455 [==============================] - 18s 5ms/step - loss: 0.0158 - acc: 2.8944e-04\n",
      "Epoch 2/8\n",
      "3455/3455 [==============================] - 6s 2ms/step - loss: 0.0052 - acc: 2.8944e-04\n",
      "Epoch 3/8\n",
      "3455/3455 [==============================] - 6s 2ms/step - loss: 0.0039 - acc: 2.8944e-04\n",
      "Epoch 4/8\n",
      "3455/3455 [==============================] - 6s 2ms/step - loss: 0.0025 - acc: 2.8944e-04\n",
      "Epoch 5/8\n",
      "3455/3455 [==============================] - 6s 2ms/step - loss: 9.7422e-04 - acc: 2.8944e-04\n",
      "Epoch 6/8\n",
      "3455/3455 [==============================] - 6s 2ms/step - loss: 8.7228e-04 - acc: 2.8944e-04\n",
      "Epoch 7/8\n",
      "3455/3455 [==============================] - 6s 2ms/step - loss: 6.2719e-04 - acc: 2.8944e-04\n",
      "Epoch 8/8\n",
      "3455/3455 [==============================] - 6s 2ms/step - loss: 4.5008e-04 - acc: 2.8944e-04\n",
      "Epoch 1/8\n",
      "1083/1083 [==============================] - 15s 14ms/step - loss: 0.1526 - acc: 0.0000e+00\n",
      "Epoch 2/8\n",
      "1083/1083 [==============================] - 3s 2ms/step - loss: 0.0822 - acc: 0.0000e+00\n",
      "Epoch 3/8\n",
      "1083/1083 [==============================] - 2s 2ms/step - loss: 0.0395 - acc: 0.0000e+00\n",
      "Epoch 4/8\n",
      "1083/1083 [==============================] - 2s 2ms/step - loss: 0.0510 - acc: 0.0000e+00\n",
      "Epoch 5/8\n",
      "1083/1083 [==============================] - 2s 2ms/step - loss: 0.0401 - acc: 0.0000e+00\n",
      "Epoch 6/8\n",
      "1083/1083 [==============================] - 3s 2ms/step - loss: 0.0403 - acc: 0.0000e+00\n",
      "Epoch 7/8\n",
      "1083/1083 [==============================] - 3s 2ms/step - loss: 0.0421 - acc: 0.0000e+00\n",
      "Epoch 8/8\n",
      "1083/1083 [==============================] - 2s 2ms/step - loss: 0.0406 - acc: 0.0000e+00\n",
      "Epoch 1/8\n",
      "527/527 [==============================] - 14s 27ms/step - loss: 0.2761 - acc: 0.0000e+00\n",
      "Epoch 2/8\n",
      "527/527 [==============================] - 1s 2ms/step - loss: 0.2616 - acc: 0.0000e+00\n",
      "Epoch 3/8\n",
      "527/527 [==============================] - 1s 2ms/step - loss: 0.2404 - acc: 0.0000e+00\n",
      "Epoch 4/8\n",
      "527/527 [==============================] - 1s 2ms/step - loss: 0.2114 - acc: 0.0000e+00\n",
      "Epoch 5/8\n",
      "527/527 [==============================] - 1s 2ms/step - loss: 0.1768 - acc: 0.0000e+00\n",
      "Epoch 6/8\n",
      "527/527 [==============================] - 1s 2ms/step - loss: 0.1419 - acc: 0.0000e+00\n",
      "Epoch 7/8\n",
      "527/527 [==============================] - 1s 3ms/step - loss: 0.1102 - acc: 0.0000e+00\n",
      "Epoch 8/8\n",
      "527/527 [==============================] - 1s 3ms/step - loss: 0.0822 - acc: 0.0000e+00\n",
      "Epoch 1/8\n",
      "3455/3455 [==============================] - 41s 12ms/step - loss: 0.0146 - acc: 2.8944e-04\n",
      "Epoch 2/8\n",
      "3455/3455 [==============================] - 25s 7ms/step - loss: 0.0050 - acc: 2.8944e-04\n",
      "Epoch 3/8\n",
      "3455/3455 [==============================] - 25s 7ms/step - loss: 0.0032 - acc: 2.8944e-04\n",
      "Epoch 4/8\n",
      "3455/3455 [==============================] - 25s 7ms/step - loss: 0.0019 - acc: 2.8944e-04\n",
      "Epoch 5/8\n",
      "3455/3455 [==============================] - 25s 7ms/step - loss: 0.0012 - acc: 2.8944e-04\n",
      "Epoch 6/8\n",
      "3455/3455 [==============================] - 24s 7ms/step - loss: 9.0086e-04 - acc: 2.8944e-04\n",
      "Epoch 7/8\n",
      "3455/3455 [==============================] - 24s 7ms/step - loss: 6.3458e-04 - acc: 2.8944e-04\n",
      "Epoch 8/8\n",
      "3455/3455 [==============================] - 23s 7ms/step - loss: 4.6832e-04 - acc: 2.8944e-04\n",
      "Epoch 1/8\n",
      "1083/1083 [==============================] - 23s 22ms/step - loss: 0.1569 - acc: 0.0000e+00\n",
      "Epoch 2/8\n",
      "1083/1083 [==============================] - 9s 8ms/step - loss: 0.0667 - acc: 0.0000e+00\n",
      "Epoch 3/8\n",
      "1083/1083 [==============================] - 9s 9ms/step - loss: 0.0459 - acc: 0.0000e+00\n",
      "Epoch 4/8\n",
      "1083/1083 [==============================] - 9s 8ms/step - loss: 0.0422 - acc: 0.0000e+00\n",
      "Epoch 5/8\n",
      "1083/1083 [==============================] - 9s 8ms/step - loss: 0.0400 - acc: 0.0000e+00\n",
      "Epoch 6/8\n",
      "1083/1083 [==============================] - 9s 8ms/step - loss: 0.0396 - acc: 0.0000e+00\n",
      "Epoch 7/8\n",
      "1083/1083 [==============================] - 8s 8ms/step - loss: 0.0417 - acc: 0.0000e+00\n",
      "Epoch 8/8\n",
      "1083/1083 [==============================] - 9s 8ms/step - loss: 0.0389 - acc: 0.0000e+00\n",
      "Epoch 1/8\n",
      "527/527 [==============================] - 19s 36ms/step - loss: 0.2768 - acc: 0.0000e+00\n",
      "Epoch 2/8\n",
      "527/527 [==============================] - 5s 9ms/step - loss: 0.2586 - acc: 0.0000e+00\n",
      "Epoch 3/8\n",
      "527/527 [==============================] - 4s 8ms/step - loss: 0.1675 - acc: 0.0000e+00\n"
     ]
    },
    {
     "name": "stdout",
     "output_type": "stream",
     "text": [
      "Epoch 4/8\n",
      "527/527 [==============================] - 4s 8ms/step - loss: 0.0367 - acc: 0.0000e+00\n",
      "Epoch 5/8\n",
      "527/527 [==============================] - 4s 8ms/step - loss: 0.0144 - acc: 0.0000e+00\n",
      "Epoch 6/8\n",
      "527/527 [==============================] - 4s 8ms/step - loss: 0.0287 - acc: 0.0000e+00\n",
      "Epoch 7/8\n",
      "527/527 [==============================] - 4s 8ms/step - loss: 0.0136 - acc: 0.0000e+00\n",
      "Epoch 8/8\n",
      "527/527 [==============================] - 4s 8ms/step - loss: 0.0070 - acc: 0.0000e+00\n",
      "Epoch 1/8\n",
      "3455/3455 [==============================] - 99s 29ms/step - loss: 0.0427 - acc: 2.8944e-04\n",
      "Epoch 2/8\n",
      "3455/3455 [==============================] - 75s 22ms/step - loss: 0.0122 - acc: 2.8944e-04\n",
      "Epoch 3/8\n",
      "3455/3455 [==============================] - 78s 22ms/step - loss: 0.0097 - acc: 2.8944e-04\n",
      "Epoch 4/8\n",
      "3455/3455 [==============================] - 79s 23ms/step - loss: 0.0041 - acc: 2.8944e-04\n",
      "Epoch 5/8\n",
      "3455/3455 [==============================] - 82s 24ms/step - loss: 0.0015 - acc: 2.8944e-04\n",
      "Epoch 6/8\n",
      "3455/3455 [==============================] - 79s 23ms/step - loss: 0.0011 - acc: 2.8944e-04\n",
      "Epoch 7/8\n",
      "3455/3455 [==============================] - 80s 23ms/step - loss: 7.7798e-04 - acc: 2.8944e-04\n",
      "Epoch 8/8\n",
      "3455/3455 [==============================] - 83s 24ms/step - loss: 6.3538e-04 - acc: 2.8944e-04\n",
      "Epoch 1/8\n",
      "1083/1083 [==============================] - 42s 39ms/step - loss: 0.1577 - acc: 0.0000e+00\n",
      "Epoch 2/8\n",
      "1083/1083 [==============================] - 27s 25ms/step - loss: 0.0393 - acc: 0.0000e+00\n",
      "Epoch 3/8\n",
      "1083/1083 [==============================] - 26s 24ms/step - loss: 0.0585 - acc: 0.0000e+00\n",
      "Epoch 4/8\n",
      "1083/1083 [==============================] - 27s 25ms/step - loss: 0.0390 - acc: 0.0000e+00\n",
      "Epoch 5/8\n",
      "1083/1083 [==============================] - 26s 24ms/step - loss: 0.0393 - acc: 0.0000e+00\n",
      "Epoch 6/8\n",
      "1083/1083 [==============================] - 27s 25ms/step - loss: 0.0390 - acc: 0.0000e+00\n",
      "Epoch 7/8\n",
      "1083/1083 [==============================] - 27s 25ms/step - loss: 0.0389 - acc: 0.0000e+00\n",
      "Epoch 8/8\n",
      "1083/1083 [==============================] - 27s 25ms/step - loss: 0.0397 - acc: 0.0000e+00\n",
      "Epoch 1/8\n",
      "527/527 [==============================] - 28s 53ms/step - loss: 0.2727 - acc: 0.0000e+00\n",
      "Epoch 2/8\n",
      "527/527 [==============================] - 12s 23ms/step - loss: 0.1179 - acc: 0.0000e+00\n",
      "Epoch 3/8\n",
      "527/527 [==============================] - 12s 23ms/step - loss: 0.3120 - acc: 0.0000e+00\n",
      "Epoch 4/8\n",
      "527/527 [==============================] - 13s 24ms/step - loss: 0.0072 - acc: 0.0000e+00\n",
      "Epoch 5/8\n",
      "527/527 [==============================] - 13s 25ms/step - loss: 0.0498 - acc: 0.0000e+00\n",
      "Epoch 6/8\n",
      "527/527 [==============================] - 12s 23ms/step - loss: 0.0283 - acc: 0.0000e+00\n",
      "Epoch 7/8\n",
      "527/527 [==============================] - 13s 24ms/step - loss: 0.0088 - acc: 0.0000e+00\n",
      "Epoch 8/8\n",
      "527/527 [==============================] - 13s 24ms/step - loss: 0.0095 - acc: 0.0000e+00\n",
      "Epoch 1/8\n",
      "3455/3455 [==============================] - 26s 7ms/step - loss: 0.0181 - acc: 2.8944e-04\n",
      "Epoch 2/8\n",
      "3455/3455 [==============================] - 9s 3ms/step - loss: 0.0081 - acc: 2.8944e-04\n",
      "Epoch 3/8\n",
      "3455/3455 [==============================] - 9s 3ms/step - loss: 0.0051 - acc: 2.8944e-04\n",
      "Epoch 4/8\n",
      "3455/3455 [==============================] - 9s 3ms/step - loss: 0.0050 - acc: 2.8944e-04\n",
      "Epoch 5/8\n",
      "3455/3455 [==============================] - 9s 3ms/step - loss: 0.0044 - acc: 2.8944e-04\n",
      "Epoch 6/8\n",
      "3455/3455 [==============================] - 8s 2ms/step - loss: 0.0040 - acc: 2.8944e-04\n",
      "Epoch 7/8\n",
      "3455/3455 [==============================] - 9s 3ms/step - loss: 0.0025 - acc: 2.8944e-04\n",
      "Epoch 8/8\n",
      "3455/3455 [==============================] - 8s 2ms/step - loss: 0.0015 - acc: 2.8944e-04\n",
      "Epoch 1/8\n",
      "1083/1083 [==============================] - 21s 19ms/step - loss: 0.1599 - acc: 0.0000e+00\n",
      "Epoch 2/8\n",
      "1083/1083 [==============================] - 4s 3ms/step - loss: 0.1541 - acc: 0.0000e+00\n",
      "Epoch 3/8\n",
      "1083/1083 [==============================] - 4s 3ms/step - loss: 0.1352 - acc: 0.0000e+00\n",
      "Epoch 4/8\n",
      "1083/1083 [==============================] - 4s 3ms/step - loss: 0.1026 - acc: 0.0000e+00\n",
      "Epoch 5/8\n",
      "1083/1083 [==============================] - 4s 3ms/step - loss: 0.0717 - acc: 0.0000e+00\n",
      "Epoch 6/8\n",
      "1083/1083 [==============================] - 4s 3ms/step - loss: 0.0514 - acc: 0.0000e+00\n",
      "Epoch 7/8\n",
      "1083/1083 [==============================] - 4s 3ms/step - loss: 0.0407 - acc: 0.0000e+00\n",
      "Epoch 8/8\n",
      "1083/1083 [==============================] - 4s 3ms/step - loss: 0.0394 - acc: 0.0000e+00\n",
      "Epoch 1/8\n",
      "527/527 [==============================] - 20s 38ms/step - loss: 0.2735 - acc: 0.0000e+00\n",
      "Epoch 2/8\n",
      "527/527 [==============================] - 2s 3ms/step - loss: 0.2529 - acc: 0.0000e+00\n",
      "Epoch 3/8\n",
      "527/527 [==============================] - 2s 3ms/step - loss: 0.2048 - acc: 0.0000e+00\n",
      "Epoch 4/8\n",
      "527/527 [==============================] - 2s 3ms/step - loss: 0.1451 - acc: 0.0000e+00\n",
      "Epoch 5/8\n",
      "527/527 [==============================] - 2s 3ms/step - loss: 0.0845 - acc: 0.0000e+00\n",
      "Epoch 6/8\n",
      "527/527 [==============================] - 2s 3ms/step - loss: 0.0377 - acc: 0.0000e+00\n",
      "Epoch 7/8\n",
      "527/527 [==============================] - 2s 3ms/step - loss: 0.0122 - acc: 0.0000e+00\n",
      "Epoch 8/8\n",
      "527/527 [==============================] - 2s 3ms/step - loss: 0.0077 - acc: 0.0000e+00\n"
     ]
    }
   ],
   "source": [
    "neuronsList = [[512, 256, 256, 64, 32, 1],[1024, 512, 512, 128, 64, 1], [256, 128, 128, 32, 16, 1]]\n",
    "layersList = [2,4,6]\n",
    "epochs = 8\n",
    "batchSize = 1000\n",
    "\n",
    "scoreTable = []\n",
    "score = []\n",
    "\n",
    "for layers in layersList:\n",
    "    for neurons in neuronsList:\n",
    "        modelLSTM_F = build_NN(inShapeF, neurons, rnnLayers=layers, nnType='LSTM')\n",
    "        modelLSTM_FW = build_NN(inShapeFW, neurons, rnnLayers=layers, nnType='LSTM')\n",
    "        modelLSTM_FSW = build_NN(inShapeFSW, neurons, rnnLayers=layers, nnType='LSTM')\n",
    "        \n",
    "        modelLSTM_F.fit(XTrainF, yTrainF, batch_size=batchSize, epochs=epochs, verbose=1)\n",
    "        modelLSTM_FW.fit(XTrainFW, yTrainFW, batch_size=batchSize, epochs=epochs, verbose=1)\n",
    "        modelLSTM_FSW.fit(XTrainFSW, yTrainFSW, batch_size=batchSize, epochs=epochs, verbose=1)\n",
    "        \n",
    "        temp = []\n",
    "        temp.append(modelLSTM_F.evaluate(XValidF, yValidF, verbose=0)[0])\n",
    "        temp.append(modelLSTM_FW.evaluate(XValidFW, yValidFW, verbose=0)[0])\n",
    "        temp.append(modelLSTM_FSW.evaluate(XValidFSW, yValidFSW, verbose=0)[0])\n",
    "        \n",
    "        score.append(np.mean(temp))\n",
    "    \n",
    "    scoreTable.append(score)\n",
    "    score = []\n",
    "    "
   ]
  },
  {
   "cell_type": "markdown",
   "metadata": {},
   "source": [
    "### Get the bestLayers and bestNeurons from 'Grid Search'"
   ]
  },
  {
   "cell_type": "code",
   "execution_count": 182,
   "metadata": {
    "collapsed": true
   },
   "outputs": [],
   "source": [
    "scoreTableNP = np.array(scoreTable)\n",
    "idx = np.where(scoreTableNP == np.min(scoreTableNP))\n",
    "\n",
    "bestLayers = np.array(layersList)[idx[0]][0]\n",
    "bestNeurons = np.array(neuronsList)[idx[1]][0]"
   ]
  },
  {
   "cell_type": "code",
   "execution_count": 207,
   "metadata": {},
   "outputs": [
    {
     "data": {
      "text/plain": [
       "[256, 128, 128, 32, 16, 1]"
      ]
     },
     "execution_count": 207,
     "metadata": {},
     "output_type": "execute_result"
    }
   ],
   "source": [
    "list(bestNeurons)"
   ]
  },
  {
   "cell_type": "code",
   "execution_count": 239,
   "metadata": {
    "collapsed": true
   },
   "outputs": [],
   "source": [
    "#neurons list\n",
    "#neurons = [512, 256, 256, 64, 32, 1]\n",
    "neurons2 = list(bestNeurons)\n",
    "neurons = [256, 256, 128, 32, 16, 1]\n",
    "epochs = 10\n",
    "batchSize = 300"
   ]
  },
  {
   "cell_type": "code",
   "execution_count": 287,
   "metadata": {},
   "outputs": [
    {
     "name": "stdout",
     "output_type": "stream",
     "text": [
      "_________________________________________________________________\n",
      "Layer (type)                 Output Shape              Param #   \n",
      "=================================================================\n",
      "dense_704 (Dense)            (None, 22, 256)           3072      \n",
      "_________________________________________________________________\n",
      "dense_705 (Dense)            (None, 22, 256)           65792     \n",
      "_________________________________________________________________\n",
      "dense_706 (Dense)            (None, 22, 256)           65792     \n",
      "_________________________________________________________________\n",
      "dense_707 (Dense)            (None, 22, 256)           65792     \n",
      "_________________________________________________________________\n",
      "dense_708 (Dense)            (None, 22, 128)           32896     \n",
      "_________________________________________________________________\n",
      "dense_709 (Dense)            (None, 22, 32)            4128      \n",
      "_________________________________________________________________\n",
      "reshape_13 (Reshape)         (None, 704)               0         \n",
      "_________________________________________________________________\n",
      "dense_710 (Dense)            (None, 16)                11280     \n",
      "_________________________________________________________________\n",
      "dense_711 (Dense)            (None, 1)                 17        \n",
      "=================================================================\n",
      "Total params: 248,769\n",
      "Trainable params: 248,769\n",
      "Non-trainable params: 0\n",
      "_________________________________________________________________\n",
      "None \n",
      "\n",
      "_________________________________________________________________\n",
      "Layer (type)                 Output Shape              Param #   \n",
      "=================================================================\n",
      "dense_712 (Dense)            (None, 22, 256)           3072      \n",
      "_________________________________________________________________\n",
      "simple_rnn_114 (SimpleRNN)   (None, 22, 256)           131328    \n",
      "_________________________________________________________________\n",
      "simple_rnn_115 (SimpleRNN)   (None, 22, 256)           131328    \n",
      "_________________________________________________________________\n",
      "simple_rnn_116 (SimpleRNN)   (None, 22, 256)           131328    \n",
      "_________________________________________________________________\n",
      "simple_rnn_117 (SimpleRNN)   (None, 128)               49280     \n",
      "_________________________________________________________________\n",
      "dense_713 (Dense)            (None, 32)                4128      \n",
      "_________________________________________________________________\n",
      "dense_714 (Dense)            (None, 16)                528       \n",
      "_________________________________________________________________\n",
      "dense_715 (Dense)            (None, 1)                 17        \n",
      "=================================================================\n",
      "Total params: 451,009\n",
      "Trainable params: 451,009\n",
      "Non-trainable params: 0\n",
      "_________________________________________________________________\n",
      "None \n",
      "\n",
      "_________________________________________________________________\n",
      "Layer (type)                 Output Shape              Param #   \n",
      "=================================================================\n",
      "dense_716 (Dense)            (None, 22, 256)           3072      \n",
      "_________________________________________________________________\n",
      "gru_82 (GRU)                 (None, 22, 256)           393984    \n",
      "_________________________________________________________________\n",
      "gru_83 (GRU)                 (None, 22, 256)           393984    \n",
      "_________________________________________________________________\n",
      "gru_84 (GRU)                 (None, 22, 256)           393984    \n",
      "_________________________________________________________________\n",
      "gru_85 (GRU)                 (None, 128)               147840    \n",
      "_________________________________________________________________\n",
      "dense_717 (Dense)            (None, 32)                4128      \n",
      "_________________________________________________________________\n",
      "dense_718 (Dense)            (None, 16)                528       \n",
      "_________________________________________________________________\n",
      "dense_719 (Dense)            (None, 1)                 17        \n",
      "=================================================================\n",
      "Total params: 1,337,537\n",
      "Trainable params: 1,337,537\n",
      "Non-trainable params: 0\n",
      "_________________________________________________________________\n",
      "None \n",
      "\n",
      "_________________________________________________________________\n",
      "Layer (type)                 Output Shape              Param #   \n",
      "=================================================================\n",
      "dense_720 (Dense)            (None, 22, 256)           3072      \n",
      "_________________________________________________________________\n",
      "lstm_259 (LSTM)              (None, 22, 256)           525312    \n",
      "_________________________________________________________________\n",
      "lstm_260 (LSTM)              (None, 22, 256)           525312    \n",
      "_________________________________________________________________\n",
      "lstm_261 (LSTM)              (None, 22, 256)           525312    \n",
      "_________________________________________________________________\n",
      "lstm_262 (LSTM)              (None, 128)               197120    \n",
      "_________________________________________________________________\n",
      "dense_721 (Dense)            (None, 32)                4128      \n",
      "_________________________________________________________________\n",
      "dense_722 (Dense)            (None, 16)                528       \n",
      "_________________________________________________________________\n",
      "dense_723 (Dense)            (None, 1)                 17        \n",
      "=================================================================\n",
      "Total params: 1,780,801\n",
      "Trainable params: 1,780,801\n",
      "Non-trainable params: 0\n",
      "_________________________________________________________________\n",
      "None \n",
      "\n"
     ]
    }
   ],
   "source": [
    "modelBASE_F = build_NN(inShapeF, neurons, rnnLayers=bestLayers, nnType='BASE')\n",
    "modelRNN_F = build_NN(inShapeF, neurons, rnnLayers=bestLayers, nnType='RNN')\n",
    "modelGRU_F = build_NN(inShapeF, neurons, rnnLayers=bestLayers, nnType='GRU')\n",
    "modelLSTM_F = build_NN(inShapeF, neurons, rnnLayers=bestLayers, nnType='LSTM')\n",
    "\n",
    "#Futures & Weather\n",
    "modelBASE_FW = build_NN(inShapeFW, neurons, rnnLayers=bestLayers, nnType='BASE')\n",
    "modelRNN_FW = build_NN(inShapeFW, neurons, rnnLayers=bestLayers, nnType='RNN')\n",
    "modelGRU_FW = build_NN(inShapeFW, neurons, rnnLayers=bestLayers, nnType='GRU')\n",
    "modelLSTM_FW = build_NN(inShapeFW, neurons, rnnLayers=bestLayers, nnType='LSTM')\n",
    "\n",
    "#Futures only but Weather length\n",
    "modelBASE_FW_F = build_NN(inShapeF, neurons, rnnLayers=bestLayers, nnType='BASE')\n",
    "modelRNN_FW_F = build_NN(inShapeF, neurons, rnnLayers=bestLayers, nnType='RNN')\n",
    "modelGRU_FW_F = build_NN(inShapeF, neurons, rnnLayers=bestLayers, nnType='GRU')\n",
    "modelLSTM_FW_F = build_NN(inShapeF, neurons, rnnLayers=bestLayers, nnType='LSTM')\n",
    "\n",
    "\n",
    "# Futures & Stock & Weather\n",
    "modelBASE_FSW = build_NN(inShapeFSW, neurons, rnnLayers=bestLayers, nnType='BASE')\n",
    "modelRNN_FSW = build_NN(inShapeFSW, neurons, rnnLayers=bestLayers, nnType='RNN')\n",
    "modelGRU_FSW = build_NN(inShapeFSW, neurons, rnnLayers=bestLayers, nnType='GRU')\n",
    "modelLSTM_FSW = build_NN(inShapeFSW, neurons, rnnLayers=bestLayers, nnType='LSTM')\n",
    "\n",
    "#Futures only but stock length\n",
    "modelBASE_FSW_F = build_NN(inShapeF, neurons, rnnLayers=bestLayers, nnType='BASE')\n",
    "modelRNN_FSW_F = build_NN(inShapeF, neurons, rnnLayers=bestLayers, nnType='RNN')\n",
    "modelGRU_FSW_F = build_NN(inShapeF, neurons, rnnLayers=bestLayers, nnType='GRU')\n",
    "modelLSTM_FSW_F = build_NN(inShapeF, neurons, rnnLayers=bestLayers, nnType='LSTM')\n",
    "\n",
    "#Futures & weather only but stock length\n",
    "modelBASE_FSW_FW = build_NN(inShapeFW, neurons, rnnLayers=bestLayers, nnType='BASE')\n",
    "modelRNN_FSW_FW = build_NN(inShapeFW, neurons, rnnLayers=bestLayers, nnType='RNN')\n",
    "modelGRU_FSW_FW = build_NN(inShapeFW, neurons, rnnLayers=bestLayers, nnType='GRU')\n",
    "modelLSTM_FSW_FW = build_NN(inShapeFW, neurons, rnnLayers=bestLayers, nnType='LSTM')\n",
    "\n",
    "print(modelBASE_F.summary(),'\\n')\n",
    "print(modelRNN_F.summary(),'\\n')\n",
    "print(modelGRU_F.summary(),'\\n')\n",
    "print(modelLSTM_F.summary(),'\\n')"
   ]
  },
  {
   "cell_type": "code",
   "execution_count": 242,
   "metadata": {
    "collapsed": true
   },
   "outputs": [],
   "source": [
    "#get the loss\n",
    "def model_traintest_loss(mod, XTrain, yTrain, XTest, yTest):\n",
    "    trainLoss = mod.evaluate(XTrain, yTrain, verbose=0)\n",
    "    testLoss = mod.evaluate(XTest, yTest, verbose=0)\n",
    "    print('Train Score: {:.5f} MSE ({:.2f} RMSE)'.format(trainLoss[0], math.sqrt(trainLoss[0])))\n",
    "    print('Test Score: {:.5f} MSE ({:.2f} RMSE)'.format(testLoss[0], math.sqrt(testLoss[0])))\n",
    "    return trainLoss[0], testLoss[0]\n",
    "\n",
    "def model_loss(mod, X, y):\n",
    "    loss = mod.evaluate(X, y, verbose=0)\n",
    "    #print('Train Score: {:.5f} MSE ({:.2f} RMSE)'.format(trainLoss[0], math.sqrt(trainLoss[0])))\n",
    "    #print('Test Score: {:.5f} MSE ({:.2f} RMSE)'.format(testLoss[0], math.sqrt(testLoss[0])))\n",
    "    return loss[0]  #returns MSE"
   ]
  },
  {
   "cell_type": "markdown",
   "metadata": {},
   "source": [
    "## Fit Models:  Futures"
   ]
  },
  {
   "cell_type": "code",
   "execution_count": 244,
   "metadata": {
    "scrolled": true
   },
   "outputs": [
    {
     "name": "stdout",
     "output_type": "stream",
     "text": [
      "Train on 5528 samples, validate on 1382 samples\n",
      "Epoch 1/10\n",
      "5528/5528 [==============================] - 28s 5ms/step - loss: 0.0098 - acc: 1.8090e-04 - val_loss: 0.0027 - val_acc: 0.0000e+00\n",
      "Epoch 2/10\n",
      "5528/5528 [==============================] - 8s 1ms/step - loss: 0.0042 - acc: 1.8090e-04 - val_loss: 0.0014 - val_acc: 0.0000e+00\n",
      "Epoch 3/10\n",
      "5528/5528 [==============================] - 8s 1ms/step - loss: 0.0030 - acc: 1.8090e-04 - val_loss: 2.9240e-04 - val_acc: 0.0000e+00\n",
      "Epoch 4/10\n",
      "5528/5528 [==============================] - 8s 1ms/step - loss: 7.7829e-04 - acc: 1.8090e-04 - val_loss: 2.5875e-04 - val_acc: 0.0000e+00\n",
      "Epoch 5/10\n",
      "5528/5528 [==============================] - 8s 1ms/step - loss: 3.1380e-04 - acc: 1.8090e-04 - val_loss: 1.8219e-04 - val_acc: 0.0000e+00\n",
      "Epoch 6/10\n",
      "5528/5528 [==============================] - 8s 1ms/step - loss: 1.9951e-04 - acc: 1.8090e-04 - val_loss: 1.3386e-04 - val_acc: 0.0000e+00\n",
      "Epoch 7/10\n",
      "5528/5528 [==============================] - 8s 1ms/step - loss: 1.4352e-04 - acc: 1.8090e-04 - val_loss: 9.4364e-05 - val_acc: 0.0000e+00\n",
      "Epoch 8/10\n",
      "5528/5528 [==============================] - 8s 1ms/step - loss: 1.0358e-04 - acc: 1.8090e-04 - val_loss: 1.0009e-04 - val_acc: 0.0000e+00\n",
      "Epoch 9/10\n",
      "5528/5528 [==============================] - 8s 1ms/step - loss: 8.7428e-05 - acc: 1.8090e-04 - val_loss: 6.7482e-05 - val_acc: 0.0000e+00\n",
      "Epoch 10/10\n",
      "5528/5528 [==============================] - 8s 1ms/step - loss: 1.5621e-04 - acc: 1.8090e-04 - val_loss: 3.3010e-04 - val_acc: 0.0000e+00\n",
      "Train on 5528 samples, validate on 1382 samples\n",
      "Epoch 1/10\n",
      "5528/5528 [==============================] - 39s 7ms/step - loss: 0.0035 - acc: 1.8090e-04 - val_loss: 7.0450e-04 - val_acc: 0.0000e+00\n",
      "Epoch 2/10\n",
      "5528/5528 [==============================] - 19s 4ms/step - loss: 3.6607e-04 - acc: 1.8090e-04 - val_loss: 1.9225e-04 - val_acc: 0.0000e+00\n",
      "Epoch 3/10\n",
      "5528/5528 [==============================] - 20s 4ms/step - loss: 1.4683e-04 - acc: 1.8090e-04 - val_loss: 1.0832e-04 - val_acc: 0.0000e+00\n",
      "Epoch 4/10\n",
      "5528/5528 [==============================] - 21s 4ms/step - loss: 8.2528e-05 - acc: 1.8090e-04 - val_loss: 8.6356e-05 - val_acc: 0.0000e+00\n",
      "Epoch 5/10\n",
      "5528/5528 [==============================] - 20s 4ms/step - loss: 6.6564e-05 - acc: 1.8090e-04 - val_loss: 7.1807e-05 - val_acc: 0.0000e+00\n",
      "Epoch 6/10\n",
      "5528/5528 [==============================] - 20s 4ms/step - loss: 5.9846e-05 - acc: 1.8090e-04 - val_loss: 7.4376e-05 - val_acc: 0.0000e+00\n",
      "Epoch 7/10\n",
      "5528/5528 [==============================] - 19s 4ms/step - loss: 5.3166e-05 - acc: 1.8090e-04 - val_loss: 5.8249e-05 - val_acc: 0.0000e+00\n",
      "Epoch 8/10\n",
      "5528/5528 [==============================] - 20s 4ms/step - loss: 4.4988e-05 - acc: 1.8090e-04 - val_loss: 5.1668e-05 - val_acc: 0.0000e+00\n",
      "Epoch 9/10\n",
      "5528/5528 [==============================] - 21s 4ms/step - loss: 4.3216e-05 - acc: 1.8090e-04 - val_loss: 4.5969e-05 - val_acc: 0.0000e+00\n",
      "Epoch 10/10\n",
      "5528/5528 [==============================] - 20s 4ms/step - loss: 4.2313e-05 - acc: 1.8090e-04 - val_loss: 4.2143e-05 - val_acc: 0.0000e+00\n",
      "Train on 5528 samples, validate on 1382 samples\n",
      "Epoch 1/10\n",
      "5528/5528 [==============================] - 45s 8ms/step - loss: 0.0078 - acc: 1.8090e-04 - val_loss: 0.0014 - val_acc: 0.0000e+00\n",
      "Epoch 2/10\n",
      "5528/5528 [==============================] - 25s 5ms/step - loss: 0.0027 - acc: 1.8090e-04 - val_loss: 5.8588e-04 - val_acc: 0.0000e+00\n",
      "Epoch 3/10\n",
      "5528/5528 [==============================] - 25s 4ms/step - loss: 5.0735e-04 - acc: 1.8090e-04 - val_loss: 3.0144e-04 - val_acc: 0.0000e+00\n",
      "Epoch 4/10\n",
      "5528/5528 [==============================] - 24s 4ms/step - loss: 2.6965e-04 - acc: 1.8090e-04 - val_loss: 2.4280e-04 - val_acc: 0.0000e+00\n",
      "Epoch 5/10\n",
      "5528/5528 [==============================] - 24s 4ms/step - loss: 1.8601e-04 - acc: 1.8090e-04 - val_loss: 1.4803e-04 - val_acc: 0.0000e+00\n",
      "Epoch 6/10\n",
      "5528/5528 [==============================] - 24s 4ms/step - loss: 1.8638e-04 - acc: 1.8090e-04 - val_loss: 1.5100e-04 - val_acc: 0.0000e+00\n",
      "Epoch 7/10\n",
      "5528/5528 [==============================] - 24s 4ms/step - loss: 1.4355e-04 - acc: 1.8090e-04 - val_loss: 1.2038e-04 - val_acc: 0.0000e+00\n",
      "Epoch 8/10\n",
      "5528/5528 [==============================] - 24s 4ms/step - loss: 1.0956e-04 - acc: 1.8090e-04 - val_loss: 1.1635e-04 - val_acc: 0.0000e+00\n",
      "Epoch 9/10\n",
      "5528/5528 [==============================] - 24s 4ms/step - loss: 9.8020e-05 - acc: 1.8090e-04 - val_loss: 1.2537e-04 - val_acc: 0.0000e+00\n",
      "Epoch 10/10\n",
      "5528/5528 [==============================] - 25s 4ms/step - loss: 1.0042e-04 - acc: 1.8090e-04 - val_loss: 1.0614e-04 - val_acc: 0.0000e+00\n",
      "CPU times: user 45min 26s, sys: 7min 10s, total: 52min 36s\n",
      "Wall time: 9min 48s\n"
     ]
    }
   ],
   "source": [
    "%%time\n",
    "modelBASE_F.fit(XTrainF, yTrainF, batch_size=batchSize, epochs=epochs, validation_split=0.2, verbose=1)\n",
    "modelRNN_F.fit(XTrainF, yTrainF, batch_size=batchSize, epochs=epochs, validation_split=0.2, verbose=1)\n",
    "modelGRU_F.fit(XTrainF, yTrainF, batch_size=batchSize, epochs=epochs, validation_split=0.2, verbose=1)\n",
    "modelLSTM_F.fit(XTrainF, yTrainF, batch_size=batchSize, epochs=epochs, validation_split=0.2, verbose=1)"
   ]
  },
  {
   "cell_type": "markdown",
   "metadata": {},
   "source": [
    "## Fit Models:  Futures + Weather data"
   ]
  },
  {
   "cell_type": "code",
   "execution_count": 245,
   "metadata": {
    "scrolled": true
   },
   "outputs": [
    {
     "name": "stdout",
     "output_type": "stream",
     "text": [
      "Train on 1732 samples, validate on 434 samples\n",
      "Epoch 1/10\n",
      "1732/1732 [==============================] - 25s 14ms/step - loss: 0.0538 - acc: 0.0000e+00 - val_loss: 0.0223 - val_acc: 0.0000e+00\n",
      "Epoch 2/10\n",
      "1732/1732 [==============================] - 4s 2ms/step - loss: 0.0358 - acc: 0.0000e+00 - val_loss: 0.0339 - val_acc: 0.0000e+00\n",
      "Epoch 3/10\n",
      "1732/1732 [==============================] - 4s 2ms/step - loss: 0.0348 - acc: 0.0000e+00 - val_loss: 0.0215 - val_acc: 0.0000e+00\n",
      "Epoch 4/10\n",
      "1732/1732 [==============================] - 4s 2ms/step - loss: 0.0348 - acc: 0.0000e+00 - val_loss: 0.0331 - val_acc: 0.0000e+00\n",
      "Epoch 5/10\n",
      "1732/1732 [==============================] - 5s 3ms/step - loss: 0.0345 - acc: 0.0000e+00 - val_loss: 0.0293 - val_acc: 0.0000e+00\n",
      "Epoch 6/10\n",
      "1732/1732 [==============================] - 4s 2ms/step - loss: 0.0347 - acc: 0.0000e+00 - val_loss: 0.0241 - val_acc: 0.0000e+00\n",
      "Epoch 7/10\n",
      "1732/1732 [==============================] - 4s 2ms/step - loss: 0.0348 - acc: 0.0000e+00 - val_loss: 0.0331 - val_acc: 0.0000e+00\n",
      "Epoch 8/10\n",
      "1732/1732 [==============================] - 4s 2ms/step - loss: 0.0348 - acc: 0.0000e+00 - val_loss: 0.0302 - val_acc: 0.0000e+00\n",
      "Epoch 9/10\n",
      "1732/1732 [==============================] - 4s 2ms/step - loss: 0.0345 - acc: 0.0000e+00 - val_loss: 0.0287 - val_acc: 0.0000e+00\n",
      "Epoch 10/10\n",
      "1732/1732 [==============================] - 4s 2ms/step - loss: 0.0345 - acc: 0.0000e+00 - val_loss: 0.0312 - val_acc: 0.0000e+00\n",
      "Train on 1732 samples, validate on 434 samples\n",
      "Epoch 1/10\n",
      "1732/1732 [==============================] - 28s 16ms/step - loss: 0.0784 - acc: 0.0000e+00 - val_loss: 0.0342 - val_acc: 0.0000e+00\n",
      "Epoch 2/10\n",
      "1732/1732 [==============================] - 8s 4ms/step - loss: 0.0349 - acc: 0.0000e+00 - val_loss: 0.0188 - val_acc: 0.0000e+00\n",
      "Epoch 3/10\n",
      "1732/1732 [==============================] - 7s 4ms/step - loss: 0.0355 - acc: 0.0000e+00 - val_loss: 0.0376 - val_acc: 0.0000e+00\n",
      "Epoch 4/10\n",
      "1732/1732 [==============================] - 7s 4ms/step - loss: 0.0349 - acc: 0.0000e+00 - val_loss: 0.0247 - val_acc: 0.0000e+00\n",
      "Epoch 5/10\n",
      "1732/1732 [==============================] - 8s 4ms/step - loss: 0.0348 - acc: 0.0000e+00 - val_loss: 0.0322 - val_acc: 0.0000e+00\n",
      "Epoch 6/10\n",
      "1732/1732 [==============================] - 7s 4ms/step - loss: 0.0344 - acc: 0.0000e+00 - val_loss: 0.0268 - val_acc: 0.0000e+00\n",
      "Epoch 7/10\n",
      "1732/1732 [==============================] - 7s 4ms/step - loss: 0.0345 - acc: 0.0000e+00 - val_loss: 0.0312 - val_acc: 0.0000e+00\n",
      "Epoch 8/10\n",
      "1732/1732 [==============================] - 7s 4ms/step - loss: 0.0344 - acc: 0.0000e+00 - val_loss: 0.0271 - val_acc: 0.0000e+00\n",
      "Epoch 9/10\n",
      "1732/1732 [==============================] - 7s 4ms/step - loss: 0.0344 - acc: 0.0000e+00 - val_loss: 0.0314 - val_acc: 0.0000e+00\n",
      "Epoch 10/10\n",
      "1732/1732 [==============================] - 7s 4ms/step - loss: 0.0343 - acc: 0.0000e+00 - val_loss: 0.0260 - val_acc: 0.0000e+00\n",
      "Train on 1732 samples, validate on 434 samples\n",
      "Epoch 1/10\n",
      "1732/1732 [==============================] - 30s 17ms/step - loss: 0.1159 - acc: 0.0000e+00 - val_loss: 0.0411 - val_acc: 0.0000e+00\n",
      "Epoch 2/10\n",
      "1732/1732 [==============================] - 9s 5ms/step - loss: 0.0378 - acc: 0.0000e+00 - val_loss: 0.0272 - val_acc: 0.0000e+00\n",
      "Epoch 3/10\n",
      "1732/1732 [==============================] - 9s 5ms/step - loss: 0.0352 - acc: 0.0000e+00 - val_loss: 0.0342 - val_acc: 0.0000e+00\n",
      "Epoch 4/10\n",
      "1732/1732 [==============================] - 9s 5ms/step - loss: 0.0346 - acc: 0.0000e+00 - val_loss: 0.0237 - val_acc: 0.0000e+00\n",
      "Epoch 5/10\n",
      "1732/1732 [==============================] - 9s 5ms/step - loss: 0.0345 - acc: 0.0000e+00 - val_loss: 0.0343 - val_acc: 0.0000e+00\n",
      "Epoch 6/10\n",
      "1732/1732 [==============================] - 9s 5ms/step - loss: 0.0346 - acc: 0.0000e+00 - val_loss: 0.0262 - val_acc: 0.0000e+00\n",
      "Epoch 7/10\n",
      "1732/1732 [==============================] - 9s 5ms/step - loss: 0.0344 - acc: 0.0000e+00 - val_loss: 0.0316 - val_acc: 0.0000e+00\n",
      "Epoch 8/10\n",
      "1732/1732 [==============================] - 9s 5ms/step - loss: 0.0344 - acc: 0.0000e+00 - val_loss: 0.0282 - val_acc: 0.0000e+00\n",
      "Epoch 9/10\n",
      "1732/1732 [==============================] - 9s 5ms/step - loss: 0.0344 - acc: 0.0000e+00 - val_loss: 0.0300 - val_acc: 0.0000e+00\n",
      "Epoch 10/10\n",
      "1732/1732 [==============================] - 9s 5ms/step - loss: 0.0344 - acc: 0.0000e+00 - val_loss: 0.0279 - val_acc: 0.0000e+00\n",
      "CPU times: user 17min 9s, sys: 2min 37s, total: 19min 47s\n",
      "Wall time: 4min 28s\n"
     ]
    }
   ],
   "source": [
    "%%time\n",
    "modelBASE_FW.fit(XTrainFW, yTrainFW, batch_size=batchSize, epochs=epochs, validation_split=0.2, verbose=1)\n",
    "modelRNN_FW.fit(XTrainFW, yTrainFW, batch_size=batchSize, epochs=epochs, validation_split=0.2, verbose=1)\n",
    "modelGRU_FW.fit(XTrainFW, yTrainFW, batch_size=batchSize, epochs=epochs, validation_split=0.2, verbose=1)\n",
    "modelLSTM_FW.fit(XTrainFW, yTrainFW, batch_size=batchSize, epochs=epochs, validation_split=0.2, verbose=1)"
   ]
  },
  {
   "cell_type": "markdown",
   "metadata": {},
   "source": [
    "### Futures only (weather length)"
   ]
  },
  {
   "cell_type": "code",
   "execution_count": 246,
   "metadata": {
    "scrolled": true
   },
   "outputs": [
    {
     "name": "stdout",
     "output_type": "stream",
     "text": [
      "Train on 1732 samples, validate on 434 samples\n",
      "Epoch 1/10\n",
      "1732/1732 [==============================] - 23s 13ms/step - loss: 0.1521 - acc: 0.0000e+00 - val_loss: 0.1184 - val_acc: 0.0000e+00\n",
      "Epoch 2/10\n",
      "1732/1732 [==============================] - 3s 2ms/step - loss: 0.0477 - acc: 0.0000e+00 - val_loss: 0.0217 - val_acc: 0.0000e+00\n",
      "Epoch 3/10\n",
      "1732/1732 [==============================] - 3s 2ms/step - loss: 0.0395 - acc: 0.0000e+00 - val_loss: 0.0153 - val_acc: 0.0000e+00\n",
      "Epoch 4/10\n",
      "1732/1732 [==============================] - 3s 2ms/step - loss: 0.0351 - acc: 0.0000e+00 - val_loss: 0.0412 - val_acc: 0.0000e+00\n",
      "Epoch 5/10\n",
      "1732/1732 [==============================] - 3s 2ms/step - loss: 0.0354 - acc: 0.0000e+00 - val_loss: 0.0317 - val_acc: 0.0000e+00\n",
      "Epoch 6/10\n",
      "1732/1732 [==============================] - 3s 1ms/step - loss: 0.0344 - acc: 0.0000e+00 - val_loss: 0.0241 - val_acc: 0.0000e+00\n",
      "Epoch 7/10\n",
      "1732/1732 [==============================] - 3s 1ms/step - loss: 0.0340 - acc: 0.0000e+00 - val_loss: 0.0302 - val_acc: 0.0000e+00\n",
      "Epoch 8/10\n",
      "1732/1732 [==============================] - 3s 1ms/step - loss: 0.0330 - acc: 0.0000e+00 - val_loss: 0.0314 - val_acc: 0.0000e+00\n",
      "Epoch 9/10\n",
      "1732/1732 [==============================] - 3s 2ms/step - loss: 0.0289 - acc: 0.0000e+00 - val_loss: 0.0198 - val_acc: 0.0000e+00\n",
      "Epoch 10/10\n",
      "1732/1732 [==============================] - 3s 1ms/step - loss: 0.0263 - acc: 0.0000e+00 - val_loss: 0.0080 - val_acc: 0.0000e+00\n",
      "Train on 1732 samples, validate on 434 samples\n",
      "Epoch 1/10\n",
      "1732/1732 [==============================] - 28s 16ms/step - loss: 0.1027 - acc: 0.0000e+00 - val_loss: 0.0107 - val_acc: 0.0000e+00\n",
      "Epoch 2/10\n",
      "1732/1732 [==============================] - 7s 4ms/step - loss: 0.0374 - acc: 0.0000e+00 - val_loss: 0.0453 - val_acc: 0.0000e+00\n",
      "Epoch 3/10\n",
      "1732/1732 [==============================] - 6s 4ms/step - loss: 0.0339 - acc: 0.0000e+00 - val_loss: 0.0238 - val_acc: 0.0000e+00\n",
      "Epoch 4/10\n",
      "1732/1732 [==============================] - 6s 4ms/step - loss: 0.0287 - acc: 0.0000e+00 - val_loss: 0.0186 - val_acc: 0.0000e+00\n",
      "Epoch 5/10\n",
      "1732/1732 [==============================] - 6s 4ms/step - loss: 0.0120 - acc: 0.0000e+00 - val_loss: 0.0083 - val_acc: 0.0000e+00\n",
      "Epoch 6/10\n",
      "1732/1732 [==============================] - 6s 4ms/step - loss: 0.0049 - acc: 5.7737e-04 - val_loss: 0.0032 - val_acc: 0.0000e+00\n",
      "Epoch 7/10\n",
      "1732/1732 [==============================] - 6s 4ms/step - loss: 0.0027 - acc: 5.7737e-04 - val_loss: 6.5272e-04 - val_acc: 0.0000e+00\n",
      "Epoch 8/10\n",
      "1732/1732 [==============================] - 6s 4ms/step - loss: 0.0011 - acc: 5.7737e-04 - val_loss: 0.0013 - val_acc: 0.0000e+00\n",
      "Epoch 9/10\n",
      "1732/1732 [==============================] - 6s 4ms/step - loss: 8.8995e-04 - acc: 5.7737e-04 - val_loss: 6.3374e-04 - val_acc: 0.0000e+00\n",
      "Epoch 10/10\n",
      "1732/1732 [==============================] - 6s 4ms/step - loss: 6.7569e-04 - acc: 5.7737e-04 - val_loss: 0.0016 - val_acc: 0.0000e+00\n",
      "Train on 1732 samples, validate on 434 samples\n",
      "Epoch 1/10\n",
      "1732/1732 [==============================] - 29s 17ms/step - loss: 0.1205 - acc: 0.0000e+00 - val_loss: 0.0338 - val_acc: 0.0000e+00\n",
      "Epoch 2/10\n",
      "1732/1732 [==============================] - 8s 4ms/step - loss: 0.0385 - acc: 0.0000e+00 - val_loss: 0.0284 - val_acc: 0.0000e+00\n",
      "Epoch 3/10\n",
      "1732/1732 [==============================] - 8s 5ms/step - loss: 0.0356 - acc: 0.0000e+00 - val_loss: 0.0368 - val_acc: 0.0000e+00\n",
      "Epoch 4/10\n",
      "1732/1732 [==============================] - 8s 5ms/step - loss: 0.0348 - acc: 0.0000e+00 - val_loss: 0.0230 - val_acc: 0.0000e+00\n",
      "Epoch 5/10\n",
      "1732/1732 [==============================] - 8s 5ms/step - loss: 0.0345 - acc: 0.0000e+00 - val_loss: 0.0326 - val_acc: 0.0000e+00\n",
      "Epoch 6/10\n",
      "1732/1732 [==============================] - 8s 5ms/step - loss: 0.0345 - acc: 0.0000e+00 - val_loss: 0.0294 - val_acc: 0.0000e+00\n",
      "Epoch 7/10\n",
      "1732/1732 [==============================] - 8s 4ms/step - loss: 0.0341 - acc: 0.0000e+00 - val_loss: 0.0255 - val_acc: 0.0000e+00\n",
      "Epoch 8/10\n",
      "1732/1732 [==============================] - 8s 4ms/step - loss: 0.0329 - acc: 0.0000e+00 - val_loss: 0.0276 - val_acc: 0.0000e+00\n",
      "Epoch 9/10\n",
      "1732/1732 [==============================] - 8s 4ms/step - loss: 0.0286 - acc: 0.0000e+00 - val_loss: 0.0147 - val_acc: 0.0000e+00\n",
      "Epoch 10/10\n",
      "1732/1732 [==============================] - 8s 5ms/step - loss: 0.0154 - acc: 5.7737e-04 - val_loss: 0.0051 - val_acc: 0.0000e+00\n",
      "CPU times: user 14min 52s, sys: 2min 19s, total: 17min 12s\n",
      "Wall time: 3min 53s\n"
     ]
    }
   ],
   "source": [
    "%%time\n",
    "modelBASE_FW_F.fit(XTrainFW_F, yTrainFW_F, batch_size=batchSize, epochs=epochs, validation_split=0.2, verbose=1)\n",
    "modelRNN_FW_F.fit(XTrainFW_F, yTrainFW_F, batch_size=batchSize, epochs=epochs, validation_split=0.2, verbose=1)\n",
    "modelGRU_FW_F.fit(XTrainFW_F, yTrainFW_F, batch_size=batchSize, epochs=epochs, validation_split=0.2, verbose=1)\n",
    "modelLSTM_FW_F.fit(XTrainFW_F, yTrainFW_F, batch_size=batchSize, epochs=epochs, validation_split=0.2, verbose=1)"
   ]
  },
  {
   "cell_type": "markdown",
   "metadata": {},
   "source": [
    "## Fit Models: Futures + Weather + Stock data"
   ]
  },
  {
   "cell_type": "code",
   "execution_count": 247,
   "metadata": {
    "scrolled": true
   },
   "outputs": [
    {
     "name": "stdout",
     "output_type": "stream",
     "text": [
      "Train on 843 samples, validate on 211 samples\n",
      "Epoch 1/10\n",
      "843/843 [==============================] - 23s 27ms/step - loss: 0.2349 - acc: 0.0000e+00 - val_loss: 0.0174 - val_acc: 0.0000e+00\n",
      "Epoch 2/10\n",
      "843/843 [==============================] - 2s 2ms/step - loss: 0.0844 - acc: 0.0000e+00 - val_loss: 0.0021 - val_acc: 0.0000e+00\n",
      "Epoch 3/10\n",
      "843/843 [==============================] - 2s 2ms/step - loss: 0.0236 - acc: 0.0000e+00 - val_loss: 0.0300 - val_acc: 0.0000e+00\n",
      "Epoch 4/10\n",
      "843/843 [==============================] - 2s 2ms/step - loss: 0.0096 - acc: 0.0000e+00 - val_loss: 0.0680 - val_acc: 0.0000e+00\n",
      "Epoch 5/10\n",
      "843/843 [==============================] - 2s 2ms/step - loss: 0.0135 - acc: 0.0000e+00 - val_loss: 0.0582 - val_acc: 0.0000e+00\n",
      "Epoch 6/10\n",
      "843/843 [==============================] - 2s 2ms/step - loss: 0.0094 - acc: 0.0000e+00 - val_loss: 0.0282 - val_acc: 0.0000e+00\n",
      "Epoch 7/10\n",
      "843/843 [==============================] - 2s 2ms/step - loss: 0.0098 - acc: 0.0000e+00 - val_loss: 0.0283 - val_acc: 0.0000e+00\n",
      "Epoch 8/10\n",
      "843/843 [==============================] - 2s 2ms/step - loss: 0.0089 - acc: 0.0000e+00 - val_loss: 0.0412 - val_acc: 0.0000e+00\n",
      "Epoch 9/10\n",
      "843/843 [==============================] - 2s 2ms/step - loss: 0.0089 - acc: 0.0000e+00 - val_loss: 0.0466 - val_acc: 0.0000e+00\n",
      "Epoch 10/10\n",
      "843/843 [==============================] - 2s 2ms/step - loss: 0.0092 - acc: 0.0000e+00 - val_loss: 0.0428 - val_acc: 0.0000e+00\n",
      "Train on 843 samples, validate on 211 samples\n",
      "Epoch 1/10\n",
      "843/843 [==============================] - 26s 31ms/step - loss: 0.1786 - acc: 0.0000e+00 - val_loss: 0.0021 - val_acc: 0.0000e+00\n",
      "Epoch 2/10\n",
      "843/843 [==============================] - 4s 5ms/step - loss: 0.0370 - acc: 0.0000e+00 - val_loss: 0.0246 - val_acc: 0.0000e+00\n",
      "Epoch 3/10\n",
      "843/843 [==============================] - 4s 5ms/step - loss: 0.0102 - acc: 0.0000e+00 - val_loss: 0.0717 - val_acc: 0.0000e+00\n",
      "Epoch 4/10\n",
      "843/843 [==============================] - 4s 4ms/step - loss: 0.0155 - acc: 0.0000e+00 - val_loss: 0.0731 - val_acc: 0.0000e+00\n",
      "Epoch 5/10\n",
      "843/843 [==============================] - 4s 4ms/step - loss: 0.0127 - acc: 0.0000e+00 - val_loss: 0.0452 - val_acc: 0.0000e+00\n",
      "Epoch 6/10\n",
      "843/843 [==============================] - 4s 4ms/step - loss: 0.0089 - acc: 0.0000e+00 - val_loss: 0.0276 - val_acc: 0.0000e+00\n",
      "Epoch 7/10\n",
      "843/843 [==============================] - 4s 4ms/step - loss: 0.0098 - acc: 0.0000e+00 - val_loss: 0.0265 - val_acc: 0.0000e+00\n",
      "Epoch 8/10\n",
      "843/843 [==============================] - 4s 4ms/step - loss: 0.0095 - acc: 0.0000e+00 - val_loss: 0.0327 - val_acc: 0.0000e+00\n",
      "Epoch 9/10\n",
      "843/843 [==============================] - 4s 4ms/step - loss: 0.0088 - acc: 0.0000e+00 - val_loss: 0.0386 - val_acc: 0.0000e+00\n",
      "Epoch 10/10\n",
      "843/843 [==============================] - 4s 4ms/step - loss: 0.0088 - acc: 0.0000e+00 - val_loss: 0.0422 - val_acc: 0.0000e+00\n",
      "Train on 843 samples, validate on 211 samples\n",
      "Epoch 1/10\n",
      "843/843 [==============================] - 27s 32ms/step - loss: 0.2301 - acc: 0.0000e+00 - val_loss: 0.0279 - val_acc: 0.0000e+00\n",
      "Epoch 2/10\n",
      "843/843 [==============================] - 4s 5ms/step - loss: 0.0943 - acc: 0.0000e+00 - val_loss: 0.0048 - val_acc: 0.0000e+00\n",
      "Epoch 3/10\n",
      "843/843 [==============================] - 4s 5ms/step - loss: 0.0160 - acc: 0.0000e+00 - val_loss: 0.0737 - val_acc: 0.0000e+00\n",
      "Epoch 4/10\n",
      "843/843 [==============================] - 4s 5ms/step - loss: 0.0166 - acc: 0.0000e+00 - val_loss: 0.0598 - val_acc: 0.0000e+00\n",
      "Epoch 5/10\n",
      "843/843 [==============================] - 4s 5ms/step - loss: 0.0100 - acc: 0.0000e+00 - val_loss: 0.0192 - val_acc: 0.0000e+00\n",
      "Epoch 6/10\n",
      "843/843 [==============================] - 5s 5ms/step - loss: 0.0122 - acc: 0.0000e+00 - val_loss: 0.0268 - val_acc: 0.0000e+00\n",
      "Epoch 7/10\n",
      "843/843 [==============================] - 4s 5ms/step - loss: 0.0089 - acc: 0.0000e+00 - val_loss: 0.0551 - val_acc: 0.0000e+00\n",
      "Epoch 8/10\n",
      "843/843 [==============================] - 4s 5ms/step - loss: 0.0106 - acc: 0.0000e+00 - val_loss: 0.0498 - val_acc: 0.0000e+00\n",
      "Epoch 9/10\n",
      "843/843 [==============================] - 5s 5ms/step - loss: 0.0091 - acc: 0.0000e+00 - val_loss: 0.0295 - val_acc: 0.0000e+00\n",
      "Epoch 10/10\n",
      "843/843 [==============================] - 5s 5ms/step - loss: 0.0096 - acc: 0.0000e+00 - val_loss: 0.0283 - val_acc: 0.0000e+00\n",
      "CPU times: user 8min 50s, sys: 1min 19s, total: 10min 10s\n",
      "Wall time: 2min 48s\n"
     ]
    }
   ],
   "source": [
    "%%time\n",
    "modelBASE_FSW.fit(XTrainFSW, yTrainFSW, batch_size=batchSize, epochs=epochs, validation_split=0.2, verbose=1)\n",
    "modelRNN_FSW.fit(XTrainFSW, yTrainFSW, batch_size=batchSize, epochs=epochs, validation_split=0.2, verbose=1)\n",
    "modelGRU_FSW.fit(XTrainFSW, yTrainFSW, batch_size=batchSize, epochs=epochs, validation_split=0.2, verbose=1)\n",
    "modelLSTM_FSW.fit(XTrainFSW, yTrainFSW, batch_size=batchSize, epochs=epochs, validation_split=0.2, verbose=1)"
   ]
  },
  {
   "cell_type": "markdown",
   "metadata": {},
   "source": [
    "### Futures only (stock length)"
   ]
  },
  {
   "cell_type": "code",
   "execution_count": 248,
   "metadata": {
    "scrolled": true
   },
   "outputs": [
    {
     "name": "stdout",
     "output_type": "stream",
     "text": [
      "Train on 843 samples, validate on 211 samples\n",
      "Epoch 1/10\n",
      "843/843 [==============================] - 24s 29ms/step - loss: 0.1544 - acc: 0.0000e+00 - val_loss: 0.0029 - val_acc: 0.0000e+00\n",
      "Epoch 2/10\n",
      "843/843 [==============================] - 1s 2ms/step - loss: 0.0179 - acc: 0.0000e+00 - val_loss: 0.0732 - val_acc: 0.0000e+00\n",
      "Epoch 3/10\n",
      "843/843 [==============================] - 1s 2ms/step - loss: 0.0134 - acc: 0.0000e+00 - val_loss: 0.0391 - val_acc: 0.0000e+00\n",
      "Epoch 4/10\n",
      "843/843 [==============================] - 1s 2ms/step - loss: 0.0090 - acc: 0.0000e+00 - val_loss: 0.0285 - val_acc: 0.0000e+00\n",
      "Epoch 5/10\n",
      "843/843 [==============================] - 1s 2ms/step - loss: 0.0090 - acc: 0.0000e+00 - val_loss: 0.0418 - val_acc: 0.0000e+00\n",
      "Epoch 6/10\n",
      "843/843 [==============================] - 1s 2ms/step - loss: 0.0089 - acc: 0.0000e+00 - val_loss: 0.0410 - val_acc: 0.0000e+00\n",
      "Epoch 7/10\n",
      "843/843 [==============================] - 1s 2ms/step - loss: 0.0086 - acc: 0.0000e+00 - val_loss: 0.0317 - val_acc: 0.0000e+00\n",
      "Epoch 8/10\n",
      "843/843 [==============================] - 1s 2ms/step - loss: 0.0087 - acc: 0.0000e+00 - val_loss: 0.0328 - val_acc: 0.0000e+00\n",
      "Epoch 9/10\n",
      "843/843 [==============================] - 1s 1ms/step - loss: 0.0084 - acc: 0.0000e+00 - val_loss: 0.0375 - val_acc: 0.0000e+00\n",
      "Epoch 10/10\n",
      "843/843 [==============================] - 1s 2ms/step - loss: 0.0082 - acc: 0.0000e+00 - val_loss: 0.0260 - val_acc: 0.0000e+00\n",
      "Train on 843 samples, validate on 211 samples\n",
      "Epoch 1/10\n",
      "843/843 [==============================] - 25s 30ms/step - loss: 0.2048 - acc: 0.0000e+00 - val_loss: 0.0134 - val_acc: 0.0000e+00\n",
      "Epoch 2/10\n",
      "843/843 [==============================] - 3s 4ms/step - loss: 0.0353 - acc: 0.0000e+00 - val_loss: 0.0849 - val_acc: 0.0000e+00\n",
      "Epoch 3/10\n",
      "843/843 [==============================] - 3s 4ms/step - loss: 0.0176 - acc: 0.0000e+00 - val_loss: 0.0411 - val_acc: 0.0000e+00\n",
      "Epoch 4/10\n",
      "843/843 [==============================] - 3s 4ms/step - loss: 0.0105 - acc: 0.0000e+00 - val_loss: 0.0199 - val_acc: 0.0000e+00\n",
      "Epoch 5/10\n",
      "843/843 [==============================] - 3s 4ms/step - loss: 0.0103 - acc: 0.0000e+00 - val_loss: 0.0392 - val_acc: 0.0000e+00\n",
      "Epoch 6/10\n",
      "843/843 [==============================] - 3s 4ms/step - loss: 0.0091 - acc: 0.0000e+00 - val_loss: 0.0506 - val_acc: 0.0000e+00\n",
      "Epoch 7/10\n",
      "843/843 [==============================] - 3s 4ms/step - loss: 0.0095 - acc: 0.0000e+00 - val_loss: 0.0412 - val_acc: 0.0000e+00\n",
      "Epoch 8/10\n",
      "843/843 [==============================] - 3s 4ms/step - loss: 0.0088 - acc: 0.0000e+00 - val_loss: 0.0321 - val_acc: 0.0000e+00\n",
      "Epoch 9/10\n",
      "843/843 [==============================] - 3s 4ms/step - loss: 0.0090 - acc: 0.0000e+00 - val_loss: 0.0322 - val_acc: 0.0000e+00\n",
      "Epoch 10/10\n",
      "843/843 [==============================] - 3s 4ms/step - loss: 0.0088 - acc: 0.0000e+00 - val_loss: 0.0383 - val_acc: 0.0000e+00\n",
      "Train on 843 samples, validate on 211 samples\n",
      "Epoch 1/10\n",
      "843/843 [==============================] - 26s 30ms/step - loss: 0.2096 - acc: 0.0000e+00 - val_loss: 0.0125 - val_acc: 0.0000e+00\n",
      "Epoch 2/10\n",
      "843/843 [==============================] - 4s 4ms/step - loss: 0.0483 - acc: 0.0000e+00 - val_loss: 0.0383 - val_acc: 0.0000e+00\n",
      "Epoch 3/10\n",
      "843/843 [==============================] - 4s 4ms/step - loss: 0.0133 - acc: 0.0000e+00 - val_loss: 0.0806 - val_acc: 0.0000e+00\n",
      "Epoch 4/10\n",
      "843/843 [==============================] - 4s 4ms/step - loss: 0.0137 - acc: 0.0000e+00 - val_loss: 0.0399 - val_acc: 0.0000e+00\n",
      "Epoch 5/10\n",
      "843/843 [==============================] - 4s 4ms/step - loss: 0.0095 - acc: 0.0000e+00 - val_loss: 0.0201 - val_acc: 0.0000e+00\n",
      "Epoch 6/10\n",
      "843/843 [==============================] - 4s 4ms/step - loss: 0.0115 - acc: 0.0000e+00 - val_loss: 0.0243 - val_acc: 0.0000e+00\n",
      "Epoch 7/10\n",
      "843/843 [==============================] - 4s 4ms/step - loss: 0.0096 - acc: 0.0000e+00 - val_loss: 0.0404 - val_acc: 0.0000e+00\n",
      "Epoch 8/10\n",
      "843/843 [==============================] - 3s 4ms/step - loss: 0.0092 - acc: 0.0000e+00 - val_loss: 0.0513 - val_acc: 0.0000e+00\n",
      "Epoch 9/10\n",
      "843/843 [==============================] - 4s 4ms/step - loss: 0.0097 - acc: 0.0000e+00 - val_loss: 0.0448 - val_acc: 0.0000e+00\n",
      "Epoch 10/10\n",
      "843/843 [==============================] - 4s 4ms/step - loss: 0.0089 - acc: 0.0000e+00 - val_loss: 0.0341 - val_acc: 0.0000e+00\n",
      "CPU times: user 7min 52s, sys: 1min 8s, total: 9min\n",
      "Wall time: 2min 32s\n"
     ]
    }
   ],
   "source": [
    "%%time\n",
    "modelBASE_FSW_F.fit(XTrainFSW_F, yTrainFSW_F, batch_size=batchSize, epochs=epochs, validation_split=0.2, verbose=1)\n",
    "modelRNN_FSW_F.fit(XTrainFSW_F, yTrainFSW_F, batch_size=batchSize, epochs=epochs, validation_split=0.2, verbose=1)\n",
    "modelGRU_FSW_F.fit(XTrainFSW_F, yTrainFSW_F, batch_size=batchSize, epochs=epochs, validation_split=0.2, verbose=1)\n",
    "modelLSTM_FSW_F.fit(XTrainFSW_F, yTrainFSW_F, batch_size=batchSize, epochs=epochs, validation_split=0.2, verbose=1)"
   ]
  },
  {
   "cell_type": "markdown",
   "metadata": {},
   "source": [
    "### Futures & Weather only (stock length)"
   ]
  },
  {
   "cell_type": "code",
   "execution_count": 249,
   "metadata": {
    "scrolled": true
   },
   "outputs": [
    {
     "name": "stdout",
     "output_type": "stream",
     "text": [
      "Train on 843 samples, validate on 211 samples\n",
      "Epoch 1/10\n",
      "843/843 [==============================] - 24s 28ms/step - loss: 0.1321 - acc: 0.0000e+00 - val_loss: 0.0246 - val_acc: 0.0000e+00\n",
      "Epoch 2/10\n",
      "843/843 [==============================] - 2s 2ms/step - loss: 0.0112 - acc: 0.0000e+00 - val_loss: 0.0644 - val_acc: 0.0000e+00\n",
      "Epoch 3/10\n",
      "843/843 [==============================] - 2s 2ms/step - loss: 0.0102 - acc: 0.0000e+00 - val_loss: 0.0258 - val_acc: 0.0000e+00\n",
      "Epoch 4/10\n",
      "843/843 [==============================] - 2s 2ms/step - loss: 0.0095 - acc: 0.0000e+00 - val_loss: 0.0423 - val_acc: 0.0000e+00\n",
      "Epoch 5/10\n",
      "843/843 [==============================] - 2s 2ms/step - loss: 0.0090 - acc: 0.0000e+00 - val_loss: 0.0436 - val_acc: 0.0000e+00\n",
      "Epoch 6/10\n",
      "843/843 [==============================] - 2s 2ms/step - loss: 0.0088 - acc: 0.0000e+00 - val_loss: 0.0319 - val_acc: 0.0000e+00\n",
      "Epoch 7/10\n",
      "843/843 [==============================] - 2s 2ms/step - loss: 0.0089 - acc: 0.0000e+00 - val_loss: 0.0380 - val_acc: 0.0000e+00\n",
      "Epoch 8/10\n",
      "843/843 [==============================] - 2s 2ms/step - loss: 0.0088 - acc: 0.0000e+00 - val_loss: 0.0425 - val_acc: 0.0000e+00\n",
      "Epoch 9/10\n",
      "843/843 [==============================] - 2s 2ms/step - loss: 0.0087 - acc: 0.0000e+00 - val_loss: 0.0354 - val_acc: 0.0000e+00\n",
      "Epoch 10/10\n",
      "843/843 [==============================] - 2s 2ms/step - loss: 0.0087 - acc: 0.0000e+00 - val_loss: 0.0347 - val_acc: 0.0000e+00\n",
      "Train on 843 samples, validate on 211 samples\n",
      "Epoch 1/10\n",
      "843/843 [==============================] - 26s 30ms/step - loss: 0.0988 - acc: 0.0000e+00 - val_loss: 0.0872 - val_acc: 0.0000e+00\n",
      "Epoch 2/10\n",
      "843/843 [==============================] - 3s 4ms/step - loss: 0.0137 - acc: 0.0000e+00 - val_loss: 0.0164 - val_acc: 0.0000e+00\n",
      "Epoch 3/10\n",
      "843/843 [==============================] - 3s 4ms/step - loss: 0.0107 - acc: 0.0000e+00 - val_loss: 0.0522 - val_acc: 0.0000e+00\n",
      "Epoch 4/10\n",
      "843/843 [==============================] - 3s 4ms/step - loss: 0.0095 - acc: 0.0000e+00 - val_loss: 0.0345 - val_acc: 0.0000e+00\n",
      "Epoch 5/10\n",
      "843/843 [==============================] - 3s 4ms/step - loss: 0.0089 - acc: 0.0000e+00 - val_loss: 0.0350 - val_acc: 0.0000e+00\n",
      "Epoch 6/10\n",
      "843/843 [==============================] - 3s 4ms/step - loss: 0.0088 - acc: 0.0000e+00 - val_loss: 0.0398 - val_acc: 0.0000e+00\n",
      "Epoch 7/10\n",
      "843/843 [==============================] - 3s 4ms/step - loss: 0.0087 - acc: 0.0000e+00 - val_loss: 0.0358 - val_acc: 0.0000e+00\n",
      "Epoch 8/10\n",
      "843/843 [==============================] - 3s 4ms/step - loss: 0.0087 - acc: 0.0000e+00 - val_loss: 0.0397 - val_acc: 0.0000e+00\n",
      "Epoch 9/10\n",
      "843/843 [==============================] - 3s 4ms/step - loss: 0.0087 - acc: 0.0000e+00 - val_loss: 0.0381 - val_acc: 0.0000e+00\n",
      "Epoch 10/10\n",
      "843/843 [==============================] - 3s 4ms/step - loss: 0.0087 - acc: 0.0000e+00 - val_loss: 0.0361 - val_acc: 0.0000e+00\n",
      "Train on 843 samples, validate on 211 samples\n",
      "Epoch 1/10\n",
      "843/843 [==============================] - 27s 32ms/step - loss: 0.1650 - acc: 0.0000e+00 - val_loss: 0.0043 - val_acc: 0.0000e+00\n",
      "Epoch 2/10\n",
      "843/843 [==============================] - 4s 5ms/step - loss: 0.0169 - acc: 0.0000e+00 - val_loss: 0.0878 - val_acc: 0.0000e+00\n",
      "Epoch 3/10\n",
      "843/843 [==============================] - 4s 5ms/step - loss: 0.0164 - acc: 0.0000e+00 - val_loss: 0.0444 - val_acc: 0.0000e+00\n",
      "Epoch 4/10\n",
      "843/843 [==============================] - 4s 5ms/step - loss: 0.0095 - acc: 0.0000e+00 - val_loss: 0.0191 - val_acc: 0.0000e+00\n",
      "Epoch 5/10\n",
      "843/843 [==============================] - 4s 5ms/step - loss: 0.0118 - acc: 0.0000e+00 - val_loss: 0.0252 - val_acc: 0.0000e+00\n",
      "Epoch 6/10\n",
      "843/843 [==============================] - 4s 5ms/step - loss: 0.0094 - acc: 0.0000e+00 - val_loss: 0.0443 - val_acc: 0.0000e+00\n",
      "Epoch 7/10\n",
      "843/843 [==============================] - 4s 5ms/step - loss: 0.0096 - acc: 0.0000e+00 - val_loss: 0.0525 - val_acc: 0.0000e+00\n",
      "Epoch 8/10\n",
      "843/843 [==============================] - 4s 5ms/step - loss: 0.0096 - acc: 0.0000e+00 - val_loss: 0.0404 - val_acc: 0.0000e+00\n",
      "Epoch 9/10\n",
      "843/843 [==============================] - 4s 5ms/step - loss: 0.0088 - acc: 0.0000e+00 - val_loss: 0.0304 - val_acc: 0.0000e+00\n",
      "Epoch 10/10\n",
      "843/843 [==============================] - 4s 5ms/step - loss: 0.0093 - acc: 0.0000e+00 - val_loss: 0.0301 - val_acc: 0.0000e+00\n",
      "CPU times: user 8min 54s, sys: 1min 11s, total: 10min 6s\n",
      "Wall time: 2min 43s\n"
     ]
    }
   ],
   "source": [
    "%%time\n",
    "modelBASE_FSW_FW.fit(XTrainFSW_FW, yTrainFSW_FW, batch_size=batchSize, epochs=epochs, validation_split=0.2, verbose=1)\n",
    "modelRNN_FSW_FW.fit(XTrainFSW_FW, yTrainFSW_FW, batch_size=batchSize, epochs=epochs, validation_split=0.2, verbose=1)\n",
    "modelGRU_FSW_FW.fit(XTrainFSW_FW, yTrainFSW_FW, batch_size=batchSize, epochs=epochs, validation_split=0.2, verbose=1)\n",
    "modelLSTM_FSW_FW.fit(XTrainFSW_FW, yTrainFSW_FW, batch_size=batchSize, epochs=epochs, validation_split=0.2, verbose=1)"
   ]
  },
  {
   "cell_type": "markdown",
   "metadata": {},
   "source": [
    "# Train & Test loss calculations\n",
    "\n",
    "Produces 6 tables to compare\n",
    "<ul>\n",
    "<li>train_table_F \n",
    "<li>train_table_FW\n",
    "<li>train_table_FSW\n",
    "<li>test_table_F \n",
    "<li>test_table_FW\n",
    "<li>test_table_FSW\n",
    "</ul>\n"
   ]
  },
  {
   "cell_type": "code",
   "execution_count": 251,
   "metadata": {},
   "outputs": [
    {
     "name": "stdout",
     "output_type": "stream",
     "text": [
      "CPU times: user 7min 17s, sys: 54.4 s, total: 8min 12s\n",
      "Wall time: 1min 43s\n"
     ]
    }
   ],
   "source": [
    "%%time\n",
    "NNmods = ['RNN','GRU','LSTM']\n",
    "DatasetsFSW = ['FUT','FUT_Weather','FUT_STK_Weather']\n",
    "DatasetsFW = ['FUT','FUT_Weather']\n",
    "\n",
    "loss_train_F = []\n",
    "loss_train_FW = []\n",
    "loss_train_FSW = []\n",
    "loss_test_F = []\n",
    "loss_test_FW = []\n",
    "loss_test_FSW = []\n",
    "\n",
    "#Futures only \n",
    "loss_train_F.append(model_loss(modelRNN_F, XTrainF, yTrainF))\n",
    "loss_train_F.append(model_loss(modelGRU_F, XTrainF, yTrainF))\n",
    "loss_train_F.append(model_loss(modelLSTM_F, XTrainF, yTrainF))\n",
    "\n",
    "train_table_F = pd.DataFrame(loss_train_F, index=NNmods, columns=['FUT'])\n",
    "\n",
    "\n",
    "#Futures & Weather\n",
    "temp = []\n",
    "temp.append(model_loss(modelRNN_FW_F, XTrainFW_F, yTrainFW_F))\n",
    "temp.append(model_loss(modelRNN_FW, XTrainFW, yTrainFW))\n",
    "\n",
    "loss_train_FW.append(temp)\n",
    "temp = []\n",
    "\n",
    "temp.append(model_loss(modelGRU_FW_F, XTrainFW_F, yTrainFW_F))\n",
    "temp.append(model_loss(modelGRU_FW, XTrainFW, yTrainFW))\n",
    "\n",
    "loss_train_FW.append(temp)\n",
    "temp = []\n",
    "\n",
    "temp.append(model_loss(modelLSTM_FW_F, XTrainFW_F, yTrainFW_F))\n",
    "temp.append(model_loss(modelLSTM_FW, XTrainFW, yTrainFW))\n",
    "\n",
    "loss_train_FW.append(temp)\n",
    "temp = []\n",
    "\n",
    "train_table_FW = pd.DataFrame(loss_train_FW, index=NNmods, columns=DatasetsFW)\n",
    "\n",
    "\n",
    "#Futures & Stock & Weather\n",
    "temp.append(model_loss(modelRNN_FSW_F, XTrainFSW_F, yTrainFSW_F))\n",
    "temp.append(model_loss(modelRNN_FSW_FW, XTrainFSW_FW, yTrainFSW_FW))\n",
    "temp.append(model_loss(modelRNN_FSW, XTrainFSW, yTrainFSW))\n",
    "\n",
    "loss_train_FSW.append(temp)\n",
    "temp = []\n",
    "\n",
    "temp.append(model_loss(modelGRU_FSW_F, XTrainFSW_F, yTrainFSW_F))\n",
    "temp.append(model_loss(modelGRU_FSW_FW, XTrainFSW_FW, yTrainFSW_FW))\n",
    "temp.append(model_loss(modelGRU_FSW, XTrainFSW, yTrainFSW))\n",
    "\n",
    "loss_train_FSW.append(temp)\n",
    "temp = []\n",
    "\n",
    "temp.append(model_loss(modelLSTM_FSW_F, XTrainFSW_F, yTrainFSW_F))\n",
    "temp.append(model_loss(modelLSTM_FSW_FW, XTrainFSW_FW, yTrainFSW_FW))\n",
    "temp.append(model_loss(modelLSTM_FSW, XTrainFSW, yTrainFSW))\n",
    "\n",
    "loss_train_FSW.append(temp)\n",
    "temp = []\n",
    "\n",
    "train_table_FSW = pd.DataFrame(loss_train_FSW, index=NNmods, columns=DatasetsFSW)\n",
    "\n",
    "#---------------------------------------------------------\n",
    "#---------------Test--------------------------------------\n",
    "#---------------------------------------------------------\n",
    "\n",
    "#Futures only \n",
    "loss_test_F.append(model_loss(modelRNN_F,  XTestF, yTestF))\n",
    "loss_test_F.append(model_loss(modelGRU_F,  XTestF, yTestF))\n",
    "loss_test_F.append(model_loss(modelLSTM_F, XTestF, yTestF))\n",
    "\n",
    "test_table_F = pd.DataFrame(loss_test_F, index=NNmods, columns=['FUT'])\n",
    "\n",
    "\n",
    "#Futures & Weather\n",
    "temp = []\n",
    "temp.append(model_loss(modelRNN_FW_F, XTestFW_F, yTestFW_F))\n",
    "temp.append(model_loss(modelRNN_FW,   XTestFW,   yTestFW))\n",
    "\n",
    "loss_test_FW.append(temp)\n",
    "temp = []\n",
    "\n",
    "temp.append(model_loss(modelGRU_FW_F, XTestFW_F, yTestFW_F))\n",
    "temp.append(model_loss(modelGRU_FW,   XTestFW,   yTestFW))\n",
    "\n",
    "loss_test_FW.append(temp)\n",
    "temp = []\n",
    "\n",
    "temp.append(model_loss(modelLSTM_FW_F, XTestFW_F, yTestFW_F))\n",
    "temp.append(model_loss(modelLSTM_FW,   XTestFW,   yTestFW))\n",
    "\n",
    "loss_test_FW.append(temp)\n",
    "temp = []\n",
    "\n",
    "test_table_FW = pd.DataFrame(loss_test_FW, index=NNmods, columns=DatasetsFW)\n",
    "\n",
    "\n",
    "#Futures & Stock & Weather\n",
    "temp.append(model_loss(modelRNN_FSW_F,  XTestFSW_F,  yTestFSW_F))\n",
    "temp.append(model_loss(modelRNN_FSW_FW, XTestFSW_FW, yTestFSW_FW))\n",
    "temp.append(model_loss(modelRNN_FSW,    XTestFSW,    yTestFSW))\n",
    "\n",
    "loss_test_FSW.append(temp)\n",
    "temp = []\n",
    "\n",
    "temp.append(model_loss(modelGRU_FSW_F, XTestFSW_F, yTestFSW_F))\n",
    "temp.append(model_loss(modelGRU_FSW_FW, XTestFSW_FW, yTestFSW_FW))\n",
    "temp.append(model_loss(modelGRU_FSW, XTestFSW, yTestFSW))\n",
    "\n",
    "loss_test_FSW.append(temp)\n",
    "temp = []\n",
    "\n",
    "temp.append(model_loss(modelLSTM_FSW_F, XTestFSW_F, yTestFSW_F))\n",
    "temp.append(model_loss(modelLSTM_FSW_FW, XTestFSW_FW, yTestFSW_FW))\n",
    "temp.append(model_loss(modelLSTM_FSW, XTestFSW, yTestFSW))\n",
    "\n",
    "loss_test_FSW.append(temp)\n",
    "temp = []\n",
    "\n",
    "test_table_FSW = pd.DataFrame(loss_test_FSW, index=NNmods, columns=DatasetsFSW)"
   ]
  },
  {
   "cell_type": "code",
   "execution_count": 252,
   "metadata": {},
   "outputs": [
    {
     "data": {
      "text/html": [
       "<div>\n",
       "<style scoped>\n",
       "    .dataframe tbody tr th:only-of-type {\n",
       "        vertical-align: middle;\n",
       "    }\n",
       "\n",
       "    .dataframe tbody tr th {\n",
       "        vertical-align: top;\n",
       "    }\n",
       "\n",
       "    .dataframe thead th {\n",
       "        text-align: right;\n",
       "    }\n",
       "</style>\n",
       "<table border=\"1\" class=\"dataframe\">\n",
       "  <thead>\n",
       "    <tr style=\"text-align: right;\">\n",
       "      <th></th>\n",
       "      <th>FUT</th>\n",
       "    </tr>\n",
       "  </thead>\n",
       "  <tbody>\n",
       "    <tr>\n",
       "      <th>RNN</th>\n",
       "      <td>0.000303</td>\n",
       "    </tr>\n",
       "    <tr>\n",
       "      <th>GRU</th>\n",
       "      <td>0.000035</td>\n",
       "    </tr>\n",
       "    <tr>\n",
       "      <th>LSTM</th>\n",
       "      <td>0.000091</td>\n",
       "    </tr>\n",
       "  </tbody>\n",
       "</table>\n",
       "</div>"
      ],
      "text/plain": [
       "           FUT\n",
       "RNN   0.000303\n",
       "GRU   0.000035\n",
       "LSTM  0.000091"
      ]
     },
     "execution_count": 252,
     "metadata": {},
     "output_type": "execute_result"
    }
   ],
   "source": [
    "train_table_F"
   ]
  },
  {
   "cell_type": "code",
   "execution_count": 253,
   "metadata": {},
   "outputs": [
    {
     "data": {
      "text/html": [
       "<div>\n",
       "<style scoped>\n",
       "    .dataframe tbody tr th:only-of-type {\n",
       "        vertical-align: middle;\n",
       "    }\n",
       "\n",
       "    .dataframe tbody tr th {\n",
       "        vertical-align: top;\n",
       "    }\n",
       "\n",
       "    .dataframe thead th {\n",
       "        text-align: right;\n",
       "    }\n",
       "</style>\n",
       "<table border=\"1\" class=\"dataframe\">\n",
       "  <thead>\n",
       "    <tr style=\"text-align: right;\">\n",
       "      <th></th>\n",
       "      <th>FUT</th>\n",
       "      <th>FUT_Weather</th>\n",
       "    </tr>\n",
       "  </thead>\n",
       "  <tbody>\n",
       "    <tr>\n",
       "      <th>RNN</th>\n",
       "      <td>0.021613</td>\n",
       "      <td>0.033732</td>\n",
       "    </tr>\n",
       "    <tr>\n",
       "      <th>GRU</th>\n",
       "      <td>0.001130</td>\n",
       "      <td>0.032736</td>\n",
       "    </tr>\n",
       "    <tr>\n",
       "      <th>LSTM</th>\n",
       "      <td>0.006533</td>\n",
       "      <td>0.033091</td>\n",
       "    </tr>\n",
       "  </tbody>\n",
       "</table>\n",
       "</div>"
      ],
      "text/plain": [
       "           FUT  FUT_Weather\n",
       "RNN   0.021613     0.033732\n",
       "GRU   0.001130     0.032736\n",
       "LSTM  0.006533     0.033091"
      ]
     },
     "execution_count": 253,
     "metadata": {},
     "output_type": "execute_result"
    }
   ],
   "source": [
    "train_table_FW"
   ]
  },
  {
   "cell_type": "code",
   "execution_count": 254,
   "metadata": {},
   "outputs": [
    {
     "data": {
      "text/html": [
       "<div>\n",
       "<style scoped>\n",
       "    .dataframe tbody tr th:only-of-type {\n",
       "        vertical-align: middle;\n",
       "    }\n",
       "\n",
       "    .dataframe tbody tr th {\n",
       "        vertical-align: top;\n",
       "    }\n",
       "\n",
       "    .dataframe thead th {\n",
       "        text-align: right;\n",
       "    }\n",
       "</style>\n",
       "<table border=\"1\" class=\"dataframe\">\n",
       "  <thead>\n",
       "    <tr style=\"text-align: right;\">\n",
       "      <th></th>\n",
       "      <th>FUT</th>\n",
       "      <th>FUT_Weather</th>\n",
       "      <th>FUT_STK_Weather</th>\n",
       "    </tr>\n",
       "  </thead>\n",
       "  <tbody>\n",
       "    <tr>\n",
       "      <th>RNN</th>\n",
       "      <td>0.011403</td>\n",
       "      <td>0.013916</td>\n",
       "      <td>0.015683</td>\n",
       "    </tr>\n",
       "    <tr>\n",
       "      <th>GRU</th>\n",
       "      <td>0.014669</td>\n",
       "      <td>0.014125</td>\n",
       "      <td>0.015563</td>\n",
       "    </tr>\n",
       "    <tr>\n",
       "      <th>LSTM</th>\n",
       "      <td>0.013898</td>\n",
       "      <td>0.013379</td>\n",
       "      <td>0.013214</td>\n",
       "    </tr>\n",
       "  </tbody>\n",
       "</table>\n",
       "</div>"
      ],
      "text/plain": [
       "           FUT  FUT_Weather  FUT_STK_Weather\n",
       "RNN   0.011403     0.013916         0.015683\n",
       "GRU   0.014669     0.014125         0.015563\n",
       "LSTM  0.013898     0.013379         0.013214"
      ]
     },
     "execution_count": 254,
     "metadata": {},
     "output_type": "execute_result"
    }
   ],
   "source": [
    "train_table_FSW"
   ]
  },
  {
   "cell_type": "code",
   "execution_count": 255,
   "metadata": {},
   "outputs": [
    {
     "data": {
      "text/html": [
       "<div>\n",
       "<style scoped>\n",
       "    .dataframe tbody tr th:only-of-type {\n",
       "        vertical-align: middle;\n",
       "    }\n",
       "\n",
       "    .dataframe tbody tr th {\n",
       "        vertical-align: top;\n",
       "    }\n",
       "\n",
       "    .dataframe thead th {\n",
       "        text-align: right;\n",
       "    }\n",
       "</style>\n",
       "<table border=\"1\" class=\"dataframe\">\n",
       "  <thead>\n",
       "    <tr style=\"text-align: right;\">\n",
       "      <th></th>\n",
       "      <th>FUT</th>\n",
       "    </tr>\n",
       "  </thead>\n",
       "  <tbody>\n",
       "    <tr>\n",
       "      <th>RNN</th>\n",
       "      <td>0.016134</td>\n",
       "    </tr>\n",
       "    <tr>\n",
       "      <th>GRU</th>\n",
       "      <td>0.004077</td>\n",
       "    </tr>\n",
       "    <tr>\n",
       "      <th>LSTM</th>\n",
       "      <td>0.011057</td>\n",
       "    </tr>\n",
       "  </tbody>\n",
       "</table>\n",
       "</div>"
      ],
      "text/plain": [
       "           FUT\n",
       "RNN   0.016134\n",
       "GRU   0.004077\n",
       "LSTM  0.011057"
      ]
     },
     "execution_count": 255,
     "metadata": {},
     "output_type": "execute_result"
    }
   ],
   "source": [
    "test_table_F"
   ]
  },
  {
   "cell_type": "code",
   "execution_count": 256,
   "metadata": {},
   "outputs": [
    {
     "data": {
      "text/html": [
       "<div>\n",
       "<style scoped>\n",
       "    .dataframe tbody tr th:only-of-type {\n",
       "        vertical-align: middle;\n",
       "    }\n",
       "\n",
       "    .dataframe tbody tr th {\n",
       "        vertical-align: top;\n",
       "    }\n",
       "\n",
       "    .dataframe thead th {\n",
       "        text-align: right;\n",
       "    }\n",
       "</style>\n",
       "<table border=\"1\" class=\"dataframe\">\n",
       "  <thead>\n",
       "    <tr style=\"text-align: right;\">\n",
       "      <th></th>\n",
       "      <th>FUT</th>\n",
       "      <th>FUT_Weather</th>\n",
       "    </tr>\n",
       "  </thead>\n",
       "  <tbody>\n",
       "    <tr>\n",
       "      <th>RNN</th>\n",
       "      <td>0.037140</td>\n",
       "      <td>0.014977</td>\n",
       "    </tr>\n",
       "    <tr>\n",
       "      <th>GRU</th>\n",
       "      <td>0.000331</td>\n",
       "      <td>0.018016</td>\n",
       "    </tr>\n",
       "    <tr>\n",
       "      <th>LSTM</th>\n",
       "      <td>0.002006</td>\n",
       "      <td>0.016808</td>\n",
       "    </tr>\n",
       "  </tbody>\n",
       "</table>\n",
       "</div>"
      ],
      "text/plain": [
       "           FUT  FUT_Weather\n",
       "RNN   0.037140     0.014977\n",
       "GRU   0.000331     0.018016\n",
       "LSTM  0.002006     0.016808"
      ]
     },
     "execution_count": 256,
     "metadata": {},
     "output_type": "execute_result"
    }
   ],
   "source": [
    "test_table_FW"
   ]
  },
  {
   "cell_type": "code",
   "execution_count": 257,
   "metadata": {},
   "outputs": [
    {
     "data": {
      "text/html": [
       "<div>\n",
       "<style scoped>\n",
       "    .dataframe tbody tr th:only-of-type {\n",
       "        vertical-align: middle;\n",
       "    }\n",
       "\n",
       "    .dataframe tbody tr th {\n",
       "        vertical-align: top;\n",
       "    }\n",
       "\n",
       "    .dataframe thead th {\n",
       "        text-align: right;\n",
       "    }\n",
       "</style>\n",
       "<table border=\"1\" class=\"dataframe\">\n",
       "  <thead>\n",
       "    <tr style=\"text-align: right;\">\n",
       "      <th></th>\n",
       "      <th>FUT</th>\n",
       "      <th>FUT_Weather</th>\n",
       "      <th>FUT_STK_Weather</th>\n",
       "    </tr>\n",
       "  </thead>\n",
       "  <tbody>\n",
       "    <tr>\n",
       "      <th>RNN</th>\n",
       "      <td>0.044985</td>\n",
       "      <td>0.059577</td>\n",
       "      <td>0.070591</td>\n",
       "    </tr>\n",
       "    <tr>\n",
       "      <th>GRU</th>\n",
       "      <td>0.064760</td>\n",
       "      <td>0.061254</td>\n",
       "      <td>0.069925</td>\n",
       "    </tr>\n",
       "    <tr>\n",
       "      <th>LSTM</th>\n",
       "      <td>0.059258</td>\n",
       "      <td>0.053967</td>\n",
       "      <td>0.051434</td>\n",
       "    </tr>\n",
       "  </tbody>\n",
       "</table>\n",
       "</div>"
      ],
      "text/plain": [
       "           FUT  FUT_Weather  FUT_STK_Weather\n",
       "RNN   0.044985     0.059577         0.070591\n",
       "GRU   0.064760     0.061254         0.069925\n",
       "LSTM  0.059258     0.053967         0.051434"
      ]
     },
     "execution_count": 257,
     "metadata": {},
     "output_type": "execute_result"
    }
   ],
   "source": [
    "test_table_FSW"
   ]
  },
  {
   "cell_type": "code",
   "execution_count": null,
   "metadata": {
    "collapsed": true
   },
   "outputs": [],
   "source": []
  },
  {
   "cell_type": "markdown",
   "metadata": {},
   "source": [
    "# Denormalize the close data & predictions (using same normalizing model from much earlier)"
   ]
  },
  {
   "cell_type": "code",
   "execution_count": 258,
   "metadata": {
    "collapsed": true
   },
   "outputs": [],
   "source": [
    "def denormalize(norm_close):       \n",
    "    #normalized_value = normalized_value.reshape(-1,1)\n",
    "\n",
    "    #return df.shape, p.shape\n",
    "    denorm_close = close_normalizer.inverse_transform(norm_close)\n",
    "      \n",
    "    return denorm_close"
   ]
  },
  {
   "cell_type": "markdown",
   "metadata": {},
   "source": [
    "# Predictions: LSTM for FUT only"
   ]
  },
  {
   "cell_type": "code",
   "execution_count": 156,
   "metadata": {},
   "outputs": [
    {
     "data": {
      "text/plain": [
       "array([[ 228.73051453],\n",
       "       [ 228.76409912],\n",
       "       [ 228.81941223],\n",
       "       ..., \n",
       "       [ 227.50605774],\n",
       "       [ 227.46653748],\n",
       "       [ 227.35243225]], dtype=float32)"
      ]
     },
     "execution_count": 156,
     "metadata": {},
     "output_type": "execute_result"
    }
   ],
   "source": [
    "denormalize(yPred_norm)"
   ]
  },
  {
   "cell_type": "code",
   "execution_count": 159,
   "metadata": {},
   "outputs": [
    {
     "data": {
      "text/plain": [
       "array([[ 377.5 ],\n",
       "       [ 373.5 ],\n",
       "       [ 370.75],\n",
       "       ..., \n",
       "       [ 553.  ],\n",
       "       [ 545.25],\n",
       "       [ 533.75]])"
      ]
     },
     "execution_count": 159,
     "metadata": {},
     "output_type": "execute_result"
    }
   ],
   "source": [
    "denormalize(yTestF.reshape(-1,1))"
   ]
  },
  {
   "cell_type": "markdown",
   "metadata": {},
   "source": [
    "# Prediction vs Actual:  LSTM - Futures only"
   ]
  },
  {
   "cell_type": "code",
   "execution_count": 259,
   "metadata": {},
   "outputs": [
    {
     "data": {
      "image/png": "[encoded data removed]",
      "text/plain": [
       "<Figure size 864x576 with 1 Axes>"
      ]
     },
     "metadata": {},
     "output_type": "display_data"
    }
   ],
   "source": [
    "yPred_norm = modelLSTM_F.predict(XTestF)\n",
    "yPred_denorm = denormalize(yPred_norm)\n",
    "yTestF_denorm = denormalize(yTestF.reshape(-1,1))\n",
    "\n",
    "plt.figure(figsize=(12,8))\n",
    "plt.plot(list(range(len(yTestF))), yTestF_denorm)\n",
    "plt.plot(list(range(len(yTestF))), yPred_denorm);"
   ]
  },
  {
   "cell_type": "markdown",
   "metadata": {},
   "source": [
    "# Prediction vs Actual: LSTM - Futures only (data truncated to length of weather data)"
   ]
  },
  {
   "cell_type": "code",
   "execution_count": 260,
   "metadata": {},
   "outputs": [
    {
     "data": {
      "image/png": "[encoded data removed]",
      "text/plain": [
       "<Figure size 864x576 with 1 Axes>"
      ]
     },
     "metadata": {},
     "output_type": "display_data"
    }
   ],
   "source": [
    "yPred_norm = modelLSTM_FW_F.predict(XTestFW_F)\n",
    "yPred_denorm = denormalize(yPred_norm)\n",
    "yTestFW_F_denorm = denormalize(yTestFW_F.reshape(-1,1))\n",
    "\n",
    "plt.figure(figsize=(12,8))\n",
    "plt.plot(list(range(len(yTestFW_F))), yTestFW_F_denorm, label='actual')\n",
    "plt.plot(list(range(len(yTestFW_F))), yPred_denorm, label='prediction');"
   ]
  },
  {
   "cell_type": "markdown",
   "metadata": {},
   "source": [
    "# Prediction vs Actual: RNN - FUT+Weather"
   ]
  },
  {
   "cell_type": "code",
   "execution_count": 266,
   "metadata": {},
   "outputs": [
    {
     "data": {
      "image/png": "[encoded data removed]",
      "text/plain": [
       "<Figure size 864x576 with 1 Axes>"
      ]
     },
     "metadata": {},
     "output_type": "display_data"
    }
   ],
   "source": [
    "yPredFW_norm = modelRNN_FW.predict(XTestFW)\n",
    "yPredFW_denorm = denormalize(yPredFW_norm)\n",
    "yTestFW_denorm = denormalize(yTestFW.reshape(-1,1))\n",
    "\n",
    "plt.figure(figsize=(12,8))\n",
    "plt.plot(list(range(len(yTestFW))), yTestFW_denorm)\n",
    "plt.plot(list(range(len(yTestFW))), yPredFW_denorm);"
   ]
  },
  {
   "cell_type": "markdown",
   "metadata": {
    "collapsed": true
   },
   "source": [
    "# Prediction vs Actual: LSTM - Futures only (truncated to length of stock data)"
   ]
  },
  {
   "cell_type": "code",
   "execution_count": 267,
   "metadata": {},
   "outputs": [
    {
     "data": {
      "image/png": "[encoded data removed]",
      "text/plain": [
       "<Figure size 864x576 with 1 Axes>"
      ]
     },
     "metadata": {},
     "output_type": "display_data"
    }
   ],
   "source": [
    "yPredFSW_norm = modelLSTM_FSW_F.predict(XTestFSW_F)\n",
    "yPredFSW_denorm = denormalize(yPredFSW_norm)\n",
    "yTestFSW_denorm = denormalize(yTestFSW_F.reshape(-1,1))\n",
    "\n",
    "plt.figure(figsize=(12,8))\n",
    "plt.plot(list(range(len(yTestFSW))), yTestFSW_denorm)\n",
    "plt.plot(list(range(len(yTestFSW))), yPredFSW_denorm);"
   ]
  },
  {
   "cell_type": "code",
   "execution_count": null,
   "metadata": {
    "collapsed": true
   },
   "outputs": [],
   "source": []
  }
 ],
 "metadata": {
  "kernelspec": {
   "display_name": "Python 3",
   "language": "python",
   "name": "python3"
  },
  "language_info": {
   "codemirror_mode": {
    "name": "ipython",
    "version": 3
   },
   "file_extension": ".py",
   "mimetype": "text/x-python",
   "name": "python",
   "nbconvert_exporter": "python",
   "pygments_lexer": "ipython3",
   "version": "3.6.3"
  }
 },
 "nbformat": 4,
 "nbformat_minor": 2
}
